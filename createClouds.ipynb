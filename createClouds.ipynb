{
 "cells": [
  {
   "cell_type": "markdown",
   "metadata": {},
   "source": [
    "# The full python workflow for semasiological token-level clouds "
   ]
  },
  {
   "cell_type": "markdown",
   "metadata": {},
   "source": [
    "This notebook shows the full workflow followed to create the clouds in Chapter 5 of the monograph (and my dissertation).\n",
    "\n",
    "(Eventually, add Kris's chapter too)\n",
    "\n",
    "For this purpose I'm creating a Python package with more order than my previous attempts. It is called `semasioFlow` and has the most verbose code; its documentation can be explored [here](docs/build/html/index.html)."
   ]
  },
  {
   "cell_type": "markdown",
   "metadata": {},
   "source": [
    "## 0. Initial setup "
   ]
  },
  {
   "cell_type": "markdown",
   "metadata": {},
   "source": [
    "So first we have to add this directory to the path in order to import `semasioFlow`. When it initializes, it loads other libraries we need as well as the `qlvl` library from the `depmodel` repository."
   ]
  },
  {
   "cell_type": "code",
   "execution_count": 1,
   "metadata": {},
   "outputs": [],
   "source": [
    "import os\n",
    "import sys\n",
    "import logging\n",
    "sys.path.append(\"/home/aardvark/code/nephosem\")\n",
    "mypackage = \"/home/projects/semmetrix/mariana_wolken/cleanWorkflow/scripts/\"\n",
    "sys.path.append(mypackage)"
   ]
  },
  {
   "cell_type": "code",
   "execution_count": 2,
   "metadata": {
    "scrolled": true
   },
   "outputs": [],
   "source": [
    "from semasioFlow import ConfigLoader\n",
    "from semasioFlow.load import loadVocab, loadMacro, loadColloc, loadFocRegisters\n",
    "from semasioFlow.sample import sampleTypes\n",
    "from semasioFlow.focmodels import createBow, createRel, createPath\n",
    "from semasioFlow.socmodels import targetPPMI, weightTokens, createSoc\n",
    "from semasioFlow.utils import plotPatterns"
   ]
  },
  {
   "cell_type": "markdown",
   "metadata": {},
   "source": [
    "## 1. Configuration "
   ]
  },
  {
   "cell_type": "markdown",
   "metadata": {},
   "source": [
    "Depending on what you need, you will have to set up some useful paths settings.\n",
    "I like to have at least the path to my project (`mydir`), an output path within (`mydir + \"output\"`) and a GitHub path for the datasets that I will use in the visualization. There is no real reason not to have everything together, except that I did not think of it at the moment. (Actually, there is: the GitHub stuff will be public and huge data would not be included. How much do we want to have public?)"
   ]
  },
  {
   "cell_type": "code",
   "execution_count": 4,
   "metadata": {},
   "outputs": [],
   "source": [
    "mydir = \"/home/projects/semmetrix/mariana_wolken/cleanWorkflow/\"\n",
    "output_path = f\"{mydir}/output/\"\n",
    "github_dir = f\"{mydir}/github/\"\n",
    "logging.basicConfig(filename = f'{mydir}/testlog.log', level = logging.DEBUG)"
   ]
  },
  {
   "cell_type": "markdown",
   "metadata": {},
   "source": [
    "The variables with paths is just meant to make it easier to manipulate filenames. The most important concrete step is to adapt the configuration file."
   ]
  },
  {
   "cell_type": "code",
   "execution_count": 5,
   "metadata": {},
   "outputs": [
    {
     "name": "stdout",
     "output_type": "stream",
     "text": [
      "([^\t]+)\t([^\t]+)\t([^\t]+)\n",
      "word,pos,lemma\n",
      "lemma/pos lemma/pos lemma/pos/fid/lid\n"
     ]
    }
   ],
   "source": [
    "conf = ConfigLoader()\n",
    "default_settings = conf.settings\n",
    "settings = default_settings\n",
    "# Regular expression to capture data from the QLVLNewsCorpus\n",
    "settings['line-machine'] = '([^\\t]+)\\t([^\\t]+)\\t([^\\t]+)\\t([^\\t]+)\\t([^\\t]+)\\t([^\\t]+)\\t_\\t_'\n",
    "settings['separator-line-machine'] = \"^</sentence>$\"\n",
    "settings['global-columns'] = \"id,word,lemma,pos,head,deprel\"\n",
    "settings['note-attr'] = 'word,lemma,pos'\n",
    "settings['edge-attr'] = 'deprel'\n",
    "settings['currID'] = 'id'\n",
    "settings['headID'] = 'head'\n",
    "settings['type'] = 'lemma/pos'\n",
    "settings['colloc'] = 'lemma/pos'\n",
    "settings['token'] = 'lemma/pos/fid/lid'\n",
    "\n",
    "settings['file-encoding'] = 'latin1'\n",
    "settings['outfile-encoding'] = 'utf-8'\n",
    "settings['output-path'] = output_path\n",
    "settings['corpus-path'] = '/home/aardvark/corp/nl/'\n",
    "\n",
    "print(settings['line-machine'])\n",
    "print(settings['global-columns'])\n",
    "print(settings['type'], settings['colloc'], settings['token'])"
   ]
  },
  {
   "cell_type": "markdown",
   "metadata": {},
   "source": [
    "## 2. Frequency lists"
   ]
  },
  {
   "cell_type": "markdown",
   "metadata": {},
   "source": [
    "The frequency lists are the first thing to create, but once you have them, you just load them. So what we are going to do here is define the filename where we *would* store the frequency list (in this case, where it is actually stored), and if it exists it loads it; if it doesn't, it creates and store it."
   ]
  },
  {
   "cell_type": "code",
   "execution_count": 5,
   "metadata": {},
   "outputs": [
    {
     "name": "stdout",
     "output_type": "stream",
     "text": [
      "/home/projects/semmetrix/mariana_wolken/cleanWorkflow//output//vocab/QLVLNews.nodefreq\n"
     ]
    },
    {
     "data": {
      "text/plain": [
       "[('./punct', 28225482),('de/det', 28074105),(',/punct', 18092245) ... ('België-VTS/name', 1),('fertility/name', 1),('appelerend/adj', 1)]"
      ]
     },
     "execution_count": 5,
     "metadata": {},
     "output_type": "execute_result"
    }
   ],
   "source": [
    "full_name = f\"{output_path}/vocab/QLVLNews.nodefreq\"\n",
    "print(full_name)\n",
    "full = loadVocab(full_name, settings)\n",
    "full"
   ]
  },
  {
   "cell_type": "code",
   "execution_count": 6,
   "metadata": {},
   "outputs": [
    {
     "name": "stdout",
     "output_type": "stream",
     "text": [
      "/home/projects/semmetrix/mariana_wolken/cleanWorkflow//output//vocab/QLVLNews.FOC.nodefreq\n"
     ]
    },
    {
     "data": {
      "text/plain": [
       "[('de/det', 28074105),('van/prep', 12638933),('het/det', 11650779) ... ('Uitbergen/name', 227),('provincie_weg/noun', 227),('Jommeke/name', 227)]"
      ]
     },
     "execution_count": 6,
     "metadata": {},
     "output_type": "execute_result"
    }
   ],
   "source": [
    "foc_name = f\"{output_path}/vocab/QLVLNews.FOC.nodefreq\"\n",
    "print(foc_name)\n",
    "foc = loadVocab(foc_name, settings)\n",
    "foc"
   ]
  },
  {
   "cell_type": "code",
   "execution_count": 7,
   "metadata": {},
   "outputs": [
    {
     "name": "stdout",
     "output_type": "stream",
     "text": [
      "/home/projects/semmetrix/mariana_wolken/cleanWorkflow//output//vocab/QLVLNews.contextwords_final.nodefreq\n"
     ]
    },
    {
     "data": {
      "text/plain": [
       "[('ben/verb', 9938754),('heb/verb', 4034811),('word/verb', 3486710) ... ('intergouvernementeel/adj', 337),('verdrinking/noun', 337),('popcorn/noun', 336)]"
      ]
     },
     "execution_count": 7,
     "metadata": {},
     "output_type": "execute_result"
    }
   ],
   "source": [
    "soc_name = f\"{output_path}/vocab/QLVLNews.contextwords_final.nodefreq\"\n",
    "print(soc_name)\n",
    "soc = loadVocab(soc_name, settings)\n",
    "soc"
   ]
  },
  {
   "cell_type": "markdown",
   "metadata": {},
   "source": [
    "## 3. Boolean token-level matrices\n",
    "\n",
    "Even though we first think of the type leven and only afterwards of the token level, with this workflow we don't really need to touch type level until after we obtain the boolean token-level matrices, that is, until we need to use PPMI values to select or weight the context words.\n",
    "\n",
    "As a first step, we need the type or list of types we want to run; for example `\"heet/adj\"` or `[\"vernietig/verb\", \"verniel/verb\"]`, and we subset the vocabulary for that query."
   ]
  },
  {
   "cell_type": "code",
   "execution_count": 9,
   "metadata": {},
   "outputs": [],
   "source": [
    "fnames = f\"{mydir}/sources/LeNC260TwNC260.fnames\""
   ]
  },
  {
   "cell_type": "code",
   "execution_count": 15,
   "metadata": {},
   "outputs": [
    {
     "data": {
      "text/plain": [
       "set()"
      ]
     },
     "execution_count": 15,
     "metadata": {},
     "output_type": "execute_result"
    }
   ],
   "source": [
    "with open(fnames, 'r') as f:\n",
    "    fname_list = [x.strip() for x in f.readlines()]\n",
    "fname_list\n",
    "NL = [x for x in fname_list if x.startswith('/home/aardvark/corp/nl/TwNC')]\n",
    "BE = [x for x in fname_list if x.startswith('/home/aardvark/corp/nl/LeNC')]\n",
    "tokenlist_NL, fnameSample_NL = sampleTypes(..., fnames = NL)\n",
    "tokenlist_BE, fnameSample_BE = sampleTypes(..., fnames = BE)\n",
    "tokenlist = tokenlistNL + tokenlist_BE\n",
    "fnameSample = fnameSample_NL + fnameSample_BE"
   ]
  },
  {
   "cell_type": "code",
   "execution_count": 9,
   "metadata": {
    "scrolled": true
   },
   "outputs": [
    {
     "data": {
      "text/plain": [
       "[('verniel/verb', 7507),('vernietig/verb', 12128)]"
      ]
     },
     "execution_count": 9,
     "metadata": {},
     "output_type": "execute_result"
    }
   ],
   "source": [
    "query = full.subvocab([\"verniel/verb\", \"vernietig/verb\"])\n",
    "type_name = \"destroy\"\n",
    "query"
   ]
  },
  {
   "cell_type": "markdown",
   "metadata": {},
   "source": [
    "We could generate the tokens for all 10k tokens, or create a random selection with a certain number and then only use those files. The output of sampleTypes includes a list of token IDs as well as the list of filenames that suffices to extract those tokens. We can then use the new list of filenames when we collect tokens, and the list of tokens to subset the resulting matrices.\n",
    "\n",
    "Of course, to keep the sample fixed it would be more useful to generate the list, store it and then retrieve it in future runs."
   ]
  },
  {
   "cell_type": "code",
   "execution_count": 10,
   "metadata": {
    "scrolled": true
   },
   "outputs": [],
   "source": [
    "import json\n",
    "import os.path\n",
    "\n",
    "#tokenlist_fname = f\"{mydir}/sources/destroy.json\" # original file\n",
    "tokenlist_fname = f\"{mydir}/sources/filelist2.json\" # subset of 8\n",
    "if os.path.exists(tokenlist_fname):\n",
    "    with open(tokenlist_fname, \"r\") as f:\n",
    "        tokenlist, fnameSample = json.load(f).values()\n",
    "else:\n",
    "    tokenlist, fnameSample = sampleTypes({\"verniel/verb\" : 30, \"vernietig/verb\" : 30}, fnames)\n",
    "    with open(tokenlist_fname, \"w\") as f:\n",
    "        json.dump({\"tokenlist\" : tokenlist, \"fnames\" : fnameSample}, f)"
   ]
  },
  {
   "cell_type": "code",
   "execution_count": 11,
   "metadata": {},
   "outputs": [
    {
     "data": {
      "text/plain": [
       "60"
      ]
     },
     "execution_count": 11,
     "metadata": {},
     "output_type": "execute_result"
    }
   ],
   "source": [
    "len(tokenlist)"
   ]
  },
  {
   "cell_type": "markdown",
   "metadata": {},
   "source": [
    "### 3.1 Bag-of-words\n",
    "\n",
    "The code to generate one matrix is very straightforward, but what if we want to use different combinations of parameter settings to create multiple matrices?\n",
    "\n",
    "The code below assumes that the boolean BOW matrices may vary across three parameters:\n",
    "\n",
    "- **foc_win**: window size, which is set with numbers for let and right window. *This has the settings above for default*\n",
    "- **foc_pos**: part-of-speech filter, which will actually be set as a previously filtered list of context words. *By default, all context words are included.*\n",
    "- **bound**: the match for sentence boundaries and whether the models respond to them or not. *By default, sentence boundaries are ignored.*"
   ]
  },
  {
   "cell_type": "code",
   "execution_count": 12,
   "metadata": {},
   "outputs": [],
   "source": [
    "lex_pos = [x for x in foc.get_item_list() if x.split(\"/\")[1] in [\"noun\", \"adj\", \"verb\", \"adv\"]]"
   ]
  },
  {
   "cell_type": "code",
   "execution_count": 13,
   "metadata": {},
   "outputs": [],
   "source": [
    "foc_win = [(3, 3), (5, 5), (10, 10)] #three options of symmetric windows with 3, 5 or 10 words to each side\n",
    "foc_pos = {\n",
    "    \"all\" : foc.get_item_list(), # the filter has already been applied in the FOC list\n",
    "    \"lex\" : lex_pos # further filter by part-of-speech\n",
    "}\n",
    "bound = { \"match\" : \"^</sentence>$\", \"values\" : [True, False]}"
   ]
  },
  {
   "cell_type": "markdown",
   "metadata": {},
   "source": [
    "The function below combines a number of necessary functions:\n",
    "\n",
    "- it creates a loop over the different combinations of parameter settings specified\n",
    "- it collects the tokens and computes and filters the corresponding matrices\n",
    "- it transforms the matrices in \"boolean\" integer matrices, with only 0's and 1's\n",
    "- it stores the matrices in their respective files\n",
    "- it records the combinations of parameter settings and which values are taken by each model\n",
    "- it records the context words captured by each model for each token\n",
    "- it returns both records to be stored wherever you want"
   ]
  },
  {
   "cell_type": "code",
   "execution_count": 14,
   "metadata": {
    "scrolled": true
   },
   "outputs": [
    {
     "name": "stderr",
     "output_type": "stream",
     "text": [
      "\r",
      "  0%|          | 0/6 [00:00<?, ?it/s]"
     ]
    },
    {
     "name": "stdout",
     "output_type": "stream",
     "text": [
      "WARNING: Not provide the temporary path!\n",
      "WARNING: Use the default tmp directory: '~/tmp'!\n",
      "Scanning tokens of queries in corpus...\n",
      "WARNING: 60381 columns have not been found.\n",
      "\n",
      "Saving matrix...\n",
      "Stored in file:\n",
      "  /home/projects/semmetrix/mariana_wolken/cleanWorkflow//output//tokens/destroy//destroy.bound3-3all.tcmx.bool.pac\n",
      "WARNING: 35742 columns have not been found.\n",
      "\n",
      "Saving matrix...\n"
     ]
    },
    {
     "name": "stderr",
     "output_type": "stream",
     "text": [
      "\r",
      " 17%|█▋        | 1/6 [00:00<00:04,  1.11it/s]"
     ]
    },
    {
     "name": "stdout",
     "output_type": "stream",
     "text": [
      "Stored in file:\n",
      "  /home/projects/semmetrix/mariana_wolken/cleanWorkflow//output//tokens/destroy//destroy.bound3-3lex.tcmx.bool.pac\n",
      "WARNING: Not provide the temporary path!\n",
      "WARNING: Use the default tmp directory: '~/tmp'!\n",
      "Scanning tokens of queries in corpus...\n",
      "WARNING: 60348 columns have not been found.\n",
      "\n",
      "Saving matrix...\n",
      "Stored in file:\n",
      "  /home/projects/semmetrix/mariana_wolken/cleanWorkflow//output//tokens/destroy//destroy.nobound3-3all.tcmx.bool.pac\n",
      "WARNING: 35726 columns have not been found.\n",
      "\n",
      "Saving matrix...\n"
     ]
    },
    {
     "name": "stderr",
     "output_type": "stream",
     "text": [
      "\r",
      " 33%|███▎      | 2/6 [00:01<00:03,  1.14it/s]"
     ]
    },
    {
     "name": "stdout",
     "output_type": "stream",
     "text": [
      "Stored in file:\n",
      "  /home/projects/semmetrix/mariana_wolken/cleanWorkflow//output//tokens/destroy//destroy.nobound3-3lex.tcmx.bool.pac\n",
      "WARNING: Not provide the temporary path!\n",
      "WARNING: Use the default tmp directory: '~/tmp'!\n",
      "Scanning tokens of queries in corpus...\n",
      "WARNING: 60300 columns have not been found.\n",
      "\n",
      "Saving matrix...\n",
      "Stored in file:\n",
      "  /home/projects/semmetrix/mariana_wolken/cleanWorkflow//output//tokens/destroy//destroy.bound5-5all.tcmx.bool.pac\n",
      "WARNING: 35686 columns have not been found.\n",
      "\n",
      "Saving matrix...\n"
     ]
    },
    {
     "name": "stderr",
     "output_type": "stream",
     "text": [
      "\r",
      " 50%|█████     | 3/6 [00:02<00:02,  1.11it/s]"
     ]
    },
    {
     "name": "stdout",
     "output_type": "stream",
     "text": [
      "Stored in file:\n",
      "  /home/projects/semmetrix/mariana_wolken/cleanWorkflow//output//tokens/destroy//destroy.bound5-5lex.tcmx.bool.pac\n",
      "WARNING: Not provide the temporary path!\n",
      "WARNING: Use the default tmp directory: '~/tmp'!\n",
      "Scanning tokens of queries in corpus...\n",
      "WARNING: 60238 columns have not been found.\n",
      "\n",
      "Saving matrix...\n",
      "Stored in file:\n",
      "  /home/projects/semmetrix/mariana_wolken/cleanWorkflow//output//tokens/destroy//destroy.nobound5-5all.tcmx.bool.pac\n",
      "WARNING: 35645 columns have not been found.\n",
      "\n",
      "Saving matrix...\n"
     ]
    },
    {
     "name": "stderr",
     "output_type": "stream",
     "text": [
      "\r",
      " 67%|██████▋   | 4/6 [00:03<00:01,  1.13it/s]"
     ]
    },
    {
     "name": "stdout",
     "output_type": "stream",
     "text": [
      "Stored in file:\n",
      "  /home/projects/semmetrix/mariana_wolken/cleanWorkflow//output//tokens/destroy//destroy.nobound5-5lex.tcmx.bool.pac\n",
      "WARNING: Not provide the temporary path!\n",
      "WARNING: Use the default tmp directory: '~/tmp'!\n",
      "Scanning tokens of queries in corpus...\n",
      "WARNING: 60166 columns have not been found.\n",
      "\n",
      "Saving matrix...\n",
      "Stored in file:\n",
      "  /home/projects/semmetrix/mariana_wolken/cleanWorkflow//output//tokens/destroy//destroy.bound10-10all.tcmx.bool.pac\n",
      "WARNING: 35591 columns have not been found.\n",
      "\n",
      "Saving matrix...\n"
     ]
    },
    {
     "name": "stderr",
     "output_type": "stream",
     "text": [
      "\r",
      " 83%|████████▎ | 5/6 [00:04<00:00,  1.11it/s]"
     ]
    },
    {
     "name": "stdout",
     "output_type": "stream",
     "text": [
      "Stored in file:\n",
      "  /home/projects/semmetrix/mariana_wolken/cleanWorkflow//output//tokens/destroy//destroy.bound10-10lex.tcmx.bool.pac\n",
      "WARNING: Not provide the temporary path!\n",
      "WARNING: Use the default tmp directory: '~/tmp'!\n",
      "Scanning tokens of queries in corpus...\n",
      "WARNING: 60013 columns have not been found.\n",
      "\n",
      "Saving matrix...\n",
      "Stored in file:\n",
      "  /home/projects/semmetrix/mariana_wolken/cleanWorkflow//output//tokens/destroy//destroy.nobound10-10all.tcmx.bool.pac\n",
      "WARNING: 35487 columns have not been found.\n",
      "\n",
      "Saving matrix...\n"
     ]
    },
    {
     "name": "stderr",
     "output_type": "stream",
     "text": [
      "\r",
      "100%|██████████| 6/6 [00:05<00:00,  1.10it/s]"
     ]
    },
    {
     "name": "stdout",
     "output_type": "stream",
     "text": [
      "Stored in file:\n",
      "  /home/projects/semmetrix/mariana_wolken/cleanWorkflow//output//tokens/destroy//destroy.nobound10-10lex.tcmx.bool.pac\n"
     ]
    },
    {
     "name": "stderr",
     "output_type": "stream",
     "text": [
      "\n"
     ]
    }
   ],
   "source": [
    "bowdata = createBow(query, settings, type_name = type_name, fnames = fnameSample, tokenlist = tokenlist,\n",
    "        foc_win = foc_win, foc_pos = foc_pos, bound = bound)\n",
    "bowdata.to_csv(f\"{output_path}/registers/{type_name}.bow-models.tsv\", sep = \"\\t\", index_label = \"_model\")"
   ]
  },
  {
   "cell_type": "code",
   "execution_count": 15,
   "metadata": {},
   "outputs": [
    {
     "data": {
      "text/html": [
       "<div>\n",
       "<style scoped>\n",
       "    .dataframe tbody tr th:only-of-type {\n",
       "        vertical-align: middle;\n",
       "    }\n",
       "\n",
       "    .dataframe tbody tr th {\n",
       "        vertical-align: top;\n",
       "    }\n",
       "\n",
       "    .dataframe thead th {\n",
       "        text-align: right;\n",
       "    }\n",
       "</style>\n",
       "<table border=\"1\" class=\"dataframe\">\n",
       "  <thead>\n",
       "    <tr style=\"text-align: right;\">\n",
       "      <th></th>\n",
       "      <th>bound</th>\n",
       "      <th>foc_base</th>\n",
       "      <th>foc_pos</th>\n",
       "      <th>foc_win</th>\n",
       "    </tr>\n",
       "  </thead>\n",
       "  <tbody>\n",
       "    <tr>\n",
       "      <th>destroy.bound10-10all</th>\n",
       "      <td>True</td>\n",
       "      <td>BOW</td>\n",
       "      <td>all</td>\n",
       "      <td>10-10</td>\n",
       "    </tr>\n",
       "    <tr>\n",
       "      <th>destroy.bound10-10lex</th>\n",
       "      <td>True</td>\n",
       "      <td>BOW</td>\n",
       "      <td>lex</td>\n",
       "      <td>10-10</td>\n",
       "    </tr>\n",
       "    <tr>\n",
       "      <th>destroy.bound3-3all</th>\n",
       "      <td>True</td>\n",
       "      <td>BOW</td>\n",
       "      <td>all</td>\n",
       "      <td>3-3</td>\n",
       "    </tr>\n",
       "    <tr>\n",
       "      <th>destroy.bound3-3lex</th>\n",
       "      <td>True</td>\n",
       "      <td>BOW</td>\n",
       "      <td>lex</td>\n",
       "      <td>3-3</td>\n",
       "    </tr>\n",
       "    <tr>\n",
       "      <th>destroy.bound5-5all</th>\n",
       "      <td>True</td>\n",
       "      <td>BOW</td>\n",
       "      <td>all</td>\n",
       "      <td>5-5</td>\n",
       "    </tr>\n",
       "    <tr>\n",
       "      <th>destroy.bound5-5lex</th>\n",
       "      <td>True</td>\n",
       "      <td>BOW</td>\n",
       "      <td>lex</td>\n",
       "      <td>5-5</td>\n",
       "    </tr>\n",
       "    <tr>\n",
       "      <th>destroy.nobound10-10all</th>\n",
       "      <td>False</td>\n",
       "      <td>BOW</td>\n",
       "      <td>all</td>\n",
       "      <td>10-10</td>\n",
       "    </tr>\n",
       "    <tr>\n",
       "      <th>destroy.nobound10-10lex</th>\n",
       "      <td>False</td>\n",
       "      <td>BOW</td>\n",
       "      <td>lex</td>\n",
       "      <td>10-10</td>\n",
       "    </tr>\n",
       "    <tr>\n",
       "      <th>destroy.nobound3-3all</th>\n",
       "      <td>False</td>\n",
       "      <td>BOW</td>\n",
       "      <td>all</td>\n",
       "      <td>3-3</td>\n",
       "    </tr>\n",
       "    <tr>\n",
       "      <th>destroy.nobound3-3lex</th>\n",
       "      <td>False</td>\n",
       "      <td>BOW</td>\n",
       "      <td>lex</td>\n",
       "      <td>3-3</td>\n",
       "    </tr>\n",
       "    <tr>\n",
       "      <th>destroy.nobound5-5all</th>\n",
       "      <td>False</td>\n",
       "      <td>BOW</td>\n",
       "      <td>all</td>\n",
       "      <td>5-5</td>\n",
       "    </tr>\n",
       "    <tr>\n",
       "      <th>destroy.nobound5-5lex</th>\n",
       "      <td>False</td>\n",
       "      <td>BOW</td>\n",
       "      <td>lex</td>\n",
       "      <td>5-5</td>\n",
       "    </tr>\n",
       "  </tbody>\n",
       "</table>\n",
       "</div>"
      ],
      "text/plain": [
       "                         bound foc_base foc_pos foc_win\n",
       "destroy.bound10-10all     True      BOW     all   10-10\n",
       "destroy.bound10-10lex     True      BOW     lex   10-10\n",
       "destroy.bound3-3all       True      BOW     all     3-3\n",
       "destroy.bound3-3lex       True      BOW     lex     3-3\n",
       "destroy.bound5-5all       True      BOW     all     5-5\n",
       "destroy.bound5-5lex       True      BOW     lex     5-5\n",
       "destroy.nobound10-10all  False      BOW     all   10-10\n",
       "destroy.nobound10-10lex  False      BOW     lex   10-10\n",
       "destroy.nobound3-3all    False      BOW     all     3-3\n",
       "destroy.nobound3-3lex    False      BOW     lex     3-3\n",
       "destroy.nobound5-5all    False      BOW     all     5-5\n",
       "destroy.nobound5-5lex    False      BOW     lex     5-5"
      ]
     },
     "execution_count": 15,
     "metadata": {},
     "output_type": "execute_result"
    }
   ],
   "source": [
    "bowdata"
   ]
  },
  {
   "cell_type": "markdown",
   "metadata": {},
   "source": [
    "If you have many lemmas (like I did) you would want to have code like the following:"
   ]
  },
  {
   "cell_type": "code",
   "execution_count": 16,
   "metadata": {},
   "outputs": [],
   "source": [
    "# # 1. Set up the names of your types and the selection for the query ================================\n",
    "# adj_lemmas = ['heilzaam', 'hoekig', 'gekleurd', 'dof', 'hachelijk', 'geestig', 'hoopvol',\n",
    "#               'hemels', 'geldig', 'gemeen', 'goedkoop', 'grijs', 'heet']\n",
    "# only_adjs = [(x, [x+'/adj']) for x in adj_lemmas]\n",
    "\n",
    "# # 2. Load token ID list, which is what I had, but the json path above makes sense too ==============\n",
    "# with open(f\"{mydir}/sources/adjIds.txt\", 'r') as s:\n",
    "#     adjs = [x.strip() for x in s.readlines()]\n",
    "\n",
    "# # 3. Extract filenames from token ID's and map to paths ================================\n",
    "# token2fname = [x.split('/')[2]+'.conll' for x in adjs]\n",
    "# with open(fnames, 'r') as q:\n",
    "#     fnameSample = [x.strip() for x in q.readlines() if x.strip().rsplit('/', 1)[1] in token2fname]\n",
    "    \n",
    "# # 4. On a loop per item, row create Bow ================================\n",
    "# for type_name, query_list in only_adjs:\n",
    "#     query = full.subvocab(query_list)\n",
    "#     bowdata = createBow(query, settings, type_name = type_name, fnames = fnameSample, tokenlist = adjs,\n",
    "#          foc_win = foc_win, foc_pos = foc_pos, bound = bound)\n",
    "    \n",
    "#     # 5. Most probably, store register ================================\n",
    "#     models_fname = f\"{output_path}/registers/{type_name}.bow-models.tsv\"\n",
    "#     bowdata.to_csv(models_fname, sep=\"\\t\", index_label = '_model')"
   ]
  },
  {
   "cell_type": "markdown",
   "metadata": {},
   "source": [
    "### 3.2 Lemmarel\n",
    "\n",
    "For dependency models we need specific templates and and patterns --- especially for LEMMAREL, they need to be tailored to the part-of-speech that you are looking into. Since I'm exemplifying with a verb, I will use those templates.\n",
    "\n",
    "**IMPORTANT**: In order to work, dependency models require the 'separator-line-machine' value.\n",
    "\n",
    "**Note**: The old code used a lot of upper case; these copies of templates use only lower case. I will soon fix that in the other templates and move them to this directory."
   ]
  },
  {
   "cell_type": "code",
   "execution_count": 17,
   "metadata": {},
   "outputs": [],
   "source": [
    "graphml_name = \"LEMMAREL.verbs\"\n",
    "templates_dir = f\"{mydir}/templates\"\n",
    "rel_macros = [\n",
    "    (\"LEMMAREL1\", loadMacro(templates_dir, graphml_name, \"LEMMAREL1.verbs\")),\n",
    "    (\"LEMMAREL2\", loadMacro(templates_dir, graphml_name, \"LEMMAREL2.verbs\"))\n",
    "]\n",
    "settings['separator-line-machine'] = \"^</sentence>$\""
   ]
  },
  {
   "cell_type": "code",
   "execution_count": 18,
   "metadata": {},
   "outputs": [
    {
     "data": {
      "image/png": "[encoded data removed]",
      "text/plain": [
       "<Figure size 1440x2304 with 5 Axes>"
      ]
     },
     "metadata": {},
     "output_type": "display_data"
    }
   ],
   "source": [
    "# The objects returned by loadMacro can be plotted:\n",
    "plotPatterns(rel_macros[0][1])"
   ]
  },
  {
   "cell_type": "code",
   "execution_count": 19,
   "metadata": {
    "scrolled": true
   },
   "outputs": [
    {
     "name": "stdout",
     "output_type": "stream",
     "text": [
      "WARNING: Not provide the temporary path!\n",
      "WARNING: Use the default tmp directory: '~/tmp'!\n",
      "Building dependency features...\n"
     ]
    },
    {
     "data": {
      "application/vnd.jupyter.widget-view+json": {
       "model_id": "52a0f21e62b44167aee66c253987d6ef",
       "version_major": 2,
       "version_minor": 0
      },
      "text/plain": [
       "HBox(children=(IntProgress(value=0, max=60), HTML(value='')))"
      ]
     },
     "metadata": {},
     "output_type": "display_data"
    },
    {
     "name": "stdout",
     "output_type": "stream",
     "text": [
      "\n",
      "Building matrix...\n",
      "WARNING: 5 rows have not been found.\n",
      "WARNING: 60432 columns have not been found.\n",
      "\n",
      "Saving matrix...\n",
      "Stored in file:\n",
      "  /home/projects/semmetrix/mariana_wolken/cleanWorkflow//output//tokens/destroy//destroy.LEMMAREL1.tcmx.bool.pac\n",
      "WARNING: Not provide the temporary path!\n",
      "WARNING: Use the default tmp directory: '~/tmp'!\n",
      "Building dependency features...\n"
     ]
    },
    {
     "data": {
      "application/vnd.jupyter.widget-view+json": {
       "model_id": "e84dd360404b4e6d8d72bdf97ae24767",
       "version_major": 2,
       "version_minor": 0
      },
      "text/plain": [
       "HBox(children=(IntProgress(value=0, max=60), HTML(value='')))"
      ]
     },
     "metadata": {},
     "output_type": "display_data"
    },
    {
     "name": "stdout",
     "output_type": "stream",
     "text": [
      "\n",
      "Building matrix...\n",
      "WARNING: 1 rows have not been found.\n",
      "WARNING: 60398 columns have not been found.\n",
      "\n",
      "Saving matrix...\n",
      "Stored in file:\n",
      "  /home/projects/semmetrix/mariana_wolken/cleanWorkflow//output//tokens/destroy//destroy.LEMMAREL2.tcmx.bool.pac\n"
     ]
    }
   ],
   "source": [
    "reldata = createRel(query, settings, rel_macros, type_name = type_name,\n",
    "              fnames = fnameSample, tokenlist = tokenlist, foc_filter = foc.get_item_list())\n",
    "reldata.to_csv(f\"{output_path}/registers/{type_name}.rel-models.tsv\", sep = \"\\t\", index_label = \"_model\")"
   ]
  },
  {
   "cell_type": "code",
   "execution_count": 20,
   "metadata": {},
   "outputs": [],
   "source": [
    "# # 6. On a loop per item, row create Path ================================\n",
    "# for type_name, query_list in only_adjs:\n",
    "#     query = full.subvocab(query_list)\n",
    "#     reldata = createRel(query, settings, rel_macros, type_name = type_name,\n",
    "#                         fnames = fnameSample, tokenlist = adjs, foc_filter = foc.get_item_list())\n",
    "    \n",
    "#     # 7. Most probably, store register ================================\n",
    "#     models_fname = f\"{output_path}/registers/{type_name}.rel-models.tsv\"\n",
    "#     reldata.to_csv(models_fname, sep=\"\\t\", index_label = '_model')"
   ]
  },
  {
   "cell_type": "markdown",
   "metadata": {},
   "source": [
    "### 3.3 Lemmapath\n",
    "\n",
    "Like LEMMAREL, the LEMMAPATH models need 'separator-line-machine' to be properly set and the templates to be loaded.\n",
    "Unlike LEMMAREL, the templates are not cumulative: LEMMAPATH1 models only cover those with one step between target and context word, while LEMMAPATH2 covers those with two steps. We *could* make them cumulative, but this setup allows us to give them different weights in PATHweight models."
   ]
  },
  {
   "cell_type": "code",
   "execution_count": 21,
   "metadata": {},
   "outputs": [],
   "source": [
    "graphml_name = \"LEMMAPATH\"\n",
    "templates_dir = f\"{mydir}/templates\"\n",
    "path_templates = [loadMacro(templates_dir, graphml_name, f\"LEMMAPATH{i}\") for i in [1, 2, 3]]\n",
    "path_macros = [\n",
    "    # First group includes templates with one and two steps, no weight\n",
    "    (\"LEMMAPATH2\", [path_templates[0], path_templates[1]], None),\n",
    "    # Second group includes templates with up to three steps, no weight\n",
    "    (\"LEMMAPATH3\", [path_templates[0], path_templates[1], path_templates[2]], None),\n",
    "    # Third group includes templates with up to three steps, with weight\n",
    "    (\"LEMMAPATHweight\", [path_templates[0], path_templates[1], path_templates[2]], [1, 0.6, 0.3])\n",
    "]\n",
    "settings['separator-line-machine'] = \"^</sentence>$\""
   ]
  },
  {
   "cell_type": "code",
   "execution_count": 22,
   "metadata": {
    "scrolled": true
   },
   "outputs": [
    {
     "name": "stdout",
     "output_type": "stream",
     "text": [
      "WARNING: Not provide the temporary path!\n",
      "WARNING: Use the default tmp directory: '~/tmp'!\n",
      "Building dependency features...\n"
     ]
    },
    {
     "data": {
      "application/vnd.jupyter.widget-view+json": {
       "model_id": "800044e88ab648fdad043d775265704e",
       "version_major": 2,
       "version_minor": 0
      },
      "text/plain": [
       "HBox(children=(IntProgress(value=0, max=60), HTML(value='')))"
      ]
     },
     "metadata": {},
     "output_type": "display_data"
    },
    {
     "name": "stdout",
     "output_type": "stream",
     "text": [
      "\n",
      "Building matrix...\n",
      "WARNING: Not provide the temporary path!\n",
      "WARNING: Use the default tmp directory: '~/tmp'!\n",
      "Building dependency features...\n"
     ]
    },
    {
     "data": {
      "application/vnd.jupyter.widget-view+json": {
       "model_id": "78864b7d6f704c71be0cd6647d42d938",
       "version_major": 2,
       "version_minor": 0
      },
      "text/plain": [
       "HBox(children=(IntProgress(value=0, max=60), HTML(value='')))"
      ]
     },
     "metadata": {},
     "output_type": "display_data"
    },
    {
     "name": "stdout",
     "output_type": "stream",
     "text": [
      "\n",
      "Building matrix...\n",
      "WARNING: 60351 columns have not been found.\n",
      "\n",
      "Saving matrix...\n",
      "Stored in file:\n",
      "  /home/projects/semmetrix/mariana_wolken/cleanWorkflow//output//tokens/destroy//destroy.LEMMAPATH2.tcmx.bool.pac\n",
      "WARNING: Not provide the temporary path!\n",
      "WARNING: Use the default tmp directory: '~/tmp'!\n",
      "Building dependency features...\n"
     ]
    },
    {
     "data": {
      "application/vnd.jupyter.widget-view+json": {
       "model_id": "edce6a6ea7bf40439a23f1b9646f33ff",
       "version_major": 2,
       "version_minor": 0
      },
      "text/plain": [
       "HBox(children=(IntProgress(value=0, max=60), HTML(value='')))"
      ]
     },
     "metadata": {},
     "output_type": "display_data"
    },
    {
     "name": "stdout",
     "output_type": "stream",
     "text": [
      "\n",
      "Building matrix...\n",
      "WARNING: Not provide the temporary path!\n",
      "WARNING: Use the default tmp directory: '~/tmp'!\n",
      "Building dependency features...\n"
     ]
    },
    {
     "data": {
      "application/vnd.jupyter.widget-view+json": {
       "model_id": "4a73e173d75b45e4ad2d8f166011fdd5",
       "version_major": 2,
       "version_minor": 0
      },
      "text/plain": [
       "HBox(children=(IntProgress(value=0, max=60), HTML(value='')))"
      ]
     },
     "metadata": {},
     "output_type": "display_data"
    },
    {
     "name": "stdout",
     "output_type": "stream",
     "text": [
      "\n",
      "Building matrix...\n",
      "WARNING: Not provide the temporary path!\n",
      "WARNING: Use the default tmp directory: '~/tmp'!\n",
      "Building dependency features...\n"
     ]
    },
    {
     "data": {
      "application/vnd.jupyter.widget-view+json": {
       "model_id": "801c805d13314fa0afa8dbb2e635de86",
       "version_major": 2,
       "version_minor": 0
      },
      "text/plain": [
       "HBox(children=(IntProgress(value=0, max=60), HTML(value='')))"
      ]
     },
     "metadata": {},
     "output_type": "display_data"
    },
    {
     "name": "stdout",
     "output_type": "stream",
     "text": [
      "\n",
      "Building matrix...\n",
      "WARNING: 2 rows have not been found.\n",
      "WARNING: 60269 columns have not been found.\n",
      "\n",
      "Saving matrix...\n",
      "Stored in file:\n",
      "  /home/projects/semmetrix/mariana_wolken/cleanWorkflow//output//tokens/destroy//destroy.LEMMAPATH3.tcmx.bool.pac\n",
      "WARNING: Not provide the temporary path!\n",
      "WARNING: Use the default tmp directory: '~/tmp'!\n",
      "Building dependency features...\n"
     ]
    },
    {
     "data": {
      "application/vnd.jupyter.widget-view+json": {
       "model_id": "5795c99a1b22409791805059d5a5a603",
       "version_major": 2,
       "version_minor": 0
      },
      "text/plain": [
       "HBox(children=(IntProgress(value=0, max=60), HTML(value='')))"
      ]
     },
     "metadata": {},
     "output_type": "display_data"
    },
    {
     "name": "stdout",
     "output_type": "stream",
     "text": [
      "\n",
      "Building matrix...\n",
      "WARNING: Not provide the temporary path!\n",
      "WARNING: Use the default tmp directory: '~/tmp'!\n",
      "Building dependency features...\n"
     ]
    },
    {
     "data": {
      "application/vnd.jupyter.widget-view+json": {
       "model_id": "d5bccfb0015e4ff0a7c93c6918167777",
       "version_major": 2,
       "version_minor": 0
      },
      "text/plain": [
       "HBox(children=(IntProgress(value=0, max=60), HTML(value='')))"
      ]
     },
     "metadata": {},
     "output_type": "display_data"
    },
    {
     "name": "stdout",
     "output_type": "stream",
     "text": [
      "\n",
      "Building matrix...\n",
      "WARNING: Not provide the temporary path!\n",
      "WARNING: Use the default tmp directory: '~/tmp'!\n",
      "Building dependency features...\n"
     ]
    },
    {
     "data": {
      "application/vnd.jupyter.widget-view+json": {
       "model_id": "9a14e1c873a24dbd94e22a9c99940015",
       "version_major": 2,
       "version_minor": 0
      },
      "text/plain": [
       "HBox(children=(IntProgress(value=0, max=60), HTML(value='')))"
      ]
     },
     "metadata": {},
     "output_type": "display_data"
    },
    {
     "name": "stdout",
     "output_type": "stream",
     "text": [
      "\n",
      "Building matrix...\n",
      "WARNING: 2 rows have not been found.\n",
      "WARNING: 60269 columns have not been found.\n",
      "\n",
      "Saving matrix...\n",
      "Stored in file:\n",
      "  /home/projects/semmetrix/mariana_wolken/cleanWorkflow//output//tokens/destroy//destroy.LEMMAPATHweight.tcmx.bool.pac\n"
     ]
    }
   ],
   "source": [
    "pathdata = createPath(query, settings, path_macros, type_name = type_name,\n",
    "          fnames = fnameSample, tokenlist = tokenlist, foc_filter = foc.get_item_list())\n",
    "pathdata.to_csv(f\"{output_path}/registers/{type_name}.path-models.tsv\", sep = \"\\t\", index_label = \"_model\")"
   ]
  },
  {
   "cell_type": "code",
   "execution_count": 23,
   "metadata": {},
   "outputs": [],
   "source": [
    "# # 8. On a loop per item, row create Path ================================\n",
    "# for type_name, query_list in only_adjs:\n",
    "#     query = full.subvocab(query_list)\n",
    "#     pathdata = createPath(query, settings, path_macros, type_name = type_name,\n",
    "#           fnames = fnameSample, tokenlist = tokenlist, foc_filter = foc.get_item_list())\n",
    "    \n",
    "#     # 9. Most probably, store register ================================\n",
    "#     models_fname = f\"{output_path}/registers/{type_name}.path-models.tsv\"\n",
    "#     pathdata.to_csv(models_fname, sep=\"\\t\", index_label = '_model')"
   ]
  },
  {
   "cell_type": "markdown",
   "metadata": {},
   "source": [
    "## 4 Weight or booleanize\n",
    "\n",
    "Once we have our boolean token-by-feature matrices, we can start combining them with type-level matrices: first to weight them and then to obtain second-order features. These functions will require us to specify the directory where we store our token matrices (in case we want different directories)."
   ]
  },
  {
   "cell_type": "code",
   "execution_count": 24,
   "metadata": {},
   "outputs": [],
   "source": [
    "token_dir = f\"{output_path}/tokens/{type_name}\""
   ]
  },
  {
   "cell_type": "markdown",
   "metadata": {},
   "source": [
    "### 4.1. Create/load collocation matrix\n",
    "First of all, we need to have a collocation matrix. The following function checks if the given filename exists and, if it doesn't, it creates the matrix from scratch."
   ]
  },
  {
   "cell_type": "code",
   "execution_count": 25,
   "metadata": {},
   "outputs": [],
   "source": [
    "coldir = \"/home/projects/semmetrix/NephoSem/input-data/frequency-matrices/QLVLNewsCorpus/\"\n",
    "freq_fname_CW4 = f\"{coldir}/QLVLNews.fullcorpus_CW4.wcmx.freq.pac\" # window size of 4"
   ]
  },
  {
   "cell_type": "code",
   "execution_count": 26,
   "metadata": {},
   "outputs": [
    {
     "data": {
      "text/plain": [
       "[4614267, 4614267]             !!!!!!!!!!!!!!!!!!!!!!!!!/num  !!!!!!!!!!!!!!!!!/num  !!!!!!!!!!!!!!!!/num  !!!!!!!!!!!!!!/num  !!!!!!!!!!!!!/name  !!!!!!!!!!!!!/num  !!!!!!!!!!!!/num  ...\n",
       "!!!!!!!!!!!!!!!!!!!!!!!!!/num  NaN                            NaN                    NaN                   NaN                 NaN                 NaN                NaN               ...\n",
       "!!!!!!!!!!!!!!!!!/num          NaN                            NaN                    NaN                   NaN                 NaN                 NaN                NaN               ...\n",
       "!!!!!!!!!!!!!!!!/num           NaN                            NaN                    NaN                   NaN                 NaN                 NaN                NaN               ...\n",
       "!!!!!!!!!!!!!!/num             NaN                            NaN                    NaN                   NaN                 NaN                 NaN                NaN               ...\n",
       "!!!!!!!!!!!!!/name             NaN                            NaN                    NaN                   NaN                 NaN                 NaN                NaN               ...\n",
       "!!!!!!!!!!!!!/num              NaN                            NaN                    NaN                   NaN                 NaN                 NaN                NaN               ...\n",
       "!!!!!!!!!!!!/num               NaN                            NaN                    NaN                   NaN                 NaN                 NaN                NaN               ...\n",
       "...                            ...                            ...                    ...                   ...                 ...                 ...                ...               ..."
      ]
     },
     "execution_count": 26,
     "metadata": {},
     "output_type": "execute_result"
    }
   ],
   "source": [
    "#settings['left-span'] = 4\n",
    "#settings['right-span = 4']\n",
    "freqMTX_CW4 = loadColloc(freq_fname_CW4, settings)\n",
    "freqMTX_CW4"
   ]
  },
  {
   "cell_type": "code",
   "execution_count": 27,
   "metadata": {},
   "outputs": [],
   "source": [
    "freq_fname_CW10 = f\"{coldir}/QLVLNews.fullcorpus_CW10.wcmx.freq.pac\" # window size of 4\n",
    "#settings['left-span'] = 10\n",
    "#settings['right-span = 10']\n",
    "freqMTX_CW10 = loadColloc(freq_fname_CW10, settings)"
   ]
  },
  {
   "cell_type": "markdown",
   "metadata": {},
   "source": [
    "### 4.2 Register PPMI values\n",
    "\n",
    "The function below subsets collocation matrices and calculates PMI values based on collocation matrices and frequencies based on vocabularies, to register the information in a dataframe. It returns a specific PPMI dataframe to use for weighting."
   ]
  },
  {
   "cell_type": "code",
   "execution_count": 28,
   "metadata": {
    "scrolled": false
   },
   "outputs": [
    {
     "data": {
      "application/vnd.jupyter.widget-view+json": {
       "model_id": "a13cfed63ebb41dfbc44654a0066bf86",
       "version_major": 2,
       "version_minor": 0
      },
      "text/plain": [
       "HBox(children=(IntProgress(value=0, max=20120), HTML(value='')))"
      ]
     },
     "metadata": {},
     "output_type": "display_data"
    },
    {
     "name": "stdout",
     "output_type": "stream",
     "text": [
      "\n",
      "\n",
      "************************************\n",
      "function    = compute_association\n",
      "  time      = 0.1711 sec\n",
      "************************************\n",
      "\n"
     ]
    },
    {
     "data": {
      "application/vnd.jupyter.widget-view+json": {
       "model_id": "f6d3c7eb7ef648b787a89a59da6bdaf8",
       "version_major": 2,
       "version_minor": 0
      },
      "text/plain": [
       "HBox(children=(IntProgress(value=0, max=39735), HTML(value='')))"
      ]
     },
     "metadata": {},
     "output_type": "display_data"
    },
    {
     "name": "stdout",
     "output_type": "stream",
     "text": [
      "\n",
      "\n",
      "************************************\n",
      "function    = compute_association\n",
      "  time      = 0.2749 sec\n",
      "************************************\n",
      "\n"
     ]
    },
    {
     "data": {
      "text/plain": [
       "[2, 14453]      !!!/punct  \"/punct     '/punct     '40/noun  '44/noun   '67/name   '68_generatie/noun  ...\n",
       "verniel/verb    NaN        NaN         NaN         4.903999  4.3824615  NaN        7.2866263           ...\n",
       "vernietig/verb  2.2368245  0.20710099  0.25722486  NaN       NaN        4.8763175  NaN                 ..."
      ]
     },
     "execution_count": 28,
     "metadata": {},
     "output_type": "execute_result"
    }
   ],
   "source": [
    "ppmi = targetPPMI(query.get_item_list(),\n",
    "           vocabs = {\"freq\" : full},\n",
    "          collocs = {\"4\" : freqMTX_CW4, \"10\" : freqMTX_CW10},\n",
    "          type_name = type_name, output_dir = f\"{github_dir}/{type_name}/\",\n",
    "          main_matrix = \"4\")\n",
    "ppmi # it returns the PPMI values based on collocs[\"4\"]"
   ]
  },
  {
   "cell_type": "code",
   "execution_count": 29,
   "metadata": {
    "scrolled": true
   },
   "outputs": [
    {
     "data": {
      "text/html": [
       "<div>\n",
       "<style scoped>\n",
       "    .dataframe tbody tr th:only-of-type {\n",
       "        vertical-align: middle;\n",
       "    }\n",
       "\n",
       "    .dataframe tbody tr th {\n",
       "        vertical-align: top;\n",
       "    }\n",
       "\n",
       "    .dataframe thead th {\n",
       "        text-align: right;\n",
       "    }\n",
       "</style>\n",
       "<table border=\"1\" class=\"dataframe\">\n",
       "  <thead>\n",
       "    <tr style=\"text-align: right;\">\n",
       "      <th></th>\n",
       "      <th>pmi_4_verniel/verb</th>\n",
       "      <th>pmi_4_vernietig/verb</th>\n",
       "      <th>raw_4_verniel/verb</th>\n",
       "      <th>raw_4_vernietig/verb</th>\n",
       "      <th>pmi_10_verniel/verb</th>\n",
       "      <th>pmi_10_vernietig/verb</th>\n",
       "      <th>raw_10_verniel/verb</th>\n",
       "      <th>raw_10_vernietig/verb</th>\n",
       "      <th>freq</th>\n",
       "    </tr>\n",
       "    <tr>\n",
       "      <th>cw</th>\n",
       "      <th></th>\n",
       "      <th></th>\n",
       "      <th></th>\n",
       "      <th></th>\n",
       "      <th></th>\n",
       "      <th></th>\n",
       "      <th></th>\n",
       "      <th></th>\n",
       "      <th></th>\n",
       "    </tr>\n",
       "  </thead>\n",
       "  <tbody>\n",
       "    <tr>\n",
       "      <th>!!!/punct</th>\n",
       "      <td>NaN</td>\n",
       "      <td>2.236824</td>\n",
       "      <td>NaN</td>\n",
       "      <td>1.0</td>\n",
       "      <td>NaN</td>\n",
       "      <td>1.331356</td>\n",
       "      <td>NaN</td>\n",
       "      <td>1.0</td>\n",
       "      <td>592</td>\n",
       "    </tr>\n",
       "    <tr>\n",
       "      <th>!/name</th>\n",
       "      <td>-0.776889</td>\n",
       "      <td>-0.166773</td>\n",
       "      <td>1.0</td>\n",
       "      <td>3.0</td>\n",
       "      <td>-0.575533</td>\n",
       "      <td>-1.070589</td>\n",
       "      <td>3.0</td>\n",
       "      <td>3.0</td>\n",
       "      <td>19257</td>\n",
       "    </tr>\n",
       "    <tr>\n",
       "      <th>!/punct</th>\n",
       "      <td>-1.148367</td>\n",
       "      <td>-0.027426</td>\n",
       "      <td>5.0</td>\n",
       "      <td>25.0</td>\n",
       "      <td>-1.170905</td>\n",
       "      <td>-0.366678</td>\n",
       "      <td>12.0</td>\n",
       "      <td>44.0</td>\n",
       "      <td>142029</td>\n",
       "    </tr>\n",
       "    <tr>\n",
       "      <th>!?/name</th>\n",
       "      <td>NaN</td>\n",
       "      <td>NaN</td>\n",
       "      <td>NaN</td>\n",
       "      <td>NaN</td>\n",
       "      <td>3.903481</td>\n",
       "      <td>NaN</td>\n",
       "      <td>1.0</td>\n",
       "      <td>NaN</td>\n",
       "      <td>73</td>\n",
       "    </tr>\n",
       "    <tr>\n",
       "      <th>\"/punct</th>\n",
       "      <td>-0.416885</td>\n",
       "      <td>0.207101</td>\n",
       "      <td>358.0</td>\n",
       "      <td>1089.0</td>\n",
       "      <td>-0.523912</td>\n",
       "      <td>0.023079</td>\n",
       "      <td>794.0</td>\n",
       "      <td>2251.0</td>\n",
       "      <td>4844510</td>\n",
       "    </tr>\n",
       "    <tr>\n",
       "      <th>&amp;/name</th>\n",
       "      <td>-1.789608</td>\n",
       "      <td>-1.179493</td>\n",
       "      <td>1.0</td>\n",
       "      <td>3.0</td>\n",
       "      <td>-2.685440</td>\n",
       "      <td>-1.571058</td>\n",
       "      <td>1.0</td>\n",
       "      <td>5.0</td>\n",
       "      <td>52896</td>\n",
       "    </tr>\n",
       "    <tr>\n",
       "      <th>&amp;Wardwell/name</th>\n",
       "      <td>NaN</td>\n",
       "      <td>NaN</td>\n",
       "      <td>NaN</td>\n",
       "      <td>NaN</td>\n",
       "      <td>NaN</td>\n",
       "      <td>6.980771</td>\n",
       "      <td>NaN</td>\n",
       "      <td>1.0</td>\n",
       "      <td>2</td>\n",
       "    </tr>\n",
       "    <tr>\n",
       "      <th>'/punct</th>\n",
       "      <td>-0.873048</td>\n",
       "      <td>0.257225</td>\n",
       "      <td>128.0</td>\n",
       "      <td>646.0</td>\n",
       "      <td>-0.837387</td>\n",
       "      <td>0.136009</td>\n",
       "      <td>327.0</td>\n",
       "      <td>1420.0</td>\n",
       "      <td>2720890</td>\n",
       "    </tr>\n",
       "    <tr>\n",
       "      <th>'14-'18/num</th>\n",
       "      <td>NaN</td>\n",
       "      <td>NaN</td>\n",
       "      <td>NaN</td>\n",
       "      <td>NaN</td>\n",
       "      <td>NaN</td>\n",
       "      <td>3.126377</td>\n",
       "      <td>NaN</td>\n",
       "      <td>1.0</td>\n",
       "      <td>96</td>\n",
       "    </tr>\n",
       "    <tr>\n",
       "      <th>'33/noun</th>\n",
       "      <td>NaN</td>\n",
       "      <td>NaN</td>\n",
       "      <td>NaN</td>\n",
       "      <td>NaN</td>\n",
       "      <td>NaN</td>\n",
       "      <td>4.272720</td>\n",
       "      <td>NaN</td>\n",
       "      <td>1.0</td>\n",
       "      <td>30</td>\n",
       "    </tr>\n",
       "    <tr>\n",
       "      <th>'39/num</th>\n",
       "      <td>NaN</td>\n",
       "      <td>NaN</td>\n",
       "      <td>NaN</td>\n",
       "      <td>NaN</td>\n",
       "      <td>6.028908</td>\n",
       "      <td>NaN</td>\n",
       "      <td>1.0</td>\n",
       "      <td>NaN</td>\n",
       "      <td>9</td>\n",
       "    </tr>\n",
       "    <tr>\n",
       "      <th>'40/noun</th>\n",
       "      <td>4.903999</td>\n",
       "      <td>NaN</td>\n",
       "      <td>1.0</td>\n",
       "      <td>NaN</td>\n",
       "      <td>3.994586</td>\n",
       "      <td>NaN</td>\n",
       "      <td>1.0</td>\n",
       "      <td>NaN</td>\n",
       "      <td>65</td>\n",
       "    </tr>\n",
       "    <tr>\n",
       "      <th>'44/noun</th>\n",
       "      <td>4.382461</td>\n",
       "      <td>NaN</td>\n",
       "      <td>1.0</td>\n",
       "      <td>NaN</td>\n",
       "      <td>4.169398</td>\n",
       "      <td>NaN</td>\n",
       "      <td>2.0</td>\n",
       "      <td>NaN</td>\n",
       "      <td>110</td>\n",
       "    </tr>\n",
       "    <tr>\n",
       "      <th>'65/name</th>\n",
       "      <td>NaN</td>\n",
       "      <td>NaN</td>\n",
       "      <td>NaN</td>\n",
       "      <td>NaN</td>\n",
       "      <td>NaN</td>\n",
       "      <td>4.341713</td>\n",
       "      <td>NaN</td>\n",
       "      <td>1.0</td>\n",
       "      <td>28</td>\n",
       "    </tr>\n",
       "    <tr>\n",
       "      <th>'67/name</th>\n",
       "      <td>NaN</td>\n",
       "      <td>4.876317</td>\n",
       "      <td>NaN</td>\n",
       "      <td>1.0</td>\n",
       "      <td>NaN</td>\n",
       "      <td>3.960346</td>\n",
       "      <td>NaN</td>\n",
       "      <td>1.0</td>\n",
       "      <td>41</td>\n",
       "    </tr>\n",
       "    <tr>\n",
       "      <th>'68_generatie/noun</th>\n",
       "      <td>7.286626</td>\n",
       "      <td>NaN</td>\n",
       "      <td>1.0</td>\n",
       "      <td>NaN</td>\n",
       "      <td>6.377214</td>\n",
       "      <td>NaN</td>\n",
       "      <td>1.0</td>\n",
       "      <td>NaN</td>\n",
       "      <td>6</td>\n",
       "    </tr>\n",
       "    <tr>\n",
       "      <th>'70/num</th>\n",
       "      <td>NaN</td>\n",
       "      <td>NaN</td>\n",
       "      <td>NaN</td>\n",
       "      <td>NaN</td>\n",
       "      <td>0.897096</td>\n",
       "      <td>NaN</td>\n",
       "      <td>1.0</td>\n",
       "      <td>NaN</td>\n",
       "      <td>1447</td>\n",
       "    </tr>\n",
       "    <tr>\n",
       "      <th>'87/noun</th>\n",
       "      <td>NaN</td>\n",
       "      <td>NaN</td>\n",
       "      <td>NaN</td>\n",
       "      <td>NaN</td>\n",
       "      <td>2.774892</td>\n",
       "      <td>NaN</td>\n",
       "      <td>1.0</td>\n",
       "      <td>NaN</td>\n",
       "      <td>221</td>\n",
       "    </tr>\n",
       "    <tr>\n",
       "      <th>'89/noun</th>\n",
       "      <td>NaN</td>\n",
       "      <td>NaN</td>\n",
       "      <td>NaN</td>\n",
       "      <td>NaN</td>\n",
       "      <td>NaN</td>\n",
       "      <td>1.730462</td>\n",
       "      <td>NaN</td>\n",
       "      <td>1.0</td>\n",
       "      <td>383</td>\n",
       "    </tr>\n",
       "    <tr>\n",
       "      <th>'90-'91/num</th>\n",
       "      <td>NaN</td>\n",
       "      <td>NaN</td>\n",
       "      <td>NaN</td>\n",
       "      <td>NaN</td>\n",
       "      <td>5.195999</td>\n",
       "      <td>NaN</td>\n",
       "      <td>1.0</td>\n",
       "      <td>NaN</td>\n",
       "      <td>20</td>\n",
       "    </tr>\n",
       "    <tr>\n",
       "      <th>'90/num</th>\n",
       "      <td>NaN</td>\n",
       "      <td>1.343432</td>\n",
       "      <td>NaN</td>\n",
       "      <td>1.0</td>\n",
       "      <td>0.926176</td>\n",
       "      <td>1.529732</td>\n",
       "      <td>1.0</td>\n",
       "      <td>3.0</td>\n",
       "      <td>1406</td>\n",
       "    </tr>\n",
       "    <tr>\n",
       "      <th>'91/noun</th>\n",
       "      <td>NaN</td>\n",
       "      <td>NaN</td>\n",
       "      <td>NaN</td>\n",
       "      <td>NaN</td>\n",
       "      <td>1.954166</td>\n",
       "      <td>NaN</td>\n",
       "      <td>1.0</td>\n",
       "      <td>NaN</td>\n",
       "      <td>502</td>\n",
       "    </tr>\n",
       "    <tr>\n",
       "      <th>'91/num</th>\n",
       "      <td>NaN</td>\n",
       "      <td>NaN</td>\n",
       "      <td>NaN</td>\n",
       "      <td>NaN</td>\n",
       "      <td>NaN</td>\n",
       "      <td>3.571274</td>\n",
       "      <td>NaN</td>\n",
       "      <td>1.0</td>\n",
       "      <td>61</td>\n",
       "    </tr>\n",
       "    <tr>\n",
       "      <th>'92/noun</th>\n",
       "      <td>NaN</td>\n",
       "      <td>NaN</td>\n",
       "      <td>NaN</td>\n",
       "      <td>NaN</td>\n",
       "      <td>1.634241</td>\n",
       "      <td>NaN</td>\n",
       "      <td>1.0</td>\n",
       "      <td>NaN</td>\n",
       "      <td>693</td>\n",
       "    </tr>\n",
       "    <tr>\n",
       "      <th>'92/num</th>\n",
       "      <td>NaN</td>\n",
       "      <td>3.847133</td>\n",
       "      <td>NaN</td>\n",
       "      <td>1.0</td>\n",
       "      <td>NaN</td>\n",
       "      <td>2.935967</td>\n",
       "      <td>NaN</td>\n",
       "      <td>1.0</td>\n",
       "      <td>115</td>\n",
       "    </tr>\n",
       "    <tr>\n",
       "      <th>'94-'96/num</th>\n",
       "      <td>NaN</td>\n",
       "      <td>NaN</td>\n",
       "      <td>NaN</td>\n",
       "      <td>NaN</td>\n",
       "      <td>NaN</td>\n",
       "      <td>5.222913</td>\n",
       "      <td>NaN</td>\n",
       "      <td>1.0</td>\n",
       "      <td>12</td>\n",
       "    </tr>\n",
       "    <tr>\n",
       "      <th>'94/noun</th>\n",
       "      <td>NaN</td>\n",
       "      <td>1.685640</td>\n",
       "      <td>NaN</td>\n",
       "      <td>1.0</td>\n",
       "      <td>NaN</td>\n",
       "      <td>0.772030</td>\n",
       "      <td>NaN</td>\n",
       "      <td>1.0</td>\n",
       "      <td>999</td>\n",
       "    </tr>\n",
       "    <tr>\n",
       "      <th>'95/noun</th>\n",
       "      <td>NaN</td>\n",
       "      <td>1.509021</td>\n",
       "      <td>NaN</td>\n",
       "      <td>1.0</td>\n",
       "      <td>NaN</td>\n",
       "      <td>1.289103</td>\n",
       "      <td>NaN</td>\n",
       "      <td>2.0</td>\n",
       "      <td>1191</td>\n",
       "    </tr>\n",
       "    <tr>\n",
       "      <th>'96/noun</th>\n",
       "      <td>NaN</td>\n",
       "      <td>NaN</td>\n",
       "      <td>NaN</td>\n",
       "      <td>NaN</td>\n",
       "      <td>NaN</td>\n",
       "      <td>1.115897</td>\n",
       "      <td>NaN</td>\n",
       "      <td>2.0</td>\n",
       "      <td>1417</td>\n",
       "    </tr>\n",
       "    <tr>\n",
       "      <th>'98/noun</th>\n",
       "      <td>NaN</td>\n",
       "      <td>1.421021</td>\n",
       "      <td>NaN</td>\n",
       "      <td>2.0</td>\n",
       "      <td>NaN</td>\n",
       "      <td>0.509275</td>\n",
       "      <td>NaN</td>\n",
       "      <td>2.0</td>\n",
       "      <td>2605</td>\n",
       "    </tr>\n",
       "    <tr>\n",
       "      <th>...</th>\n",
       "      <td>...</td>\n",
       "      <td>...</td>\n",
       "      <td>...</td>\n",
       "      <td>...</td>\n",
       "      <td>...</td>\n",
       "      <td>...</td>\n",
       "      <td>...</td>\n",
       "      <td>...</td>\n",
       "      <td>...</td>\n",
       "    </tr>\n",
       "    <tr>\n",
       "      <th>zwerf_kat/noun</th>\n",
       "      <td>NaN</td>\n",
       "      <td>2.551422</td>\n",
       "      <td>NaN</td>\n",
       "      <td>1.0</td>\n",
       "      <td>NaN</td>\n",
       "      <td>1.657029</td>\n",
       "      <td>NaN</td>\n",
       "      <td>1.0</td>\n",
       "      <td>428</td>\n",
       "    </tr>\n",
       "    <tr>\n",
       "      <th>zwerf_rond/verb</th>\n",
       "      <td>NaN</td>\n",
       "      <td>NaN</td>\n",
       "      <td>NaN</td>\n",
       "      <td>NaN</td>\n",
       "      <td>NaN</td>\n",
       "      <td>1.093625</td>\n",
       "      <td>NaN</td>\n",
       "      <td>1.0</td>\n",
       "      <td>728</td>\n",
       "    </tr>\n",
       "    <tr>\n",
       "      <th>zwerf_route/noun</th>\n",
       "      <td>NaN</td>\n",
       "      <td>NaN</td>\n",
       "      <td>NaN</td>\n",
       "      <td>NaN</td>\n",
       "      <td>NaN</td>\n",
       "      <td>4.646203</td>\n",
       "      <td>NaN</td>\n",
       "      <td>1.0</td>\n",
       "      <td>22</td>\n",
       "    </tr>\n",
       "    <tr>\n",
       "      <th>zwerf_wagen/noun</th>\n",
       "      <td>4.469473</td>\n",
       "      <td>NaN</td>\n",
       "      <td>1.0</td>\n",
       "      <td>NaN</td>\n",
       "      <td>3.571332</td>\n",
       "      <td>NaN</td>\n",
       "      <td>1.0</td>\n",
       "      <td>NaN</td>\n",
       "      <td>101</td>\n",
       "    </tr>\n",
       "    <tr>\n",
       "      <th>zwerm/noun</th>\n",
       "      <td>NaN</td>\n",
       "      <td>NaN</td>\n",
       "      <td>NaN</td>\n",
       "      <td>NaN</td>\n",
       "      <td>NaN</td>\n",
       "      <td>1.950741</td>\n",
       "      <td>NaN</td>\n",
       "      <td>2.0</td>\n",
       "      <td>619</td>\n",
       "    </tr>\n",
       "    <tr>\n",
       "      <th>zwerver/noun</th>\n",
       "      <td>NaN</td>\n",
       "      <td>NaN</td>\n",
       "      <td>NaN</td>\n",
       "      <td>NaN</td>\n",
       "      <td>0.959171</td>\n",
       "      <td>NaN</td>\n",
       "      <td>2.0</td>\n",
       "      <td>NaN</td>\n",
       "      <td>2756</td>\n",
       "    </tr>\n",
       "    <tr>\n",
       "      <th>zwezerik/noun</th>\n",
       "      <td>NaN</td>\n",
       "      <td>3.374954</td>\n",
       "      <td>NaN</td>\n",
       "      <td>1.0</td>\n",
       "      <td>NaN</td>\n",
       "      <td>2.466620</td>\n",
       "      <td>NaN</td>\n",
       "      <td>1.0</td>\n",
       "      <td>184</td>\n",
       "    </tr>\n",
       "    <tr>\n",
       "      <th>zwicht/verb</th>\n",
       "      <td>NaN</td>\n",
       "      <td>NaN</td>\n",
       "      <td>NaN</td>\n",
       "      <td>NaN</td>\n",
       "      <td>1.237893</td>\n",
       "      <td>NaN</td>\n",
       "      <td>2.0</td>\n",
       "      <td>NaN</td>\n",
       "      <td>2090</td>\n",
       "    </tr>\n",
       "    <tr>\n",
       "      <th>zwijg/adj</th>\n",
       "      <td>1.408599</td>\n",
       "      <td>NaN</td>\n",
       "      <td>1.0</td>\n",
       "      <td>NaN</td>\n",
       "      <td>0.505472</td>\n",
       "      <td>NaN</td>\n",
       "      <td>1.0</td>\n",
       "      <td>NaN</td>\n",
       "      <td>2152</td>\n",
       "    </tr>\n",
       "    <tr>\n",
       "      <th>zwijg/verb</th>\n",
       "      <td>NaN</td>\n",
       "      <td>-0.983139</td>\n",
       "      <td>NaN</td>\n",
       "      <td>1.0</td>\n",
       "      <td>-0.701847</td>\n",
       "      <td>-0.791438</td>\n",
       "      <td>2.0</td>\n",
       "      <td>3.0</td>\n",
       "      <td>14482</td>\n",
       "    </tr>\n",
       "    <tr>\n",
       "      <th>zwijg_dood/verb</th>\n",
       "      <td>NaN</td>\n",
       "      <td>NaN</td>\n",
       "      <td>NaN</td>\n",
       "      <td>NaN</td>\n",
       "      <td>1.840769</td>\n",
       "      <td>NaN</td>\n",
       "      <td>1.0</td>\n",
       "      <td>NaN</td>\n",
       "      <td>563</td>\n",
       "    </tr>\n",
       "    <tr>\n",
       "      <th>zwijg_geld/noun</th>\n",
       "      <td>NaN</td>\n",
       "      <td>NaN</td>\n",
       "      <td>NaN</td>\n",
       "      <td>NaN</td>\n",
       "      <td>NaN</td>\n",
       "      <td>2.556523</td>\n",
       "      <td>NaN</td>\n",
       "      <td>1.0</td>\n",
       "      <td>170</td>\n",
       "    </tr>\n",
       "    <tr>\n",
       "      <th>zwijg_stil/adj</th>\n",
       "      <td>NaN</td>\n",
       "      <td>1.571040</td>\n",
       "      <td>NaN</td>\n",
       "      <td>1.0</td>\n",
       "      <td>NaN</td>\n",
       "      <td>0.661037</td>\n",
       "      <td>NaN</td>\n",
       "      <td>1.0</td>\n",
       "      <td>1120</td>\n",
       "    </tr>\n",
       "    <tr>\n",
       "      <th>zwijn/noun</th>\n",
       "      <td>2.080561</td>\n",
       "      <td>NaN</td>\n",
       "      <td>1.0</td>\n",
       "      <td>NaN</td>\n",
       "      <td>1.876387</td>\n",
       "      <td>0.688183</td>\n",
       "      <td>2.0</td>\n",
       "      <td>1.0</td>\n",
       "      <td>1104</td>\n",
       "    </tr>\n",
       "    <tr>\n",
       "      <th>zyn/noun</th>\n",
       "      <td>NaN</td>\n",
       "      <td>4.658064</td>\n",
       "      <td>NaN</td>\n",
       "      <td>1.0</td>\n",
       "      <td>NaN</td>\n",
       "      <td>3.747006</td>\n",
       "      <td>NaN</td>\n",
       "      <td>1.0</td>\n",
       "      <td>51</td>\n",
       "    </tr>\n",
       "    <tr>\n",
       "      <th>140/num</th>\n",
       "      <td>NaN</td>\n",
       "      <td>4.962221</td>\n",
       "      <td>NaN</td>\n",
       "      <td>1.0</td>\n",
       "      <td>NaN</td>\n",
       "      <td>4.064352</td>\n",
       "      <td>NaN</td>\n",
       "      <td>1.0</td>\n",
       "      <td>38</td>\n",
       "    </tr>\n",
       "    <tr>\n",
       "      <th>iroki/noun</th>\n",
       "      <td>NaN</td>\n",
       "      <td>NaN</td>\n",
       "      <td>NaN</td>\n",
       "      <td>NaN</td>\n",
       "      <td>7.475827</td>\n",
       "      <td>NaN</td>\n",
       "      <td>1.0</td>\n",
       "      <td>NaN</td>\n",
       "      <td>2</td>\n",
       "    </tr>\n",
       "    <tr>\n",
       "      <th>©$^NRC/noun</th>\n",
       "      <td>NaN</td>\n",
       "      <td>NaN</td>\n",
       "      <td>NaN</td>\n",
       "      <td>NaN</td>\n",
       "      <td>4.873137</td>\n",
       "      <td>NaN</td>\n",
       "      <td>1.0</td>\n",
       "      <td>NaN</td>\n",
       "      <td>50</td>\n",
       "    </tr>\n",
       "    <tr>\n",
       "      <th>©/noun</th>\n",
       "      <td>1.242708</td>\n",
       "      <td>0.061064</td>\n",
       "      <td>2.0</td>\n",
       "      <td>1.0</td>\n",
       "      <td>0.455100</td>\n",
       "      <td>0.653191</td>\n",
       "      <td>2.0</td>\n",
       "      <td>4.0</td>\n",
       "      <td>5868</td>\n",
       "    </tr>\n",
       "    <tr>\n",
       "      <th>Öcalan/name</th>\n",
       "      <td>NaN</td>\n",
       "      <td>0.775288</td>\n",
       "      <td>NaN</td>\n",
       "      <td>1.0</td>\n",
       "      <td>NaN</td>\n",
       "      <td>-0.125323</td>\n",
       "      <td>NaN</td>\n",
       "      <td>1.0</td>\n",
       "      <td>2497</td>\n",
       "    </tr>\n",
       "    <tr>\n",
       "      <th>à/vg</th>\n",
       "      <td>NaN</td>\n",
       "      <td>-1.945505</td>\n",
       "      <td>NaN</td>\n",
       "      <td>1.0</td>\n",
       "      <td>-1.260012</td>\n",
       "      <td>-0.907770</td>\n",
       "      <td>3.0</td>\n",
       "      <td>7.0</td>\n",
       "      <td>37763</td>\n",
       "    </tr>\n",
       "    <tr>\n",
       "      <th>á/name</th>\n",
       "      <td>5.825108</td>\n",
       "      <td>NaN</td>\n",
       "      <td>1.0</td>\n",
       "      <td>NaN</td>\n",
       "      <td>4.924430</td>\n",
       "      <td>NaN</td>\n",
       "      <td>1.0</td>\n",
       "      <td>NaN</td>\n",
       "      <td>26</td>\n",
       "    </tr>\n",
       "    <tr>\n",
       "      <th>álle/adj</th>\n",
       "      <td>2.752684</td>\n",
       "      <td>2.264187</td>\n",
       "      <td>1.0</td>\n",
       "      <td>1.0</td>\n",
       "      <td>1.849285</td>\n",
       "      <td>1.354229</td>\n",
       "      <td>1.0</td>\n",
       "      <td>1.0</td>\n",
       "      <td>560</td>\n",
       "    </tr>\n",
       "    <tr>\n",
       "      <th>één/adv</th>\n",
       "      <td>NaN</td>\n",
       "      <td>1.423189</td>\n",
       "      <td>NaN</td>\n",
       "      <td>2.0</td>\n",
       "      <td>1.006731</td>\n",
       "      <td>0.511675</td>\n",
       "      <td>2.0</td>\n",
       "      <td>2.0</td>\n",
       "      <td>2595</td>\n",
       "    </tr>\n",
       "    <tr>\n",
       "      <th>één/fixed</th>\n",
       "      <td>0.351682</td>\n",
       "      <td>NaN</td>\n",
       "      <td>1.0</td>\n",
       "      <td>NaN</td>\n",
       "      <td>-0.549003</td>\n",
       "      <td>-1.044059</td>\n",
       "      <td>1.0</td>\n",
       "      <td>1.0</td>\n",
       "      <td>6184</td>\n",
       "    </tr>\n",
       "    <tr>\n",
       "      <th>één/noun</th>\n",
       "      <td>NaN</td>\n",
       "      <td>0.095581</td>\n",
       "      <td>NaN</td>\n",
       "      <td>1.0</td>\n",
       "      <td>0.375521</td>\n",
       "      <td>-0.812682</td>\n",
       "      <td>2.0</td>\n",
       "      <td>1.0</td>\n",
       "      <td>4905</td>\n",
       "    </tr>\n",
       "    <tr>\n",
       "      <th>één/num</th>\n",
       "      <td>0.436258</td>\n",
       "      <td>-0.086141</td>\n",
       "      <td>60.0</td>\n",
       "      <td>58.0</td>\n",
       "      <td>0.367265</td>\n",
       "      <td>0.001201</td>\n",
       "      <td>138.0</td>\n",
       "      <td>157.0</td>\n",
       "      <td>341260</td>\n",
       "    </tr>\n",
       "    <tr>\n",
       "      <th>één/pron</th>\n",
       "      <td>-0.165669</td>\n",
       "      <td>-0.607645</td>\n",
       "      <td>21.0</td>\n",
       "      <td>22.0</td>\n",
       "      <td>-0.088517</td>\n",
       "      <td>-0.565874</td>\n",
       "      <td>56.0</td>\n",
       "      <td>57.0</td>\n",
       "      <td>218147</td>\n",
       "    </tr>\n",
       "    <tr>\n",
       "      <th>être/name</th>\n",
       "      <td>NaN</td>\n",
       "      <td>NaN</td>\n",
       "      <td>NaN</td>\n",
       "      <td>NaN</td>\n",
       "      <td>4.102514</td>\n",
       "      <td>NaN</td>\n",
       "      <td>1.0</td>\n",
       "      <td>NaN</td>\n",
       "      <td>59</td>\n",
       "    </tr>\n",
       "    <tr>\n",
       "      <th>überhaupt/adv</th>\n",
       "      <td>NaN</td>\n",
       "      <td>NaN</td>\n",
       "      <td>NaN</td>\n",
       "      <td>NaN</td>\n",
       "      <td>NaN</td>\n",
       "      <td>-0.102450</td>\n",
       "      <td>NaN</td>\n",
       "      <td>1.0</td>\n",
       "      <td>2400</td>\n",
       "    </tr>\n",
       "  </tbody>\n",
       "</table>\n",
       "<p>32343 rows × 9 columns</p>\n",
       "</div>"
      ],
      "text/plain": [
       "                    pmi_4_verniel/verb  pmi_4_vernietig/verb  \\\n",
       "cw                                                             \n",
       "!!!/punct                          NaN              2.236824   \n",
       "!/name                       -0.776889             -0.166773   \n",
       "!/punct                      -1.148367             -0.027426   \n",
       "!?/name                            NaN                   NaN   \n",
       "\"/punct                      -0.416885              0.207101   \n",
       "&/name                       -1.789608             -1.179493   \n",
       "&Wardwell/name                     NaN                   NaN   \n",
       "'/punct                      -0.873048              0.257225   \n",
       "'14-'18/num                        NaN                   NaN   \n",
       "'33/noun                           NaN                   NaN   \n",
       "'39/num                            NaN                   NaN   \n",
       "'40/noun                      4.903999                   NaN   \n",
       "'44/noun                      4.382461                   NaN   \n",
       "'65/name                           NaN                   NaN   \n",
       "'67/name                           NaN              4.876317   \n",
       "'68_generatie/noun            7.286626                   NaN   \n",
       "'70/num                            NaN                   NaN   \n",
       "'87/noun                           NaN                   NaN   \n",
       "'89/noun                           NaN                   NaN   \n",
       "'90-'91/num                        NaN                   NaN   \n",
       "'90/num                            NaN              1.343432   \n",
       "'91/noun                           NaN                   NaN   \n",
       "'91/num                            NaN                   NaN   \n",
       "'92/noun                           NaN                   NaN   \n",
       "'92/num                            NaN              3.847133   \n",
       "'94-'96/num                        NaN                   NaN   \n",
       "'94/noun                           NaN              1.685640   \n",
       "'95/noun                           NaN              1.509021   \n",
       "'96/noun                           NaN                   NaN   \n",
       "'98/noun                           NaN              1.421021   \n",
       "...                                ...                   ...   \n",
       "zwerf_kat/noun                     NaN              2.551422   \n",
       "zwerf_rond/verb                    NaN                   NaN   \n",
       "zwerf_route/noun                   NaN                   NaN   \n",
       "zwerf_wagen/noun              4.469473                   NaN   \n",
       "zwerm/noun                         NaN                   NaN   \n",
       "zwerver/noun                       NaN                   NaN   \n",
       "zwezerik/noun                      NaN              3.374954   \n",
       "zwicht/verb                        NaN                   NaN   \n",
       "zwijg/adj                     1.408599                   NaN   \n",
       "zwijg/verb                         NaN             -0.983139   \n",
       "zwijg_dood/verb                    NaN                   NaN   \n",
       "zwijg_geld/noun                    NaN                   NaN   \n",
       "zwijg_stil/adj                     NaN              1.571040   \n",
       "zwijn/noun                    2.080561                   NaN   \n",
       "zyn/noun                           NaN              4.658064   \n",
       "140/num                           NaN              4.962221   \n",
       "iroki/noun                        NaN                   NaN   \n",
       "©$^NRC/noun                        NaN                   NaN   \n",
       "©/noun                        1.242708              0.061064   \n",
       "Öcalan/name                        NaN              0.775288   \n",
       "à/vg                               NaN             -1.945505   \n",
       "á/name                        5.825108                   NaN   \n",
       "álle/adj                      2.752684              2.264187   \n",
       "één/adv                            NaN              1.423189   \n",
       "één/fixed                     0.351682                   NaN   \n",
       "één/noun                           NaN              0.095581   \n",
       "één/num                       0.436258             -0.086141   \n",
       "één/pron                     -0.165669             -0.607645   \n",
       "être/name                          NaN                   NaN   \n",
       "überhaupt/adv                      NaN                   NaN   \n",
       "\n",
       "                    raw_4_verniel/verb  raw_4_vernietig/verb  \\\n",
       "cw                                                             \n",
       "!!!/punct                          NaN                   1.0   \n",
       "!/name                             1.0                   3.0   \n",
       "!/punct                            5.0                  25.0   \n",
       "!?/name                            NaN                   NaN   \n",
       "\"/punct                          358.0                1089.0   \n",
       "&/name                             1.0                   3.0   \n",
       "&Wardwell/name                     NaN                   NaN   \n",
       "'/punct                          128.0                 646.0   \n",
       "'14-'18/num                        NaN                   NaN   \n",
       "'33/noun                           NaN                   NaN   \n",
       "'39/num                            NaN                   NaN   \n",
       "'40/noun                           1.0                   NaN   \n",
       "'44/noun                           1.0                   NaN   \n",
       "'65/name                           NaN                   NaN   \n",
       "'67/name                           NaN                   1.0   \n",
       "'68_generatie/noun                 1.0                   NaN   \n",
       "'70/num                            NaN                   NaN   \n",
       "'87/noun                           NaN                   NaN   \n",
       "'89/noun                           NaN                   NaN   \n",
       "'90-'91/num                        NaN                   NaN   \n",
       "'90/num                            NaN                   1.0   \n",
       "'91/noun                           NaN                   NaN   \n",
       "'91/num                            NaN                   NaN   \n",
       "'92/noun                           NaN                   NaN   \n",
       "'92/num                            NaN                   1.0   \n",
       "'94-'96/num                        NaN                   NaN   \n",
       "'94/noun                           NaN                   1.0   \n",
       "'95/noun                           NaN                   1.0   \n",
       "'96/noun                           NaN                   NaN   \n",
       "'98/noun                           NaN                   2.0   \n",
       "...                                ...                   ...   \n",
       "zwerf_kat/noun                     NaN                   1.0   \n",
       "zwerf_rond/verb                    NaN                   NaN   \n",
       "zwerf_route/noun                   NaN                   NaN   \n",
       "zwerf_wagen/noun                   1.0                   NaN   \n",
       "zwerm/noun                         NaN                   NaN   \n",
       "zwerver/noun                       NaN                   NaN   \n",
       "zwezerik/noun                      NaN                   1.0   \n",
       "zwicht/verb                        NaN                   NaN   \n",
       "zwijg/adj                          1.0                   NaN   \n",
       "zwijg/verb                         NaN                   1.0   \n",
       "zwijg_dood/verb                    NaN                   NaN   \n",
       "zwijg_geld/noun                    NaN                   NaN   \n",
       "zwijg_stil/adj                     NaN                   1.0   \n",
       "zwijn/noun                         1.0                   NaN   \n",
       "zyn/noun                           NaN                   1.0   \n",
       "140/num                           NaN                   1.0   \n",
       "iroki/noun                        NaN                   NaN   \n",
       "©$^NRC/noun                        NaN                   NaN   \n",
       "©/noun                             2.0                   1.0   \n",
       "Öcalan/name                        NaN                   1.0   \n",
       "à/vg                               NaN                   1.0   \n",
       "á/name                             1.0                   NaN   \n",
       "álle/adj                           1.0                   1.0   \n",
       "één/adv                            NaN                   2.0   \n",
       "één/fixed                          1.0                   NaN   \n",
       "één/noun                           NaN                   1.0   \n",
       "één/num                           60.0                  58.0   \n",
       "één/pron                          21.0                  22.0   \n",
       "être/name                          NaN                   NaN   \n",
       "überhaupt/adv                      NaN                   NaN   \n",
       "\n",
       "                    pmi_10_verniel/verb  pmi_10_vernietig/verb  \\\n",
       "cw                                                               \n",
       "!!!/punct                           NaN               1.331356   \n",
       "!/name                        -0.575533              -1.070589   \n",
       "!/punct                       -1.170905              -0.366678   \n",
       "!?/name                        3.903481                    NaN   \n",
       "\"/punct                       -0.523912               0.023079   \n",
       "&/name                        -2.685440              -1.571058   \n",
       "&Wardwell/name                      NaN               6.980771   \n",
       "'/punct                       -0.837387               0.136009   \n",
       "'14-'18/num                         NaN               3.126377   \n",
       "'33/noun                            NaN               4.272720   \n",
       "'39/num                        6.028908                    NaN   \n",
       "'40/noun                       3.994586                    NaN   \n",
       "'44/noun                       4.169398                    NaN   \n",
       "'65/name                            NaN               4.341713   \n",
       "'67/name                            NaN               3.960346   \n",
       "'68_generatie/noun             6.377214                    NaN   \n",
       "'70/num                        0.897096                    NaN   \n",
       "'87/noun                       2.774892                    NaN   \n",
       "'89/noun                            NaN               1.730462   \n",
       "'90-'91/num                    5.195999                    NaN   \n",
       "'90/num                        0.926176               1.529732   \n",
       "'91/noun                       1.954166                    NaN   \n",
       "'91/num                             NaN               3.571274   \n",
       "'92/noun                       1.634241                    NaN   \n",
       "'92/num                             NaN               2.935967   \n",
       "'94-'96/num                         NaN               5.222913   \n",
       "'94/noun                            NaN               0.772030   \n",
       "'95/noun                            NaN               1.289103   \n",
       "'96/noun                            NaN               1.115897   \n",
       "'98/noun                            NaN               0.509275   \n",
       "...                                 ...                    ...   \n",
       "zwerf_kat/noun                      NaN               1.657029   \n",
       "zwerf_rond/verb                     NaN               1.093625   \n",
       "zwerf_route/noun                    NaN               4.646203   \n",
       "zwerf_wagen/noun               3.571332                    NaN   \n",
       "zwerm/noun                          NaN               1.950741   \n",
       "zwerver/noun                   0.959171                    NaN   \n",
       "zwezerik/noun                       NaN               2.466620   \n",
       "zwicht/verb                    1.237893                    NaN   \n",
       "zwijg/adj                      0.505472                    NaN   \n",
       "zwijg/verb                    -0.701847              -0.791438   \n",
       "zwijg_dood/verb                1.840769                    NaN   \n",
       "zwijg_geld/noun                     NaN               2.556523   \n",
       "zwijg_stil/adj                      NaN               0.661037   \n",
       "zwijn/noun                     1.876387               0.688183   \n",
       "zyn/noun                            NaN               3.747006   \n",
       "140/num                            NaN               4.064352   \n",
       "iroki/noun                    7.475827                    NaN   \n",
       "©$^NRC/noun                    4.873137                    NaN   \n",
       "©/noun                         0.455100               0.653191   \n",
       "Öcalan/name                         NaN              -0.125323   \n",
       "à/vg                          -1.260012              -0.907770   \n",
       "á/name                         4.924430                    NaN   \n",
       "álle/adj                       1.849285               1.354229   \n",
       "één/adv                        1.006731               0.511675   \n",
       "één/fixed                     -0.549003              -1.044059   \n",
       "één/noun                       0.375521              -0.812682   \n",
       "één/num                        0.367265               0.001201   \n",
       "één/pron                      -0.088517              -0.565874   \n",
       "être/name                      4.102514                    NaN   \n",
       "überhaupt/adv                       NaN              -0.102450   \n",
       "\n",
       "                    raw_10_verniel/verb  raw_10_vernietig/verb     freq  \n",
       "cw                                                                       \n",
       "!!!/punct                           NaN                    1.0      592  \n",
       "!/name                              3.0                    3.0    19257  \n",
       "!/punct                            12.0                   44.0   142029  \n",
       "!?/name                             1.0                    NaN       73  \n",
       "\"/punct                           794.0                 2251.0  4844510  \n",
       "&/name                              1.0                    5.0    52896  \n",
       "&Wardwell/name                      NaN                    1.0        2  \n",
       "'/punct                           327.0                 1420.0  2720890  \n",
       "'14-'18/num                         NaN                    1.0       96  \n",
       "'33/noun                            NaN                    1.0       30  \n",
       "'39/num                             1.0                    NaN        9  \n",
       "'40/noun                            1.0                    NaN       65  \n",
       "'44/noun                            2.0                    NaN      110  \n",
       "'65/name                            NaN                    1.0       28  \n",
       "'67/name                            NaN                    1.0       41  \n",
       "'68_generatie/noun                  1.0                    NaN        6  \n",
       "'70/num                             1.0                    NaN     1447  \n",
       "'87/noun                            1.0                    NaN      221  \n",
       "'89/noun                            NaN                    1.0      383  \n",
       "'90-'91/num                         1.0                    NaN       20  \n",
       "'90/num                             1.0                    3.0     1406  \n",
       "'91/noun                            1.0                    NaN      502  \n",
       "'91/num                             NaN                    1.0       61  \n",
       "'92/noun                            1.0                    NaN      693  \n",
       "'92/num                             NaN                    1.0      115  \n",
       "'94-'96/num                         NaN                    1.0       12  \n",
       "'94/noun                            NaN                    1.0      999  \n",
       "'95/noun                            NaN                    2.0     1191  \n",
       "'96/noun                            NaN                    2.0     1417  \n",
       "'98/noun                            NaN                    2.0     2605  \n",
       "...                                 ...                    ...      ...  \n",
       "zwerf_kat/noun                      NaN                    1.0      428  \n",
       "zwerf_rond/verb                     NaN                    1.0      728  \n",
       "zwerf_route/noun                    NaN                    1.0       22  \n",
       "zwerf_wagen/noun                    1.0                    NaN      101  \n",
       "zwerm/noun                          NaN                    2.0      619  \n",
       "zwerver/noun                        2.0                    NaN     2756  \n",
       "zwezerik/noun                       NaN                    1.0      184  \n",
       "zwicht/verb                         2.0                    NaN     2090  \n",
       "zwijg/adj                           1.0                    NaN     2152  \n",
       "zwijg/verb                          2.0                    3.0    14482  \n",
       "zwijg_dood/verb                     1.0                    NaN      563  \n",
       "zwijg_geld/noun                     NaN                    1.0      170  \n",
       "zwijg_stil/adj                      NaN                    1.0     1120  \n",
       "zwijn/noun                          2.0                    1.0     1104  \n",
       "zyn/noun                            NaN                    1.0       51  \n",
       "140/num                            NaN                    1.0       38  \n",
       "iroki/noun                         1.0                    NaN        2  \n",
       "©$^NRC/noun                         1.0                    NaN       50  \n",
       "©/noun                              2.0                    4.0     5868  \n",
       "Öcalan/name                         NaN                    1.0     2497  \n",
       "à/vg                                3.0                    7.0    37763  \n",
       "á/name                              1.0                    NaN       26  \n",
       "álle/adj                            1.0                    1.0      560  \n",
       "één/adv                             2.0                    2.0     2595  \n",
       "één/fixed                           1.0                    1.0     6184  \n",
       "één/noun                            2.0                    1.0     4905  \n",
       "één/num                           138.0                  157.0   341260  \n",
       "één/pron                           56.0                   57.0   218147  \n",
       "être/name                           1.0                    NaN       59  \n",
       "überhaupt/adv                       NaN                    1.0     2400  \n",
       "\n",
       "[32343 rows x 9 columns]"
      ]
     },
     "execution_count": 29,
     "metadata": {},
     "output_type": "execute_result"
    }
   ],
   "source": [
    "import pandas as pd\n",
    "with open(f\"{github_dir}/{type_name}/{type_name}.ppmi.tsv\", \"r\") as f:\n",
    "    pmidf = pd.read_csv(f, sep = \"\\t\", index_col = \"cw\")\n",
    "pmidf"
   ]
  },
  {
   "cell_type": "code",
   "execution_count": 30,
   "metadata": {},
   "outputs": [],
   "source": [
    "# # 10. On a loop per item, row weight models ================================\n",
    "# for type_name, query_list in only_adjs:\n",
    "#     ppmi = targetPPMI(query_list,\n",
    "#            vocabs = {\"freq\" : full},\n",
    "#                       collocs = {\"4\" : freqMTX_CW4, \"10\" : freqMTX_CW10},\n",
    "#                       type_name = type_name, output_dir = f\"{output_path}/registers/\",\n",
    "#                       main_matrix = \"4\")"
   ]
  },
  {
   "cell_type": "markdown",
   "metadata": {},
   "source": [
    "### 4.3 Implement weighting on selection\n",
    "\n",
    "This step is performed on all the matrices created up to this moment. A useful thing to do first is to combine all the first-order register information we have from the different kinds of models."
   ]
  },
  {
   "cell_type": "code",
   "execution_count": 31,
   "metadata": {
    "scrolled": true
   },
   "outputs": [],
   "source": [
    "registers = loadFocRegisters(f\"{output_path}/registers\", type_name)"
   ]
  },
  {
   "cell_type": "markdown",
   "metadata": {},
   "source": [
    "Once we have the registers, we can also set the values for our `PPMI` setting with the `weighting` dictionary. A value `None` indicates that no weighting is applied, while matrices as values (a boolean version for selection instead of weighting, for example) are used to weight the tokens."
   ]
  },
  {
   "cell_type": "code",
   "execution_count": 32,
   "metadata": {},
   "outputs": [],
   "source": [
    "from semasioFlow.utils import booleanize\n",
    "weighting = {\n",
    "    \"no\" : None,\n",
    "    \"selection\" : booleanize(ppmi, include_negative=False),\n",
    "    \"weight\" : ppmi\n",
    "}"
   ]
  },
  {
   "cell_type": "code",
   "execution_count": 33,
   "metadata": {},
   "outputs": [],
   "source": [
    "x = \"weight\""
   ]
  },
  {
   "cell_type": "code",
   "execution_count": 34,
   "metadata": {},
   "outputs": [
    {
     "data": {
      "text/plain": [
       "[2, 14453]      !!!/punct  \"/punct     '/punct     '40/noun  '44/noun   '67/name   '68_generatie/noun  ...\n",
       "verniel/verb    NaN        NaN         NaN         4.903999  4.3824615  NaN        7.2866263           ...\n",
       "vernietig/verb  2.2368245  0.20710099  0.25722486  NaN       NaN        4.8763175  NaN                 ..."
      ]
     },
     "execution_count": 34,
     "metadata": {},
     "output_type": "execute_result"
    }
   ],
   "source": [
    "weighting[x] if weighting[x] else \"no matrix\""
   ]
  },
  {
   "cell_type": "code",
   "execution_count": 35,
   "metadata": {},
   "outputs": [
    {
     "name": "stdout",
     "output_type": "stream",
     "text": [
      "\n",
      "Saving matrix...\n",
      "Stored in file:\n",
      "  /home/projects/semmetrix/mariana_wolken/cleanWorkflow//output//tokens/destroy/destroy.bound10-10all.PPMIno.tcmx.weight.pac\n",
      "\n",
      "Saving matrix...\n",
      "Stored in file:\n",
      "  /home/projects/semmetrix/mariana_wolken/cleanWorkflow//output//tokens/destroy/destroy.bound10-10all.PPMIselection.tcmx.weight.pac\n",
      "\n",
      "Saving matrix...\n",
      "Stored in file:\n",
      "  /home/projects/semmetrix/mariana_wolken/cleanWorkflow//output//tokens/destroy/destroy.bound10-10all.PPMIweight.tcmx.weight.pac\n",
      "\n",
      "Saving matrix...\n",
      "Stored in file:\n",
      "  /home/projects/semmetrix/mariana_wolken/cleanWorkflow//output//tokens/destroy/destroy.bound10-10lex.PPMIno.tcmx.weight.pac\n",
      "\n",
      "Saving matrix...\n",
      "Stored in file:\n",
      "  /home/projects/semmetrix/mariana_wolken/cleanWorkflow//output//tokens/destroy/destroy.bound10-10lex.PPMIselection.tcmx.weight.pac\n",
      "\n",
      "Saving matrix...\n",
      "Stored in file:\n",
      "  /home/projects/semmetrix/mariana_wolken/cleanWorkflow//output//tokens/destroy/destroy.bound10-10lex.PPMIweight.tcmx.weight.pac\n",
      "\n",
      "Saving matrix...\n",
      "Stored in file:\n",
      "  /home/projects/semmetrix/mariana_wolken/cleanWorkflow//output//tokens/destroy/destroy.bound3-3all.PPMIno.tcmx.weight.pac\n",
      "\n",
      "Saving matrix...\n",
      "Stored in file:\n",
      "  /home/projects/semmetrix/mariana_wolken/cleanWorkflow//output//tokens/destroy/destroy.bound3-3all.PPMIselection.tcmx.weight.pac\n",
      "\n",
      "Saving matrix...\n",
      "Stored in file:\n",
      "  /home/projects/semmetrix/mariana_wolken/cleanWorkflow//output//tokens/destroy/destroy.bound3-3all.PPMIweight.tcmx.weight.pac\n",
      "\n",
      "Saving matrix...\n",
      "Stored in file:\n",
      "  /home/projects/semmetrix/mariana_wolken/cleanWorkflow//output//tokens/destroy/destroy.bound3-3lex.PPMIno.tcmx.weight.pac\n",
      "\n",
      "Saving matrix...\n",
      "Stored in file:\n",
      "  /home/projects/semmetrix/mariana_wolken/cleanWorkflow//output//tokens/destroy/destroy.bound3-3lex.PPMIselection.tcmx.weight.pac\n",
      "\n",
      "Saving matrix...\n",
      "Stored in file:\n",
      "  /home/projects/semmetrix/mariana_wolken/cleanWorkflow//output//tokens/destroy/destroy.bound3-3lex.PPMIweight.tcmx.weight.pac\n",
      "\n",
      "Saving matrix...\n",
      "Stored in file:\n",
      "  /home/projects/semmetrix/mariana_wolken/cleanWorkflow//output//tokens/destroy/destroy.bound5-5all.PPMIno.tcmx.weight.pac\n",
      "\n",
      "Saving matrix...\n",
      "Stored in file:\n",
      "  /home/projects/semmetrix/mariana_wolken/cleanWorkflow//output//tokens/destroy/destroy.bound5-5all.PPMIselection.tcmx.weight.pac\n",
      "\n",
      "Saving matrix...\n",
      "Stored in file:\n",
      "  /home/projects/semmetrix/mariana_wolken/cleanWorkflow//output//tokens/destroy/destroy.bound5-5all.PPMIweight.tcmx.weight.pac\n",
      "\n",
      "Saving matrix...\n",
      "Stored in file:\n",
      "  /home/projects/semmetrix/mariana_wolken/cleanWorkflow//output//tokens/destroy/destroy.bound5-5lex.PPMIno.tcmx.weight.pac\n",
      "\n",
      "Saving matrix...\n",
      "Stored in file:\n",
      "  /home/projects/semmetrix/mariana_wolken/cleanWorkflow//output//tokens/destroy/destroy.bound5-5lex.PPMIselection.tcmx.weight.pac\n",
      "\n",
      "Saving matrix...\n",
      "Stored in file:\n",
      "  /home/projects/semmetrix/mariana_wolken/cleanWorkflow//output//tokens/destroy/destroy.bound5-5lex.PPMIweight.tcmx.weight.pac\n",
      "\n",
      "Saving matrix...\n",
      "Stored in file:\n",
      "  /home/projects/semmetrix/mariana_wolken/cleanWorkflow//output//tokens/destroy/destroy.nobound10-10all.PPMIno.tcmx.weight.pac\n",
      "\n",
      "Saving matrix...\n",
      "Stored in file:\n",
      "  /home/projects/semmetrix/mariana_wolken/cleanWorkflow//output//tokens/destroy/destroy.nobound10-10all.PPMIselection.tcmx.weight.pac\n",
      "\n",
      "Saving matrix...\n",
      "Stored in file:\n",
      "  /home/projects/semmetrix/mariana_wolken/cleanWorkflow//output//tokens/destroy/destroy.nobound10-10all.PPMIweight.tcmx.weight.pac\n",
      "\n",
      "Saving matrix...\n",
      "Stored in file:\n",
      "  /home/projects/semmetrix/mariana_wolken/cleanWorkflow//output//tokens/destroy/destroy.nobound10-10lex.PPMIno.tcmx.weight.pac\n",
      "\n",
      "Saving matrix...\n",
      "Stored in file:\n",
      "  /home/projects/semmetrix/mariana_wolken/cleanWorkflow//output//tokens/destroy/destroy.nobound10-10lex.PPMIselection.tcmx.weight.pac\n",
      "\n",
      "Saving matrix...\n",
      "Stored in file:\n",
      "  /home/projects/semmetrix/mariana_wolken/cleanWorkflow//output//tokens/destroy/destroy.nobound10-10lex.PPMIweight.tcmx.weight.pac\n",
      "\n",
      "Saving matrix...\n",
      "Stored in file:\n",
      "  /home/projects/semmetrix/mariana_wolken/cleanWorkflow//output//tokens/destroy/destroy.nobound3-3all.PPMIno.tcmx.weight.pac\n",
      "\n",
      "Saving matrix...\n",
      "Stored in file:\n",
      "  /home/projects/semmetrix/mariana_wolken/cleanWorkflow//output//tokens/destroy/destroy.nobound3-3all.PPMIselection.tcmx.weight.pac\n",
      "\n",
      "Saving matrix...\n",
      "Stored in file:\n",
      "  /home/projects/semmetrix/mariana_wolken/cleanWorkflow//output//tokens/destroy/destroy.nobound3-3all.PPMIweight.tcmx.weight.pac\n",
      "\n",
      "Saving matrix...\n",
      "Stored in file:\n",
      "  /home/projects/semmetrix/mariana_wolken/cleanWorkflow//output//tokens/destroy/destroy.nobound3-3lex.PPMIno.tcmx.weight.pac\n",
      "\n",
      "Saving matrix...\n",
      "Stored in file:\n",
      "  /home/projects/semmetrix/mariana_wolken/cleanWorkflow//output//tokens/destroy/destroy.nobound3-3lex.PPMIselection.tcmx.weight.pac\n",
      "\n",
      "Saving matrix...\n",
      "Stored in file:\n",
      "  /home/projects/semmetrix/mariana_wolken/cleanWorkflow//output//tokens/destroy/destroy.nobound3-3lex.PPMIweight.tcmx.weight.pac\n",
      "\n",
      "Saving matrix...\n",
      "Stored in file:\n",
      "  /home/projects/semmetrix/mariana_wolken/cleanWorkflow//output//tokens/destroy/destroy.nobound5-5all.PPMIno.tcmx.weight.pac\n",
      "\n",
      "Saving matrix...\n",
      "Stored in file:\n",
      "  /home/projects/semmetrix/mariana_wolken/cleanWorkflow//output//tokens/destroy/destroy.nobound5-5all.PPMIselection.tcmx.weight.pac\n",
      "\n",
      "Saving matrix...\n",
      "Stored in file:\n",
      "  /home/projects/semmetrix/mariana_wolken/cleanWorkflow//output//tokens/destroy/destroy.nobound5-5all.PPMIweight.tcmx.weight.pac\n",
      "\n",
      "Saving matrix...\n",
      "Stored in file:\n",
      "  /home/projects/semmetrix/mariana_wolken/cleanWorkflow//output//tokens/destroy/destroy.nobound5-5lex.PPMIno.tcmx.weight.pac\n",
      "\n",
      "Saving matrix...\n",
      "Stored in file:\n",
      "  /home/projects/semmetrix/mariana_wolken/cleanWorkflow//output//tokens/destroy/destroy.nobound5-5lex.PPMIselection.tcmx.weight.pac\n",
      "\n",
      "Saving matrix...\n",
      "Stored in file:\n",
      "  /home/projects/semmetrix/mariana_wolken/cleanWorkflow//output//tokens/destroy/destroy.nobound5-5lex.PPMIweight.tcmx.weight.pac\n",
      "\n",
      "Saving matrix...\n",
      "Stored in file:\n",
      "  /home/projects/semmetrix/mariana_wolken/cleanWorkflow//output//tokens/destroy/destroy.LEMMAREL1.PPMIno.tcmx.weight.pac\n",
      "\n",
      "Saving matrix...\n",
      "Stored in file:\n",
      "  /home/projects/semmetrix/mariana_wolken/cleanWorkflow//output//tokens/destroy/destroy.LEMMAREL1.PPMIselection.tcmx.weight.pac\n",
      "\n",
      "Saving matrix...\n",
      "Stored in file:\n",
      "  /home/projects/semmetrix/mariana_wolken/cleanWorkflow//output//tokens/destroy/destroy.LEMMAREL1.PPMIweight.tcmx.weight.pac\n",
      "\n",
      "Saving matrix...\n",
      "Stored in file:\n",
      "  /home/projects/semmetrix/mariana_wolken/cleanWorkflow//output//tokens/destroy/destroy.LEMMAREL2.PPMIno.tcmx.weight.pac\n",
      "\n",
      "Saving matrix...\n",
      "Stored in file:\n",
      "  /home/projects/semmetrix/mariana_wolken/cleanWorkflow//output//tokens/destroy/destroy.LEMMAREL2.PPMIselection.tcmx.weight.pac\n",
      "\n",
      "Saving matrix...\n",
      "Stored in file:\n",
      "  /home/projects/semmetrix/mariana_wolken/cleanWorkflow//output//tokens/destroy/destroy.LEMMAREL2.PPMIweight.tcmx.weight.pac\n",
      "\n",
      "Saving matrix...\n",
      "Stored in file:\n",
      "  /home/projects/semmetrix/mariana_wolken/cleanWorkflow//output//tokens/destroy/destroy.LEMMAPATH2.PPMIno.tcmx.weight.pac\n",
      "\n",
      "Saving matrix...\n",
      "Stored in file:\n",
      "  /home/projects/semmetrix/mariana_wolken/cleanWorkflow//output//tokens/destroy/destroy.LEMMAPATH2.PPMIselection.tcmx.weight.pac\n",
      "\n",
      "Saving matrix...\n",
      "Stored in file:\n",
      "  /home/projects/semmetrix/mariana_wolken/cleanWorkflow//output//tokens/destroy/destroy.LEMMAPATH2.PPMIweight.tcmx.weight.pac\n",
      "\n",
      "Saving matrix...\n",
      "Stored in file:\n",
      "  /home/projects/semmetrix/mariana_wolken/cleanWorkflow//output//tokens/destroy/destroy.LEMMAPATH3.PPMIno.tcmx.weight.pac\n",
      "\n",
      "Saving matrix...\n",
      "Stored in file:\n",
      "  /home/projects/semmetrix/mariana_wolken/cleanWorkflow//output//tokens/destroy/destroy.LEMMAPATH3.PPMIselection.tcmx.weight.pac\n",
      "\n",
      "Saving matrix...\n",
      "Stored in file:\n",
      "  /home/projects/semmetrix/mariana_wolken/cleanWorkflow//output//tokens/destroy/destroy.LEMMAPATH3.PPMIweight.tcmx.weight.pac\n",
      "\n",
      "Saving matrix...\n",
      "Stored in file:\n",
      "  /home/projects/semmetrix/mariana_wolken/cleanWorkflow//output//tokens/destroy/destroy.LEMMAPATHweight.PPMIno.tcmx.weight.pac\n",
      "\n",
      "Saving matrix...\n",
      "Stored in file:\n",
      "  /home/projects/semmetrix/mariana_wolken/cleanWorkflow//output//tokens/destroy/destroy.LEMMAPATHweight.PPMIselection.tcmx.weight.pac\n",
      "\n",
      "Saving matrix...\n",
      "Stored in file:\n",
      "  /home/projects/semmetrix/mariana_wolken/cleanWorkflow//output//tokens/destroy/destroy.LEMMAPATHweight.PPMIweight.tcmx.weight.pac\n"
     ]
    }
   ],
   "source": [
    "weight_data = weightTokens(token_dir, weighting, registers)"
   ]
  },
  {
   "cell_type": "code",
   "execution_count": 36,
   "metadata": {
    "scrolled": true
   },
   "outputs": [
    {
     "data": {
      "text/html": [
       "<div>\n",
       "<style scoped>\n",
       "    .dataframe tbody tr th:only-of-type {\n",
       "        vertical-align: middle;\n",
       "    }\n",
       "\n",
       "    .dataframe tbody tr th {\n",
       "        vertical-align: top;\n",
       "    }\n",
       "\n",
       "    .dataframe thead th {\n",
       "        text-align: right;\n",
       "    }\n",
       "</style>\n",
       "<table border=\"1\" class=\"dataframe\">\n",
       "  <thead>\n",
       "    <tr style=\"text-align: right;\">\n",
       "      <th></th>\n",
       "      <th>LEMMAPATH</th>\n",
       "      <th>LEMMAREL</th>\n",
       "      <th>bound</th>\n",
       "      <th>foc_base</th>\n",
       "      <th>foc_context_words</th>\n",
       "      <th>foc_pmi</th>\n",
       "      <th>foc_pos</th>\n",
       "      <th>foc_win</th>\n",
       "      <th>tokens</th>\n",
       "    </tr>\n",
       "  </thead>\n",
       "  <tbody>\n",
       "    <tr>\n",
       "      <th>destroy.LEMMAPATH2.PPMIno</th>\n",
       "      <td>LEMMAPATH2</td>\n",
       "      <td>NaN</td>\n",
       "      <td>NaN</td>\n",
       "      <td>LEMMAPATH</td>\n",
       "      <td>172</td>\n",
       "      <td>no</td>\n",
       "      <td>NaN</td>\n",
       "      <td>NaN</td>\n",
       "      <td>60</td>\n",
       "    </tr>\n",
       "    <tr>\n",
       "      <th>destroy.LEMMAPATH2.PPMIselection</th>\n",
       "      <td>LEMMAPATH2</td>\n",
       "      <td>NaN</td>\n",
       "      <td>NaN</td>\n",
       "      <td>LEMMAPATH</td>\n",
       "      <td>132</td>\n",
       "      <td>selection</td>\n",
       "      <td>NaN</td>\n",
       "      <td>NaN</td>\n",
       "      <td>60</td>\n",
       "    </tr>\n",
       "    <tr>\n",
       "      <th>destroy.LEMMAPATH2.PPMIweight</th>\n",
       "      <td>LEMMAPATH2</td>\n",
       "      <td>NaN</td>\n",
       "      <td>NaN</td>\n",
       "      <td>LEMMAPATH</td>\n",
       "      <td>132</td>\n",
       "      <td>weight</td>\n",
       "      <td>NaN</td>\n",
       "      <td>NaN</td>\n",
       "      <td>60</td>\n",
       "    </tr>\n",
       "    <tr>\n",
       "      <th>destroy.LEMMAPATH3.PPMIno</th>\n",
       "      <td>LEMMAPATH3</td>\n",
       "      <td>NaN</td>\n",
       "      <td>NaN</td>\n",
       "      <td>LEMMAPATH</td>\n",
       "      <td>250</td>\n",
       "      <td>no</td>\n",
       "      <td>NaN</td>\n",
       "      <td>NaN</td>\n",
       "      <td>58</td>\n",
       "    </tr>\n",
       "    <tr>\n",
       "      <th>destroy.LEMMAPATH3.PPMIselection</th>\n",
       "      <td>LEMMAPATH3</td>\n",
       "      <td>NaN</td>\n",
       "      <td>NaN</td>\n",
       "      <td>LEMMAPATH</td>\n",
       "      <td>184</td>\n",
       "      <td>selection</td>\n",
       "      <td>NaN</td>\n",
       "      <td>NaN</td>\n",
       "      <td>58</td>\n",
       "    </tr>\n",
       "    <tr>\n",
       "      <th>destroy.LEMMAPATH3.PPMIweight</th>\n",
       "      <td>LEMMAPATH3</td>\n",
       "      <td>NaN</td>\n",
       "      <td>NaN</td>\n",
       "      <td>LEMMAPATH</td>\n",
       "      <td>184</td>\n",
       "      <td>weight</td>\n",
       "      <td>NaN</td>\n",
       "      <td>NaN</td>\n",
       "      <td>58</td>\n",
       "    </tr>\n",
       "    <tr>\n",
       "      <th>destroy.LEMMAPATHweight.PPMIno</th>\n",
       "      <td>LEMMAPATHweight</td>\n",
       "      <td>NaN</td>\n",
       "      <td>NaN</td>\n",
       "      <td>LEMMAPATH</td>\n",
       "      <td>250</td>\n",
       "      <td>no</td>\n",
       "      <td>NaN</td>\n",
       "      <td>NaN</td>\n",
       "      <td>58</td>\n",
       "    </tr>\n",
       "    <tr>\n",
       "      <th>destroy.LEMMAPATHweight.PPMIselection</th>\n",
       "      <td>LEMMAPATHweight</td>\n",
       "      <td>NaN</td>\n",
       "      <td>NaN</td>\n",
       "      <td>LEMMAPATH</td>\n",
       "      <td>184</td>\n",
       "      <td>selection</td>\n",
       "      <td>NaN</td>\n",
       "      <td>NaN</td>\n",
       "      <td>58</td>\n",
       "    </tr>\n",
       "    <tr>\n",
       "      <th>destroy.LEMMAPATHweight.PPMIweight</th>\n",
       "      <td>LEMMAPATHweight</td>\n",
       "      <td>NaN</td>\n",
       "      <td>NaN</td>\n",
       "      <td>LEMMAPATH</td>\n",
       "      <td>184</td>\n",
       "      <td>weight</td>\n",
       "      <td>NaN</td>\n",
       "      <td>NaN</td>\n",
       "      <td>58</td>\n",
       "    </tr>\n",
       "    <tr>\n",
       "      <th>destroy.LEMMAREL1.PPMIno</th>\n",
       "      <td>NaN</td>\n",
       "      <td>LEMMAREL1</td>\n",
       "      <td>NaN</td>\n",
       "      <td>LEMMAREL</td>\n",
       "      <td>97</td>\n",
       "      <td>no</td>\n",
       "      <td>NaN</td>\n",
       "      <td>NaN</td>\n",
       "      <td>55</td>\n",
       "    </tr>\n",
       "    <tr>\n",
       "      <th>destroy.LEMMAREL1.PPMIselection</th>\n",
       "      <td>NaN</td>\n",
       "      <td>LEMMAREL1</td>\n",
       "      <td>NaN</td>\n",
       "      <td>LEMMAREL</td>\n",
       "      <td>72</td>\n",
       "      <td>selection</td>\n",
       "      <td>NaN</td>\n",
       "      <td>NaN</td>\n",
       "      <td>50</td>\n",
       "    </tr>\n",
       "    <tr>\n",
       "      <th>destroy.LEMMAREL1.PPMIweight</th>\n",
       "      <td>NaN</td>\n",
       "      <td>LEMMAREL1</td>\n",
       "      <td>NaN</td>\n",
       "      <td>LEMMAREL</td>\n",
       "      <td>72</td>\n",
       "      <td>weight</td>\n",
       "      <td>NaN</td>\n",
       "      <td>NaN</td>\n",
       "      <td>50</td>\n",
       "    </tr>\n",
       "    <tr>\n",
       "      <th>destroy.LEMMAREL2.PPMIno</th>\n",
       "      <td>NaN</td>\n",
       "      <td>LEMMAREL2</td>\n",
       "      <td>NaN</td>\n",
       "      <td>LEMMAREL</td>\n",
       "      <td>128</td>\n",
       "      <td>no</td>\n",
       "      <td>NaN</td>\n",
       "      <td>NaN</td>\n",
       "      <td>59</td>\n",
       "    </tr>\n",
       "    <tr>\n",
       "      <th>destroy.LEMMAREL2.PPMIselection</th>\n",
       "      <td>NaN</td>\n",
       "      <td>LEMMAREL2</td>\n",
       "      <td>NaN</td>\n",
       "      <td>LEMMAREL</td>\n",
       "      <td>97</td>\n",
       "      <td>selection</td>\n",
       "      <td>NaN</td>\n",
       "      <td>NaN</td>\n",
       "      <td>58</td>\n",
       "    </tr>\n",
       "    <tr>\n",
       "      <th>destroy.LEMMAREL2.PPMIweight</th>\n",
       "      <td>NaN</td>\n",
       "      <td>LEMMAREL2</td>\n",
       "      <td>NaN</td>\n",
       "      <td>LEMMAREL</td>\n",
       "      <td>97</td>\n",
       "      <td>weight</td>\n",
       "      <td>NaN</td>\n",
       "      <td>NaN</td>\n",
       "      <td>58</td>\n",
       "    </tr>\n",
       "    <tr>\n",
       "      <th>destroy.bound10-10all.PPMIno</th>\n",
       "      <td>NaN</td>\n",
       "      <td>NaN</td>\n",
       "      <td>True</td>\n",
       "      <td>BOW</td>\n",
       "      <td>354</td>\n",
       "      <td>no</td>\n",
       "      <td>all</td>\n",
       "      <td>10-10</td>\n",
       "      <td>60</td>\n",
       "    </tr>\n",
       "    <tr>\n",
       "      <th>destroy.bound10-10all.PPMIselection</th>\n",
       "      <td>NaN</td>\n",
       "      <td>NaN</td>\n",
       "      <td>True</td>\n",
       "      <td>BOW</td>\n",
       "      <td>247</td>\n",
       "      <td>selection</td>\n",
       "      <td>all</td>\n",
       "      <td>10-10</td>\n",
       "      <td>60</td>\n",
       "    </tr>\n",
       "    <tr>\n",
       "      <th>destroy.bound10-10all.PPMIweight</th>\n",
       "      <td>NaN</td>\n",
       "      <td>NaN</td>\n",
       "      <td>True</td>\n",
       "      <td>BOW</td>\n",
       "      <td>247</td>\n",
       "      <td>weight</td>\n",
       "      <td>all</td>\n",
       "      <td>10-10</td>\n",
       "      <td>60</td>\n",
       "    </tr>\n",
       "    <tr>\n",
       "      <th>destroy.bound10-10lex.PPMIno</th>\n",
       "      <td>NaN</td>\n",
       "      <td>NaN</td>\n",
       "      <td>True</td>\n",
       "      <td>BOW</td>\n",
       "      <td>249</td>\n",
       "      <td>no</td>\n",
       "      <td>lex</td>\n",
       "      <td>10-10</td>\n",
       "      <td>60</td>\n",
       "    </tr>\n",
       "    <tr>\n",
       "      <th>destroy.bound10-10lex.PPMIselection</th>\n",
       "      <td>NaN</td>\n",
       "      <td>NaN</td>\n",
       "      <td>True</td>\n",
       "      <td>BOW</td>\n",
       "      <td>179</td>\n",
       "      <td>selection</td>\n",
       "      <td>lex</td>\n",
       "      <td>10-10</td>\n",
       "      <td>60</td>\n",
       "    </tr>\n",
       "    <tr>\n",
       "      <th>destroy.bound10-10lex.PPMIweight</th>\n",
       "      <td>NaN</td>\n",
       "      <td>NaN</td>\n",
       "      <td>True</td>\n",
       "      <td>BOW</td>\n",
       "      <td>179</td>\n",
       "      <td>weight</td>\n",
       "      <td>lex</td>\n",
       "      <td>10-10</td>\n",
       "      <td>60</td>\n",
       "    </tr>\n",
       "    <tr>\n",
       "      <th>destroy.bound3-3all.PPMIno</th>\n",
       "      <td>NaN</td>\n",
       "      <td>NaN</td>\n",
       "      <td>True</td>\n",
       "      <td>BOW</td>\n",
       "      <td>146</td>\n",
       "      <td>no</td>\n",
       "      <td>all</td>\n",
       "      <td>3-3</td>\n",
       "      <td>60</td>\n",
       "    </tr>\n",
       "    <tr>\n",
       "      <th>destroy.bound3-3all.PPMIselection</th>\n",
       "      <td>NaN</td>\n",
       "      <td>NaN</td>\n",
       "      <td>True</td>\n",
       "      <td>BOW</td>\n",
       "      <td>118</td>\n",
       "      <td>selection</td>\n",
       "      <td>all</td>\n",
       "      <td>3-3</td>\n",
       "      <td>60</td>\n",
       "    </tr>\n",
       "    <tr>\n",
       "      <th>destroy.bound3-3all.PPMIweight</th>\n",
       "      <td>NaN</td>\n",
       "      <td>NaN</td>\n",
       "      <td>True</td>\n",
       "      <td>BOW</td>\n",
       "      <td>118</td>\n",
       "      <td>weight</td>\n",
       "      <td>all</td>\n",
       "      <td>3-3</td>\n",
       "      <td>60</td>\n",
       "    </tr>\n",
       "    <tr>\n",
       "      <th>destroy.bound3-3lex.PPMIno</th>\n",
       "      <td>NaN</td>\n",
       "      <td>NaN</td>\n",
       "      <td>True</td>\n",
       "      <td>BOW</td>\n",
       "      <td>100</td>\n",
       "      <td>no</td>\n",
       "      <td>lex</td>\n",
       "      <td>3-3</td>\n",
       "      <td>60</td>\n",
       "    </tr>\n",
       "    <tr>\n",
       "      <th>destroy.bound3-3lex.PPMIselection</th>\n",
       "      <td>NaN</td>\n",
       "      <td>NaN</td>\n",
       "      <td>True</td>\n",
       "      <td>BOW</td>\n",
       "      <td>86</td>\n",
       "      <td>selection</td>\n",
       "      <td>lex</td>\n",
       "      <td>3-3</td>\n",
       "      <td>55</td>\n",
       "    </tr>\n",
       "    <tr>\n",
       "      <th>destroy.bound3-3lex.PPMIweight</th>\n",
       "      <td>NaN</td>\n",
       "      <td>NaN</td>\n",
       "      <td>True</td>\n",
       "      <td>BOW</td>\n",
       "      <td>86</td>\n",
       "      <td>weight</td>\n",
       "      <td>lex</td>\n",
       "      <td>3-3</td>\n",
       "      <td>55</td>\n",
       "    </tr>\n",
       "    <tr>\n",
       "      <th>destroy.bound5-5all.PPMIno</th>\n",
       "      <td>NaN</td>\n",
       "      <td>NaN</td>\n",
       "      <td>True</td>\n",
       "      <td>BOW</td>\n",
       "      <td>224</td>\n",
       "      <td>no</td>\n",
       "      <td>all</td>\n",
       "      <td>5-5</td>\n",
       "      <td>60</td>\n",
       "    </tr>\n",
       "    <tr>\n",
       "      <th>destroy.bound5-5all.PPMIselection</th>\n",
       "      <td>NaN</td>\n",
       "      <td>NaN</td>\n",
       "      <td>True</td>\n",
       "      <td>BOW</td>\n",
       "      <td>169</td>\n",
       "      <td>selection</td>\n",
       "      <td>all</td>\n",
       "      <td>5-5</td>\n",
       "      <td>60</td>\n",
       "    </tr>\n",
       "    <tr>\n",
       "      <th>destroy.bound5-5all.PPMIweight</th>\n",
       "      <td>NaN</td>\n",
       "      <td>NaN</td>\n",
       "      <td>True</td>\n",
       "      <td>BOW</td>\n",
       "      <td>169</td>\n",
       "      <td>weight</td>\n",
       "      <td>all</td>\n",
       "      <td>5-5</td>\n",
       "      <td>60</td>\n",
       "    </tr>\n",
       "    <tr>\n",
       "      <th>destroy.bound5-5lex.PPMIno</th>\n",
       "      <td>NaN</td>\n",
       "      <td>NaN</td>\n",
       "      <td>True</td>\n",
       "      <td>BOW</td>\n",
       "      <td>156</td>\n",
       "      <td>no</td>\n",
       "      <td>lex</td>\n",
       "      <td>5-5</td>\n",
       "      <td>60</td>\n",
       "    </tr>\n",
       "    <tr>\n",
       "      <th>destroy.bound5-5lex.PPMIselection</th>\n",
       "      <td>NaN</td>\n",
       "      <td>NaN</td>\n",
       "      <td>True</td>\n",
       "      <td>BOW</td>\n",
       "      <td>125</td>\n",
       "      <td>selection</td>\n",
       "      <td>lex</td>\n",
       "      <td>5-5</td>\n",
       "      <td>59</td>\n",
       "    </tr>\n",
       "    <tr>\n",
       "      <th>destroy.bound5-5lex.PPMIweight</th>\n",
       "      <td>NaN</td>\n",
       "      <td>NaN</td>\n",
       "      <td>True</td>\n",
       "      <td>BOW</td>\n",
       "      <td>125</td>\n",
       "      <td>weight</td>\n",
       "      <td>lex</td>\n",
       "      <td>5-5</td>\n",
       "      <td>59</td>\n",
       "    </tr>\n",
       "    <tr>\n",
       "      <th>destroy.nobound10-10all.PPMIno</th>\n",
       "      <td>NaN</td>\n",
       "      <td>NaN</td>\n",
       "      <td>False</td>\n",
       "      <td>BOW</td>\n",
       "      <td>500</td>\n",
       "      <td>no</td>\n",
       "      <td>all</td>\n",
       "      <td>10-10</td>\n",
       "      <td>60</td>\n",
       "    </tr>\n",
       "    <tr>\n",
       "      <th>destroy.nobound10-10all.PPMIselection</th>\n",
       "      <td>NaN</td>\n",
       "      <td>NaN</td>\n",
       "      <td>False</td>\n",
       "      <td>BOW</td>\n",
       "      <td>333</td>\n",
       "      <td>selection</td>\n",
       "      <td>all</td>\n",
       "      <td>10-10</td>\n",
       "      <td>60</td>\n",
       "    </tr>\n",
       "    <tr>\n",
       "      <th>destroy.nobound10-10all.PPMIweight</th>\n",
       "      <td>NaN</td>\n",
       "      <td>NaN</td>\n",
       "      <td>False</td>\n",
       "      <td>BOW</td>\n",
       "      <td>333</td>\n",
       "      <td>weight</td>\n",
       "      <td>all</td>\n",
       "      <td>10-10</td>\n",
       "      <td>60</td>\n",
       "    </tr>\n",
       "    <tr>\n",
       "      <th>destroy.nobound10-10lex.PPMIno</th>\n",
       "      <td>NaN</td>\n",
       "      <td>NaN</td>\n",
       "      <td>False</td>\n",
       "      <td>BOW</td>\n",
       "      <td>349</td>\n",
       "      <td>no</td>\n",
       "      <td>lex</td>\n",
       "      <td>10-10</td>\n",
       "      <td>60</td>\n",
       "    </tr>\n",
       "    <tr>\n",
       "      <th>destroy.nobound10-10lex.PPMIselection</th>\n",
       "      <td>NaN</td>\n",
       "      <td>NaN</td>\n",
       "      <td>False</td>\n",
       "      <td>BOW</td>\n",
       "      <td>240</td>\n",
       "      <td>selection</td>\n",
       "      <td>lex</td>\n",
       "      <td>10-10</td>\n",
       "      <td>60</td>\n",
       "    </tr>\n",
       "    <tr>\n",
       "      <th>destroy.nobound10-10lex.PPMIweight</th>\n",
       "      <td>NaN</td>\n",
       "      <td>NaN</td>\n",
       "      <td>False</td>\n",
       "      <td>BOW</td>\n",
       "      <td>240</td>\n",
       "      <td>weight</td>\n",
       "      <td>lex</td>\n",
       "      <td>10-10</td>\n",
       "      <td>60</td>\n",
       "    </tr>\n",
       "    <tr>\n",
       "      <th>destroy.nobound3-3all.PPMIno</th>\n",
       "      <td>NaN</td>\n",
       "      <td>NaN</td>\n",
       "      <td>False</td>\n",
       "      <td>BOW</td>\n",
       "      <td>178</td>\n",
       "      <td>no</td>\n",
       "      <td>all</td>\n",
       "      <td>3-3</td>\n",
       "      <td>60</td>\n",
       "    </tr>\n",
       "    <tr>\n",
       "      <th>destroy.nobound3-3all.PPMIselection</th>\n",
       "      <td>NaN</td>\n",
       "      <td>NaN</td>\n",
       "      <td>False</td>\n",
       "      <td>BOW</td>\n",
       "      <td>144</td>\n",
       "      <td>selection</td>\n",
       "      <td>all</td>\n",
       "      <td>3-3</td>\n",
       "      <td>60</td>\n",
       "    </tr>\n",
       "    <tr>\n",
       "      <th>destroy.nobound3-3all.PPMIweight</th>\n",
       "      <td>NaN</td>\n",
       "      <td>NaN</td>\n",
       "      <td>False</td>\n",
       "      <td>BOW</td>\n",
       "      <td>144</td>\n",
       "      <td>weight</td>\n",
       "      <td>all</td>\n",
       "      <td>3-3</td>\n",
       "      <td>60</td>\n",
       "    </tr>\n",
       "    <tr>\n",
       "      <th>destroy.nobound3-3lex.PPMIno</th>\n",
       "      <td>NaN</td>\n",
       "      <td>NaN</td>\n",
       "      <td>False</td>\n",
       "      <td>BOW</td>\n",
       "      <td>115</td>\n",
       "      <td>no</td>\n",
       "      <td>lex</td>\n",
       "      <td>3-3</td>\n",
       "      <td>60</td>\n",
       "    </tr>\n",
       "    <tr>\n",
       "      <th>destroy.nobound3-3lex.PPMIselection</th>\n",
       "      <td>NaN</td>\n",
       "      <td>NaN</td>\n",
       "      <td>False</td>\n",
       "      <td>BOW</td>\n",
       "      <td>96</td>\n",
       "      <td>selection</td>\n",
       "      <td>lex</td>\n",
       "      <td>3-3</td>\n",
       "      <td>55</td>\n",
       "    </tr>\n",
       "    <tr>\n",
       "      <th>destroy.nobound3-3lex.PPMIweight</th>\n",
       "      <td>NaN</td>\n",
       "      <td>NaN</td>\n",
       "      <td>False</td>\n",
       "      <td>BOW</td>\n",
       "      <td>96</td>\n",
       "      <td>weight</td>\n",
       "      <td>lex</td>\n",
       "      <td>3-3</td>\n",
       "      <td>55</td>\n",
       "    </tr>\n",
       "    <tr>\n",
       "      <th>destroy.nobound5-5all.PPMIno</th>\n",
       "      <td>NaN</td>\n",
       "      <td>NaN</td>\n",
       "      <td>False</td>\n",
       "      <td>BOW</td>\n",
       "      <td>283</td>\n",
       "      <td>no</td>\n",
       "      <td>all</td>\n",
       "      <td>5-5</td>\n",
       "      <td>60</td>\n",
       "    </tr>\n",
       "    <tr>\n",
       "      <th>destroy.nobound5-5all.PPMIselection</th>\n",
       "      <td>NaN</td>\n",
       "      <td>NaN</td>\n",
       "      <td>False</td>\n",
       "      <td>BOW</td>\n",
       "      <td>215</td>\n",
       "      <td>selection</td>\n",
       "      <td>all</td>\n",
       "      <td>5-5</td>\n",
       "      <td>60</td>\n",
       "    </tr>\n",
       "    <tr>\n",
       "      <th>destroy.nobound5-5all.PPMIweight</th>\n",
       "      <td>NaN</td>\n",
       "      <td>NaN</td>\n",
       "      <td>False</td>\n",
       "      <td>BOW</td>\n",
       "      <td>215</td>\n",
       "      <td>weight</td>\n",
       "      <td>all</td>\n",
       "      <td>5-5</td>\n",
       "      <td>60</td>\n",
       "    </tr>\n",
       "    <tr>\n",
       "      <th>destroy.nobound5-5lex.PPMIno</th>\n",
       "      <td>NaN</td>\n",
       "      <td>NaN</td>\n",
       "      <td>False</td>\n",
       "      <td>BOW</td>\n",
       "      <td>194</td>\n",
       "      <td>no</td>\n",
       "      <td>lex</td>\n",
       "      <td>5-5</td>\n",
       "      <td>60</td>\n",
       "    </tr>\n",
       "    <tr>\n",
       "      <th>destroy.nobound5-5lex.PPMIselection</th>\n",
       "      <td>NaN</td>\n",
       "      <td>NaN</td>\n",
       "      <td>False</td>\n",
       "      <td>BOW</td>\n",
       "      <td>153</td>\n",
       "      <td>selection</td>\n",
       "      <td>lex</td>\n",
       "      <td>5-5</td>\n",
       "      <td>59</td>\n",
       "    </tr>\n",
       "    <tr>\n",
       "      <th>destroy.nobound5-5lex.PPMIweight</th>\n",
       "      <td>NaN</td>\n",
       "      <td>NaN</td>\n",
       "      <td>False</td>\n",
       "      <td>BOW</td>\n",
       "      <td>153</td>\n",
       "      <td>weight</td>\n",
       "      <td>lex</td>\n",
       "      <td>5-5</td>\n",
       "      <td>59</td>\n",
       "    </tr>\n",
       "  </tbody>\n",
       "</table>\n",
       "</div>"
      ],
      "text/plain": [
       "                                             LEMMAPATH   LEMMAREL  bound  \\\n",
       "destroy.LEMMAPATH2.PPMIno                   LEMMAPATH2        NaN    NaN   \n",
       "destroy.LEMMAPATH2.PPMIselection            LEMMAPATH2        NaN    NaN   \n",
       "destroy.LEMMAPATH2.PPMIweight               LEMMAPATH2        NaN    NaN   \n",
       "destroy.LEMMAPATH3.PPMIno                   LEMMAPATH3        NaN    NaN   \n",
       "destroy.LEMMAPATH3.PPMIselection            LEMMAPATH3        NaN    NaN   \n",
       "destroy.LEMMAPATH3.PPMIweight               LEMMAPATH3        NaN    NaN   \n",
       "destroy.LEMMAPATHweight.PPMIno         LEMMAPATHweight        NaN    NaN   \n",
       "destroy.LEMMAPATHweight.PPMIselection  LEMMAPATHweight        NaN    NaN   \n",
       "destroy.LEMMAPATHweight.PPMIweight     LEMMAPATHweight        NaN    NaN   \n",
       "destroy.LEMMAREL1.PPMIno                           NaN  LEMMAREL1    NaN   \n",
       "destroy.LEMMAREL1.PPMIselection                    NaN  LEMMAREL1    NaN   \n",
       "destroy.LEMMAREL1.PPMIweight                       NaN  LEMMAREL1    NaN   \n",
       "destroy.LEMMAREL2.PPMIno                           NaN  LEMMAREL2    NaN   \n",
       "destroy.LEMMAREL2.PPMIselection                    NaN  LEMMAREL2    NaN   \n",
       "destroy.LEMMAREL2.PPMIweight                       NaN  LEMMAREL2    NaN   \n",
       "destroy.bound10-10all.PPMIno                       NaN        NaN   True   \n",
       "destroy.bound10-10all.PPMIselection                NaN        NaN   True   \n",
       "destroy.bound10-10all.PPMIweight                   NaN        NaN   True   \n",
       "destroy.bound10-10lex.PPMIno                       NaN        NaN   True   \n",
       "destroy.bound10-10lex.PPMIselection                NaN        NaN   True   \n",
       "destroy.bound10-10lex.PPMIweight                   NaN        NaN   True   \n",
       "destroy.bound3-3all.PPMIno                         NaN        NaN   True   \n",
       "destroy.bound3-3all.PPMIselection                  NaN        NaN   True   \n",
       "destroy.bound3-3all.PPMIweight                     NaN        NaN   True   \n",
       "destroy.bound3-3lex.PPMIno                         NaN        NaN   True   \n",
       "destroy.bound3-3lex.PPMIselection                  NaN        NaN   True   \n",
       "destroy.bound3-3lex.PPMIweight                     NaN        NaN   True   \n",
       "destroy.bound5-5all.PPMIno                         NaN        NaN   True   \n",
       "destroy.bound5-5all.PPMIselection                  NaN        NaN   True   \n",
       "destroy.bound5-5all.PPMIweight                     NaN        NaN   True   \n",
       "destroy.bound5-5lex.PPMIno                         NaN        NaN   True   \n",
       "destroy.bound5-5lex.PPMIselection                  NaN        NaN   True   \n",
       "destroy.bound5-5lex.PPMIweight                     NaN        NaN   True   \n",
       "destroy.nobound10-10all.PPMIno                     NaN        NaN  False   \n",
       "destroy.nobound10-10all.PPMIselection              NaN        NaN  False   \n",
       "destroy.nobound10-10all.PPMIweight                 NaN        NaN  False   \n",
       "destroy.nobound10-10lex.PPMIno                     NaN        NaN  False   \n",
       "destroy.nobound10-10lex.PPMIselection              NaN        NaN  False   \n",
       "destroy.nobound10-10lex.PPMIweight                 NaN        NaN  False   \n",
       "destroy.nobound3-3all.PPMIno                       NaN        NaN  False   \n",
       "destroy.nobound3-3all.PPMIselection                NaN        NaN  False   \n",
       "destroy.nobound3-3all.PPMIweight                   NaN        NaN  False   \n",
       "destroy.nobound3-3lex.PPMIno                       NaN        NaN  False   \n",
       "destroy.nobound3-3lex.PPMIselection                NaN        NaN  False   \n",
       "destroy.nobound3-3lex.PPMIweight                   NaN        NaN  False   \n",
       "destroy.nobound5-5all.PPMIno                       NaN        NaN  False   \n",
       "destroy.nobound5-5all.PPMIselection                NaN        NaN  False   \n",
       "destroy.nobound5-5all.PPMIweight                   NaN        NaN  False   \n",
       "destroy.nobound5-5lex.PPMIno                       NaN        NaN  False   \n",
       "destroy.nobound5-5lex.PPMIselection                NaN        NaN  False   \n",
       "destroy.nobound5-5lex.PPMIweight                   NaN        NaN  False   \n",
       "\n",
       "                                        foc_base foc_context_words    foc_pmi  \\\n",
       "destroy.LEMMAPATH2.PPMIno              LEMMAPATH               172         no   \n",
       "destroy.LEMMAPATH2.PPMIselection       LEMMAPATH               132  selection   \n",
       "destroy.LEMMAPATH2.PPMIweight          LEMMAPATH               132     weight   \n",
       "destroy.LEMMAPATH3.PPMIno              LEMMAPATH               250         no   \n",
       "destroy.LEMMAPATH3.PPMIselection       LEMMAPATH               184  selection   \n",
       "destroy.LEMMAPATH3.PPMIweight          LEMMAPATH               184     weight   \n",
       "destroy.LEMMAPATHweight.PPMIno         LEMMAPATH               250         no   \n",
       "destroy.LEMMAPATHweight.PPMIselection  LEMMAPATH               184  selection   \n",
       "destroy.LEMMAPATHweight.PPMIweight     LEMMAPATH               184     weight   \n",
       "destroy.LEMMAREL1.PPMIno                LEMMAREL                97         no   \n",
       "destroy.LEMMAREL1.PPMIselection         LEMMAREL                72  selection   \n",
       "destroy.LEMMAREL1.PPMIweight            LEMMAREL                72     weight   \n",
       "destroy.LEMMAREL2.PPMIno                LEMMAREL               128         no   \n",
       "destroy.LEMMAREL2.PPMIselection         LEMMAREL                97  selection   \n",
       "destroy.LEMMAREL2.PPMIweight            LEMMAREL                97     weight   \n",
       "destroy.bound10-10all.PPMIno                 BOW               354         no   \n",
       "destroy.bound10-10all.PPMIselection          BOW               247  selection   \n",
       "destroy.bound10-10all.PPMIweight             BOW               247     weight   \n",
       "destroy.bound10-10lex.PPMIno                 BOW               249         no   \n",
       "destroy.bound10-10lex.PPMIselection          BOW               179  selection   \n",
       "destroy.bound10-10lex.PPMIweight             BOW               179     weight   \n",
       "destroy.bound3-3all.PPMIno                   BOW               146         no   \n",
       "destroy.bound3-3all.PPMIselection            BOW               118  selection   \n",
       "destroy.bound3-3all.PPMIweight               BOW               118     weight   \n",
       "destroy.bound3-3lex.PPMIno                   BOW               100         no   \n",
       "destroy.bound3-3lex.PPMIselection            BOW                86  selection   \n",
       "destroy.bound3-3lex.PPMIweight               BOW                86     weight   \n",
       "destroy.bound5-5all.PPMIno                   BOW               224         no   \n",
       "destroy.bound5-5all.PPMIselection            BOW               169  selection   \n",
       "destroy.bound5-5all.PPMIweight               BOW               169     weight   \n",
       "destroy.bound5-5lex.PPMIno                   BOW               156         no   \n",
       "destroy.bound5-5lex.PPMIselection            BOW               125  selection   \n",
       "destroy.bound5-5lex.PPMIweight               BOW               125     weight   \n",
       "destroy.nobound10-10all.PPMIno               BOW               500         no   \n",
       "destroy.nobound10-10all.PPMIselection        BOW               333  selection   \n",
       "destroy.nobound10-10all.PPMIweight           BOW               333     weight   \n",
       "destroy.nobound10-10lex.PPMIno               BOW               349         no   \n",
       "destroy.nobound10-10lex.PPMIselection        BOW               240  selection   \n",
       "destroy.nobound10-10lex.PPMIweight           BOW               240     weight   \n",
       "destroy.nobound3-3all.PPMIno                 BOW               178         no   \n",
       "destroy.nobound3-3all.PPMIselection          BOW               144  selection   \n",
       "destroy.nobound3-3all.PPMIweight             BOW               144     weight   \n",
       "destroy.nobound3-3lex.PPMIno                 BOW               115         no   \n",
       "destroy.nobound3-3lex.PPMIselection          BOW                96  selection   \n",
       "destroy.nobound3-3lex.PPMIweight             BOW                96     weight   \n",
       "destroy.nobound5-5all.PPMIno                 BOW               283         no   \n",
       "destroy.nobound5-5all.PPMIselection          BOW               215  selection   \n",
       "destroy.nobound5-5all.PPMIweight             BOW               215     weight   \n",
       "destroy.nobound5-5lex.PPMIno                 BOW               194         no   \n",
       "destroy.nobound5-5lex.PPMIselection          BOW               153  selection   \n",
       "destroy.nobound5-5lex.PPMIweight             BOW               153     weight   \n",
       "\n",
       "                                      foc_pos foc_win tokens  \n",
       "destroy.LEMMAPATH2.PPMIno                 NaN     NaN     60  \n",
       "destroy.LEMMAPATH2.PPMIselection          NaN     NaN     60  \n",
       "destroy.LEMMAPATH2.PPMIweight             NaN     NaN     60  \n",
       "destroy.LEMMAPATH3.PPMIno                 NaN     NaN     58  \n",
       "destroy.LEMMAPATH3.PPMIselection          NaN     NaN     58  \n",
       "destroy.LEMMAPATH3.PPMIweight             NaN     NaN     58  \n",
       "destroy.LEMMAPATHweight.PPMIno            NaN     NaN     58  \n",
       "destroy.LEMMAPATHweight.PPMIselection     NaN     NaN     58  \n",
       "destroy.LEMMAPATHweight.PPMIweight        NaN     NaN     58  \n",
       "destroy.LEMMAREL1.PPMIno                  NaN     NaN     55  \n",
       "destroy.LEMMAREL1.PPMIselection           NaN     NaN     50  \n",
       "destroy.LEMMAREL1.PPMIweight              NaN     NaN     50  \n",
       "destroy.LEMMAREL2.PPMIno                  NaN     NaN     59  \n",
       "destroy.LEMMAREL2.PPMIselection           NaN     NaN     58  \n",
       "destroy.LEMMAREL2.PPMIweight              NaN     NaN     58  \n",
       "destroy.bound10-10all.PPMIno              all   10-10     60  \n",
       "destroy.bound10-10all.PPMIselection       all   10-10     60  \n",
       "destroy.bound10-10all.PPMIweight          all   10-10     60  \n",
       "destroy.bound10-10lex.PPMIno              lex   10-10     60  \n",
       "destroy.bound10-10lex.PPMIselection       lex   10-10     60  \n",
       "destroy.bound10-10lex.PPMIweight          lex   10-10     60  \n",
       "destroy.bound3-3all.PPMIno                all     3-3     60  \n",
       "destroy.bound3-3all.PPMIselection         all     3-3     60  \n",
       "destroy.bound3-3all.PPMIweight            all     3-3     60  \n",
       "destroy.bound3-3lex.PPMIno                lex     3-3     60  \n",
       "destroy.bound3-3lex.PPMIselection         lex     3-3     55  \n",
       "destroy.bound3-3lex.PPMIweight            lex     3-3     55  \n",
       "destroy.bound5-5all.PPMIno                all     5-5     60  \n",
       "destroy.bound5-5all.PPMIselection         all     5-5     60  \n",
       "destroy.bound5-5all.PPMIweight            all     5-5     60  \n",
       "destroy.bound5-5lex.PPMIno                lex     5-5     60  \n",
       "destroy.bound5-5lex.PPMIselection         lex     5-5     59  \n",
       "destroy.bound5-5lex.PPMIweight            lex     5-5     59  \n",
       "destroy.nobound10-10all.PPMIno            all   10-10     60  \n",
       "destroy.nobound10-10all.PPMIselection     all   10-10     60  \n",
       "destroy.nobound10-10all.PPMIweight        all   10-10     60  \n",
       "destroy.nobound10-10lex.PPMIno            lex   10-10     60  \n",
       "destroy.nobound10-10lex.PPMIselection     lex   10-10     60  \n",
       "destroy.nobound10-10lex.PPMIweight        lex   10-10     60  \n",
       "destroy.nobound3-3all.PPMIno              all     3-3     60  \n",
       "destroy.nobound3-3all.PPMIselection       all     3-3     60  \n",
       "destroy.nobound3-3all.PPMIweight          all     3-3     60  \n",
       "destroy.nobound3-3lex.PPMIno              lex     3-3     60  \n",
       "destroy.nobound3-3lex.PPMIselection       lex     3-3     55  \n",
       "destroy.nobound3-3lex.PPMIweight          lex     3-3     55  \n",
       "destroy.nobound5-5all.PPMIno              all     5-5     60  \n",
       "destroy.nobound5-5all.PPMIselection       all     5-5     60  \n",
       "destroy.nobound5-5all.PPMIweight          all     5-5     60  \n",
       "destroy.nobound5-5lex.PPMIno              lex     5-5     60  \n",
       "destroy.nobound5-5lex.PPMIselection       lex     5-5     59  \n",
       "destroy.nobound5-5lex.PPMIweight          lex     5-5     59  "
      ]
     },
     "execution_count": 36,
     "metadata": {},
     "output_type": "execute_result"
    }
   ],
   "source": [
    "# new model register\n",
    "weight_data[\"model_register\"]\n",
    "# weight_data[\"model_register\"].to_csv(f\"{output_path}/register/destroy.focmodels.tsv\", sep = '\\t', index_label = \"_model\")"
   ]
  },
  {
   "cell_type": "code",
   "execution_count": 37,
   "metadata": {
    "scrolled": true
   },
   "outputs": [],
   "source": [
    "# token_level register\n",
    "weight_data[\"token_register\"]\n",
    "github_type = f\"{github_dir}/{type_name}\"\n",
    "if not os.path.exists(github_type):\n",
    "    os.makedirs(github_type)\n",
    "    \n",
    "weight_data[\"token_register\"].to_csv(f\"{github_type}/{type_name}.variables.tsv\", sep = '\\t', index_label = \"_id\")"
   ]
  },
  {
   "cell_type": "code",
   "execution_count": 38,
   "metadata": {},
   "outputs": [],
   "source": [
    "# 11. On a loop per item, row weight models ================================\n",
    "# for type_name in adj_lemmas:\n",
    "#     foc_registers = loadFocRegisters(f\"{output_path}/registers\", type_name)\n",
    "#     weight_data = weightTokens(token_dir, weighting, registers)\n",
    "#     weight_data[\"model_register\"].to_csv(f\"{output_path}/register/{type_name}.focmodels.tsv\",\n",
    "#                                          index_label = \"_model\")\n",
    "#     github_type = f\"{github_dir}/{type_name}\"\n",
    "#     if not os.path.exists(github_type):\n",
    "#         os.makedirs(github_type)\n",
    "#     weight_data[\"token_register\"].to_csv(f\"{github_type}/{type_name}.focmodels.tsv\",\n",
    "#                                          index_label = \"_model\")"
   ]
  },
  {
   "cell_type": "markdown",
   "metadata": {},
   "source": [
    "### 5 Second-order dimensions"
   ]
  },
  {
   "cell_type": "markdown",
   "metadata": {},
   "source": [
    "The final step to obtain our token-level vectors is to multiply the token-foc matrices for type-level matrices to obtain second-order vectors. We will loop over the models in the index of `weight_data[\"model_register\"]` and over second-order parameter settings to filter `freqMTX_CW4` and obtain different models."
   ]
  },
  {
   "cell_type": "code",
   "execution_count": 39,
   "metadata": {},
   "outputs": [],
   "source": [
    "soc_pos = {\n",
    "    \"all\" : foc,\n",
    "    \"nav\" : soc\n",
    "}\n",
    "lengths = [\"FOC\", 5000] # a number will take the most frequent; something else will take the FOC items"
   ]
  },
  {
   "cell_type": "code",
   "execution_count": 40,
   "metadata": {},
   "outputs": [
    {
     "data": {
      "application/vnd.jupyter.widget-view+json": {
       "model_id": "0f2cae68ea964c6cb74228cd6b38a56f",
       "version_major": 2,
       "version_minor": 0
      },
      "text/plain": [
       "HBox(children=(IntProgress(value=0, max=24093), HTML(value='')))"
      ]
     },
     "metadata": {},
     "output_type": "display_data"
    },
    {
     "name": "stdout",
     "output_type": "stream",
     "text": [
      "\n",
      "\n",
      "************************************\n",
      "function    = compute_association\n",
      "  time      = 0.1729 sec\n",
      "************************************\n",
      "\n",
      "\n",
      "************************************\n",
      "function    = compute_distance\n",
      "  time      = 0.001491 sec\n",
      "************************************\n",
      "\n",
      "  Operation: addition 'token-feature weight matrix' X 'socc matrix'...\n",
      "\n",
      "Saving matrix...\n",
      "Stored in file:\n",
      "  /home/projects/semmetrix/mariana_wolken/cleanWorkflow//output//tokens/destroy/destroy.LEMMAPATH2.PPMIno.LENGTHFOC.SOCPOSall.tcmx.soc.pac\n"
     ]
    },
    {
     "data": {
      "application/vnd.jupyter.widget-view+json": {
       "model_id": "9982638e9e0c48cca18739eefa7bf732",
       "version_major": 2,
       "version_minor": 0
      },
      "text/plain": [
       "HBox(children=(IntProgress(value=0, max=655500), HTML(value='')))"
      ]
     },
     "metadata": {},
     "output_type": "display_data"
    },
    {
     "name": "stdout",
     "output_type": "stream",
     "text": [
      "\n",
      "\n",
      "************************************\n",
      "function    = compute_association\n",
      "  time      = 2.117 sec\n",
      "************************************\n",
      "\n",
      "\n",
      "************************************\n",
      "function    = compute_distance\n",
      "  time      = 0.007475 sec\n",
      "************************************\n",
      "\n",
      "  Operation: addition 'token-feature weight matrix' X 'socc matrix'...\n",
      "\n",
      "Saving matrix...\n",
      "Stored in file:\n",
      "  /home/projects/semmetrix/mariana_wolken/cleanWorkflow//output//tokens/destroy/destroy.LEMMAPATH2.PPMIno.LENGTH5000.SOCPOSall.tcmx.soc.pac\n"
     ]
    },
    {
     "data": {
      "application/vnd.jupyter.widget-view+json": {
       "model_id": "188e38f67d044fb5b8ebef4435716e47",
       "version_major": 2,
       "version_minor": 0
      },
      "text/plain": [
       "HBox(children=(IntProgress(value=0, max=12043), HTML(value='')))"
      ]
     },
     "metadata": {},
     "output_type": "display_data"
    },
    {
     "name": "stdout",
     "output_type": "stream",
     "text": [
      "\n",
      "\n",
      "************************************\n",
      "function    = compute_association\n",
      "  time      = 0.1125 sec\n",
      "************************************\n",
      "\n",
      "\n",
      "************************************\n",
      "function    = compute_distance\n",
      "  time      = 0.0008636 sec\n",
      "************************************\n",
      "\n",
      "  Operation: addition 'token-feature weight matrix' X 'socc matrix'...\n",
      "\n",
      "Saving matrix...\n",
      "Stored in file:\n",
      "  /home/projects/semmetrix/mariana_wolken/cleanWorkflow//output//tokens/destroy/destroy.LEMMAPATH2.PPMIno.LENGTHFOC.SOCPOSnav.tcmx.soc.pac\n"
     ]
    },
    {
     "data": {
      "application/vnd.jupyter.widget-view+json": {
       "model_id": "204a0458b7c64bd882d96a11275b8556",
       "version_major": 2,
       "version_minor": 0
      },
      "text/plain": [
       "HBox(children=(IntProgress(value=0, max=607722), HTML(value='')))"
      ]
     },
     "metadata": {},
     "output_type": "display_data"
    },
    {
     "name": "stdout",
     "output_type": "stream",
     "text": [
      "\n",
      "\n",
      "************************************\n",
      "function    = compute_association\n",
      "  time      = 1.86 sec\n",
      "************************************\n",
      "\n",
      "\n",
      "************************************\n",
      "function    = compute_distance\n",
      "  time      = 0.007209 sec\n",
      "************************************\n",
      "\n",
      "  Operation: addition 'token-feature weight matrix' X 'socc matrix'...\n",
      "\n",
      "Saving matrix...\n",
      "Stored in file:\n",
      "  /home/projects/semmetrix/mariana_wolken/cleanWorkflow//output//tokens/destroy/destroy.LEMMAPATH2.PPMIno.LENGTH5000.SOCPOSnav.tcmx.soc.pac\n"
     ]
    },
    {
     "data": {
      "application/vnd.jupyter.widget-view+json": {
       "model_id": "a73a14ef2c2a4d7885d1efe7138a3ea5",
       "version_major": 2,
       "version_minor": 0
      },
      "text/plain": [
       "HBox(children=(IntProgress(value=0, max=13548), HTML(value='')))"
      ]
     },
     "metadata": {},
     "output_type": "display_data"
    },
    {
     "name": "stdout",
     "output_type": "stream",
     "text": [
      "\n",
      "\n",
      "************************************\n",
      "function    = compute_association\n",
      "  time      = 0.1184 sec\n",
      "************************************\n",
      "\n",
      "\n",
      "************************************\n",
      "function    = compute_distance\n",
      "  time      = 0.0007915 sec\n",
      "************************************\n",
      "\n",
      "  Operation: addition 'token-feature weight matrix' X 'socc matrix'...\n",
      "\n",
      "Saving matrix...\n",
      "Stored in file:\n",
      "  /home/projects/semmetrix/mariana_wolken/cleanWorkflow//output//tokens/destroy/destroy.LEMMAPATH2.PPMIselection.LENGTHFOC.SOCPOSall.tcmx.soc.pac\n"
     ]
    },
    {
     "data": {
      "application/vnd.jupyter.widget-view+json": {
       "model_id": "c32e6fc90dec443d9281f10f5e8cc354",
       "version_major": 2,
       "version_minor": 0
      },
      "text/plain": [
       "HBox(children=(IntProgress(value=0, max=480697), HTML(value='')))"
      ]
     },
     "metadata": {},
     "output_type": "display_data"
    },
    {
     "name": "stdout",
     "output_type": "stream",
     "text": [
      "\n",
      "\n",
      "************************************\n",
      "function    = compute_association\n",
      "  time      = 1.499 sec\n",
      "************************************\n",
      "\n",
      "\n",
      "************************************\n",
      "function    = compute_distance\n",
      "  time      = 0.008267 sec\n",
      "************************************\n",
      "\n",
      "  Operation: addition 'token-feature weight matrix' X 'socc matrix'...\n",
      "\n",
      "Saving matrix...\n",
      "Stored in file:\n",
      "  /home/projects/semmetrix/mariana_wolken/cleanWorkflow//output//tokens/destroy/destroy.LEMMAPATH2.PPMIselection.LENGTH5000.SOCPOSall.tcmx.soc.pac\n"
     ]
    },
    {
     "data": {
      "application/vnd.jupyter.widget-view+json": {
       "model_id": "8e372dbe516749378b65ed8cd1f337ad",
       "version_major": 2,
       "version_minor": 0
      },
      "text/plain": [
       "HBox(children=(IntProgress(value=0, max=7465), HTML(value='')))"
      ]
     },
     "metadata": {},
     "output_type": "display_data"
    },
    {
     "name": "stdout",
     "output_type": "stream",
     "text": [
      "\n",
      "\n",
      "************************************\n",
      "function    = compute_association\n",
      "  time      = 0.0984 sec\n",
      "************************************\n",
      "\n",
      "\n",
      "************************************\n",
      "function    = compute_distance\n",
      "  time      = 0.000854 sec\n",
      "************************************\n",
      "\n",
      "  Operation: addition 'token-feature weight matrix' X 'socc matrix'...\n",
      "\n",
      "Saving matrix...\n",
      "Stored in file:\n",
      "  /home/projects/semmetrix/mariana_wolken/cleanWorkflow//output//tokens/destroy/destroy.LEMMAPATH2.PPMIselection.LENGTHFOC.SOCPOSnav.tcmx.soc.pac\n"
     ]
    },
    {
     "data": {
      "application/vnd.jupyter.widget-view+json": {
       "model_id": "47f28e87a40f4d34b13cf981098ae831",
       "version_major": 2,
       "version_minor": 0
      },
      "text/plain": [
       "HBox(children=(IntProgress(value=0, max=440772), HTML(value='')))"
      ]
     },
     "metadata": {},
     "output_type": "display_data"
    },
    {
     "name": "stdout",
     "output_type": "stream",
     "text": [
      "\n",
      "\n",
      "************************************\n",
      "function    = compute_association\n",
      "  time      = 1.38 sec\n",
      "************************************\n",
      "\n",
      "\n",
      "************************************\n",
      "function    = compute_distance\n",
      "  time      = 0.005088 sec\n",
      "************************************\n",
      "\n",
      "  Operation: addition 'token-feature weight matrix' X 'socc matrix'...\n",
      "\n",
      "Saving matrix...\n",
      "Stored in file:\n",
      "  /home/projects/semmetrix/mariana_wolken/cleanWorkflow//output//tokens/destroy/destroy.LEMMAPATH2.PPMIselection.LENGTH5000.SOCPOSnav.tcmx.soc.pac\n"
     ]
    },
    {
     "data": {
      "application/vnd.jupyter.widget-view+json": {
       "model_id": "43664bd2a45c49799fdbc2b602d6f2b0",
       "version_major": 2,
       "version_minor": 0
      },
      "text/plain": [
       "HBox(children=(IntProgress(value=0, max=13548), HTML(value='')))"
      ]
     },
     "metadata": {},
     "output_type": "display_data"
    },
    {
     "name": "stdout",
     "output_type": "stream",
     "text": [
      "\n",
      "\n",
      "************************************\n",
      "function    = compute_association\n",
      "  time      = 0.1145 sec\n",
      "************************************\n",
      "\n",
      "\n",
      "************************************\n",
      "function    = compute_distance\n",
      "  time      = 0.0007269 sec\n",
      "************************************\n",
      "\n",
      "  Operation: addition 'token-feature weight matrix' X 'socc matrix'...\n",
      "\n",
      "Saving matrix...\n",
      "Stored in file:\n",
      "  /home/projects/semmetrix/mariana_wolken/cleanWorkflow//output//tokens/destroy/destroy.LEMMAPATH2.PPMIweight.LENGTHFOC.SOCPOSall.tcmx.soc.pac\n"
     ]
    },
    {
     "data": {
      "application/vnd.jupyter.widget-view+json": {
       "model_id": "f902cf2beef24b71b9f543e4d78255eb",
       "version_major": 2,
       "version_minor": 0
      },
      "text/plain": [
       "HBox(children=(IntProgress(value=0, max=480697), HTML(value='')))"
      ]
     },
     "metadata": {},
     "output_type": "display_data"
    },
    {
     "name": "stdout",
     "output_type": "stream",
     "text": [
      "\n",
      "\n",
      "************************************\n",
      "function    = compute_association\n",
      "  time      = 1.515 sec\n",
      "************************************\n",
      "\n",
      "\n",
      "************************************\n",
      "function    = compute_distance\n",
      "  time      = 0.005095 sec\n",
      "************************************\n",
      "\n",
      "  Operation: addition 'token-feature weight matrix' X 'socc matrix'...\n",
      "\n",
      "Saving matrix...\n",
      "Stored in file:\n",
      "  /home/projects/semmetrix/mariana_wolken/cleanWorkflow//output//tokens/destroy/destroy.LEMMAPATH2.PPMIweight.LENGTH5000.SOCPOSall.tcmx.soc.pac\n"
     ]
    },
    {
     "data": {
      "application/vnd.jupyter.widget-view+json": {
       "model_id": "70563fd78f0442bdb5fec7723e4e4ce2",
       "version_major": 2,
       "version_minor": 0
      },
      "text/plain": [
       "HBox(children=(IntProgress(value=0, max=7465), HTML(value='')))"
      ]
     },
     "metadata": {},
     "output_type": "display_data"
    },
    {
     "name": "stdout",
     "output_type": "stream",
     "text": [
      "\n",
      "\n",
      "************************************\n",
      "function    = compute_association\n",
      "  time      = 0.09723 sec\n",
      "************************************\n",
      "\n",
      "\n",
      "************************************\n",
      "function    = compute_distance\n",
      "  time      = 0.0008435 sec\n",
      "************************************\n",
      "\n",
      "  Operation: addition 'token-feature weight matrix' X 'socc matrix'...\n",
      "\n",
      "Saving matrix...\n",
      "Stored in file:\n",
      "  /home/projects/semmetrix/mariana_wolken/cleanWorkflow//output//tokens/destroy/destroy.LEMMAPATH2.PPMIweight.LENGTHFOC.SOCPOSnav.tcmx.soc.pac\n"
     ]
    },
    {
     "data": {
      "application/vnd.jupyter.widget-view+json": {
       "model_id": "dc6f209dbaa44630815e9cb42da7bb62",
       "version_major": 2,
       "version_minor": 0
      },
      "text/plain": [
       "HBox(children=(IntProgress(value=0, max=440772), HTML(value='')))"
      ]
     },
     "metadata": {},
     "output_type": "display_data"
    },
    {
     "name": "stdout",
     "output_type": "stream",
     "text": [
      "\n",
      "\n",
      "************************************\n",
      "function    = compute_association\n",
      "  time      = 1.417 sec\n",
      "************************************\n",
      "\n",
      "\n",
      "************************************\n",
      "function    = compute_distance\n",
      "  time      = 0.005049 sec\n",
      "************************************\n",
      "\n",
      "  Operation: addition 'token-feature weight matrix' X 'socc matrix'...\n",
      "\n",
      "Saving matrix...\n",
      "Stored in file:\n",
      "  /home/projects/semmetrix/mariana_wolken/cleanWorkflow//output//tokens/destroy/destroy.LEMMAPATH2.PPMIweight.LENGTH5000.SOCPOSnav.tcmx.soc.pac\n"
     ]
    },
    {
     "data": {
      "application/vnd.jupyter.widget-view+json": {
       "model_id": "5b80d685a47848d58d7096bb87a03605",
       "version_major": 2,
       "version_minor": 0
      },
      "text/plain": [
       "HBox(children=(IntProgress(value=0, max=49751), HTML(value='')))"
      ]
     },
     "metadata": {},
     "output_type": "display_data"
    },
    {
     "name": "stdout",
     "output_type": "stream",
     "text": [
      "\n",
      "\n",
      "************************************\n",
      "function    = compute_association\n",
      "  time      = 0.2302 sec\n",
      "************************************\n",
      "\n",
      "\n",
      "************************************\n",
      "function    = compute_distance\n",
      "  time      = 0.001689 sec\n",
      "************************************\n",
      "\n",
      "  Operation: addition 'token-feature weight matrix' X 'socc matrix'...\n",
      "\n",
      "Saving matrix...\n",
      "Stored in file:\n",
      "  /home/projects/semmetrix/mariana_wolken/cleanWorkflow//output//tokens/destroy/destroy.LEMMAPATH3.PPMIno.LENGTHFOC.SOCPOSall.tcmx.soc.pac\n"
     ]
    },
    {
     "data": {
      "application/vnd.jupyter.widget-view+json": {
       "model_id": "8a708341c6dd4ac5a5ddcee4d6c7355c",
       "version_major": 2,
       "version_minor": 0
      },
      "text/plain": [
       "HBox(children=(IntProgress(value=0, max=944967), HTML(value='')))"
      ]
     },
     "metadata": {},
     "output_type": "display_data"
    },
    {
     "name": "stdout",
     "output_type": "stream",
     "text": [
      "\n",
      "\n",
      "************************************\n",
      "function    = compute_association\n",
      "  time      = 2.878 sec\n",
      "************************************\n",
      "\n",
      "\n",
      "************************************\n",
      "function    = compute_distance\n",
      "  time      = 0.01209 sec\n",
      "************************************\n",
      "\n",
      "  Operation: addition 'token-feature weight matrix' X 'socc matrix'...\n",
      "\n",
      "Saving matrix...\n",
      "Stored in file:\n",
      "  /home/projects/semmetrix/mariana_wolken/cleanWorkflow//output//tokens/destroy/destroy.LEMMAPATH3.PPMIno.LENGTH5000.SOCPOSall.tcmx.soc.pac\n"
     ]
    },
    {
     "data": {
      "application/vnd.jupyter.widget-view+json": {
       "model_id": "ba63ad4f02114ad9ab8858dc96ad6e7c",
       "version_major": 2,
       "version_minor": 0
      },
      "text/plain": [
       "HBox(children=(IntProgress(value=0, max=26418), HTML(value='')))"
      ]
     },
     "metadata": {},
     "output_type": "display_data"
    },
    {
     "name": "stdout",
     "output_type": "stream",
     "text": [
      "\n",
      "\n",
      "************************************\n",
      "function    = compute_association\n",
      "  time      = 0.1561 sec\n",
      "************************************\n",
      "\n",
      "\n",
      "************************************\n",
      "function    = compute_distance\n",
      "  time      = 0.001496 sec\n",
      "************************************\n",
      "\n",
      "  Operation: addition 'token-feature weight matrix' X 'socc matrix'...\n",
      "\n",
      "Saving matrix...\n",
      "Stored in file:\n",
      "  /home/projects/semmetrix/mariana_wolken/cleanWorkflow//output//tokens/destroy/destroy.LEMMAPATH3.PPMIno.LENGTHFOC.SOCPOSnav.tcmx.soc.pac\n"
     ]
    },
    {
     "data": {
      "application/vnd.jupyter.widget-view+json": {
       "model_id": "85c346f42c3f4eecaba0678e802abeae",
       "version_major": 2,
       "version_minor": 0
      },
      "text/plain": [
       "HBox(children=(IntProgress(value=0, max=868679), HTML(value='')))"
      ]
     },
     "metadata": {},
     "output_type": "display_data"
    },
    {
     "name": "stdout",
     "output_type": "stream",
     "text": [
      "\n",
      "\n",
      "************************************\n",
      "function    = compute_association\n",
      "  time      = 2.627 sec\n",
      "************************************\n",
      "\n",
      "\n",
      "************************************\n",
      "function    = compute_distance\n",
      "  time      = 0.01213 sec\n",
      "************************************\n",
      "\n",
      "  Operation: addition 'token-feature weight matrix' X 'socc matrix'...\n",
      "\n",
      "Saving matrix...\n",
      "Stored in file:\n",
      "  /home/projects/semmetrix/mariana_wolken/cleanWorkflow//output//tokens/destroy/destroy.LEMMAPATH3.PPMIno.LENGTH5000.SOCPOSnav.tcmx.soc.pac\n"
     ]
    },
    {
     "data": {
      "application/vnd.jupyter.widget-view+json": {
       "model_id": "07a98341cbf742cc9167190b28b27cfc",
       "version_major": 2,
       "version_minor": 0
      },
      "text/plain": [
       "HBox(children=(IntProgress(value=0, max=25955), HTML(value='')))"
      ]
     },
     "metadata": {},
     "output_type": "display_data"
    },
    {
     "name": "stdout",
     "output_type": "stream",
     "text": [
      "\n",
      "\n",
      "************************************\n",
      "function    = compute_association\n",
      "  time      = 0.1547 sec\n",
      "************************************\n",
      "\n",
      "\n",
      "************************************\n",
      "function    = compute_distance\n",
      "  time      = 0.001198 sec\n",
      "************************************\n",
      "\n",
      "  Operation: addition 'token-feature weight matrix' X 'socc matrix'...\n",
      "\n",
      "Saving matrix...\n",
      "Stored in file:\n",
      "  /home/projects/semmetrix/mariana_wolken/cleanWorkflow//output//tokens/destroy/destroy.LEMMAPATH3.PPMIselection.LENGTHFOC.SOCPOSall.tcmx.soc.pac\n"
     ]
    },
    {
     "data": {
      "application/vnd.jupyter.widget-view+json": {
       "model_id": "c937ad0837ce4956b90523f8e2055a0a",
       "version_major": 2,
       "version_minor": 0
      },
      "text/plain": [
       "HBox(children=(IntProgress(value=0, max=669228), HTML(value='')))"
      ]
     },
     "metadata": {},
     "output_type": "display_data"
    },
    {
     "name": "stdout",
     "output_type": "stream",
     "text": [
      "\n",
      "\n",
      "************************************\n",
      "function    = compute_association\n",
      "  time      = 2.038 sec\n",
      "************************************\n",
      "\n",
      "\n",
      "************************************\n",
      "function    = compute_distance\n",
      "  time      = 0.009572 sec\n",
      "************************************\n",
      "\n",
      "  Operation: addition 'token-feature weight matrix' X 'socc matrix'...\n",
      "\n",
      "Saving matrix...\n",
      "Stored in file:\n",
      "  /home/projects/semmetrix/mariana_wolken/cleanWorkflow//output//tokens/destroy/destroy.LEMMAPATH3.PPMIselection.LENGTH5000.SOCPOSall.tcmx.soc.pac\n"
     ]
    },
    {
     "data": {
      "application/vnd.jupyter.widget-view+json": {
       "model_id": "76e80e701e614fd99f6a82d65c938443",
       "version_major": 2,
       "version_minor": 0
      },
      "text/plain": [
       "HBox(children=(IntProgress(value=0, max=14679), HTML(value='')))"
      ]
     },
     "metadata": {},
     "output_type": "display_data"
    },
    {
     "name": "stdout",
     "output_type": "stream",
     "text": [
      "\n",
      "\n",
      "************************************\n",
      "function    = compute_association\n",
      "  time      = 0.1352 sec\n",
      "************************************\n",
      "\n",
      "\n",
      "************************************\n",
      "function    = compute_distance\n",
      "  time      = 0.001088 sec\n",
      "************************************\n",
      "\n",
      "  Operation: addition 'token-feature weight matrix' X 'socc matrix'...\n",
      "\n",
      "Saving matrix...\n",
      "Stored in file:\n",
      "  /home/projects/semmetrix/mariana_wolken/cleanWorkflow//output//tokens/destroy/destroy.LEMMAPATH3.PPMIselection.LENGTHFOC.SOCPOSnav.tcmx.soc.pac\n"
     ]
    },
    {
     "data": {
      "application/vnd.jupyter.widget-view+json": {
       "model_id": "36abe91793574d1d84f068fce8bf06a4",
       "version_major": 2,
       "version_minor": 0
      },
      "text/plain": [
       "HBox(children=(IntProgress(value=0, max=608483), HTML(value='')))"
      ]
     },
     "metadata": {},
     "output_type": "display_data"
    },
    {
     "name": "stdout",
     "output_type": "stream",
     "text": [
      "\n",
      "\n",
      "************************************\n",
      "function    = compute_association\n",
      "  time      = 1.937 sec\n",
      "************************************\n",
      "\n",
      "\n",
      "************************************\n",
      "function    = compute_distance\n",
      "  time      = 0.007526 sec\n",
      "************************************\n",
      "\n",
      "  Operation: addition 'token-feature weight matrix' X 'socc matrix'...\n",
      "\n",
      "Saving matrix...\n",
      "Stored in file:\n",
      "  /home/projects/semmetrix/mariana_wolken/cleanWorkflow//output//tokens/destroy/destroy.LEMMAPATH3.PPMIselection.LENGTH5000.SOCPOSnav.tcmx.soc.pac\n"
     ]
    },
    {
     "data": {
      "application/vnd.jupyter.widget-view+json": {
       "model_id": "76a98a5b68a14d58a1b514095c0ef75e",
       "version_major": 2,
       "version_minor": 0
      },
      "text/plain": [
       "HBox(children=(IntProgress(value=0, max=25955), HTML(value='')))"
      ]
     },
     "metadata": {},
     "output_type": "display_data"
    },
    {
     "name": "stdout",
     "output_type": "stream",
     "text": [
      "\n",
      "\n",
      "************************************\n",
      "function    = compute_association\n",
      "  time      = 0.1575 sec\n",
      "************************************\n",
      "\n",
      "\n",
      "************************************\n",
      "function    = compute_distance\n",
      "  time      = 0.001067 sec\n",
      "************************************\n",
      "\n",
      "  Operation: addition 'token-feature weight matrix' X 'socc matrix'...\n",
      "\n",
      "Saving matrix...\n",
      "Stored in file:\n",
      "  /home/projects/semmetrix/mariana_wolken/cleanWorkflow//output//tokens/destroy/destroy.LEMMAPATH3.PPMIweight.LENGTHFOC.SOCPOSall.tcmx.soc.pac\n"
     ]
    },
    {
     "data": {
      "application/vnd.jupyter.widget-view+json": {
       "model_id": "4446a3d4773a463897c40bdee1399e6a",
       "version_major": 2,
       "version_minor": 0
      },
      "text/plain": [
       "HBox(children=(IntProgress(value=0, max=669228), HTML(value='')))"
      ]
     },
     "metadata": {},
     "output_type": "display_data"
    },
    {
     "name": "stdout",
     "output_type": "stream",
     "text": [
      "\n",
      "\n",
      "************************************\n",
      "function    = compute_association\n",
      "  time      = 2.059 sec\n",
      "************************************\n",
      "\n",
      "\n",
      "************************************\n",
      "function    = compute_distance\n",
      "  time      = 0.007737 sec\n",
      "************************************\n",
      "\n",
      "  Operation: addition 'token-feature weight matrix' X 'socc matrix'...\n",
      "\n",
      "Saving matrix...\n",
      "Stored in file:\n",
      "  /home/projects/semmetrix/mariana_wolken/cleanWorkflow//output//tokens/destroy/destroy.LEMMAPATH3.PPMIweight.LENGTH5000.SOCPOSall.tcmx.soc.pac\n"
     ]
    },
    {
     "data": {
      "application/vnd.jupyter.widget-view+json": {
       "model_id": "2318374f802c40ffad56c5c1c28518c4",
       "version_major": 2,
       "version_minor": 0
      },
      "text/plain": [
       "HBox(children=(IntProgress(value=0, max=14679), HTML(value='')))"
      ]
     },
     "metadata": {},
     "output_type": "display_data"
    },
    {
     "name": "stdout",
     "output_type": "stream",
     "text": [
      "\n",
      "\n",
      "************************************\n",
      "function    = compute_association\n",
      "  time      = 0.1219 sec\n",
      "************************************\n",
      "\n",
      "\n",
      "************************************\n",
      "function    = compute_distance\n",
      "  time      = 0.001002 sec\n",
      "************************************\n",
      "\n",
      "  Operation: addition 'token-feature weight matrix' X 'socc matrix'...\n",
      "\n",
      "Saving matrix...\n",
      "Stored in file:\n",
      "  /home/projects/semmetrix/mariana_wolken/cleanWorkflow//output//tokens/destroy/destroy.LEMMAPATH3.PPMIweight.LENGTHFOC.SOCPOSnav.tcmx.soc.pac\n"
     ]
    },
    {
     "data": {
      "application/vnd.jupyter.widget-view+json": {
       "model_id": "80767e3e95b745a5b367ee69b333dbc9",
       "version_major": 2,
       "version_minor": 0
      },
      "text/plain": [
       "HBox(children=(IntProgress(value=0, max=608483), HTML(value='')))"
      ]
     },
     "metadata": {},
     "output_type": "display_data"
    },
    {
     "name": "stdout",
     "output_type": "stream",
     "text": [
      "\n",
      "\n",
      "************************************\n",
      "function    = compute_association\n",
      "  time      = 1.923 sec\n",
      "************************************\n",
      "\n",
      "\n",
      "************************************\n",
      "function    = compute_distance\n",
      "  time      = 0.007514 sec\n",
      "************************************\n",
      "\n",
      "  Operation: addition 'token-feature weight matrix' X 'socc matrix'...\n",
      "\n",
      "Saving matrix...\n",
      "Stored in file:\n",
      "  /home/projects/semmetrix/mariana_wolken/cleanWorkflow//output//tokens/destroy/destroy.LEMMAPATH3.PPMIweight.LENGTH5000.SOCPOSnav.tcmx.soc.pac\n"
     ]
    },
    {
     "data": {
      "application/vnd.jupyter.widget-view+json": {
       "model_id": "71d8101ced1248f6a1227aa5232cf1d2",
       "version_major": 2,
       "version_minor": 0
      },
      "text/plain": [
       "HBox(children=(IntProgress(value=0, max=49751), HTML(value='')))"
      ]
     },
     "metadata": {},
     "output_type": "display_data"
    },
    {
     "name": "stdout",
     "output_type": "stream",
     "text": [
      "\n",
      "\n",
      "************************************\n",
      "function    = compute_association\n",
      "  time      = 0.2264 sec\n",
      "************************************\n",
      "\n",
      "\n",
      "************************************\n",
      "function    = compute_distance\n",
      "  time      = 0.001769 sec\n",
      "************************************\n",
      "\n",
      "  Operation: addition 'token-feature weight matrix' X 'socc matrix'...\n",
      "\n",
      "Saving matrix...\n",
      "Stored in file:\n",
      "  /home/projects/semmetrix/mariana_wolken/cleanWorkflow//output//tokens/destroy/destroy.LEMMAPATHweight.PPMIno.LENGTHFOC.SOCPOSall.tcmx.soc.pac\n"
     ]
    },
    {
     "data": {
      "application/vnd.jupyter.widget-view+json": {
       "model_id": "7990523d35ff456cbf11f600477244a6",
       "version_major": 2,
       "version_minor": 0
      },
      "text/plain": [
       "HBox(children=(IntProgress(value=0, max=944967), HTML(value='')))"
      ]
     },
     "metadata": {},
     "output_type": "display_data"
    },
    {
     "name": "stdout",
     "output_type": "stream",
     "text": [
      "\n",
      "\n",
      "************************************\n",
      "function    = compute_association\n",
      "  time      = 2.836 sec\n",
      "************************************\n",
      "\n",
      "\n",
      "************************************\n",
      "function    = compute_distance\n",
      "  time      = 0.01203 sec\n",
      "************************************\n",
      "\n",
      "  Operation: addition 'token-feature weight matrix' X 'socc matrix'...\n",
      "\n",
      "Saving matrix...\n",
      "Stored in file:\n",
      "  /home/projects/semmetrix/mariana_wolken/cleanWorkflow//output//tokens/destroy/destroy.LEMMAPATHweight.PPMIno.LENGTH5000.SOCPOSall.tcmx.soc.pac\n"
     ]
    },
    {
     "data": {
      "application/vnd.jupyter.widget-view+json": {
       "model_id": "849607c0c3f64b5ea3caac20837211ef",
       "version_major": 2,
       "version_minor": 0
      },
      "text/plain": [
       "HBox(children=(IntProgress(value=0, max=26418), HTML(value='')))"
      ]
     },
     "metadata": {},
     "output_type": "display_data"
    },
    {
     "name": "stdout",
     "output_type": "stream",
     "text": [
      "\n",
      "\n",
      "************************************\n",
      "function    = compute_association\n",
      "  time      = 0.1581 sec\n",
      "************************************\n",
      "\n",
      "\n",
      "************************************\n",
      "function    = compute_distance\n",
      "  time      = 0.001433 sec\n",
      "************************************\n",
      "\n",
      "  Operation: addition 'token-feature weight matrix' X 'socc matrix'...\n",
      "\n",
      "Saving matrix...\n",
      "Stored in file:\n",
      "  /home/projects/semmetrix/mariana_wolken/cleanWorkflow//output//tokens/destroy/destroy.LEMMAPATHweight.PPMIno.LENGTHFOC.SOCPOSnav.tcmx.soc.pac\n"
     ]
    },
    {
     "data": {
      "application/vnd.jupyter.widget-view+json": {
       "model_id": "d7b5e7f7aa5c4895a37a09d067ecdd0b",
       "version_major": 2,
       "version_minor": 0
      },
      "text/plain": [
       "HBox(children=(IntProgress(value=0, max=868679), HTML(value='')))"
      ]
     },
     "metadata": {},
     "output_type": "display_data"
    },
    {
     "name": "stdout",
     "output_type": "stream",
     "text": [
      "\n",
      "\n",
      "************************************\n",
      "function    = compute_association\n",
      "  time      = 2.629 sec\n",
      "************************************\n",
      "\n",
      "\n",
      "************************************\n",
      "function    = compute_distance\n",
      "  time      = 0.01201 sec\n",
      "************************************\n",
      "\n",
      "  Operation: addition 'token-feature weight matrix' X 'socc matrix'...\n",
      "\n",
      "Saving matrix...\n",
      "Stored in file:\n",
      "  /home/projects/semmetrix/mariana_wolken/cleanWorkflow//output//tokens/destroy/destroy.LEMMAPATHweight.PPMIno.LENGTH5000.SOCPOSnav.tcmx.soc.pac\n"
     ]
    },
    {
     "data": {
      "application/vnd.jupyter.widget-view+json": {
       "model_id": "85d3908ebb164105abe6954c26858e90",
       "version_major": 2,
       "version_minor": 0
      },
      "text/plain": [
       "HBox(children=(IntProgress(value=0, max=25955), HTML(value='')))"
      ]
     },
     "metadata": {},
     "output_type": "display_data"
    },
    {
     "name": "stdout",
     "output_type": "stream",
     "text": [
      "\n",
      "\n",
      "************************************\n",
      "function    = compute_association\n",
      "  time      = 0.155 sec\n",
      "************************************\n",
      "\n",
      "\n",
      "************************************\n",
      "function    = compute_distance\n",
      "  time      = 0.001114 sec\n",
      "************************************\n",
      "\n",
      "  Operation: addition 'token-feature weight matrix' X 'socc matrix'...\n",
      "\n",
      "Saving matrix...\n",
      "Stored in file:\n",
      "  /home/projects/semmetrix/mariana_wolken/cleanWorkflow//output//tokens/destroy/destroy.LEMMAPATHweight.PPMIselection.LENGTHFOC.SOCPOSall.tcmx.soc.pac\n"
     ]
    },
    {
     "data": {
      "application/vnd.jupyter.widget-view+json": {
       "model_id": "5a4900c0f9a74cd69d058c1267aa63e6",
       "version_major": 2,
       "version_minor": 0
      },
      "text/plain": [
       "HBox(children=(IntProgress(value=0, max=669228), HTML(value='')))"
      ]
     },
     "metadata": {},
     "output_type": "display_data"
    },
    {
     "name": "stdout",
     "output_type": "stream",
     "text": [
      "\n",
      "\n",
      "************************************\n",
      "function    = compute_association\n",
      "  time      = 2.021 sec\n",
      "************************************\n",
      "\n",
      "\n",
      "************************************\n",
      "function    = compute_distance\n",
      "  time      = 0.007819 sec\n",
      "************************************\n",
      "\n",
      "  Operation: addition 'token-feature weight matrix' X 'socc matrix'...\n",
      "\n",
      "Saving matrix...\n",
      "Stored in file:\n",
      "  /home/projects/semmetrix/mariana_wolken/cleanWorkflow//output//tokens/destroy/destroy.LEMMAPATHweight.PPMIselection.LENGTH5000.SOCPOSall.tcmx.soc.pac\n"
     ]
    },
    {
     "data": {
      "application/vnd.jupyter.widget-view+json": {
       "model_id": "ec0f456306a04a099bb84fe204cdf9a7",
       "version_major": 2,
       "version_minor": 0
      },
      "text/plain": [
       "HBox(children=(IntProgress(value=0, max=14679), HTML(value='')))"
      ]
     },
     "metadata": {},
     "output_type": "display_data"
    },
    {
     "name": "stdout",
     "output_type": "stream",
     "text": [
      "\n",
      "\n",
      "************************************\n",
      "function    = compute_association\n",
      "  time      = 0.1193 sec\n",
      "************************************\n",
      "\n",
      "\n",
      "************************************\n",
      "function    = compute_distance\n",
      "  time      = 0.000993 sec\n",
      "************************************\n",
      "\n",
      "  Operation: addition 'token-feature weight matrix' X 'socc matrix'...\n",
      "\n",
      "Saving matrix...\n",
      "Stored in file:\n",
      "  /home/projects/semmetrix/mariana_wolken/cleanWorkflow//output//tokens/destroy/destroy.LEMMAPATHweight.PPMIselection.LENGTHFOC.SOCPOSnav.tcmx.soc.pac\n"
     ]
    },
    {
     "data": {
      "application/vnd.jupyter.widget-view+json": {
       "model_id": "ac9ffb290cea486986d8d39b4711ccb5",
       "version_major": 2,
       "version_minor": 0
      },
      "text/plain": [
       "HBox(children=(IntProgress(value=0, max=608483), HTML(value='')))"
      ]
     },
     "metadata": {},
     "output_type": "display_data"
    },
    {
     "name": "stdout",
     "output_type": "stream",
     "text": [
      "\n",
      "\n",
      "************************************\n",
      "function    = compute_association\n",
      "  time      = 1.874 sec\n",
      "************************************\n",
      "\n",
      "\n",
      "************************************\n",
      "function    = compute_distance\n",
      "  time      = 0.007537 sec\n",
      "************************************\n",
      "\n",
      "  Operation: addition 'token-feature weight matrix' X 'socc matrix'...\n",
      "\n",
      "Saving matrix...\n",
      "Stored in file:\n",
      "  /home/projects/semmetrix/mariana_wolken/cleanWorkflow//output//tokens/destroy/destroy.LEMMAPATHweight.PPMIselection.LENGTH5000.SOCPOSnav.tcmx.soc.pac\n"
     ]
    },
    {
     "data": {
      "application/vnd.jupyter.widget-view+json": {
       "model_id": "0a2e0631e3494133b2e06a12c1068f21",
       "version_major": 2,
       "version_minor": 0
      },
      "text/plain": [
       "HBox(children=(IntProgress(value=0, max=25955), HTML(value='')))"
      ]
     },
     "metadata": {},
     "output_type": "display_data"
    },
    {
     "name": "stdout",
     "output_type": "stream",
     "text": [
      "\n",
      "\n",
      "************************************\n",
      "function    = compute_association\n",
      "  time      = 0.1568 sec\n",
      "************************************\n",
      "\n",
      "\n",
      "************************************\n",
      "function    = compute_distance\n",
      "  time      = 0.001076 sec\n",
      "************************************\n",
      "\n",
      "  Operation: addition 'token-feature weight matrix' X 'socc matrix'...\n",
      "\n",
      "Saving matrix...\n",
      "Stored in file:\n",
      "  /home/projects/semmetrix/mariana_wolken/cleanWorkflow//output//tokens/destroy/destroy.LEMMAPATHweight.PPMIweight.LENGTHFOC.SOCPOSall.tcmx.soc.pac\n"
     ]
    },
    {
     "data": {
      "application/vnd.jupyter.widget-view+json": {
       "model_id": "a6042d94a08c4943a1ed90132bc527bc",
       "version_major": 2,
       "version_minor": 0
      },
      "text/plain": [
       "HBox(children=(IntProgress(value=0, max=669228), HTML(value='')))"
      ]
     },
     "metadata": {},
     "output_type": "display_data"
    },
    {
     "name": "stdout",
     "output_type": "stream",
     "text": [
      "\n",
      "\n",
      "************************************\n",
      "function    = compute_association\n",
      "  time      = 2.117 sec\n",
      "************************************\n",
      "\n",
      "\n",
      "************************************\n",
      "function    = compute_distance\n",
      "  time      = 0.00793 sec\n",
      "************************************\n",
      "\n",
      "  Operation: addition 'token-feature weight matrix' X 'socc matrix'...\n",
      "\n",
      "Saving matrix...\n",
      "Stored in file:\n",
      "  /home/projects/semmetrix/mariana_wolken/cleanWorkflow//output//tokens/destroy/destroy.LEMMAPATHweight.PPMIweight.LENGTH5000.SOCPOSall.tcmx.soc.pac\n"
     ]
    },
    {
     "data": {
      "application/vnd.jupyter.widget-view+json": {
       "model_id": "6370b43f497f40e18d74d60864195281",
       "version_major": 2,
       "version_minor": 0
      },
      "text/plain": [
       "HBox(children=(IntProgress(value=0, max=14679), HTML(value='')))"
      ]
     },
     "metadata": {},
     "output_type": "display_data"
    },
    {
     "name": "stdout",
     "output_type": "stream",
     "text": [
      "\n",
      "\n",
      "************************************\n",
      "function    = compute_association\n",
      "  time      = 0.1243 sec\n",
      "************************************\n",
      "\n",
      "\n",
      "************************************\n",
      "function    = compute_distance\n",
      "  time      = 0.001037 sec\n",
      "************************************\n",
      "\n",
      "  Operation: addition 'token-feature weight matrix' X 'socc matrix'...\n",
      "\n",
      "Saving matrix...\n",
      "Stored in file:\n",
      "  /home/projects/semmetrix/mariana_wolken/cleanWorkflow//output//tokens/destroy/destroy.LEMMAPATHweight.PPMIweight.LENGTHFOC.SOCPOSnav.tcmx.soc.pac\n"
     ]
    },
    {
     "data": {
      "application/vnd.jupyter.widget-view+json": {
       "model_id": "619bf03ab1ac4f2695b05d09a97a1b56",
       "version_major": 2,
       "version_minor": 0
      },
      "text/plain": [
       "HBox(children=(IntProgress(value=0, max=608483), HTML(value='')))"
      ]
     },
     "metadata": {},
     "output_type": "display_data"
    },
    {
     "name": "stdout",
     "output_type": "stream",
     "text": [
      "\n",
      "\n",
      "************************************\n",
      "function    = compute_association\n",
      "  time      = 1.905 sec\n",
      "************************************\n",
      "\n",
      "\n",
      "************************************\n",
      "function    = compute_distance\n",
      "  time      = 0.00774 sec\n",
      "************************************\n",
      "\n",
      "  Operation: addition 'token-feature weight matrix' X 'socc matrix'...\n",
      "\n",
      "Saving matrix...\n",
      "Stored in file:\n",
      "  /home/projects/semmetrix/mariana_wolken/cleanWorkflow//output//tokens/destroy/destroy.LEMMAPATHweight.PPMIweight.LENGTH5000.SOCPOSnav.tcmx.soc.pac\n"
     ]
    },
    {
     "data": {
      "application/vnd.jupyter.widget-view+json": {
       "model_id": "e55a665ab92b435a8ee4d8be023f990a",
       "version_major": 2,
       "version_minor": 0
      },
      "text/plain": [
       "HBox(children=(IntProgress(value=0, max=7084), HTML(value='')))"
      ]
     },
     "metadata": {},
     "output_type": "display_data"
    },
    {
     "name": "stdout",
     "output_type": "stream",
     "text": [
      "\n",
      "\n",
      "************************************\n",
      "function    = compute_association\n",
      "  time      = 0.09658 sec\n",
      "************************************\n",
      "\n",
      "\n",
      "************************************\n",
      "function    = compute_distance\n",
      "  time      = 0.0008082 sec\n",
      "************************************\n",
      "\n",
      "  Operation: addition 'token-feature weight matrix' X 'socc matrix'...\n",
      "\n",
      "Saving matrix...\n",
      "Stored in file:\n",
      "  /home/projects/semmetrix/mariana_wolken/cleanWorkflow//output//tokens/destroy/destroy.LEMMAREL1.PPMIno.LENGTHFOC.SOCPOSall.tcmx.soc.pac\n"
     ]
    },
    {
     "data": {
      "application/vnd.jupyter.widget-view+json": {
       "model_id": "8d8e8d9360ea4a4781c567d22e2d63aa",
       "version_major": 2,
       "version_minor": 0
      },
      "text/plain": [
       "HBox(children=(IntProgress(value=0, max=345969), HTML(value='')))"
      ]
     },
     "metadata": {},
     "output_type": "display_data"
    },
    {
     "name": "stdout",
     "output_type": "stream",
     "text": [
      "\n",
      "\n",
      "************************************\n",
      "function    = compute_association\n",
      "  time      = 1.125 sec\n",
      "************************************\n",
      "\n",
      "\n",
      "************************************\n",
      "function    = compute_distance\n",
      "  time      = 0.005366 sec\n",
      "************************************\n",
      "\n",
      "  Operation: addition 'token-feature weight matrix' X 'socc matrix'...\n",
      "\n",
      "Saving matrix...\n",
      "Stored in file:\n",
      "  /home/projects/semmetrix/mariana_wolken/cleanWorkflow//output//tokens/destroy/destroy.LEMMAREL1.PPMIno.LENGTH5000.SOCPOSall.tcmx.soc.pac\n"
     ]
    },
    {
     "data": {
      "application/vnd.jupyter.widget-view+json": {
       "model_id": "85fd0bdf367a4d6c8d6cd983928c3984",
       "version_major": 2,
       "version_minor": 0
      },
      "text/plain": [
       "HBox(children=(IntProgress(value=0, max=3382), HTML(value='')))"
      ]
     },
     "metadata": {},
     "output_type": "display_data"
    },
    {
     "name": "stdout",
     "output_type": "stream",
     "text": [
      "\n",
      "\n",
      "************************************\n",
      "function    = compute_association\n",
      "  time      = 0.09702 sec\n",
      "************************************\n",
      "\n",
      "\n",
      "************************************\n",
      "function    = compute_distance\n",
      "  time      = 0.0008752 sec\n",
      "************************************\n",
      "\n",
      "  Operation: addition 'token-feature weight matrix' X 'socc matrix'...\n",
      "\n",
      "Saving matrix...\n",
      "Stored in file:\n",
      "  /home/projects/semmetrix/mariana_wolken/cleanWorkflow//output//tokens/destroy/destroy.LEMMAREL1.PPMIno.LENGTHFOC.SOCPOSnav.tcmx.soc.pac\n"
     ]
    },
    {
     "data": {
      "application/vnd.jupyter.widget-view+json": {
       "model_id": "616f55f9b70d4a32ac527521ce9a3681",
       "version_major": 2,
       "version_minor": 0
      },
      "text/plain": [
       "HBox(children=(IntProgress(value=0, max=316205), HTML(value='')))"
      ]
     },
     "metadata": {},
     "output_type": "display_data"
    },
    {
     "name": "stdout",
     "output_type": "stream",
     "text": [
      "\n",
      "\n",
      "************************************\n",
      "function    = compute_association\n",
      "  time      = 1.049 sec\n",
      "************************************\n",
      "\n",
      "\n",
      "************************************\n",
      "function    = compute_distance\n",
      "  time      = 0.00369 sec\n",
      "************************************\n",
      "\n",
      "  Operation: addition 'token-feature weight matrix' X 'socc matrix'...\n",
      "\n",
      "Saving matrix...\n",
      "Stored in file:\n",
      "  /home/projects/semmetrix/mariana_wolken/cleanWorkflow//output//tokens/destroy/destroy.LEMMAREL1.PPMIno.LENGTH5000.SOCPOSnav.tcmx.soc.pac\n"
     ]
    },
    {
     "data": {
      "application/vnd.jupyter.widget-view+json": {
       "model_id": "70ad411be1344938b86aba49d5c2ba63",
       "version_major": 2,
       "version_minor": 0
      },
      "text/plain": [
       "HBox(children=(IntProgress(value=0, max=3444), HTML(value='')))"
      ]
     },
     "metadata": {},
     "output_type": "display_data"
    },
    {
     "name": "stdout",
     "output_type": "stream",
     "text": [
      "\n",
      "\n",
      "************************************\n",
      "function    = compute_association\n",
      "  time      = 0.1143 sec\n",
      "************************************\n",
      "\n",
      "\n",
      "************************************\n",
      "function    = compute_distance\n",
      "  time      = 0.0007906 sec\n",
      "************************************\n",
      "\n",
      "  Operation: addition 'token-feature weight matrix' X 'socc matrix'...\n",
      "\n",
      "Saving matrix...\n",
      "Stored in file:\n",
      "  /home/projects/semmetrix/mariana_wolken/cleanWorkflow//output//tokens/destroy/destroy.LEMMAREL1.PPMIselection.LENGTHFOC.SOCPOSall.tcmx.soc.pac\n"
     ]
    },
    {
     "data": {
      "application/vnd.jupyter.widget-view+json": {
       "model_id": "464d41382dfe49f5810585343ad6dfcd",
       "version_major": 2,
       "version_minor": 0
      },
      "text/plain": [
       "HBox(children=(IntProgress(value=0, max=233420), HTML(value='')))"
      ]
     },
     "metadata": {},
     "output_type": "display_data"
    },
    {
     "name": "stdout",
     "output_type": "stream",
     "text": [
      "\n",
      "\n",
      "************************************\n",
      "function    = compute_association\n",
      "  time      = 0.7935 sec\n",
      "************************************\n",
      "\n",
      "\n",
      "************************************\n",
      "function    = compute_distance\n",
      "  time      = 0.002531 sec\n",
      "************************************\n",
      "\n",
      "  Operation: addition 'token-feature weight matrix' X 'socc matrix'...\n",
      "\n",
      "Saving matrix...\n",
      "Stored in file:\n",
      "  /home/projects/semmetrix/mariana_wolken/cleanWorkflow//output//tokens/destroy/destroy.LEMMAREL1.PPMIselection.LENGTH5000.SOCPOSall.tcmx.soc.pac\n"
     ]
    },
    {
     "data": {
      "application/vnd.jupyter.widget-view+json": {
       "model_id": "c35ed1c334654d01873cbcda7e623356",
       "version_major": 2,
       "version_minor": 0
      },
      "text/plain": [
       "HBox(children=(IntProgress(value=0, max=1912), HTML(value='')))"
      ]
     },
     "metadata": {},
     "output_type": "display_data"
    },
    {
     "name": "stdout",
     "output_type": "stream",
     "text": [
      "\n",
      "\n",
      "************************************\n",
      "function    = compute_association\n",
      "  time      = 0.08076 sec\n",
      "************************************\n",
      "\n",
      "\n",
      "************************************\n",
      "function    = compute_distance\n",
      "  time      = 0.001036 sec\n",
      "************************************\n",
      "\n",
      "  Operation: addition 'token-feature weight matrix' X 'socc matrix'...\n",
      "\n",
      "Saving matrix...\n",
      "Stored in file:\n",
      "  /home/projects/semmetrix/mariana_wolken/cleanWorkflow//output//tokens/destroy/destroy.LEMMAREL1.PPMIselection.LENGTHFOC.SOCPOSnav.tcmx.soc.pac\n"
     ]
    },
    {
     "data": {
      "application/vnd.jupyter.widget-view+json": {
       "model_id": "c8512df0077540478511b5a341e85da6",
       "version_major": 2,
       "version_minor": 0
      },
      "text/plain": [
       "HBox(children=(IntProgress(value=0, max=208127), HTML(value='')))"
      ]
     },
     "metadata": {},
     "output_type": "display_data"
    },
    {
     "name": "stdout",
     "output_type": "stream",
     "text": [
      "\n",
      "\n",
      "************************************\n",
      "function    = compute_association\n",
      "  time      = 0.7122 sec\n",
      "************************************\n",
      "\n",
      "\n",
      "************************************\n",
      "function    = compute_distance\n",
      "  time      = 0.002427 sec\n",
      "************************************\n",
      "\n",
      "  Operation: addition 'token-feature weight matrix' X 'socc matrix'...\n",
      "\n",
      "Saving matrix...\n",
      "Stored in file:\n",
      "  /home/projects/semmetrix/mariana_wolken/cleanWorkflow//output//tokens/destroy/destroy.LEMMAREL1.PPMIselection.LENGTH5000.SOCPOSnav.tcmx.soc.pac\n"
     ]
    },
    {
     "data": {
      "application/vnd.jupyter.widget-view+json": {
       "model_id": "d96f1aaecc83437e9bce22d228028f71",
       "version_major": 2,
       "version_minor": 0
      },
      "text/plain": [
       "HBox(children=(IntProgress(value=0, max=3444), HTML(value='')))"
      ]
     },
     "metadata": {},
     "output_type": "display_data"
    },
    {
     "name": "stdout",
     "output_type": "stream",
     "text": [
      "\n",
      "\n",
      "************************************\n",
      "function    = compute_association\n",
      "  time      = 0.103 sec\n",
      "************************************\n",
      "\n",
      "\n",
      "************************************\n",
      "function    = compute_distance\n",
      "  time      = 0.0008297 sec\n",
      "************************************\n",
      "\n",
      "  Operation: addition 'token-feature weight matrix' X 'socc matrix'...\n",
      "\n",
      "Saving matrix...\n",
      "Stored in file:\n",
      "  /home/projects/semmetrix/mariana_wolken/cleanWorkflow//output//tokens/destroy/destroy.LEMMAREL1.PPMIweight.LENGTHFOC.SOCPOSall.tcmx.soc.pac\n"
     ]
    },
    {
     "data": {
      "application/vnd.jupyter.widget-view+json": {
       "model_id": "0f31c77b553a42a09be165bf92baf9e8",
       "version_major": 2,
       "version_minor": 0
      },
      "text/plain": [
       "HBox(children=(IntProgress(value=0, max=233420), HTML(value='')))"
      ]
     },
     "metadata": {},
     "output_type": "display_data"
    },
    {
     "name": "stdout",
     "output_type": "stream",
     "text": [
      "\n",
      "\n",
      "************************************\n",
      "function    = compute_association\n",
      "  time      = 0.7789 sec\n",
      "************************************\n",
      "\n",
      "\n",
      "************************************\n",
      "function    = compute_distance\n",
      "  time      = 0.002471 sec\n",
      "************************************\n",
      "\n",
      "  Operation: addition 'token-feature weight matrix' X 'socc matrix'...\n",
      "\n",
      "Saving matrix...\n",
      "Stored in file:\n",
      "  /home/projects/semmetrix/mariana_wolken/cleanWorkflow//output//tokens/destroy/destroy.LEMMAREL1.PPMIweight.LENGTH5000.SOCPOSall.tcmx.soc.pac\n"
     ]
    },
    {
     "data": {
      "application/vnd.jupyter.widget-view+json": {
       "model_id": "0c75e73119e8455eaf3d7af5d2334557",
       "version_major": 2,
       "version_minor": 0
      },
      "text/plain": [
       "HBox(children=(IntProgress(value=0, max=1912), HTML(value='')))"
      ]
     },
     "metadata": {},
     "output_type": "display_data"
    },
    {
     "name": "stdout",
     "output_type": "stream",
     "text": [
      "\n",
      "\n",
      "************************************\n",
      "function    = compute_association\n",
      "  time      = 0.08079 sec\n",
      "************************************\n",
      "\n",
      "\n",
      "************************************\n",
      "function    = compute_distance\n",
      "  time      = 0.000875 sec\n",
      "************************************\n",
      "\n",
      "  Operation: addition 'token-feature weight matrix' X 'socc matrix'...\n",
      "\n",
      "Saving matrix...\n",
      "Stored in file:\n",
      "  /home/projects/semmetrix/mariana_wolken/cleanWorkflow//output//tokens/destroy/destroy.LEMMAREL1.PPMIweight.LENGTHFOC.SOCPOSnav.tcmx.soc.pac\n"
     ]
    },
    {
     "data": {
      "application/vnd.jupyter.widget-view+json": {
       "model_id": "690644c770044b36a2265decbcdbab5a",
       "version_major": 2,
       "version_minor": 0
      },
      "text/plain": [
       "HBox(children=(IntProgress(value=0, max=208127), HTML(value='')))"
      ]
     },
     "metadata": {},
     "output_type": "display_data"
    },
    {
     "name": "stdout",
     "output_type": "stream",
     "text": [
      "\n",
      "\n",
      "************************************\n",
      "function    = compute_association\n",
      "  time      = 0.7331 sec\n",
      "************************************\n",
      "\n",
      "\n",
      "************************************\n",
      "function    = compute_distance\n",
      "  time      = 0.002471 sec\n",
      "************************************\n",
      "\n",
      "  Operation: addition 'token-feature weight matrix' X 'socc matrix'...\n",
      "\n",
      "Saving matrix...\n",
      "Stored in file:\n",
      "  /home/projects/semmetrix/mariana_wolken/cleanWorkflow//output//tokens/destroy/destroy.LEMMAREL1.PPMIweight.LENGTH5000.SOCPOSnav.tcmx.soc.pac\n"
     ]
    },
    {
     "data": {
      "application/vnd.jupyter.widget-view+json": {
       "model_id": "0d3b96eb6c6f4f1f9da0ec56661e0766",
       "version_major": 2,
       "version_minor": 0
      },
      "text/plain": [
       "HBox(children=(IntProgress(value=0, max=12575), HTML(value='')))"
      ]
     },
     "metadata": {},
     "output_type": "display_data"
    },
    {
     "name": "stdout",
     "output_type": "stream",
     "text": [
      "\n",
      "\n",
      "************************************\n",
      "function    = compute_association\n",
      "  time      = 0.1129 sec\n",
      "************************************\n",
      "\n",
      "\n",
      "************************************\n",
      "function    = compute_distance\n",
      "  time      = 0.0008404 sec\n",
      "************************************\n",
      "\n",
      "  Operation: addition 'token-feature weight matrix' X 'socc matrix'...\n",
      "\n",
      "Saving matrix...\n",
      "Stored in file:\n",
      "  /home/projects/semmetrix/mariana_wolken/cleanWorkflow//output//tokens/destroy/destroy.LEMMAREL2.PPMIno.LENGTHFOC.SOCPOSall.tcmx.soc.pac\n"
     ]
    },
    {
     "data": {
      "application/vnd.jupyter.widget-view+json": {
       "model_id": "6c409e5d01cb449180dd677b1515bbdb",
       "version_major": 2,
       "version_minor": 0
      },
      "text/plain": [
       "HBox(children=(IntProgress(value=0, max=466059), HTML(value='')))"
      ]
     },
     "metadata": {},
     "output_type": "display_data"
    },
    {
     "name": "stdout",
     "output_type": "stream",
     "text": [
      "\n",
      "\n",
      "************************************\n",
      "function    = compute_association\n",
      "  time      = 1.464 sec\n",
      "************************************\n",
      "\n",
      "\n",
      "************************************\n",
      "function    = compute_distance\n",
      "  time      = 0.005347 sec\n",
      "************************************\n",
      "\n",
      "  Operation: addition 'token-feature weight matrix' X 'socc matrix'...\n",
      "\n",
      "Saving matrix...\n",
      "Stored in file:\n",
      "  /home/projects/semmetrix/mariana_wolken/cleanWorkflow//output//tokens/destroy/destroy.LEMMAREL2.PPMIno.LENGTH5000.SOCPOSall.tcmx.soc.pac\n"
     ]
    },
    {
     "data": {
      "application/vnd.jupyter.widget-view+json": {
       "model_id": "0b5a31122d134e33aa9f43f6e97dce24",
       "version_major": 2,
       "version_minor": 0
      },
      "text/plain": [
       "HBox(children=(IntProgress(value=0, max=7070), HTML(value='')))"
      ]
     },
     "metadata": {},
     "output_type": "display_data"
    },
    {
     "name": "stdout",
     "output_type": "stream",
     "text": [
      "\n",
      "\n",
      "************************************\n",
      "function    = compute_association\n",
      "  time      = 0.09652 sec\n",
      "************************************\n",
      "\n",
      "\n",
      "************************************\n",
      "function    = compute_distance\n",
      "  time      = 0.0007143 sec\n",
      "************************************\n",
      "\n",
      "  Operation: addition 'token-feature weight matrix' X 'socc matrix'...\n",
      "\n",
      "Saving matrix...\n",
      "Stored in file:\n",
      "  /home/projects/semmetrix/mariana_wolken/cleanWorkflow//output//tokens/destroy/destroy.LEMMAREL2.PPMIno.LENGTHFOC.SOCPOSnav.tcmx.soc.pac\n"
     ]
    },
    {
     "data": {
      "application/vnd.jupyter.widget-view+json": {
       "model_id": "2106dab4247c43a096c1bfcca3625b3b",
       "version_major": 2,
       "version_minor": 0
      },
      "text/plain": [
       "HBox(children=(IntProgress(value=0, max=425916), HTML(value='')))"
      ]
     },
     "metadata": {},
     "output_type": "display_data"
    },
    {
     "name": "stdout",
     "output_type": "stream",
     "text": [
      "\n",
      "\n",
      "************************************\n",
      "function    = compute_association\n",
      "  time      = 1.345 sec\n",
      "************************************\n",
      "\n",
      "\n",
      "************************************\n",
      "function    = compute_distance\n",
      "  time      = 0.004726 sec\n",
      "************************************\n",
      "\n",
      "  Operation: addition 'token-feature weight matrix' X 'socc matrix'...\n",
      "\n",
      "Saving matrix...\n",
      "Stored in file:\n",
      "  /home/projects/semmetrix/mariana_wolken/cleanWorkflow//output//tokens/destroy/destroy.LEMMAREL2.PPMIno.LENGTH5000.SOCPOSnav.tcmx.soc.pac\n"
     ]
    },
    {
     "data": {
      "application/vnd.jupyter.widget-view+json": {
       "model_id": "4e75b394a2c545508b0ae21585f9f304",
       "version_major": 2,
       "version_minor": 0
      },
      "text/plain": [
       "HBox(children=(IntProgress(value=0, max=6795), HTML(value='')))"
      ]
     },
     "metadata": {},
     "output_type": "display_data"
    },
    {
     "name": "stdout",
     "output_type": "stream",
     "text": [
      "\n",
      "\n",
      "************************************\n",
      "function    = compute_association\n",
      "  time      = 0.0968 sec\n",
      "************************************\n",
      "\n",
      "\n",
      "************************************\n",
      "function    = compute_distance\n",
      "  time      = 0.0006914 sec\n",
      "************************************\n",
      "\n",
      "  Operation: addition 'token-feature weight matrix' X 'socc matrix'...\n",
      "\n",
      "Saving matrix...\n",
      "Stored in file:\n",
      "  /home/projects/semmetrix/mariana_wolken/cleanWorkflow//output//tokens/destroy/destroy.LEMMAREL2.PPMIselection.LENGTHFOC.SOCPOSall.tcmx.soc.pac\n"
     ]
    },
    {
     "data": {
      "application/vnd.jupyter.widget-view+json": {
       "model_id": "691588b37601470e98fb8fe7e1b78e95",
       "version_major": 2,
       "version_minor": 0
      },
      "text/plain": [
       "HBox(children=(IntProgress(value=0, max=334765), HTML(value='')))"
      ]
     },
     "metadata": {},
     "output_type": "display_data"
    },
    {
     "name": "stdout",
     "output_type": "stream",
     "text": [
      "\n",
      "\n",
      "************************************\n",
      "function    = compute_association\n",
      "  time      = 1.083 sec\n",
      "************************************\n",
      "\n",
      "\n",
      "************************************\n",
      "function    = compute_distance\n",
      "  time      = 0.003463 sec\n",
      "************************************\n",
      "\n",
      "  Operation: addition 'token-feature weight matrix' X 'socc matrix'...\n",
      "\n",
      "Saving matrix...\n",
      "Stored in file:\n",
      "  /home/projects/semmetrix/mariana_wolken/cleanWorkflow//output//tokens/destroy/destroy.LEMMAREL2.PPMIselection.LENGTH5000.SOCPOSall.tcmx.soc.pac\n"
     ]
    },
    {
     "data": {
      "application/vnd.jupyter.widget-view+json": {
       "model_id": "40a7c6ef9ec4448a9b49ca8418f8c21d",
       "version_major": 2,
       "version_minor": 0
      },
      "text/plain": [
       "HBox(children=(IntProgress(value=0, max=4352), HTML(value='')))"
      ]
     },
     "metadata": {},
     "output_type": "display_data"
    },
    {
     "name": "stdout",
     "output_type": "stream",
     "text": [
      "\n",
      "\n",
      "************************************\n",
      "function    = compute_association\n",
      "  time      = 0.08875 sec\n",
      "************************************\n",
      "\n",
      "\n",
      "************************************\n",
      "function    = compute_distance\n",
      "  time      = 0.0007186 sec\n",
      "************************************\n",
      "\n",
      "  Operation: addition 'token-feature weight matrix' X 'socc matrix'...\n",
      "\n",
      "Saving matrix...\n",
      "Stored in file:\n",
      "  /home/projects/semmetrix/mariana_wolken/cleanWorkflow//output//tokens/destroy/destroy.LEMMAREL2.PPMIselection.LENGTHFOC.SOCPOSnav.tcmx.soc.pac\n"
     ]
    },
    {
     "data": {
      "application/vnd.jupyter.widget-view+json": {
       "model_id": "14cf8bdda200468da3e11522bba092d1",
       "version_major": 2,
       "version_minor": 0
      },
      "text/plain": [
       "HBox(children=(IntProgress(value=0, max=301143), HTML(value='')))"
      ]
     },
     "metadata": {},
     "output_type": "display_data"
    },
    {
     "name": "stdout",
     "output_type": "stream",
     "text": [
      "\n",
      "\n",
      "************************************\n",
      "function    = compute_association\n",
      "  time      = 0.9848 sec\n",
      "************************************\n",
      "\n",
      "\n",
      "************************************\n",
      "function    = compute_distance\n",
      "  time      = 0.003653 sec\n",
      "************************************\n",
      "\n",
      "  Operation: addition 'token-feature weight matrix' X 'socc matrix'...\n",
      "\n",
      "Saving matrix...\n",
      "Stored in file:\n",
      "  /home/projects/semmetrix/mariana_wolken/cleanWorkflow//output//tokens/destroy/destroy.LEMMAREL2.PPMIselection.LENGTH5000.SOCPOSnav.tcmx.soc.pac\n"
     ]
    },
    {
     "data": {
      "application/vnd.jupyter.widget-view+json": {
       "model_id": "e58a384a8a044339942da841111dbfec",
       "version_major": 2,
       "version_minor": 0
      },
      "text/plain": [
       "HBox(children=(IntProgress(value=0, max=6795), HTML(value='')))"
      ]
     },
     "metadata": {},
     "output_type": "display_data"
    },
    {
     "name": "stdout",
     "output_type": "stream",
     "text": [
      "\n",
      "\n",
      "************************************\n",
      "function    = compute_association\n",
      "  time      = 0.0959 sec\n",
      "************************************\n",
      "\n",
      "\n",
      "************************************\n",
      "function    = compute_distance\n",
      "  time      = 0.0006659 sec\n",
      "************************************\n",
      "\n",
      "  Operation: addition 'token-feature weight matrix' X 'socc matrix'...\n",
      "\n",
      "Saving matrix...\n",
      "Stored in file:\n",
      "  /home/projects/semmetrix/mariana_wolken/cleanWorkflow//output//tokens/destroy/destroy.LEMMAREL2.PPMIweight.LENGTHFOC.SOCPOSall.tcmx.soc.pac\n"
     ]
    },
    {
     "data": {
      "application/vnd.jupyter.widget-view+json": {
       "model_id": "a388d7354d7d4061942b4908ec5fcf6b",
       "version_major": 2,
       "version_minor": 0
      },
      "text/plain": [
       "HBox(children=(IntProgress(value=0, max=334765), HTML(value='')))"
      ]
     },
     "metadata": {},
     "output_type": "display_data"
    },
    {
     "name": "stdout",
     "output_type": "stream",
     "text": [
      "\n",
      "\n",
      "************************************\n",
      "function    = compute_association\n",
      "  time      = 1.077 sec\n",
      "************************************\n",
      "\n",
      "\n",
      "************************************\n",
      "function    = compute_distance\n",
      "  time      = 0.003438 sec\n",
      "************************************\n",
      "\n",
      "  Operation: addition 'token-feature weight matrix' X 'socc matrix'...\n",
      "\n",
      "Saving matrix...\n",
      "Stored in file:\n",
      "  /home/projects/semmetrix/mariana_wolken/cleanWorkflow//output//tokens/destroy/destroy.LEMMAREL2.PPMIweight.LENGTH5000.SOCPOSall.tcmx.soc.pac\n"
     ]
    },
    {
     "data": {
      "application/vnd.jupyter.widget-view+json": {
       "model_id": "d8508a8fddc94f95ab6677d9db75e86f",
       "version_major": 2,
       "version_minor": 0
      },
      "text/plain": [
       "HBox(children=(IntProgress(value=0, max=4352), HTML(value='')))"
      ]
     },
     "metadata": {},
     "output_type": "display_data"
    },
    {
     "name": "stdout",
     "output_type": "stream",
     "text": [
      "\n",
      "\n",
      "************************************\n",
      "function    = compute_association\n",
      "  time      = 0.0875 sec\n",
      "************************************\n",
      "\n",
      "\n",
      "************************************\n",
      "function    = compute_distance\n",
      "  time      = 0.00067 sec\n",
      "************************************\n",
      "\n",
      "  Operation: addition 'token-feature weight matrix' X 'socc matrix'...\n",
      "\n",
      "Saving matrix...\n",
      "Stored in file:\n",
      "  /home/projects/semmetrix/mariana_wolken/cleanWorkflow//output//tokens/destroy/destroy.LEMMAREL2.PPMIweight.LENGTHFOC.SOCPOSnav.tcmx.soc.pac\n"
     ]
    },
    {
     "data": {
      "application/vnd.jupyter.widget-view+json": {
       "model_id": "cdfdf61017ff4791bd9dd40b8b445e0c",
       "version_major": 2,
       "version_minor": 0
      },
      "text/plain": [
       "HBox(children=(IntProgress(value=0, max=301143), HTML(value='')))"
      ]
     },
     "metadata": {},
     "output_type": "display_data"
    },
    {
     "name": "stdout",
     "output_type": "stream",
     "text": [
      "\n",
      "\n",
      "************************************\n",
      "function    = compute_association\n",
      "  time      = 0.9803 sec\n",
      "************************************\n",
      "\n",
      "\n",
      "************************************\n",
      "function    = compute_distance\n",
      "  time      = 0.003713 sec\n",
      "************************************\n",
      "\n",
      "  Operation: addition 'token-feature weight matrix' X 'socc matrix'...\n",
      "\n",
      "Saving matrix...\n",
      "Stored in file:\n",
      "  /home/projects/semmetrix/mariana_wolken/cleanWorkflow//output//tokens/destroy/destroy.LEMMAREL2.PPMIweight.LENGTH5000.SOCPOSnav.tcmx.soc.pac\n"
     ]
    },
    {
     "data": {
      "application/vnd.jupyter.widget-view+json": {
       "model_id": "94081dae54cd4ca8821fbbc92cea93d1",
       "version_major": 2,
       "version_minor": 0
      },
      "text/plain": [
       "HBox(children=(IntProgress(value=0, max=96085), HTML(value='')))"
      ]
     },
     "metadata": {},
     "output_type": "display_data"
    },
    {
     "name": "stdout",
     "output_type": "stream",
     "text": [
      "\n",
      "\n",
      "************************************\n",
      "function    = compute_association\n",
      "  time      = 0.3931 sec\n",
      "************************************\n",
      "\n",
      "\n",
      "************************************\n",
      "function    = compute_distance\n",
      "  time      = 0.003366 sec\n",
      "************************************\n",
      "\n",
      "  Operation: addition 'token-feature weight matrix' X 'socc matrix'...\n",
      "\n",
      "Saving matrix...\n",
      "Stored in file:\n",
      "  /home/projects/semmetrix/mariana_wolken/cleanWorkflow//output//tokens/destroy/destroy.bound10-10all.PPMIno.LENGTHFOC.SOCPOSall.tcmx.soc.pac\n"
     ]
    },
    {
     "data": {
      "application/vnd.jupyter.widget-view+json": {
       "model_id": "45552a49f6e2431886227dea800af7c0",
       "version_major": 2,
       "version_minor": 0
      },
      "text/plain": [
       "HBox(children=(IntProgress(value=0, max=1308688), HTML(value='')))"
      ]
     },
     "metadata": {},
     "output_type": "display_data"
    },
    {
     "name": "stdout",
     "output_type": "stream",
     "text": [
      "\n",
      "\n",
      "************************************\n",
      "function    = compute_association\n",
      "  time      = 3.92 sec\n",
      "************************************\n",
      "\n",
      "\n",
      "************************************\n",
      "function    = compute_distance\n",
      "  time      = 0.02222 sec\n",
      "************************************\n",
      "\n",
      "  Operation: addition 'token-feature weight matrix' X 'socc matrix'...\n",
      "\n",
      "Saving matrix...\n",
      "Stored in file:\n",
      "  /home/projects/semmetrix/mariana_wolken/cleanWorkflow//output//tokens/destroy/destroy.bound10-10all.PPMIno.LENGTH5000.SOCPOSall.tcmx.soc.pac\n"
     ]
    },
    {
     "data": {
      "application/vnd.jupyter.widget-view+json": {
       "model_id": "169d305853794ffbadc731e8b2583b1f",
       "version_major": 2,
       "version_minor": 0
      },
      "text/plain": [
       "HBox(children=(IntProgress(value=0, max=50349), HTML(value='')))"
      ]
     },
     "metadata": {},
     "output_type": "display_data"
    },
    {
     "name": "stdout",
     "output_type": "stream",
     "text": [
      "\n",
      "\n",
      "************************************\n",
      "function    = compute_association\n",
      "  time      = 0.2328 sec\n",
      "************************************\n",
      "\n",
      "\n",
      "************************************\n",
      "function    = compute_distance\n",
      "  time      = 0.002342 sec\n",
      "************************************\n",
      "\n",
      "  Operation: addition 'token-feature weight matrix' X 'socc matrix'...\n",
      "\n",
      "Saving matrix...\n",
      "Stored in file:\n",
      "  /home/projects/semmetrix/mariana_wolken/cleanWorkflow//output//tokens/destroy/destroy.bound10-10all.PPMIno.LENGTHFOC.SOCPOSnav.tcmx.soc.pac\n"
     ]
    },
    {
     "data": {
      "application/vnd.jupyter.widget-view+json": {
       "model_id": "60738f899b62409482cb15aa2b8c1760",
       "version_major": 2,
       "version_minor": 0
      },
      "text/plain": [
       "HBox(children=(IntProgress(value=0, max=1200082), HTML(value='')))"
      ]
     },
     "metadata": {},
     "output_type": "display_data"
    },
    {
     "name": "stdout",
     "output_type": "stream",
     "text": [
      "\n",
      "\n",
      "************************************\n",
      "function    = compute_association\n",
      "  time      = 3.701 sec\n",
      "************************************\n",
      "\n",
      "\n",
      "************************************\n",
      "function    = compute_distance\n",
      "  time      = 0.0222 sec\n",
      "************************************\n",
      "\n",
      "  Operation: addition 'token-feature weight matrix' X 'socc matrix'...\n",
      "\n",
      "Saving matrix...\n",
      "Stored in file:\n",
      "  /home/projects/semmetrix/mariana_wolken/cleanWorkflow//output//tokens/destroy/destroy.bound10-10all.PPMIno.LENGTH5000.SOCPOSnav.tcmx.soc.pac\n"
     ]
    },
    {
     "data": {
      "application/vnd.jupyter.widget-view+json": {
       "model_id": "a55c8f5671a1486ea0ef364a22485c81",
       "version_major": 2,
       "version_minor": 0
      },
      "text/plain": [
       "HBox(children=(IntProgress(value=0, max=45442), HTML(value='')))"
      ]
     },
     "metadata": {},
     "output_type": "display_data"
    },
    {
     "name": "stdout",
     "output_type": "stream",
     "text": [
      "\n",
      "\n",
      "************************************\n",
      "function    = compute_association\n",
      "  time      = 0.2178 sec\n",
      "************************************\n",
      "\n",
      "\n",
      "************************************\n",
      "function    = compute_distance\n",
      "  time      = 0.001664 sec\n",
      "************************************\n",
      "\n",
      "  Operation: addition 'token-feature weight matrix' X 'socc matrix'...\n",
      "\n",
      "Saving matrix...\n",
      "Stored in file:\n",
      "  /home/projects/semmetrix/mariana_wolken/cleanWorkflow//output//tokens/destroy/destroy.bound10-10all.PPMIselection.LENGTHFOC.SOCPOSall.tcmx.soc.pac\n"
     ]
    },
    {
     "data": {
      "application/vnd.jupyter.widget-view+json": {
       "model_id": "626b2057683c484ba9ec6a091c5bc8f7",
       "version_major": 2,
       "version_minor": 0
      },
      "text/plain": [
       "HBox(children=(IntProgress(value=0, max=888273), HTML(value='')))"
      ]
     },
     "metadata": {},
     "output_type": "display_data"
    },
    {
     "name": "stdout",
     "output_type": "stream",
     "text": [
      "\n",
      "\n",
      "************************************\n",
      "function    = compute_association\n",
      "  time      = 2.713 sec\n",
      "************************************\n",
      "\n",
      "\n",
      "************************************\n",
      "function    = compute_distance\n",
      "  time      = 0.01472 sec\n",
      "************************************\n",
      "\n",
      "  Operation: addition 'token-feature weight matrix' X 'socc matrix'...\n",
      "\n",
      "Saving matrix...\n",
      "Stored in file:\n",
      "  /home/projects/semmetrix/mariana_wolken/cleanWorkflow//output//tokens/destroy/destroy.bound10-10all.PPMIselection.LENGTH5000.SOCPOSall.tcmx.soc.pac\n"
     ]
    },
    {
     "data": {
      "application/vnd.jupyter.widget-view+json": {
       "model_id": "33d5e2e7c30542da966eac4816d8ca6a",
       "version_major": 2,
       "version_minor": 0
      },
      "text/plain": [
       "HBox(children=(IntProgress(value=0, max=24818), HTML(value='')))"
      ]
     },
     "metadata": {},
     "output_type": "display_data"
    },
    {
     "name": "stdout",
     "output_type": "stream",
     "text": [
      "\n",
      "\n",
      "************************************\n",
      "function    = compute_association\n",
      "  time      = 0.1877 sec\n",
      "************************************\n",
      "\n",
      "\n",
      "************************************\n",
      "function    = compute_distance\n",
      "  time      = 0.001389 sec\n",
      "************************************\n",
      "\n",
      "  Operation: addition 'token-feature weight matrix' X 'socc matrix'...\n",
      "\n",
      "Saving matrix...\n",
      "Stored in file:\n",
      "  /home/projects/semmetrix/mariana_wolken/cleanWorkflow//output//tokens/destroy/destroy.bound10-10all.PPMIselection.LENGTHFOC.SOCPOSnav.tcmx.soc.pac\n"
     ]
    },
    {
     "data": {
      "application/vnd.jupyter.widget-view+json": {
       "model_id": "ceba3215e5b840bab6229be35a617858",
       "version_major": 2,
       "version_minor": 0
      },
      "text/plain": [
       "HBox(children=(IntProgress(value=0, max=803057), HTML(value='')))"
      ]
     },
     "metadata": {},
     "output_type": "display_data"
    },
    {
     "name": "stdout",
     "output_type": "stream",
     "text": [
      "\n",
      "\n",
      "************************************\n",
      "function    = compute_association\n",
      "  time      = 2.423 sec\n",
      "************************************\n",
      "\n",
      "\n",
      "************************************\n",
      "function    = compute_distance\n",
      "  time      = 0.01226 sec\n",
      "************************************\n",
      "\n",
      "  Operation: addition 'token-feature weight matrix' X 'socc matrix'...\n",
      "\n",
      "Saving matrix...\n",
      "Stored in file:\n",
      "  /home/projects/semmetrix/mariana_wolken/cleanWorkflow//output//tokens/destroy/destroy.bound10-10all.PPMIselection.LENGTH5000.SOCPOSnav.tcmx.soc.pac\n"
     ]
    },
    {
     "data": {
      "application/vnd.jupyter.widget-view+json": {
       "model_id": "efd45197f8d44cc0b3f08d61ed7bdf2b",
       "version_major": 2,
       "version_minor": 0
      },
      "text/plain": [
       "HBox(children=(IntProgress(value=0, max=45442), HTML(value='')))"
      ]
     },
     "metadata": {},
     "output_type": "display_data"
    },
    {
     "name": "stdout",
     "output_type": "stream",
     "text": [
      "\n",
      "\n",
      "************************************\n",
      "function    = compute_association\n",
      "  time      = 0.2127 sec\n",
      "************************************\n",
      "\n",
      "\n",
      "************************************\n",
      "function    = compute_distance\n",
      "  time      = 0.001605 sec\n",
      "************************************\n",
      "\n",
      "  Operation: addition 'token-feature weight matrix' X 'socc matrix'...\n",
      "\n",
      "Saving matrix...\n",
      "Stored in file:\n",
      "  /home/projects/semmetrix/mariana_wolken/cleanWorkflow//output//tokens/destroy/destroy.bound10-10all.PPMIweight.LENGTHFOC.SOCPOSall.tcmx.soc.pac\n"
     ]
    },
    {
     "data": {
      "application/vnd.jupyter.widget-view+json": {
       "model_id": "05ce08f6e8c84ad09c96b8305f4c6a5f",
       "version_major": 2,
       "version_minor": 0
      },
      "text/plain": [
       "HBox(children=(IntProgress(value=0, max=888273), HTML(value='')))"
      ]
     },
     "metadata": {},
     "output_type": "display_data"
    },
    {
     "name": "stdout",
     "output_type": "stream",
     "text": [
      "\n",
      "\n",
      "************************************\n",
      "function    = compute_association\n",
      "  time      = 2.734 sec\n",
      "************************************\n",
      "\n",
      "\n",
      "************************************\n",
      "function    = compute_distance\n",
      "  time      = 0.01243 sec\n",
      "************************************\n",
      "\n",
      "  Operation: addition 'token-feature weight matrix' X 'socc matrix'...\n",
      "\n",
      "Saving matrix...\n",
      "Stored in file:\n",
      "  /home/projects/semmetrix/mariana_wolken/cleanWorkflow//output//tokens/destroy/destroy.bound10-10all.PPMIweight.LENGTH5000.SOCPOSall.tcmx.soc.pac\n"
     ]
    },
    {
     "data": {
      "application/vnd.jupyter.widget-view+json": {
       "model_id": "1dbe43d985af4e32884c8d5d39bd24b1",
       "version_major": 2,
       "version_minor": 0
      },
      "text/plain": [
       "HBox(children=(IntProgress(value=0, max=24818), HTML(value='')))"
      ]
     },
     "metadata": {},
     "output_type": "display_data"
    },
    {
     "name": "stdout",
     "output_type": "stream",
     "text": [
      "\n",
      "\n",
      "************************************\n",
      "function    = compute_association\n",
      "  time      = 0.1535 sec\n",
      "************************************\n",
      "\n",
      "\n",
      "************************************\n",
      "function    = compute_distance\n",
      "  time      = 0.001403 sec\n",
      "************************************\n",
      "\n",
      "  Operation: addition 'token-feature weight matrix' X 'socc matrix'...\n",
      "\n",
      "Saving matrix...\n",
      "Stored in file:\n",
      "  /home/projects/semmetrix/mariana_wolken/cleanWorkflow//output//tokens/destroy/destroy.bound10-10all.PPMIweight.LENGTHFOC.SOCPOSnav.tcmx.soc.pac\n"
     ]
    },
    {
     "data": {
      "application/vnd.jupyter.widget-view+json": {
       "model_id": "b304af44bebc4966b097d54059c1545c",
       "version_major": 2,
       "version_minor": 0
      },
      "text/plain": [
       "HBox(children=(IntProgress(value=0, max=803057), HTML(value='')))"
      ]
     },
     "metadata": {},
     "output_type": "display_data"
    },
    {
     "name": "stdout",
     "output_type": "stream",
     "text": [
      "\n",
      "\n",
      "************************************\n",
      "function    = compute_association\n",
      "  time      = 2.49 sec\n",
      "************************************\n",
      "\n",
      "\n",
      "************************************\n",
      "function    = compute_distance\n",
      "  time      = 0.01213 sec\n",
      "************************************\n",
      "\n",
      "  Operation: addition 'token-feature weight matrix' X 'socc matrix'...\n",
      "\n",
      "Saving matrix...\n",
      "Stored in file:\n",
      "  /home/projects/semmetrix/mariana_wolken/cleanWorkflow//output//tokens/destroy/destroy.bound10-10all.PPMIweight.LENGTH5000.SOCPOSnav.tcmx.soc.pac\n"
     ]
    },
    {
     "data": {
      "application/vnd.jupyter.widget-view+json": {
       "model_id": "4ce3054be94542fa99348d9f1c4259ef",
       "version_major": 2,
       "version_minor": 0
      },
      "text/plain": [
       "HBox(children=(IntProgress(value=0, max=45467), HTML(value='')))"
      ]
     },
     "metadata": {},
     "output_type": "display_data"
    },
    {
     "name": "stdout",
     "output_type": "stream",
     "text": [
      "\n",
      "\n",
      "************************************\n",
      "function    = compute_association\n",
      "  time      = 0.2191 sec\n",
      "************************************\n",
      "\n",
      "\n",
      "************************************\n",
      "function    = compute_distance\n",
      "  time      = 0.001604 sec\n",
      "************************************\n",
      "\n",
      "  Operation: addition 'token-feature weight matrix' X 'socc matrix'...\n",
      "\n",
      "Saving matrix...\n",
      "Stored in file:\n",
      "  /home/projects/semmetrix/mariana_wolken/cleanWorkflow//output//tokens/destroy/destroy.bound10-10lex.PPMIno.LENGTHFOC.SOCPOSall.tcmx.soc.pac\n"
     ]
    },
    {
     "data": {
      "application/vnd.jupyter.widget-view+json": {
       "model_id": "ca9608b762cb41f7a9b1c2cb4d72ce38",
       "version_major": 2,
       "version_minor": 0
      },
      "text/plain": [
       "HBox(children=(IntProgress(value=0, max=901848), HTML(value='')))"
      ]
     },
     "metadata": {},
     "output_type": "display_data"
    },
    {
     "name": "stdout",
     "output_type": "stream",
     "text": [
      "\n",
      "\n",
      "************************************\n",
      "function    = compute_association\n",
      "  time      = 2.789 sec\n",
      "************************************\n",
      "\n",
      "\n",
      "************************************\n",
      "function    = compute_distance\n",
      "  time      = 0.0119 sec\n",
      "************************************\n",
      "\n",
      "  Operation: addition 'token-feature weight matrix' X 'socc matrix'...\n",
      "\n",
      "Saving matrix...\n",
      "Stored in file:\n",
      "  /home/projects/semmetrix/mariana_wolken/cleanWorkflow//output//tokens/destroy/destroy.bound10-10lex.PPMIno.LENGTH5000.SOCPOSall.tcmx.soc.pac\n"
     ]
    },
    {
     "data": {
      "application/vnd.jupyter.widget-view+json": {
       "model_id": "c053fafd19a4477288eedff154c6c327",
       "version_major": 2,
       "version_minor": 0
      },
      "text/plain": [
       "HBox(children=(IntProgress(value=0, max=34934), HTML(value='')))"
      ]
     },
     "metadata": {},
     "output_type": "display_data"
    },
    {
     "name": "stdout",
     "output_type": "stream",
     "text": [
      "\n",
      "\n",
      "************************************\n",
      "function    = compute_association\n",
      "  time      = 0.1829 sec\n",
      "************************************\n",
      "\n",
      "\n",
      "************************************\n",
      "function    = compute_distance\n",
      "  time      = 0.001472 sec\n",
      "************************************\n",
      "\n",
      "  Operation: addition 'token-feature weight matrix' X 'socc matrix'...\n",
      "\n",
      "Saving matrix...\n",
      "Stored in file:\n",
      "  /home/projects/semmetrix/mariana_wolken/cleanWorkflow//output//tokens/destroy/destroy.bound10-10lex.PPMIno.LENGTHFOC.SOCPOSnav.tcmx.soc.pac\n"
     ]
    },
    {
     "data": {
      "application/vnd.jupyter.widget-view+json": {
       "model_id": "3d143c5a27c54b46a331f60bbcae7d6c",
       "version_major": 2,
       "version_minor": 0
      },
      "text/plain": [
       "HBox(children=(IntProgress(value=0, max=815024), HTML(value='')))"
      ]
     },
     "metadata": {},
     "output_type": "display_data"
    },
    {
     "name": "stdout",
     "output_type": "stream",
     "text": [
      "\n",
      "\n",
      "************************************\n",
      "function    = compute_association\n",
      "  time      = 2.43 sec\n",
      "************************************\n",
      "\n",
      "\n",
      "************************************\n",
      "function    = compute_distance\n",
      "  time      = 0.01168 sec\n",
      "************************************\n",
      "\n",
      "  Operation: addition 'token-feature weight matrix' X 'socc matrix'...\n",
      "\n",
      "Saving matrix...\n",
      "Stored in file:\n",
      "  /home/projects/semmetrix/mariana_wolken/cleanWorkflow//output//tokens/destroy/destroy.bound10-10lex.PPMIno.LENGTH5000.SOCPOSnav.tcmx.soc.pac\n"
     ]
    },
    {
     "data": {
      "application/vnd.jupyter.widget-view+json": {
       "model_id": "4f549b3607144eb183189d81873b6d64",
       "version_major": 2,
       "version_minor": 0
      },
      "text/plain": [
       "HBox(children=(IntProgress(value=0, max=23177), HTML(value='')))"
      ]
     },
     "metadata": {},
     "output_type": "display_data"
    },
    {
     "name": "stdout",
     "output_type": "stream",
     "text": [
      "\n",
      "\n",
      "************************************\n",
      "function    = compute_association\n",
      "  time      = 0.1458 sec\n",
      "************************************\n",
      "\n",
      "\n",
      "************************************\n",
      "function    = compute_distance\n",
      "  time      = 0.001024 sec\n",
      "************************************\n",
      "\n",
      "  Operation: addition 'token-feature weight matrix' X 'socc matrix'...\n",
      "\n",
      "Saving matrix...\n",
      "Stored in file:\n",
      "  /home/projects/semmetrix/mariana_wolken/cleanWorkflow//output//tokens/destroy/destroy.bound10-10lex.PPMIselection.LENGTHFOC.SOCPOSall.tcmx.soc.pac\n"
     ]
    },
    {
     "data": {
      "application/vnd.jupyter.widget-view+json": {
       "model_id": "d538f5c78b3744a1afb199eecfb792f7",
       "version_major": 2,
       "version_minor": 0
      },
      "text/plain": [
       "HBox(children=(IntProgress(value=0, max=633938), HTML(value='')))"
      ]
     },
     "metadata": {},
     "output_type": "display_data"
    },
    {
     "name": "stdout",
     "output_type": "stream",
     "text": [
      "\n",
      "\n",
      "************************************\n",
      "function    = compute_association\n",
      "  time      = 1.917 sec\n",
      "************************************\n",
      "\n",
      "\n",
      "************************************\n",
      "function    = compute_distance\n",
      "  time      = 0.007821 sec\n",
      "************************************\n",
      "\n",
      "  Operation: addition 'token-feature weight matrix' X 'socc matrix'...\n",
      "\n",
      "Saving matrix...\n",
      "Stored in file:\n",
      "  /home/projects/semmetrix/mariana_wolken/cleanWorkflow//output//tokens/destroy/destroy.bound10-10lex.PPMIselection.LENGTH5000.SOCPOSall.tcmx.soc.pac\n"
     ]
    },
    {
     "data": {
      "application/vnd.jupyter.widget-view+json": {
       "model_id": "89c61c4497354b01ba5b0aee60b86bf7",
       "version_major": 2,
       "version_minor": 0
      },
      "text/plain": [
       "HBox(children=(IntProgress(value=0, max=17884), HTML(value='')))"
      ]
     },
     "metadata": {},
     "output_type": "display_data"
    },
    {
     "name": "stdout",
     "output_type": "stream",
     "text": [
      "\n",
      "\n",
      "************************************\n",
      "function    = compute_association\n",
      "  time      = 0.132 sec\n",
      "************************************\n",
      "\n",
      "\n",
      "************************************\n",
      "function    = compute_distance\n",
      "  time      = 0.0009747 sec\n",
      "************************************\n",
      "\n",
      "  Operation: addition 'token-feature weight matrix' X 'socc matrix'...\n",
      "\n",
      "Saving matrix...\n",
      "Stored in file:\n",
      "  /home/projects/semmetrix/mariana_wolken/cleanWorkflow//output//tokens/destroy/destroy.bound10-10lex.PPMIselection.LENGTHFOC.SOCPOSnav.tcmx.soc.pac\n"
     ]
    },
    {
     "data": {
      "application/vnd.jupyter.widget-view+json": {
       "model_id": "eff9112b02f148a7b529e022004f9ea5",
       "version_major": 2,
       "version_minor": 0
      },
      "text/plain": [
       "HBox(children=(IntProgress(value=0, max=564913), HTML(value='')))"
      ]
     },
     "metadata": {},
     "output_type": "display_data"
    },
    {
     "name": "stdout",
     "output_type": "stream",
     "text": [
      "\n",
      "\n",
      "************************************\n",
      "function    = compute_association\n",
      "  time      = 1.753 sec\n",
      "************************************\n",
      "\n",
      "\n",
      "************************************\n",
      "function    = compute_distance\n",
      "  time      = 0.007611 sec\n",
      "************************************\n",
      "\n",
      "  Operation: addition 'token-feature weight matrix' X 'socc matrix'...\n",
      "\n",
      "Saving matrix...\n",
      "Stored in file:\n",
      "  /home/projects/semmetrix/mariana_wolken/cleanWorkflow//output//tokens/destroy/destroy.bound10-10lex.PPMIselection.LENGTH5000.SOCPOSnav.tcmx.soc.pac\n"
     ]
    },
    {
     "data": {
      "application/vnd.jupyter.widget-view+json": {
       "model_id": "c1ba0368eb0f4f97b7b0b6729ffd3efa",
       "version_major": 2,
       "version_minor": 0
      },
      "text/plain": [
       "HBox(children=(IntProgress(value=0, max=23177), HTML(value='')))"
      ]
     },
     "metadata": {},
     "output_type": "display_data"
    },
    {
     "name": "stdout",
     "output_type": "stream",
     "text": [
      "\n",
      "\n",
      "************************************\n",
      "function    = compute_association\n",
      "  time      = 0.1464 sec\n",
      "************************************\n",
      "\n",
      "\n",
      "************************************\n",
      "function    = compute_distance\n",
      "  time      = 0.001046 sec\n",
      "************************************\n",
      "\n",
      "  Operation: addition 'token-feature weight matrix' X 'socc matrix'...\n",
      "\n",
      "Saving matrix...\n",
      "Stored in file:\n",
      "  /home/projects/semmetrix/mariana_wolken/cleanWorkflow//output//tokens/destroy/destroy.bound10-10lex.PPMIweight.LENGTHFOC.SOCPOSall.tcmx.soc.pac\n"
     ]
    },
    {
     "data": {
      "application/vnd.jupyter.widget-view+json": {
       "model_id": "d34f2f2c7fbd44b5902e8ea65a12111a",
       "version_major": 2,
       "version_minor": 0
      },
      "text/plain": [
       "HBox(children=(IntProgress(value=0, max=633938), HTML(value='')))"
      ]
     },
     "metadata": {},
     "output_type": "display_data"
    },
    {
     "name": "stdout",
     "output_type": "stream",
     "text": [
      "\n",
      "\n",
      "************************************\n",
      "function    = compute_association\n",
      "  time      = 1.968 sec\n",
      "************************************\n",
      "\n",
      "\n",
      "************************************\n",
      "function    = compute_distance\n",
      "  time      = 0.007946 sec\n",
      "************************************\n",
      "\n",
      "  Operation: addition 'token-feature weight matrix' X 'socc matrix'...\n",
      "\n",
      "Saving matrix...\n",
      "Stored in file:\n",
      "  /home/projects/semmetrix/mariana_wolken/cleanWorkflow//output//tokens/destroy/destroy.bound10-10lex.PPMIweight.LENGTH5000.SOCPOSall.tcmx.soc.pac\n"
     ]
    },
    {
     "data": {
      "application/vnd.jupyter.widget-view+json": {
       "model_id": "484c3dd977f34d15a83342a7c6e5878a",
       "version_major": 2,
       "version_minor": 0
      },
      "text/plain": [
       "HBox(children=(IntProgress(value=0, max=17884), HTML(value='')))"
      ]
     },
     "metadata": {},
     "output_type": "display_data"
    },
    {
     "name": "stdout",
     "output_type": "stream",
     "text": [
      "\n",
      "\n",
      "************************************\n",
      "function    = compute_association\n",
      "  time      = 0.1322 sec\n",
      "************************************\n",
      "\n",
      "\n",
      "************************************\n",
      "function    = compute_distance\n",
      "  time      = 0.0009971 sec\n",
      "************************************\n",
      "\n",
      "  Operation: addition 'token-feature weight matrix' X 'socc matrix'...\n",
      "\n",
      "Saving matrix...\n",
      "Stored in file:\n",
      "  /home/projects/semmetrix/mariana_wolken/cleanWorkflow//output//tokens/destroy/destroy.bound10-10lex.PPMIweight.LENGTHFOC.SOCPOSnav.tcmx.soc.pac\n"
     ]
    },
    {
     "data": {
      "application/vnd.jupyter.widget-view+json": {
       "model_id": "463c6268606441adae2fea8cd3afe7d8",
       "version_major": 2,
       "version_minor": 0
      },
      "text/plain": [
       "HBox(children=(IntProgress(value=0, max=564913), HTML(value='')))"
      ]
     },
     "metadata": {},
     "output_type": "display_data"
    },
    {
     "name": "stdout",
     "output_type": "stream",
     "text": [
      "\n",
      "\n",
      "************************************\n",
      "function    = compute_association\n",
      "  time      = 1.836 sec\n",
      "************************************\n",
      "\n",
      "\n",
      "************************************\n",
      "function    = compute_distance\n",
      "  time      = 0.008718 sec\n",
      "************************************\n",
      "\n",
      "  Operation: addition 'token-feature weight matrix' X 'socc matrix'...\n",
      "\n",
      "Saving matrix...\n",
      "Stored in file:\n",
      "  /home/projects/semmetrix/mariana_wolken/cleanWorkflow//output//tokens/destroy/destroy.bound10-10lex.PPMIweight.LENGTH5000.SOCPOSnav.tcmx.soc.pac\n"
     ]
    },
    {
     "data": {
      "application/vnd.jupyter.widget-view+json": {
       "model_id": "1fe895edf4cd43e9935d5aeedfc17202",
       "version_major": 2,
       "version_minor": 0
      },
      "text/plain": [
       "HBox(children=(IntProgress(value=0, max=17994), HTML(value='')))"
      ]
     },
     "metadata": {},
     "output_type": "display_data"
    },
    {
     "name": "stdout",
     "output_type": "stream",
     "text": [
      "\n",
      "\n",
      "************************************\n",
      "function    = compute_association\n",
      "  time      = 0.1714 sec\n",
      "************************************\n",
      "\n",
      "\n",
      "************************************\n",
      "function    = compute_distance\n",
      "  time      = 0.0008237 sec\n",
      "************************************\n",
      "\n",
      "  Operation: addition 'token-feature weight matrix' X 'socc matrix'...\n",
      "\n",
      "Saving matrix...\n",
      "Stored in file:\n",
      "  /home/projects/semmetrix/mariana_wolken/cleanWorkflow//output//tokens/destroy/destroy.bound3-3all.PPMIno.LENGTHFOC.SOCPOSall.tcmx.soc.pac\n"
     ]
    },
    {
     "data": {
      "application/vnd.jupyter.widget-view+json": {
       "model_id": "c699193ab7734df4992ac215f4d032c2",
       "version_major": 2,
       "version_minor": 0
      },
      "text/plain": [
       "HBox(children=(IntProgress(value=0, max=571633), HTML(value='')))"
      ]
     },
     "metadata": {},
     "output_type": "display_data"
    },
    {
     "name": "stdout",
     "output_type": "stream",
     "text": [
      "\n",
      "\n",
      "************************************\n",
      "function    = compute_association\n",
      "  time      = 1.803 sec\n",
      "************************************\n",
      "\n",
      "\n",
      "************************************\n",
      "function    = compute_distance\n",
      "  time      = 0.005889 sec\n",
      "************************************\n",
      "\n",
      "  Operation: addition 'token-feature weight matrix' X 'socc matrix'...\n",
      "\n",
      "Saving matrix...\n",
      "Stored in file:\n",
      "  /home/projects/semmetrix/mariana_wolken/cleanWorkflow//output//tokens/destroy/destroy.bound3-3all.PPMIno.LENGTH5000.SOCPOSall.tcmx.soc.pac\n"
     ]
    },
    {
     "data": {
      "application/vnd.jupyter.widget-view+json": {
       "model_id": "69c945296f6a469caa80c8dadbba4dc4",
       "version_major": 2,
       "version_minor": 0
      },
      "text/plain": [
       "HBox(children=(IntProgress(value=0, max=9668), HTML(value='')))"
      ]
     },
     "metadata": {},
     "output_type": "display_data"
    },
    {
     "name": "stdout",
     "output_type": "stream",
     "text": [
      "\n",
      "\n",
      "************************************\n",
      "function    = compute_association\n",
      "  time      = 0.1052 sec\n",
      "************************************\n",
      "\n",
      "\n",
      "************************************\n",
      "function    = compute_distance\n",
      "  time      = 0.0007412 sec\n",
      "************************************\n",
      "\n",
      "  Operation: addition 'token-feature weight matrix' X 'socc matrix'...\n",
      "\n",
      "Saving matrix...\n",
      "Stored in file:\n",
      "  /home/projects/semmetrix/mariana_wolken/cleanWorkflow//output//tokens/destroy/destroy.bound3-3all.PPMIno.LENGTHFOC.SOCPOSnav.tcmx.soc.pac\n"
     ]
    },
    {
     "data": {
      "application/vnd.jupyter.widget-view+json": {
       "model_id": "3480e0f51b894d5b9889bb95ffe3c363",
       "version_major": 2,
       "version_minor": 0
      },
      "text/plain": [
       "HBox(children=(IntProgress(value=0, max=531719), HTML(value='')))"
      ]
     },
     "metadata": {},
     "output_type": "display_data"
    },
    {
     "name": "stdout",
     "output_type": "stream",
     "text": [
      "\n",
      "\n",
      "************************************\n",
      "function    = compute_association\n",
      "  time      = 1.67 sec\n",
      "************************************\n",
      "\n",
      "\n",
      "************************************\n",
      "function    = compute_distance\n",
      "  time      = 0.006024 sec\n",
      "************************************\n",
      "\n",
      "  Operation: addition 'token-feature weight matrix' X 'socc matrix'...\n",
      "\n",
      "Saving matrix...\n",
      "Stored in file:\n",
      "  /home/projects/semmetrix/mariana_wolken/cleanWorkflow//output//tokens/destroy/destroy.bound3-3all.PPMIno.LENGTH5000.SOCPOSnav.tcmx.soc.pac\n"
     ]
    },
    {
     "data": {
      "application/vnd.jupyter.widget-view+json": {
       "model_id": "d9c94f5365734d2991a88d286a44b660",
       "version_major": 2,
       "version_minor": 0
      },
      "text/plain": [
       "HBox(children=(IntProgress(value=0, max=10958), HTML(value='')))"
      ]
     },
     "metadata": {},
     "output_type": "display_data"
    },
    {
     "name": "stdout",
     "output_type": "stream",
     "text": [
      "\n",
      "\n",
      "************************************\n",
      "function    = compute_association\n",
      "  time      = 0.1084 sec\n",
      "************************************\n",
      "\n",
      "\n",
      "************************************\n",
      "function    = compute_distance\n",
      "  time      = 0.000772 sec\n",
      "************************************\n",
      "\n",
      "  Operation: addition 'token-feature weight matrix' X 'socc matrix'...\n",
      "\n",
      "Saving matrix...\n",
      "Stored in file:\n",
      "  /home/projects/semmetrix/mariana_wolken/cleanWorkflow//output//tokens/destroy/destroy.bound3-3all.PPMIselection.LENGTHFOC.SOCPOSall.tcmx.soc.pac\n"
     ]
    },
    {
     "data": {
      "application/vnd.jupyter.widget-view+json": {
       "model_id": "f0b5f74bc6804b93929dfcb24a39c731",
       "version_major": 2,
       "version_minor": 0
      },
      "text/plain": [
       "HBox(children=(IntProgress(value=0, max=434712), HTML(value='')))"
      ]
     },
     "metadata": {},
     "output_type": "display_data"
    },
    {
     "name": "stdout",
     "output_type": "stream",
     "text": [
      "\n",
      "\n",
      "************************************\n",
      "function    = compute_association\n",
      "  time      = 1.365 sec\n",
      "************************************\n",
      "\n",
      "\n",
      "************************************\n",
      "function    = compute_distance\n",
      "  time      = 0.004593 sec\n",
      "************************************\n",
      "\n",
      "  Operation: addition 'token-feature weight matrix' X 'socc matrix'...\n",
      "\n",
      "Saving matrix...\n",
      "Stored in file:\n",
      "  /home/projects/semmetrix/mariana_wolken/cleanWorkflow//output//tokens/destroy/destroy.bound3-3all.PPMIselection.LENGTH5000.SOCPOSall.tcmx.soc.pac\n"
     ]
    },
    {
     "data": {
      "application/vnd.jupyter.widget-view+json": {
       "model_id": "d21da58b56d14f76b3c384bc21a373b4",
       "version_major": 2,
       "version_minor": 0
      },
      "text/plain": [
       "HBox(children=(IntProgress(value=0, max=6236), HTML(value='')))"
      ]
     },
     "metadata": {},
     "output_type": "display_data"
    },
    {
     "name": "stdout",
     "output_type": "stream",
     "text": [
      "\n",
      "\n",
      "************************************\n",
      "function    = compute_association\n",
      "  time      = 0.09364 sec\n",
      "************************************\n",
      "\n",
      "\n",
      "************************************\n",
      "function    = compute_distance\n",
      "  time      = 0.0007091 sec\n",
      "************************************\n",
      "\n",
      "  Operation: addition 'token-feature weight matrix' X 'socc matrix'...\n",
      "\n",
      "Saving matrix...\n",
      "Stored in file:\n",
      "  /home/projects/semmetrix/mariana_wolken/cleanWorkflow//output//tokens/destroy/destroy.bound3-3all.PPMIselection.LENGTHFOC.SOCPOSnav.tcmx.soc.pac\n"
     ]
    },
    {
     "data": {
      "application/vnd.jupyter.widget-view+json": {
       "model_id": "f620be767c9d45d08d59fb139a4d3caf",
       "version_major": 2,
       "version_minor": 0
      },
      "text/plain": [
       "HBox(children=(IntProgress(value=0, max=397269), HTML(value='')))"
      ]
     },
     "metadata": {},
     "output_type": "display_data"
    },
    {
     "name": "stdout",
     "output_type": "stream",
     "text": [
      "\n",
      "\n",
      "************************************\n",
      "function    = compute_association\n",
      "  time      = 1.261 sec\n",
      "************************************\n",
      "\n",
      "\n",
      "************************************\n",
      "function    = compute_distance\n",
      "  time      = 0.004466 sec\n",
      "************************************\n",
      "\n",
      "  Operation: addition 'token-feature weight matrix' X 'socc matrix'...\n",
      "\n",
      "Saving matrix...\n",
      "Stored in file:\n",
      "  /home/projects/semmetrix/mariana_wolken/cleanWorkflow//output//tokens/destroy/destroy.bound3-3all.PPMIselection.LENGTH5000.SOCPOSnav.tcmx.soc.pac\n"
     ]
    },
    {
     "data": {
      "application/vnd.jupyter.widget-view+json": {
       "model_id": "f3c9bdd940e5407690a3b30831870309",
       "version_major": 2,
       "version_minor": 0
      },
      "text/plain": [
       "HBox(children=(IntProgress(value=0, max=10958), HTML(value='')))"
      ]
     },
     "metadata": {},
     "output_type": "display_data"
    },
    {
     "name": "stdout",
     "output_type": "stream",
     "text": [
      "\n",
      "\n",
      "************************************\n",
      "function    = compute_association\n",
      "  time      = 0.1097 sec\n",
      "************************************\n",
      "\n",
      "\n",
      "************************************\n",
      "function    = compute_distance\n",
      "  time      = 0.0007455 sec\n",
      "************************************\n",
      "\n",
      "  Operation: addition 'token-feature weight matrix' X 'socc matrix'...\n",
      "\n",
      "Saving matrix...\n",
      "Stored in file:\n",
      "  /home/projects/semmetrix/mariana_wolken/cleanWorkflow//output//tokens/destroy/destroy.bound3-3all.PPMIweight.LENGTHFOC.SOCPOSall.tcmx.soc.pac\n"
     ]
    },
    {
     "data": {
      "application/vnd.jupyter.widget-view+json": {
       "model_id": "33383b4c245c4babb7307f38b2e1e54c",
       "version_major": 2,
       "version_minor": 0
      },
      "text/plain": [
       "HBox(children=(IntProgress(value=0, max=434712), HTML(value='')))"
      ]
     },
     "metadata": {},
     "output_type": "display_data"
    },
    {
     "name": "stdout",
     "output_type": "stream",
     "text": [
      "\n",
      "\n",
      "************************************\n",
      "function    = compute_association\n",
      "  time      = 1.41 sec\n",
      "************************************\n",
      "\n",
      "\n",
      "************************************\n",
      "function    = compute_distance\n",
      "  time      = 0.004712 sec\n",
      "************************************\n",
      "\n",
      "  Operation: addition 'token-feature weight matrix' X 'socc matrix'...\n",
      "\n",
      "Saving matrix...\n",
      "Stored in file:\n",
      "  /home/projects/semmetrix/mariana_wolken/cleanWorkflow//output//tokens/destroy/destroy.bound3-3all.PPMIweight.LENGTH5000.SOCPOSall.tcmx.soc.pac\n"
     ]
    },
    {
     "data": {
      "application/vnd.jupyter.widget-view+json": {
       "model_id": "1eb7579138074478a84ebb3e7805562e",
       "version_major": 2,
       "version_minor": 0
      },
      "text/plain": [
       "HBox(children=(IntProgress(value=0, max=6236), HTML(value='')))"
      ]
     },
     "metadata": {},
     "output_type": "display_data"
    },
    {
     "name": "stdout",
     "output_type": "stream",
     "text": [
      "\n",
      "\n",
      "************************************\n",
      "function    = compute_association\n",
      "  time      = 0.09539 sec\n",
      "************************************\n",
      "\n",
      "\n",
      "************************************\n",
      "function    = compute_distance\n",
      "  time      = 0.0007162 sec\n",
      "************************************\n",
      "\n",
      "  Operation: addition 'token-feature weight matrix' X 'socc matrix'...\n",
      "\n",
      "Saving matrix...\n",
      "Stored in file:\n",
      "  /home/projects/semmetrix/mariana_wolken/cleanWorkflow//output//tokens/destroy/destroy.bound3-3all.PPMIweight.LENGTHFOC.SOCPOSnav.tcmx.soc.pac\n"
     ]
    },
    {
     "data": {
      "application/vnd.jupyter.widget-view+json": {
       "model_id": "41ba3729ee6341a5b8b74b9885114ac0",
       "version_major": 2,
       "version_minor": 0
      },
      "text/plain": [
       "HBox(children=(IntProgress(value=0, max=397269), HTML(value='')))"
      ]
     },
     "metadata": {},
     "output_type": "display_data"
    },
    {
     "name": "stdout",
     "output_type": "stream",
     "text": [
      "\n",
      "\n",
      "************************************\n",
      "function    = compute_association\n",
      "  time      = 1.268 sec\n",
      "************************************\n",
      "\n",
      "\n",
      "************************************\n",
      "function    = compute_distance\n",
      "  time      = 0.004472 sec\n",
      "************************************\n",
      "\n",
      "  Operation: addition 'token-feature weight matrix' X 'socc matrix'...\n",
      "\n",
      "Saving matrix...\n",
      "Stored in file:\n",
      "  /home/projects/semmetrix/mariana_wolken/cleanWorkflow//output//tokens/destroy/destroy.bound3-3all.PPMIweight.LENGTH5000.SOCPOSnav.tcmx.soc.pac\n"
     ]
    },
    {
     "data": {
      "application/vnd.jupyter.widget-view+json": {
       "model_id": "a7148484b0334e7e8f96572114b621dd",
       "version_major": 2,
       "version_minor": 0
      },
      "text/plain": [
       "HBox(children=(IntProgress(value=0, max=7890), HTML(value='')))"
      ]
     },
     "metadata": {},
     "output_type": "display_data"
    },
    {
     "name": "stdout",
     "output_type": "stream",
     "text": [
      "\n",
      "\n",
      "************************************\n",
      "function    = compute_association\n",
      "  time      = 0.0997 sec\n",
      "************************************\n",
      "\n",
      "\n",
      "************************************\n",
      "function    = compute_distance\n",
      "  time      = 0.000694 sec\n",
      "************************************\n",
      "\n",
      "  Operation: addition 'token-feature weight matrix' X 'socc matrix'...\n",
      "\n",
      "Saving matrix...\n",
      "Stored in file:\n",
      "  /home/projects/semmetrix/mariana_wolken/cleanWorkflow//output//tokens/destroy/destroy.bound3-3lex.PPMIno.LENGTHFOC.SOCPOSall.tcmx.soc.pac\n"
     ]
    },
    {
     "data": {
      "application/vnd.jupyter.widget-view+json": {
       "model_id": "caf8409bf39c40b0a9e7d9734cf14ebf",
       "version_major": 2,
       "version_minor": 0
      },
      "text/plain": [
       "HBox(children=(IntProgress(value=0, max=371789), HTML(value='')))"
      ]
     },
     "metadata": {},
     "output_type": "display_data"
    },
    {
     "name": "stdout",
     "output_type": "stream",
     "text": [
      "\n",
      "\n",
      "************************************\n",
      "function    = compute_association\n",
      "  time      = 1.166 sec\n",
      "************************************\n",
      "\n",
      "\n",
      "************************************\n",
      "function    = compute_distance\n",
      "  time      = 0.003595 sec\n",
      "************************************\n",
      "\n",
      "  Operation: addition 'token-feature weight matrix' X 'socc matrix'...\n",
      "\n",
      "Saving matrix...\n",
      "Stored in file:\n",
      "  /home/projects/semmetrix/mariana_wolken/cleanWorkflow//output//tokens/destroy/destroy.bound3-3lex.PPMIno.LENGTH5000.SOCPOSall.tcmx.soc.pac\n"
     ]
    },
    {
     "data": {
      "application/vnd.jupyter.widget-view+json": {
       "model_id": "6096ee692faf48eea1a7602da6850e31",
       "version_major": 2,
       "version_minor": 0
      },
      "text/plain": [
       "HBox(children=(IntProgress(value=0, max=6437), HTML(value='')))"
      ]
     },
     "metadata": {},
     "output_type": "display_data"
    },
    {
     "name": "stdout",
     "output_type": "stream",
     "text": [
      "\n",
      "\n",
      "************************************\n",
      "function    = compute_association\n",
      "  time      = 0.09527 sec\n",
      "************************************\n",
      "\n",
      "\n",
      "************************************\n",
      "function    = compute_distance\n",
      "  time      = 0.000694 sec\n",
      "************************************\n",
      "\n",
      "  Operation: addition 'token-feature weight matrix' X 'socc matrix'...\n",
      "\n",
      "Saving matrix...\n",
      "Stored in file:\n",
      "  /home/projects/semmetrix/mariana_wolken/cleanWorkflow//output//tokens/destroy/destroy.bound3-3lex.PPMIno.LENGTHFOC.SOCPOSnav.tcmx.soc.pac\n"
     ]
    },
    {
     "data": {
      "application/vnd.jupyter.widget-view+json": {
       "model_id": "203f34232283470191a842b1d385b3fd",
       "version_major": 2,
       "version_minor": 0
      },
      "text/plain": [
       "HBox(children=(IntProgress(value=0, max=337463), HTML(value='')))"
      ]
     },
     "metadata": {},
     "output_type": "display_data"
    },
    {
     "name": "stdout",
     "output_type": "stream",
     "text": [
      "\n",
      "\n",
      "************************************\n",
      "function    = compute_association\n",
      "  time      = 1.084 sec\n",
      "************************************\n",
      "\n",
      "\n",
      "************************************\n",
      "function    = compute_distance\n",
      "  time      = 0.003632 sec\n",
      "************************************\n",
      "\n",
      "  Operation: addition 'token-feature weight matrix' X 'socc matrix'...\n",
      "\n",
      "Saving matrix...\n",
      "Stored in file:\n",
      "  /home/projects/semmetrix/mariana_wolken/cleanWorkflow//output//tokens/destroy/destroy.bound3-3lex.PPMIno.LENGTH5000.SOCPOSnav.tcmx.soc.pac\n"
     ]
    },
    {
     "data": {
      "application/vnd.jupyter.widget-view+json": {
       "model_id": "5e1008cde3c04cffa56697bdbf7671de",
       "version_major": 2,
       "version_minor": 0
      },
      "text/plain": [
       "HBox(children=(IntProgress(value=0, max=5462), HTML(value='')))"
      ]
     },
     "metadata": {},
     "output_type": "display_data"
    },
    {
     "name": "stdout",
     "output_type": "stream",
     "text": [
      "\n",
      "\n",
      "************************************\n",
      "function    = compute_association\n",
      "  time      = 0.09439 sec\n",
      "************************************\n",
      "\n",
      "\n",
      "************************************\n",
      "function    = compute_distance\n",
      "  time      = 0.0008645 sec\n",
      "************************************\n",
      "\n",
      "  Operation: addition 'token-feature weight matrix' X 'socc matrix'...\n",
      "\n",
      "Saving matrix...\n",
      "Stored in file:\n",
      "  /home/projects/semmetrix/mariana_wolken/cleanWorkflow//output//tokens/destroy/destroy.bound3-3lex.PPMIselection.LENGTHFOC.SOCPOSall.tcmx.soc.pac\n"
     ]
    },
    {
     "data": {
      "application/vnd.jupyter.widget-view+json": {
       "model_id": "dc0fe90544574677a3807dbce5d594bf",
       "version_major": 2,
       "version_minor": 0
      },
      "text/plain": [
       "HBox(children=(IntProgress(value=0, max=303633), HTML(value='')))"
      ]
     },
     "metadata": {},
     "output_type": "display_data"
    },
    {
     "name": "stdout",
     "output_type": "stream",
     "text": [
      "\n",
      "\n",
      "************************************\n",
      "function    = compute_association\n",
      "  time      = 1.018 sec\n",
      "************************************\n",
      "\n",
      "\n",
      "************************************\n",
      "function    = compute_distance\n",
      "  time      = 0.003407 sec\n",
      "************************************\n",
      "\n",
      "  Operation: addition 'token-feature weight matrix' X 'socc matrix'...\n",
      "\n",
      "Saving matrix...\n",
      "Stored in file:\n",
      "  /home/projects/semmetrix/mariana_wolken/cleanWorkflow//output//tokens/destroy/destroy.bound3-3lex.PPMIselection.LENGTH5000.SOCPOSall.tcmx.soc.pac\n"
     ]
    },
    {
     "data": {
      "application/vnd.jupyter.widget-view+json": {
       "model_id": "f32633af018647fd902c370d52bf1585",
       "version_major": 2,
       "version_minor": 0
      },
      "text/plain": [
       "HBox(children=(IntProgress(value=0, max=4438), HTML(value='')))"
      ]
     },
     "metadata": {},
     "output_type": "display_data"
    },
    {
     "name": "stdout",
     "output_type": "stream",
     "text": [
      "\n",
      "\n",
      "************************************\n",
      "function    = compute_association\n",
      "  time      = 0.08937 sec\n",
      "************************************\n",
      "\n",
      "\n",
      "************************************\n",
      "function    = compute_distance\n",
      "  time      = 0.0008781 sec\n",
      "************************************\n",
      "\n",
      "  Operation: addition 'token-feature weight matrix' X 'socc matrix'...\n",
      "\n",
      "Saving matrix...\n",
      "Stored in file:\n",
      "  /home/projects/semmetrix/mariana_wolken/cleanWorkflow//output//tokens/destroy/destroy.bound3-3lex.PPMIselection.LENGTHFOC.SOCPOSnav.tcmx.soc.pac\n"
     ]
    },
    {
     "data": {
      "application/vnd.jupyter.widget-view+json": {
       "model_id": "4dfa135f43c840c288d42ef4802d54b5",
       "version_major": 2,
       "version_minor": 0
      },
      "text/plain": [
       "HBox(children=(IntProgress(value=0, max=271062), HTML(value='')))"
      ]
     },
     "metadata": {},
     "output_type": "display_data"
    },
    {
     "name": "stdout",
     "output_type": "stream",
     "text": [
      "\n",
      "\n",
      "************************************\n",
      "function    = compute_association\n",
      "  time      = 0.905 sec\n",
      "************************************\n",
      "\n",
      "\n",
      "************************************\n",
      "function    = compute_distance\n",
      "  time      = 0.003272 sec\n",
      "************************************\n",
      "\n",
      "  Operation: addition 'token-feature weight matrix' X 'socc matrix'...\n",
      "\n",
      "Saving matrix...\n",
      "Stored in file:\n",
      "  /home/projects/semmetrix/mariana_wolken/cleanWorkflow//output//tokens/destroy/destroy.bound3-3lex.PPMIselection.LENGTH5000.SOCPOSnav.tcmx.soc.pac\n"
     ]
    },
    {
     "data": {
      "application/vnd.jupyter.widget-view+json": {
       "model_id": "9a166f4b801f4cef8c49192cf0c9ebdb",
       "version_major": 2,
       "version_minor": 0
      },
      "text/plain": [
       "HBox(children=(IntProgress(value=0, max=5462), HTML(value='')))"
      ]
     },
     "metadata": {},
     "output_type": "display_data"
    },
    {
     "name": "stdout",
     "output_type": "stream",
     "text": [
      "\n",
      "\n",
      "************************************\n",
      "function    = compute_association\n",
      "  time      = 0.09149 sec\n",
      "************************************\n",
      "\n",
      "\n",
      "************************************\n",
      "function    = compute_distance\n",
      "  time      = 0.0007188 sec\n",
      "************************************\n",
      "\n",
      "  Operation: addition 'token-feature weight matrix' X 'socc matrix'...\n",
      "\n",
      "Saving matrix...\n",
      "Stored in file:\n",
      "  /home/projects/semmetrix/mariana_wolken/cleanWorkflow//output//tokens/destroy/destroy.bound3-3lex.PPMIweight.LENGTHFOC.SOCPOSall.tcmx.soc.pac\n"
     ]
    },
    {
     "data": {
      "application/vnd.jupyter.widget-view+json": {
       "model_id": "8623b8bdc8af4ed29284d221a1ac29d9",
       "version_major": 2,
       "version_minor": 0
      },
      "text/plain": [
       "HBox(children=(IntProgress(value=0, max=303633), HTML(value='')))"
      ]
     },
     "metadata": {},
     "output_type": "display_data"
    },
    {
     "name": "stdout",
     "output_type": "stream",
     "text": [
      "\n",
      "\n",
      "************************************\n",
      "function    = compute_association\n",
      "  time      = 1.019 sec\n",
      "************************************\n",
      "\n",
      "\n",
      "************************************\n",
      "function    = compute_distance\n",
      "  time      = 0.00324 sec\n",
      "************************************\n",
      "\n",
      "  Operation: addition 'token-feature weight matrix' X 'socc matrix'...\n",
      "\n",
      "Saving matrix...\n",
      "Stored in file:\n",
      "  /home/projects/semmetrix/mariana_wolken/cleanWorkflow//output//tokens/destroy/destroy.bound3-3lex.PPMIweight.LENGTH5000.SOCPOSall.tcmx.soc.pac\n"
     ]
    },
    {
     "data": {
      "application/vnd.jupyter.widget-view+json": {
       "model_id": "f3b7d6d3f4aa4682a191cc53fecb33d3",
       "version_major": 2,
       "version_minor": 0
      },
      "text/plain": [
       "HBox(children=(IntProgress(value=0, max=4438), HTML(value='')))"
      ]
     },
     "metadata": {},
     "output_type": "display_data"
    },
    {
     "name": "stdout",
     "output_type": "stream",
     "text": [
      "\n",
      "\n",
      "************************************\n",
      "function    = compute_association\n",
      "  time      = 0.08963 sec\n",
      "************************************\n",
      "\n",
      "\n",
      "************************************\n",
      "function    = compute_distance\n",
      "  time      = 0.000561 sec\n",
      "************************************\n",
      "\n",
      "  Operation: addition 'token-feature weight matrix' X 'socc matrix'...\n",
      "\n",
      "Saving matrix...\n",
      "Stored in file:\n",
      "  /home/projects/semmetrix/mariana_wolken/cleanWorkflow//output//tokens/destroy/destroy.bound3-3lex.PPMIweight.LENGTHFOC.SOCPOSnav.tcmx.soc.pac\n"
     ]
    },
    {
     "data": {
      "application/vnd.jupyter.widget-view+json": {
       "model_id": "81ccc45d4350495cab0aaaebe76dd08b",
       "version_major": 2,
       "version_minor": 0
      },
      "text/plain": [
       "HBox(children=(IntProgress(value=0, max=271062), HTML(value='')))"
      ]
     },
     "metadata": {},
     "output_type": "display_data"
    },
    {
     "name": "stdout",
     "output_type": "stream",
     "text": [
      "\n",
      "\n",
      "************************************\n",
      "function    = compute_association\n",
      "  time      = 0.9081 sec\n",
      "************************************\n",
      "\n",
      "\n",
      "************************************\n",
      "function    = compute_distance\n",
      "  time      = 0.003158 sec\n",
      "************************************\n",
      "\n",
      "  Operation: addition 'token-feature weight matrix' X 'socc matrix'...\n",
      "\n",
      "Saving matrix...\n",
      "Stored in file:\n",
      "  /home/projects/semmetrix/mariana_wolken/cleanWorkflow//output//tokens/destroy/destroy.bound3-3lex.PPMIweight.LENGTH5000.SOCPOSnav.tcmx.soc.pac\n"
     ]
    },
    {
     "data": {
      "application/vnd.jupyter.widget-view+json": {
       "model_id": "b7f3ae63483942ba969c6ea794425389",
       "version_major": 2,
       "version_minor": 0
      },
      "text/plain": [
       "HBox(children=(IntProgress(value=0, max=41261), HTML(value='')))"
      ]
     },
     "metadata": {},
     "output_type": "display_data"
    },
    {
     "name": "stdout",
     "output_type": "stream",
     "text": [
      "\n",
      "\n",
      "************************************\n",
      "function    = compute_association\n",
      "  time      = 0.2126 sec\n",
      "************************************\n",
      "\n",
      "\n",
      "************************************\n",
      "function    = compute_distance\n",
      "  time      = 0.001478 sec\n",
      "************************************\n",
      "\n",
      "  Operation: addition 'token-feature weight matrix' X 'socc matrix'...\n",
      "\n",
      "Saving matrix...\n",
      "Stored in file:\n",
      "  /home/projects/semmetrix/mariana_wolken/cleanWorkflow//output//tokens/destroy/destroy.bound5-5all.PPMIno.LENGTHFOC.SOCPOSall.tcmx.soc.pac\n"
     ]
    },
    {
     "data": {
      "application/vnd.jupyter.widget-view+json": {
       "model_id": "5a26982e013b49efbab4a699d04edfbe",
       "version_major": 2,
       "version_minor": 0
      },
      "text/plain": [
       "HBox(children=(IntProgress(value=0, max=866454), HTML(value='')))"
      ]
     },
     "metadata": {},
     "output_type": "display_data"
    },
    {
     "name": "stdout",
     "output_type": "stream",
     "text": [
      "\n",
      "\n",
      "************************************\n",
      "function    = compute_association\n",
      "  time      = 2.691 sec\n",
      "************************************\n",
      "\n",
      "\n",
      "************************************\n",
      "function    = compute_distance\n",
      "  time      = 0.01108 sec\n",
      "************************************\n",
      "\n",
      "  Operation: addition 'token-feature weight matrix' X 'socc matrix'...\n",
      "\n",
      "Saving matrix...\n",
      "Stored in file:\n",
      "  /home/projects/semmetrix/mariana_wolken/cleanWorkflow//output//tokens/destroy/destroy.bound5-5all.PPMIno.LENGTH5000.SOCPOSall.tcmx.soc.pac\n"
     ]
    },
    {
     "data": {
      "application/vnd.jupyter.widget-view+json": {
       "model_id": "55f4a8a8903f40a1b6878c914e9a323b",
       "version_major": 2,
       "version_minor": 0
      },
      "text/plain": [
       "HBox(children=(IntProgress(value=0, max=22023), HTML(value='')))"
      ]
     },
     "metadata": {},
     "output_type": "display_data"
    },
    {
     "name": "stdout",
     "output_type": "stream",
     "text": [
      "\n",
      "\n",
      "************************************\n",
      "function    = compute_association\n",
      "  time      = 0.147 sec\n",
      "************************************\n",
      "\n",
      "\n",
      "************************************\n",
      "function    = compute_distance\n",
      "  time      = 0.001284 sec\n",
      "************************************\n",
      "\n",
      "  Operation: addition 'token-feature weight matrix' X 'socc matrix'...\n",
      "\n",
      "Saving matrix...\n",
      "Stored in file:\n",
      "  /home/projects/semmetrix/mariana_wolken/cleanWorkflow//output//tokens/destroy/destroy.bound5-5all.PPMIno.LENGTHFOC.SOCPOSnav.tcmx.soc.pac\n"
     ]
    },
    {
     "data": {
      "application/vnd.jupyter.widget-view+json": {
       "model_id": "a4becd617a4d4f2a94e2d10e1718d3ee",
       "version_major": 2,
       "version_minor": 0
      },
      "text/plain": [
       "HBox(children=(IntProgress(value=0, max=804478), HTML(value='')))"
      ]
     },
     "metadata": {},
     "output_type": "display_data"
    },
    {
     "name": "stdout",
     "output_type": "stream",
     "text": [
      "\n",
      "\n",
      "************************************\n",
      "function    = compute_association\n",
      "  time      = 2.504 sec\n",
      "************************************\n",
      "\n",
      "\n",
      "************************************\n",
      "function    = compute_distance\n",
      "  time      = 0.01163 sec\n",
      "************************************\n",
      "\n",
      "  Operation: addition 'token-feature weight matrix' X 'socc matrix'...\n",
      "\n",
      "Saving matrix...\n",
      "Stored in file:\n",
      "  /home/projects/semmetrix/mariana_wolken/cleanWorkflow//output//tokens/destroy/destroy.bound5-5all.PPMIno.LENGTH5000.SOCPOSnav.tcmx.soc.pac\n"
     ]
    },
    {
     "data": {
      "application/vnd.jupyter.widget-view+json": {
       "model_id": "701303326cf348e2b81dfbe0b9fc61a6",
       "version_major": 2,
       "version_minor": 0
      },
      "text/plain": [
       "HBox(children=(IntProgress(value=0, max=21980), HTML(value='')))"
      ]
     },
     "metadata": {},
     "output_type": "display_data"
    },
    {
     "name": "stdout",
     "output_type": "stream",
     "text": [
      "\n",
      "\n",
      "************************************\n",
      "function    = compute_association\n",
      "  time      = 0.1863 sec\n",
      "************************************\n",
      "\n",
      "\n",
      "************************************\n",
      "function    = compute_distance\n",
      "  time      = 0.001029 sec\n",
      "************************************\n",
      "\n",
      "  Operation: addition 'token-feature weight matrix' X 'socc matrix'...\n",
      "\n",
      "Saving matrix...\n",
      "Stored in file:\n",
      "  /home/projects/semmetrix/mariana_wolken/cleanWorkflow//output//tokens/destroy/destroy.bound5-5all.PPMIselection.LENGTHFOC.SOCPOSall.tcmx.soc.pac\n"
     ]
    },
    {
     "data": {
      "application/vnd.jupyter.widget-view+json": {
       "model_id": "fbc910dad1ce438eb382337c8b88b5ad",
       "version_major": 2,
       "version_minor": 0
      },
      "text/plain": [
       "HBox(children=(IntProgress(value=0, max=617502), HTML(value='')))"
      ]
     },
     "metadata": {},
     "output_type": "display_data"
    },
    {
     "name": "stdout",
     "output_type": "stream",
     "text": [
      "\n",
      "\n",
      "************************************\n",
      "function    = compute_association\n",
      "  time      = 1.92 sec\n",
      "************************************\n",
      "\n",
      "\n",
      "************************************\n",
      "function    = compute_distance\n",
      "  time      = 0.007219 sec\n",
      "************************************\n",
      "\n",
      "  Operation: addition 'token-feature weight matrix' X 'socc matrix'...\n",
      "\n",
      "Saving matrix...\n",
      "Stored in file:\n",
      "  /home/projects/semmetrix/mariana_wolken/cleanWorkflow//output//tokens/destroy/destroy.bound5-5all.PPMIselection.LENGTH5000.SOCPOSall.tcmx.soc.pac\n"
     ]
    },
    {
     "data": {
      "application/vnd.jupyter.widget-view+json": {
       "model_id": "3e6f88b1c2ee439c9bfaf4370dd87add",
       "version_major": 2,
       "version_minor": 0
      },
      "text/plain": [
       "HBox(children=(IntProgress(value=0, max=12517), HTML(value='')))"
      ]
     },
     "metadata": {},
     "output_type": "display_data"
    },
    {
     "name": "stdout",
     "output_type": "stream",
     "text": [
      "\n",
      "\n",
      "************************************\n",
      "function    = compute_association\n",
      "  time      = 0.1146 sec\n",
      "************************************\n",
      "\n",
      "\n",
      "************************************\n",
      "function    = compute_distance\n",
      "  time      = 0.0008993 sec\n",
      "************************************\n",
      "\n",
      "  Operation: addition 'token-feature weight matrix' X 'socc matrix'...\n",
      "\n",
      "Saving matrix...\n",
      "Stored in file:\n",
      "  /home/projects/semmetrix/mariana_wolken/cleanWorkflow//output//tokens/destroy/destroy.bound5-5all.PPMIselection.LENGTHFOC.SOCPOSnav.tcmx.soc.pac\n"
     ]
    },
    {
     "data": {
      "application/vnd.jupyter.widget-view+json": {
       "model_id": "f505c4efc8a245969c58c84e1f0fcd61",
       "version_major": 2,
       "version_minor": 0
      },
      "text/plain": [
       "HBox(children=(IntProgress(value=0, max=564341), HTML(value='')))"
      ]
     },
     "metadata": {},
     "output_type": "display_data"
    },
    {
     "name": "stdout",
     "output_type": "stream",
     "text": [
      "\n",
      "\n",
      "************************************\n",
      "function    = compute_association\n",
      "  time      = 1.756 sec\n",
      "************************************\n",
      "\n",
      "\n",
      "************************************\n",
      "function    = compute_distance\n",
      "  time      = 0.006953 sec\n",
      "************************************\n",
      "\n",
      "  Operation: addition 'token-feature weight matrix' X 'socc matrix'...\n",
      "\n",
      "Saving matrix...\n",
      "Stored in file:\n",
      "  /home/projects/semmetrix/mariana_wolken/cleanWorkflow//output//tokens/destroy/destroy.bound5-5all.PPMIselection.LENGTH5000.SOCPOSnav.tcmx.soc.pac\n"
     ]
    },
    {
     "data": {
      "application/vnd.jupyter.widget-view+json": {
       "model_id": "f09fcb53a3584974b8d325f7ecd6ff2a",
       "version_major": 2,
       "version_minor": 0
      },
      "text/plain": [
       "HBox(children=(IntProgress(value=0, max=21980), HTML(value='')))"
      ]
     },
     "metadata": {},
     "output_type": "display_data"
    },
    {
     "name": "stdout",
     "output_type": "stream",
     "text": [
      "\n",
      "\n",
      "************************************\n",
      "function    = compute_association\n",
      "  time      = 0.1433 sec\n",
      "************************************\n",
      "\n",
      "\n",
      "************************************\n",
      "function    = compute_distance\n",
      "  time      = 0.000978 sec\n",
      "************************************\n",
      "\n",
      "  Operation: addition 'token-feature weight matrix' X 'socc matrix'...\n",
      "\n",
      "Saving matrix...\n",
      "Stored in file:\n",
      "  /home/projects/semmetrix/mariana_wolken/cleanWorkflow//output//tokens/destroy/destroy.bound5-5all.PPMIweight.LENGTHFOC.SOCPOSall.tcmx.soc.pac\n"
     ]
    },
    {
     "data": {
      "application/vnd.jupyter.widget-view+json": {
       "model_id": "eb83ab54404d495699e99076bbc6fba6",
       "version_major": 2,
       "version_minor": 0
      },
      "text/plain": [
       "HBox(children=(IntProgress(value=0, max=617502), HTML(value='')))"
      ]
     },
     "metadata": {},
     "output_type": "display_data"
    },
    {
     "name": "stdout",
     "output_type": "stream",
     "text": [
      "\n",
      "\n",
      "************************************\n",
      "function    = compute_association\n",
      "  time      = 1.963 sec\n",
      "************************************\n",
      "\n",
      "\n",
      "************************************\n",
      "function    = compute_distance\n",
      "  time      = 0.007147 sec\n",
      "************************************\n",
      "\n",
      "  Operation: addition 'token-feature weight matrix' X 'socc matrix'...\n",
      "\n",
      "Saving matrix...\n",
      "Stored in file:\n",
      "  /home/projects/semmetrix/mariana_wolken/cleanWorkflow//output//tokens/destroy/destroy.bound5-5all.PPMIweight.LENGTH5000.SOCPOSall.tcmx.soc.pac\n"
     ]
    },
    {
     "data": {
      "application/vnd.jupyter.widget-view+json": {
       "model_id": "ee48a95e3f674954b70a74e279eca5fb",
       "version_major": 2,
       "version_minor": 0
      },
      "text/plain": [
       "HBox(children=(IntProgress(value=0, max=12517), HTML(value='')))"
      ]
     },
     "metadata": {},
     "output_type": "display_data"
    },
    {
     "name": "stdout",
     "output_type": "stream",
     "text": [
      "\n",
      "\n",
      "************************************\n",
      "function    = compute_association\n",
      "  time      = 0.1139 sec\n",
      "************************************\n",
      "\n",
      "\n",
      "************************************\n",
      "function    = compute_distance\n",
      "  time      = 0.0008738 sec\n",
      "************************************\n",
      "\n",
      "  Operation: addition 'token-feature weight matrix' X 'socc matrix'...\n",
      "\n",
      "Saving matrix...\n",
      "Stored in file:\n",
      "  /home/projects/semmetrix/mariana_wolken/cleanWorkflow//output//tokens/destroy/destroy.bound5-5all.PPMIweight.LENGTHFOC.SOCPOSnav.tcmx.soc.pac\n"
     ]
    },
    {
     "data": {
      "application/vnd.jupyter.widget-view+json": {
       "model_id": "5337b25f2f324ab087e7f9b0a22cc003",
       "version_major": 2,
       "version_minor": 0
      },
      "text/plain": [
       "HBox(children=(IntProgress(value=0, max=564341), HTML(value='')))"
      ]
     },
     "metadata": {},
     "output_type": "display_data"
    },
    {
     "name": "stdout",
     "output_type": "stream",
     "text": [
      "\n",
      "\n",
      "************************************\n",
      "function    = compute_association\n",
      "  time      = 1.765 sec\n",
      "************************************\n",
      "\n",
      "\n",
      "************************************\n",
      "function    = compute_distance\n",
      "  time      = 0.006868 sec\n",
      "************************************\n",
      "\n",
      "  Operation: addition 'token-feature weight matrix' X 'socc matrix'...\n",
      "\n",
      "Saving matrix...\n",
      "Stored in file:\n",
      "  /home/projects/semmetrix/mariana_wolken/cleanWorkflow//output//tokens/destroy/destroy.bound5-5all.PPMIweight.LENGTH5000.SOCPOSnav.tcmx.soc.pac\n"
     ]
    },
    {
     "data": {
      "application/vnd.jupyter.widget-view+json": {
       "model_id": "0188d3fae4244b9f975fc643c5572c8a",
       "version_major": 2,
       "version_minor": 0
      },
      "text/plain": [
       "HBox(children=(IntProgress(value=0, max=18866), HTML(value='')))"
      ]
     },
     "metadata": {},
     "output_type": "display_data"
    },
    {
     "name": "stdout",
     "output_type": "stream",
     "text": [
      "\n",
      "\n",
      "************************************\n",
      "function    = compute_association\n",
      "  time      = 0.1357 sec\n",
      "************************************\n",
      "\n",
      "\n",
      "************************************\n",
      "function    = compute_distance\n",
      "  time      = 0.0008879 sec\n",
      "************************************\n",
      "\n",
      "  Operation: addition 'token-feature weight matrix' X 'socc matrix'...\n",
      "\n",
      "Saving matrix...\n",
      "Stored in file:\n",
      "  /home/projects/semmetrix/mariana_wolken/cleanWorkflow//output//tokens/destroy/destroy.bound5-5lex.PPMIno.LENGTHFOC.SOCPOSall.tcmx.soc.pac\n"
     ]
    },
    {
     "data": {
      "application/vnd.jupyter.widget-view+json": {
       "model_id": "9a0dc7e028c7470bb2683073683b3921",
       "version_major": 2,
       "version_minor": 0
      },
      "text/plain": [
       "HBox(children=(IntProgress(value=0, max=580877), HTML(value='')))"
      ]
     },
     "metadata": {},
     "output_type": "display_data"
    },
    {
     "name": "stdout",
     "output_type": "stream",
     "text": [
      "\n",
      "\n",
      "************************************\n",
      "function    = compute_association\n",
      "  time      = 1.765 sec\n",
      "************************************\n",
      "\n",
      "\n",
      "************************************\n",
      "function    = compute_distance\n",
      "  time      = 0.006382 sec\n",
      "************************************\n",
      "\n",
      "  Operation: addition 'token-feature weight matrix' X 'socc matrix'...\n",
      "\n",
      "Saving matrix...\n",
      "Stored in file:\n",
      "  /home/projects/semmetrix/mariana_wolken/cleanWorkflow//output//tokens/destroy/destroy.bound5-5lex.PPMIno.LENGTH5000.SOCPOSall.tcmx.soc.pac\n"
     ]
    },
    {
     "data": {
      "application/vnd.jupyter.widget-view+json": {
       "model_id": "c3c63a1d2a324be3922ba0b8722df7f6",
       "version_major": 2,
       "version_minor": 0
      },
      "text/plain": [
       "HBox(children=(IntProgress(value=0, max=14996), HTML(value='')))"
      ]
     },
     "metadata": {},
     "output_type": "display_data"
    },
    {
     "name": "stdout",
     "output_type": "stream",
     "text": [
      "\n",
      "\n",
      "************************************\n",
      "function    = compute_association\n",
      "  time      = 0.1201 sec\n",
      "************************************\n",
      "\n",
      "\n",
      "************************************\n",
      "function    = compute_distance\n",
      "  time      = 0.0008733 sec\n",
      "************************************\n",
      "\n",
      "  Operation: addition 'token-feature weight matrix' X 'socc matrix'...\n",
      "\n",
      "Saving matrix...\n",
      "Stored in file:\n",
      "  /home/projects/semmetrix/mariana_wolken/cleanWorkflow//output//tokens/destroy/destroy.bound5-5lex.PPMIno.LENGTHFOC.SOCPOSnav.tcmx.soc.pac\n"
     ]
    },
    {
     "data": {
      "application/vnd.jupyter.widget-view+json": {
       "model_id": "ebbd8288749a462bb5e000e58b66ecb8",
       "version_major": 2,
       "version_minor": 0
      },
      "text/plain": [
       "HBox(children=(IntProgress(value=0, max=529751), HTML(value='')))"
      ]
     },
     "metadata": {},
     "output_type": "display_data"
    },
    {
     "name": "stdout",
     "output_type": "stream",
     "text": [
      "\n",
      "\n",
      "************************************\n",
      "function    = compute_association\n",
      "  time      = 1.652 sec\n",
      "************************************\n",
      "\n",
      "\n",
      "************************************\n",
      "function    = compute_distance\n",
      "  time      = 0.006263 sec\n",
      "************************************\n",
      "\n",
      "  Operation: addition 'token-feature weight matrix' X 'socc matrix'...\n",
      "\n",
      "Saving matrix...\n",
      "Stored in file:\n",
      "  /home/projects/semmetrix/mariana_wolken/cleanWorkflow//output//tokens/destroy/destroy.bound5-5lex.PPMIno.LENGTH5000.SOCPOSnav.tcmx.soc.pac\n"
     ]
    },
    {
     "data": {
      "application/vnd.jupyter.widget-view+json": {
       "model_id": "25617d269df743e0957a7a927aae5fdd",
       "version_major": 2,
       "version_minor": 0
      },
      "text/plain": [
       "HBox(children=(IntProgress(value=0, max=11382), HTML(value='')))"
      ]
     },
     "metadata": {},
     "output_type": "display_data"
    },
    {
     "name": "stdout",
     "output_type": "stream",
     "text": [
      "\n",
      "\n",
      "************************************\n",
      "function    = compute_association\n",
      "  time      = 0.1095 sec\n",
      "************************************\n",
      "\n",
      "\n",
      "************************************\n",
      "function    = compute_distance\n",
      "  time      = 0.0007095 sec\n",
      "************************************\n",
      "\n",
      "  Operation: addition 'token-feature weight matrix' X 'socc matrix'...\n",
      "\n",
      "Saving matrix...\n",
      "Stored in file:\n",
      "  /home/projects/semmetrix/mariana_wolken/cleanWorkflow//output//tokens/destroy/destroy.bound5-5lex.PPMIselection.LENGTHFOC.SOCPOSall.tcmx.soc.pac\n"
     ]
    },
    {
     "data": {
      "application/vnd.jupyter.widget-view+json": {
       "model_id": "84e1b7fded344a7da7c19970404c0792",
       "version_major": 2,
       "version_minor": 0
      },
      "text/plain": [
       "HBox(children=(IntProgress(value=0, max=443196), HTML(value='')))"
      ]
     },
     "metadata": {},
     "output_type": "display_data"
    },
    {
     "name": "stdout",
     "output_type": "stream",
     "text": [
      "\n",
      "\n",
      "************************************\n",
      "function    = compute_association\n",
      "  time      = 1.394 sec\n",
      "************************************\n",
      "\n",
      "\n",
      "************************************\n",
      "function    = compute_distance\n",
      "  time      = 0.004869 sec\n",
      "************************************\n",
      "\n",
      "  Operation: addition 'token-feature weight matrix' X 'socc matrix'...\n",
      "\n",
      "Saving matrix...\n",
      "Stored in file:\n",
      "  /home/projects/semmetrix/mariana_wolken/cleanWorkflow//output//tokens/destroy/destroy.bound5-5lex.PPMIselection.LENGTH5000.SOCPOSall.tcmx.soc.pac\n"
     ]
    },
    {
     "data": {
      "application/vnd.jupyter.widget-view+json": {
       "model_id": "779f9d505d594608b3ebf9931f8a087a",
       "version_major": 2,
       "version_minor": 0
      },
      "text/plain": [
       "HBox(children=(IntProgress(value=0, max=9096), HTML(value='')))"
      ]
     },
     "metadata": {},
     "output_type": "display_data"
    },
    {
     "name": "stdout",
     "output_type": "stream",
     "text": [
      "\n",
      "\n",
      "************************************\n",
      "function    = compute_association\n",
      "  time      = 0.1022 sec\n",
      "************************************\n",
      "\n",
      "\n",
      "************************************\n",
      "function    = compute_distance\n",
      "  time      = 0.0006917 sec\n",
      "************************************\n",
      "\n",
      "  Operation: addition 'token-feature weight matrix' X 'socc matrix'...\n",
      "\n",
      "Saving matrix...\n",
      "Stored in file:\n",
      "  /home/projects/semmetrix/mariana_wolken/cleanWorkflow//output//tokens/destroy/destroy.bound5-5lex.PPMIselection.LENGTHFOC.SOCPOSnav.tcmx.soc.pac\n"
     ]
    },
    {
     "data": {
      "application/vnd.jupyter.widget-view+json": {
       "model_id": "642446e73efd47d080bcf701297c3e02",
       "version_major": 2,
       "version_minor": 0
      },
      "text/plain": [
       "HBox(children=(IntProgress(value=0, max=397751), HTML(value='')))"
      ]
     },
     "metadata": {},
     "output_type": "display_data"
    },
    {
     "name": "stdout",
     "output_type": "stream",
     "text": [
      "\n",
      "\n",
      "************************************\n",
      "function    = compute_association\n",
      "  time      = 1.26 sec\n",
      "************************************\n",
      "\n",
      "\n",
      "************************************\n",
      "function    = compute_distance\n",
      "  time      = 0.004791 sec\n",
      "************************************\n",
      "\n",
      "  Operation: addition 'token-feature weight matrix' X 'socc matrix'...\n",
      "\n",
      "Saving matrix...\n",
      "Stored in file:\n",
      "  /home/projects/semmetrix/mariana_wolken/cleanWorkflow//output//tokens/destroy/destroy.bound5-5lex.PPMIselection.LENGTH5000.SOCPOSnav.tcmx.soc.pac\n"
     ]
    },
    {
     "data": {
      "application/vnd.jupyter.widget-view+json": {
       "model_id": "926f8e47d5fc4fa6a07b44d0ba54138c",
       "version_major": 2,
       "version_minor": 0
      },
      "text/plain": [
       "HBox(children=(IntProgress(value=0, max=11382), HTML(value='')))"
      ]
     },
     "metadata": {},
     "output_type": "display_data"
    },
    {
     "name": "stdout",
     "output_type": "stream",
     "text": [
      "\n",
      "\n",
      "************************************\n",
      "function    = compute_association\n",
      "  time      = 0.1141 sec\n",
      "************************************\n",
      "\n",
      "\n",
      "************************************\n",
      "function    = compute_distance\n",
      "  time      = 0.0007432 sec\n",
      "************************************\n",
      "\n",
      "  Operation: addition 'token-feature weight matrix' X 'socc matrix'...\n",
      "\n",
      "Saving matrix...\n",
      "Stored in file:\n",
      "  /home/projects/semmetrix/mariana_wolken/cleanWorkflow//output//tokens/destroy/destroy.bound5-5lex.PPMIweight.LENGTHFOC.SOCPOSall.tcmx.soc.pac\n"
     ]
    },
    {
     "data": {
      "application/vnd.jupyter.widget-view+json": {
       "model_id": "e7c6a70a09824097bbf6e9e3aef79078",
       "version_major": 2,
       "version_minor": 0
      },
      "text/plain": [
       "HBox(children=(IntProgress(value=0, max=443196), HTML(value='')))"
      ]
     },
     "metadata": {},
     "output_type": "display_data"
    },
    {
     "name": "stdout",
     "output_type": "stream",
     "text": [
      "\n",
      "\n",
      "************************************\n",
      "function    = compute_association\n",
      "  time      = 1.397 sec\n",
      "************************************\n",
      "\n",
      "\n",
      "************************************\n",
      "function    = compute_distance\n",
      "  time      = 0.004876 sec\n",
      "************************************\n",
      "\n",
      "  Operation: addition 'token-feature weight matrix' X 'socc matrix'...\n",
      "\n",
      "Saving matrix...\n",
      "Stored in file:\n",
      "  /home/projects/semmetrix/mariana_wolken/cleanWorkflow//output//tokens/destroy/destroy.bound5-5lex.PPMIweight.LENGTH5000.SOCPOSall.tcmx.soc.pac\n"
     ]
    },
    {
     "data": {
      "application/vnd.jupyter.widget-view+json": {
       "model_id": "5e04ba84a3324f4aa02455fed7e7a335",
       "version_major": 2,
       "version_minor": 0
      },
      "text/plain": [
       "HBox(children=(IntProgress(value=0, max=9096), HTML(value='')))"
      ]
     },
     "metadata": {},
     "output_type": "display_data"
    },
    {
     "name": "stdout",
     "output_type": "stream",
     "text": [
      "\n",
      "\n",
      "************************************\n",
      "function    = compute_association\n",
      "  time      = 0.1023 sec\n",
      "************************************\n",
      "\n",
      "\n",
      "************************************\n",
      "function    = compute_distance\n",
      "  time      = 0.0007215 sec\n",
      "************************************\n",
      "\n",
      "  Operation: addition 'token-feature weight matrix' X 'socc matrix'...\n",
      "\n",
      "Saving matrix...\n",
      "Stored in file:\n",
      "  /home/projects/semmetrix/mariana_wolken/cleanWorkflow//output//tokens/destroy/destroy.bound5-5lex.PPMIweight.LENGTHFOC.SOCPOSnav.tcmx.soc.pac\n"
     ]
    },
    {
     "data": {
      "application/vnd.jupyter.widget-view+json": {
       "model_id": "a213da30a2d24f3a8961ac26dbe33bcc",
       "version_major": 2,
       "version_minor": 0
      },
      "text/plain": [
       "HBox(children=(IntProgress(value=0, max=397751), HTML(value='')))"
      ]
     },
     "metadata": {},
     "output_type": "display_data"
    },
    {
     "name": "stdout",
     "output_type": "stream",
     "text": [
      "\n",
      "\n",
      "************************************\n",
      "function    = compute_association\n",
      "  time      = 1.293 sec\n",
      "************************************\n",
      "\n",
      "\n",
      "************************************\n",
      "function    = compute_distance\n",
      "  time      = 0.004869 sec\n",
      "************************************\n",
      "\n",
      "  Operation: addition 'token-feature weight matrix' X 'socc matrix'...\n",
      "\n",
      "Saving matrix...\n",
      "Stored in file:\n",
      "  /home/projects/semmetrix/mariana_wolken/cleanWorkflow//output//tokens/destroy/destroy.bound5-5lex.PPMIweight.LENGTH5000.SOCPOSnav.tcmx.soc.pac\n"
     ]
    },
    {
     "data": {
      "application/vnd.jupyter.widget-view+json": {
       "model_id": "b38662f268c54006a4c7b8357ad56938",
       "version_major": 2,
       "version_minor": 0
      },
      "text/plain": [
       "HBox(children=(IntProgress(value=0, max=181198), HTML(value='')))"
      ]
     },
     "metadata": {},
     "output_type": "display_data"
    },
    {
     "name": "stdout",
     "output_type": "stream",
     "text": [
      "\n",
      "\n",
      "************************************\n",
      "function    = compute_association\n",
      "  time      = 0.629 sec\n",
      "************************************\n",
      "\n",
      "\n",
      "************************************\n",
      "function    = compute_distance\n",
      "  time      = 0.005537 sec\n",
      "************************************\n",
      "\n",
      "  Operation: addition 'token-feature weight matrix' X 'socc matrix'...\n",
      "\n",
      "Saving matrix...\n",
      "Stored in file:\n",
      "  /home/projects/semmetrix/mariana_wolken/cleanWorkflow//output//tokens/destroy/destroy.nobound10-10all.PPMIno.LENGTHFOC.SOCPOSall.tcmx.soc.pac\n"
     ]
    },
    {
     "data": {
      "application/vnd.jupyter.widget-view+json": {
       "model_id": "8eac48df1ab646fca39b9c49e71f7e8c",
       "version_major": 2,
       "version_minor": 0
      },
      "text/plain": [
       "HBox(children=(IntProgress(value=0, max=1780457), HTML(value='')))"
      ]
     },
     "metadata": {},
     "output_type": "display_data"
    },
    {
     "name": "stdout",
     "output_type": "stream",
     "text": [
      "\n",
      "\n",
      "************************************\n",
      "function    = compute_association\n",
      "  time      = 5.463 sec\n",
      "************************************\n",
      "\n",
      "\n",
      "************************************\n",
      "function    = compute_distance\n",
      "  time      = 0.04231 sec\n",
      "************************************\n",
      "\n",
      "  Operation: addition 'token-feature weight matrix' X 'socc matrix'...\n",
      "\n",
      "Saving matrix...\n",
      "Stored in file:\n",
      "  /home/projects/semmetrix/mariana_wolken/cleanWorkflow//output//tokens/destroy/destroy.nobound10-10all.PPMIno.LENGTH5000.SOCPOSall.tcmx.soc.pac\n"
     ]
    },
    {
     "data": {
      "application/vnd.jupyter.widget-view+json": {
       "model_id": "7b8da48a88c541c6b82bb37c7d998a73",
       "version_major": 2,
       "version_minor": 0
      },
      "text/plain": [
       "HBox(children=(IntProgress(value=0, max=94573), HTML(value='')))"
      ]
     },
     "metadata": {},
     "output_type": "display_data"
    },
    {
     "name": "stdout",
     "output_type": "stream",
     "text": [
      "\n",
      "\n",
      "************************************\n",
      "function    = compute_association\n",
      "  time      = 0.4048 sec\n",
      "************************************\n",
      "\n",
      "\n",
      "************************************\n",
      "function    = compute_distance\n",
      "  time      = 0.004593 sec\n",
      "************************************\n",
      "\n",
      "  Operation: addition 'token-feature weight matrix' X 'socc matrix'...\n",
      "\n",
      "Saving matrix...\n",
      "Stored in file:\n",
      "  /home/projects/semmetrix/mariana_wolken/cleanWorkflow//output//tokens/destroy/destroy.nobound10-10all.PPMIno.LENGTHFOC.SOCPOSnav.tcmx.soc.pac\n"
     ]
    },
    {
     "data": {
      "application/vnd.jupyter.widget-view+json": {
       "model_id": "8afd02d30e614a7a8781d7b0f85614bd",
       "version_major": 2,
       "version_minor": 0
      },
      "text/plain": [
       "HBox(children=(IntProgress(value=0, max=1618725), HTML(value='')))"
      ]
     },
     "metadata": {},
     "output_type": "display_data"
    },
    {
     "name": "stdout",
     "output_type": "stream",
     "text": [
      "\n",
      "\n",
      "************************************\n",
      "function    = compute_association\n",
      "  time      = 5.001 sec\n",
      "************************************\n",
      "\n",
      "\n",
      "************************************\n",
      "function    = compute_distance\n",
      "  time      = 0.03855 sec\n",
      "************************************\n",
      "\n",
      "  Operation: addition 'token-feature weight matrix' X 'socc matrix'...\n",
      "\n",
      "Saving matrix...\n",
      "Stored in file:\n",
      "  /home/projects/semmetrix/mariana_wolken/cleanWorkflow//output//tokens/destroy/destroy.nobound10-10all.PPMIno.LENGTH5000.SOCPOSnav.tcmx.soc.pac\n"
     ]
    },
    {
     "data": {
      "application/vnd.jupyter.widget-view+json": {
       "model_id": "c65f7d51d1b94031b7a1e47e61e9d81e",
       "version_major": 2,
       "version_minor": 0
      },
      "text/plain": [
       "HBox(children=(IntProgress(value=0, max=78577), HTML(value='')))"
      ]
     },
     "metadata": {},
     "output_type": "display_data"
    },
    {
     "name": "stdout",
     "output_type": "stream",
     "text": [
      "\n",
      "\n",
      "************************************\n",
      "function    = compute_association\n",
      "  time      = 0.3183 sec\n",
      "************************************\n",
      "\n",
      "\n",
      "************************************\n",
      "function    = compute_distance\n",
      "  time      = 0.002484 sec\n",
      "************************************\n",
      "\n",
      "  Operation: addition 'token-feature weight matrix' X 'socc matrix'...\n",
      "\n",
      "Saving matrix...\n",
      "Stored in file:\n",
      "  /home/projects/semmetrix/mariana_wolken/cleanWorkflow//output//tokens/destroy/destroy.nobound10-10all.PPMIselection.LENGTHFOC.SOCPOSall.tcmx.soc.pac\n"
     ]
    },
    {
     "data": {
      "application/vnd.jupyter.widget-view+json": {
       "model_id": "d1b92230a3aa4c058ec1fc4bb54216ed",
       "version_major": 2,
       "version_minor": 0
      },
      "text/plain": [
       "HBox(children=(IntProgress(value=0, max=1156629), HTML(value='')))"
      ]
     },
     "metadata": {},
     "output_type": "display_data"
    },
    {
     "name": "stdout",
     "output_type": "stream",
     "text": [
      "\n",
      "\n",
      "************************************\n",
      "function    = compute_association\n",
      "  time      = 3.58 sec\n",
      "************************************\n",
      "\n",
      "\n",
      "************************************\n",
      "function    = compute_distance\n",
      "  time      = 0.02118 sec\n",
      "************************************\n",
      "\n",
      "  Operation: addition 'token-feature weight matrix' X 'socc matrix'...\n",
      "\n",
      "Saving matrix...\n",
      "Stored in file:\n",
      "  /home/projects/semmetrix/mariana_wolken/cleanWorkflow//output//tokens/destroy/destroy.nobound10-10all.PPMIselection.LENGTH5000.SOCPOSall.tcmx.soc.pac\n"
     ]
    },
    {
     "data": {
      "application/vnd.jupyter.widget-view+json": {
       "model_id": "3e134aedcbe44e17ae158bb16f3f48de",
       "version_major": 2,
       "version_minor": 0
      },
      "text/plain": [
       "HBox(children=(IntProgress(value=0, max=41851), HTML(value='')))"
      ]
     },
     "metadata": {},
     "output_type": "display_data"
    },
    {
     "name": "stdout",
     "output_type": "stream",
     "text": [
      "\n",
      "\n",
      "************************************\n",
      "function    = compute_association\n",
      "  time      = 0.2047 sec\n",
      "************************************\n",
      "\n",
      "\n",
      "************************************\n",
      "function    = compute_distance\n",
      "  time      = 0.002087 sec\n",
      "************************************\n",
      "\n",
      "  Operation: addition 'token-feature weight matrix' X 'socc matrix'...\n",
      "\n",
      "Saving matrix...\n",
      "Stored in file:\n",
      "  /home/projects/semmetrix/mariana_wolken/cleanWorkflow//output//tokens/destroy/destroy.nobound10-10all.PPMIselection.LENGTHFOC.SOCPOSnav.tcmx.soc.pac\n"
     ]
    },
    {
     "data": {
      "application/vnd.jupyter.widget-view+json": {
       "model_id": "30079b65a8234d4caa935369576b28c5",
       "version_major": 2,
       "version_minor": 0
      },
      "text/plain": [
       "HBox(children=(IntProgress(value=0, max=1038086), HTML(value='')))"
      ]
     },
     "metadata": {},
     "output_type": "display_data"
    },
    {
     "name": "stdout",
     "output_type": "stream",
     "text": [
      "\n",
      "\n",
      "************************************\n",
      "function    = compute_association\n",
      "  time      = 3.397 sec\n",
      "************************************\n",
      "\n",
      "\n",
      "************************************\n",
      "function    = compute_distance\n",
      "  time      = 0.02062 sec\n",
      "************************************\n",
      "\n",
      "  Operation: addition 'token-feature weight matrix' X 'socc matrix'...\n",
      "\n",
      "Saving matrix...\n",
      "Stored in file:\n",
      "  /home/projects/semmetrix/mariana_wolken/cleanWorkflow//output//tokens/destroy/destroy.nobound10-10all.PPMIselection.LENGTH5000.SOCPOSnav.tcmx.soc.pac\n"
     ]
    },
    {
     "data": {
      "application/vnd.jupyter.widget-view+json": {
       "model_id": "fb21e6642f2848b4a71e22b3c85f044a",
       "version_major": 2,
       "version_minor": 0
      },
      "text/plain": [
       "HBox(children=(IntProgress(value=0, max=78577), HTML(value='')))"
      ]
     },
     "metadata": {},
     "output_type": "display_data"
    },
    {
     "name": "stdout",
     "output_type": "stream",
     "text": [
      "\n",
      "\n",
      "************************************\n",
      "function    = compute_association\n",
      "  time      = 0.3358 sec\n",
      "************************************\n",
      "\n",
      "\n",
      "************************************\n",
      "function    = compute_distance\n",
      "  time      = 0.002592 sec\n",
      "************************************\n",
      "\n",
      "  Operation: addition 'token-feature weight matrix' X 'socc matrix'...\n",
      "\n",
      "Saving matrix...\n",
      "Stored in file:\n",
      "  /home/projects/semmetrix/mariana_wolken/cleanWorkflow//output//tokens/destroy/destroy.nobound10-10all.PPMIweight.LENGTHFOC.SOCPOSall.tcmx.soc.pac\n"
     ]
    },
    {
     "data": {
      "application/vnd.jupyter.widget-view+json": {
       "model_id": "5084085c5d1a40ada7a2e1451acd69f7",
       "version_major": 2,
       "version_minor": 0
      },
      "text/plain": [
       "HBox(children=(IntProgress(value=0, max=1156629), HTML(value='')))"
      ]
     },
     "metadata": {},
     "output_type": "display_data"
    },
    {
     "name": "stdout",
     "output_type": "stream",
     "text": [
      "\n",
      "\n",
      "************************************\n",
      "function    = compute_association\n",
      "  time      = 3.698 sec\n",
      "************************************\n",
      "\n",
      "\n",
      "************************************\n",
      "function    = compute_distance\n",
      "  time      = 0.02096 sec\n",
      "************************************\n",
      "\n",
      "  Operation: addition 'token-feature weight matrix' X 'socc matrix'...\n",
      "\n",
      "Saving matrix...\n",
      "Stored in file:\n",
      "  /home/projects/semmetrix/mariana_wolken/cleanWorkflow//output//tokens/destroy/destroy.nobound10-10all.PPMIweight.LENGTH5000.SOCPOSall.tcmx.soc.pac\n"
     ]
    },
    {
     "data": {
      "application/vnd.jupyter.widget-view+json": {
       "model_id": "d896bddf7ea04db4b6a39764bd254e94",
       "version_major": 2,
       "version_minor": 0
      },
      "text/plain": [
       "HBox(children=(IntProgress(value=0, max=41851), HTML(value='')))"
      ]
     },
     "metadata": {},
     "output_type": "display_data"
    },
    {
     "name": "stdout",
     "output_type": "stream",
     "text": [
      "\n",
      "\n",
      "************************************\n",
      "function    = compute_association\n",
      "  time      = 0.2064 sec\n",
      "************************************\n",
      "\n",
      "\n",
      "************************************\n",
      "function    = compute_distance\n",
      "  time      = 0.002146 sec\n",
      "************************************\n",
      "\n",
      "  Operation: addition 'token-feature weight matrix' X 'socc matrix'...\n",
      "\n",
      "Saving matrix...\n",
      "Stored in file:\n",
      "  /home/projects/semmetrix/mariana_wolken/cleanWorkflow//output//tokens/destroy/destroy.nobound10-10all.PPMIweight.LENGTHFOC.SOCPOSnav.tcmx.soc.pac\n"
     ]
    },
    {
     "data": {
      "application/vnd.jupyter.widget-view+json": {
       "model_id": "18a8df989f824d7fa350e81d3d724837",
       "version_major": 2,
       "version_minor": 0
      },
      "text/plain": [
       "HBox(children=(IntProgress(value=0, max=1038086), HTML(value='')))"
      ]
     },
     "metadata": {},
     "output_type": "display_data"
    },
    {
     "name": "stdout",
     "output_type": "stream",
     "text": [
      "\n",
      "\n",
      "************************************\n",
      "function    = compute_association\n",
      "  time      = 3.137 sec\n",
      "************************************\n",
      "\n",
      "\n",
      "************************************\n",
      "function    = compute_distance\n",
      "  time      = 0.01999 sec\n",
      "************************************\n",
      "\n",
      "  Operation: addition 'token-feature weight matrix' X 'socc matrix'...\n",
      "\n",
      "Saving matrix...\n",
      "Stored in file:\n",
      "  /home/projects/semmetrix/mariana_wolken/cleanWorkflow//output//tokens/destroy/destroy.nobound10-10all.PPMIweight.LENGTH5000.SOCPOSnav.tcmx.soc.pac\n"
     ]
    },
    {
     "data": {
      "application/vnd.jupyter.widget-view+json": {
       "model_id": "e4f5f71856d9434abbebcab98ea15a31",
       "version_major": 2,
       "version_minor": 0
      },
      "text/plain": [
       "HBox(children=(IntProgress(value=0, max=83816), HTML(value='')))"
      ]
     },
     "metadata": {},
     "output_type": "display_data"
    },
    {
     "name": "stdout",
     "output_type": "stream",
     "text": [
      "\n",
      "\n",
      "************************************\n",
      "function    = compute_association\n",
      "  time      = 0.3335 sec\n",
      "************************************\n",
      "\n",
      "\n",
      "************************************\n",
      "function    = compute_distance\n",
      "  time      = 0.00271 sec\n",
      "************************************\n",
      "\n",
      "  Operation: addition 'token-feature weight matrix' X 'socc matrix'...\n",
      "\n",
      "Saving matrix...\n",
      "Stored in file:\n",
      "  /home/projects/semmetrix/mariana_wolken/cleanWorkflow//output//tokens/destroy/destroy.nobound10-10lex.PPMIno.LENGTHFOC.SOCPOSall.tcmx.soc.pac\n"
     ]
    },
    {
     "data": {
      "application/vnd.jupyter.widget-view+json": {
       "model_id": "9ae032df58c2432c934fb3eb8043d0d4",
       "version_major": 2,
       "version_minor": 0
      },
      "text/plain": [
       "HBox(children=(IntProgress(value=0, max=1213027), HTML(value='')))"
      ]
     },
     "metadata": {},
     "output_type": "display_data"
    },
    {
     "name": "stdout",
     "output_type": "stream",
     "text": [
      "\n",
      "\n",
      "************************************\n",
      "function    = compute_association\n",
      "  time      = 3.691 sec\n",
      "************************************\n",
      "\n",
      "\n",
      "************************************\n",
      "function    = compute_distance\n",
      "  time      = 0.02261 sec\n",
      "************************************\n",
      "\n",
      "  Operation: addition 'token-feature weight matrix' X 'socc matrix'...\n",
      "\n",
      "Saving matrix...\n",
      "Stored in file:\n",
      "  /home/projects/semmetrix/mariana_wolken/cleanWorkflow//output//tokens/destroy/destroy.nobound10-10lex.PPMIno.LENGTH5000.SOCPOSall.tcmx.soc.pac\n"
     ]
    },
    {
     "data": {
      "application/vnd.jupyter.widget-view+json": {
       "model_id": "db8e4f34232747b88a57edd727eb8775",
       "version_major": 2,
       "version_minor": 0
      },
      "text/plain": [
       "HBox(children=(IntProgress(value=0, max=64835), HTML(value='')))"
      ]
     },
     "metadata": {},
     "output_type": "display_data"
    },
    {
     "name": "stdout",
     "output_type": "stream",
     "text": [
      "\n",
      "\n",
      "************************************\n",
      "function    = compute_association\n",
      "  time      = 0.3234 sec\n",
      "************************************\n",
      "\n",
      "\n",
      "************************************\n",
      "function    = compute_distance\n",
      "  time      = 0.002644 sec\n",
      "************************************\n",
      "\n",
      "  Operation: addition 'token-feature weight matrix' X 'socc matrix'...\n",
      "\n",
      "Saving matrix...\n",
      "Stored in file:\n",
      "  /home/projects/semmetrix/mariana_wolken/cleanWorkflow//output//tokens/destroy/destroy.nobound10-10lex.PPMIno.LENGTHFOC.SOCPOSnav.tcmx.soc.pac\n"
     ]
    },
    {
     "data": {
      "application/vnd.jupyter.widget-view+json": {
       "model_id": "f293d3a27a42456992c00a2eddee0c3e",
       "version_major": 2,
       "version_minor": 0
      },
      "text/plain": [
       "HBox(children=(IntProgress(value=0, max=1089264), HTML(value='')))"
      ]
     },
     "metadata": {},
     "output_type": "display_data"
    },
    {
     "name": "stdout",
     "output_type": "stream",
     "text": [
      "\n",
      "\n",
      "************************************\n",
      "function    = compute_association\n",
      "  time      = 3.387 sec\n",
      "************************************\n",
      "\n",
      "\n",
      "************************************\n",
      "function    = compute_distance\n",
      "  time      = 0.01923 sec\n",
      "************************************\n",
      "\n",
      "  Operation: addition 'token-feature weight matrix' X 'socc matrix'...\n",
      "\n",
      "Saving matrix...\n",
      "Stored in file:\n",
      "  /home/projects/semmetrix/mariana_wolken/cleanWorkflow//output//tokens/destroy/destroy.nobound10-10lex.PPMIno.LENGTH5000.SOCPOSnav.tcmx.soc.pac\n"
     ]
    },
    {
     "data": {
      "application/vnd.jupyter.widget-view+json": {
       "model_id": "1181a081dca942f9bab5ef05df8ad35d",
       "version_major": 2,
       "version_minor": 0
      },
      "text/plain": [
       "HBox(children=(IntProgress(value=0, max=39203), HTML(value='')))"
      ]
     },
     "metadata": {},
     "output_type": "display_data"
    },
    {
     "name": "stdout",
     "output_type": "stream",
     "text": [
      "\n",
      "\n",
      "************************************\n",
      "function    = compute_association\n",
      "  time      = 0.1957 sec\n",
      "************************************\n",
      "\n",
      "\n",
      "************************************\n",
      "function    = compute_distance\n",
      "  time      = 0.001496 sec\n",
      "************************************\n",
      "\n",
      "  Operation: addition 'token-feature weight matrix' X 'socc matrix'...\n",
      "\n",
      "Saving matrix...\n",
      "Stored in file:\n",
      "  /home/projects/semmetrix/mariana_wolken/cleanWorkflow//output//tokens/destroy/destroy.nobound10-10lex.PPMIselection.LENGTHFOC.SOCPOSall.tcmx.soc.pac\n"
     ]
    },
    {
     "data": {
      "application/vnd.jupyter.widget-view+json": {
       "model_id": "e0e6263a0689401e9687c6f9229ba54b",
       "version_major": 2,
       "version_minor": 0
      },
      "text/plain": [
       "HBox(children=(IntProgress(value=0, max=814295), HTML(value='')))"
      ]
     },
     "metadata": {},
     "output_type": "display_data"
    },
    {
     "name": "stdout",
     "output_type": "stream",
     "text": [
      "\n",
      "\n",
      "************************************\n",
      "function    = compute_association\n",
      "  time      = 2.552 sec\n",
      "************************************\n",
      "\n",
      "\n",
      "************************************\n",
      "function    = compute_distance\n",
      "  time      = 0.0109 sec\n",
      "************************************\n",
      "\n",
      "  Operation: addition 'token-feature weight matrix' X 'socc matrix'...\n",
      "\n",
      "Saving matrix...\n",
      "Stored in file:\n",
      "  /home/projects/semmetrix/mariana_wolken/cleanWorkflow//output//tokens/destroy/destroy.nobound10-10lex.PPMIselection.LENGTH5000.SOCPOSall.tcmx.soc.pac\n"
     ]
    },
    {
     "data": {
      "application/vnd.jupyter.widget-view+json": {
       "model_id": "d0b937b5504f412cbc4ffd0c9ca9bbd6",
       "version_major": 2,
       "version_minor": 0
      },
      "text/plain": [
       "HBox(children=(IntProgress(value=0, max=29781), HTML(value='')))"
      ]
     },
     "metadata": {},
     "output_type": "display_data"
    },
    {
     "name": "stdout",
     "output_type": "stream",
     "text": [
      "\n",
      "\n",
      "************************************\n",
      "function    = compute_association\n",
      "  time      = 0.1729 sec\n",
      "************************************\n",
      "\n",
      "\n",
      "************************************\n",
      "function    = compute_distance\n",
      "  time      = 0.001354 sec\n",
      "************************************\n",
      "\n",
      "  Operation: addition 'token-feature weight matrix' X 'socc matrix'...\n",
      "\n",
      "Saving matrix...\n",
      "Stored in file:\n",
      "  /home/projects/semmetrix/mariana_wolken/cleanWorkflow//output//tokens/destroy/destroy.nobound10-10lex.PPMIselection.LENGTHFOC.SOCPOSnav.tcmx.soc.pac\n"
     ]
    },
    {
     "data": {
      "application/vnd.jupyter.widget-view+json": {
       "model_id": "2e4cdeeedcaf49e18f9a0379b5a42502",
       "version_major": 2,
       "version_minor": 0
      },
      "text/plain": [
       "HBox(children=(IntProgress(value=0, max=720473), HTML(value='')))"
      ]
     },
     "metadata": {},
     "output_type": "display_data"
    },
    {
     "name": "stdout",
     "output_type": "stream",
     "text": [
      "\n",
      "\n",
      "************************************\n",
      "function    = compute_association\n",
      "  time      = 2.302 sec\n",
      "************************************\n",
      "\n",
      "\n",
      "************************************\n",
      "function    = compute_distance\n",
      "  time      = 0.01079 sec\n",
      "************************************\n",
      "\n",
      "  Operation: addition 'token-feature weight matrix' X 'socc matrix'...\n",
      "\n",
      "Saving matrix...\n",
      "Stored in file:\n",
      "  /home/projects/semmetrix/mariana_wolken/cleanWorkflow//output//tokens/destroy/destroy.nobound10-10lex.PPMIselection.LENGTH5000.SOCPOSnav.tcmx.soc.pac\n"
     ]
    },
    {
     "data": {
      "application/vnd.jupyter.widget-view+json": {
       "model_id": "8593972f21394135a8d0c7f007e099c2",
       "version_major": 2,
       "version_minor": 0
      },
      "text/plain": [
       "HBox(children=(IntProgress(value=0, max=39203), HTML(value='')))"
      ]
     },
     "metadata": {},
     "output_type": "display_data"
    },
    {
     "name": "stdout",
     "output_type": "stream",
     "text": [
      "\n",
      "\n",
      "************************************\n",
      "function    = compute_association\n",
      "  time      = 0.2031 sec\n",
      "************************************\n",
      "\n",
      "\n",
      "************************************\n",
      "function    = compute_distance\n",
      "  time      = 0.001546 sec\n",
      "************************************\n",
      "\n",
      "  Operation: addition 'token-feature weight matrix' X 'socc matrix'...\n",
      "\n",
      "Saving matrix...\n",
      "Stored in file:\n",
      "  /home/projects/semmetrix/mariana_wolken/cleanWorkflow//output//tokens/destroy/destroy.nobound10-10lex.PPMIweight.LENGTHFOC.SOCPOSall.tcmx.soc.pac\n"
     ]
    },
    {
     "data": {
      "application/vnd.jupyter.widget-view+json": {
       "model_id": "8e760081a8114e5cb211c2a9c796a852",
       "version_major": 2,
       "version_minor": 0
      },
      "text/plain": [
       "HBox(children=(IntProgress(value=0, max=814295), HTML(value='')))"
      ]
     },
     "metadata": {},
     "output_type": "display_data"
    },
    {
     "name": "stdout",
     "output_type": "stream",
     "text": [
      "\n",
      "\n",
      "************************************\n",
      "function    = compute_association\n",
      "  time      = 2.617 sec\n",
      "************************************\n",
      "\n",
      "\n",
      "************************************\n",
      "function    = compute_distance\n",
      "  time      = 0.02885 sec\n",
      "************************************\n",
      "\n",
      "  Operation: addition 'token-feature weight matrix' X 'socc matrix'...\n",
      "\n",
      "Saving matrix...\n",
      "Stored in file:\n",
      "  /home/projects/semmetrix/mariana_wolken/cleanWorkflow//output//tokens/destroy/destroy.nobound10-10lex.PPMIweight.LENGTH5000.SOCPOSall.tcmx.soc.pac\n"
     ]
    },
    {
     "data": {
      "application/vnd.jupyter.widget-view+json": {
       "model_id": "905ef096739649dc94e5aeea92c442c9",
       "version_major": 2,
       "version_minor": 0
      },
      "text/plain": [
       "HBox(children=(IntProgress(value=0, max=29781), HTML(value='')))"
      ]
     },
     "metadata": {},
     "output_type": "display_data"
    },
    {
     "name": "stdout",
     "output_type": "stream",
     "text": [
      "\n",
      "\n",
      "************************************\n",
      "function    = compute_association\n",
      "  time      = 0.2135 sec\n",
      "************************************\n",
      "\n",
      "\n",
      "************************************\n",
      "function    = compute_distance\n",
      "  time      = 0.001433 sec\n",
      "************************************\n",
      "\n",
      "  Operation: addition 'token-feature weight matrix' X 'socc matrix'...\n",
      "\n",
      "Saving matrix...\n",
      "Stored in file:\n",
      "  /home/projects/semmetrix/mariana_wolken/cleanWorkflow//output//tokens/destroy/destroy.nobound10-10lex.PPMIweight.LENGTHFOC.SOCPOSnav.tcmx.soc.pac\n"
     ]
    },
    {
     "data": {
      "application/vnd.jupyter.widget-view+json": {
       "model_id": "becf1dbb5b164004ba27ea226f0aa8e7",
       "version_major": 2,
       "version_minor": 0
      },
      "text/plain": [
       "HBox(children=(IntProgress(value=0, max=720473), HTML(value='')))"
      ]
     },
     "metadata": {},
     "output_type": "display_data"
    },
    {
     "name": "stdout",
     "output_type": "stream",
     "text": [
      "\n",
      "\n",
      "************************************\n",
      "function    = compute_association\n",
      "  time      = 2.262 sec\n",
      "************************************\n",
      "\n",
      "\n",
      "************************************\n",
      "function    = compute_distance\n",
      "  time      = 0.0127 sec\n",
      "************************************\n",
      "\n",
      "  Operation: addition 'token-feature weight matrix' X 'socc matrix'...\n",
      "\n",
      "Saving matrix...\n",
      "Stored in file:\n",
      "  /home/projects/semmetrix/mariana_wolken/cleanWorkflow//output//tokens/destroy/destroy.nobound10-10lex.PPMIweight.LENGTH5000.SOCPOSnav.tcmx.soc.pac\n"
     ]
    },
    {
     "data": {
      "application/vnd.jupyter.widget-view+json": {
       "model_id": "b723e43bbc3d46509669f70fddf3b9de",
       "version_major": 2,
       "version_minor": 0
      },
      "text/plain": [
       "HBox(children=(IntProgress(value=0, max=26435), HTML(value='')))"
      ]
     },
     "metadata": {},
     "output_type": "display_data"
    },
    {
     "name": "stdout",
     "output_type": "stream",
     "text": [
      "\n",
      "\n",
      "************************************\n",
      "function    = compute_association\n",
      "  time      = 0.1603 sec\n",
      "************************************\n",
      "\n",
      "\n",
      "************************************\n",
      "function    = compute_distance\n",
      "  time      = 0.001012 sec\n",
      "************************************\n",
      "\n",
      "  Operation: addition 'token-feature weight matrix' X 'socc matrix'...\n",
      "\n",
      "Saving matrix...\n",
      "Stored in file:\n",
      "  /home/projects/semmetrix/mariana_wolken/cleanWorkflow//output//tokens/destroy/destroy.nobound3-3all.PPMIno.LENGTHFOC.SOCPOSall.tcmx.soc.pac\n"
     ]
    },
    {
     "data": {
      "application/vnd.jupyter.widget-view+json": {
       "model_id": "cb61d72323b54b569e6c58add277a06e",
       "version_major": 2,
       "version_minor": 0
      },
      "text/plain": [
       "HBox(children=(IntProgress(value=0, max=693714), HTML(value='')))"
      ]
     },
     "metadata": {},
     "output_type": "display_data"
    },
    {
     "name": "stdout",
     "output_type": "stream",
     "text": [
      "\n",
      "\n",
      "************************************\n",
      "function    = compute_association\n",
      "  time      = 2.163 sec\n",
      "************************************\n",
      "\n",
      "\n",
      "************************************\n",
      "function    = compute_distance\n",
      "  time      = 0.007782 sec\n",
      "************************************\n",
      "\n",
      "  Operation: addition 'token-feature weight matrix' X 'socc matrix'...\n",
      "\n",
      "Saving matrix...\n",
      "Stored in file:\n",
      "  /home/projects/semmetrix/mariana_wolken/cleanWorkflow//output//tokens/destroy/destroy.nobound3-3all.PPMIno.LENGTH5000.SOCPOSall.tcmx.soc.pac\n"
     ]
    },
    {
     "data": {
      "application/vnd.jupyter.widget-view+json": {
       "model_id": "7c62679f8ddd4e4dbd2575832ea6e39f",
       "version_major": 2,
       "version_minor": 0
      },
      "text/plain": [
       "HBox(children=(IntProgress(value=0, max=13558), HTML(value='')))"
      ]
     },
     "metadata": {},
     "output_type": "display_data"
    },
    {
     "name": "stdout",
     "output_type": "stream",
     "text": [
      "\n",
      "\n",
      "************************************\n",
      "function    = compute_association\n",
      "  time      = 0.1163 sec\n",
      "************************************\n",
      "\n",
      "\n",
      "************************************\n",
      "function    = compute_distance\n",
      "  time      = 0.000947 sec\n",
      "************************************\n",
      "\n",
      "  Operation: addition 'token-feature weight matrix' X 'socc matrix'...\n",
      "\n",
      "Saving matrix...\n",
      "Stored in file:\n",
      "  /home/projects/semmetrix/mariana_wolken/cleanWorkflow//output//tokens/destroy/destroy.nobound3-3all.PPMIno.LENGTHFOC.SOCPOSnav.tcmx.soc.pac\n"
     ]
    },
    {
     "data": {
      "application/vnd.jupyter.widget-view+json": {
       "model_id": "be54dd989bf64094bdb4227e6b6b2385",
       "version_major": 2,
       "version_minor": 0
      },
      "text/plain": [
       "HBox(children=(IntProgress(value=0, max=645841), HTML(value='')))"
      ]
     },
     "metadata": {},
     "output_type": "display_data"
    },
    {
     "name": "stdout",
     "output_type": "stream",
     "text": [
      "\n",
      "\n",
      "************************************\n",
      "function    = compute_association\n",
      "  time      = 2.007 sec\n",
      "************************************\n",
      "\n",
      "\n",
      "************************************\n",
      "function    = compute_distance\n",
      "  time      = 0.007876 sec\n",
      "************************************\n",
      "\n",
      "  Operation: addition 'token-feature weight matrix' X 'socc matrix'...\n",
      "\n",
      "Saving matrix...\n",
      "Stored in file:\n",
      "  /home/projects/semmetrix/mariana_wolken/cleanWorkflow//output//tokens/destroy/destroy.nobound3-3all.PPMIno.LENGTH5000.SOCPOSnav.tcmx.soc.pac\n"
     ]
    },
    {
     "data": {
      "application/vnd.jupyter.widget-view+json": {
       "model_id": "1728866d6ac94b3492b78271bfdcd23f",
       "version_major": 2,
       "version_minor": 0
      },
      "text/plain": [
       "HBox(children=(IntProgress(value=0, max=16147), HTML(value='')))"
      ]
     },
     "metadata": {},
     "output_type": "display_data"
    },
    {
     "name": "stdout",
     "output_type": "stream",
     "text": [
      "\n",
      "\n",
      "************************************\n",
      "function    = compute_association\n",
      "  time      = 0.1654 sec\n",
      "************************************\n",
      "\n",
      "\n",
      "************************************\n",
      "function    = compute_distance\n",
      "  time      = 0.0008163 sec\n",
      "************************************\n",
      "\n",
      "  Operation: addition 'token-feature weight matrix' X 'socc matrix'...\n",
      "\n",
      "Saving matrix...\n",
      "Stored in file:\n",
      "  /home/projects/semmetrix/mariana_wolken/cleanWorkflow//output//tokens/destroy/destroy.nobound3-3all.PPMIselection.LENGTHFOC.SOCPOSall.tcmx.soc.pac\n"
     ]
    },
    {
     "data": {
      "application/vnd.jupyter.widget-view+json": {
       "model_id": "1cbaad4171354e36850e604e767377f4",
       "version_major": 2,
       "version_minor": 0
      },
      "text/plain": [
       "HBox(children=(IntProgress(value=0, max=529547), HTML(value='')))"
      ]
     },
     "metadata": {},
     "output_type": "display_data"
    },
    {
     "name": "stdout",
     "output_type": "stream",
     "text": [
      "\n",
      "\n",
      "************************************\n",
      "function    = compute_association\n",
      "  time      = 1.677 sec\n",
      "************************************\n",
      "\n",
      "\n",
      "************************************\n",
      "function    = compute_distance\n",
      "  time      = 0.005461 sec\n",
      "************************************\n",
      "\n",
      "  Operation: addition 'token-feature weight matrix' X 'socc matrix'...\n",
      "\n",
      "Saving matrix...\n",
      "Stored in file:\n",
      "  /home/projects/semmetrix/mariana_wolken/cleanWorkflow//output//tokens/destroy/destroy.nobound3-3all.PPMIselection.LENGTH5000.SOCPOSall.tcmx.soc.pac\n"
     ]
    },
    {
     "data": {
      "application/vnd.jupyter.widget-view+json": {
       "model_id": "c1148207f6774b47bd1d9f45565d0f8c",
       "version_major": 2,
       "version_minor": 0
      },
      "text/plain": [
       "HBox(children=(IntProgress(value=0, max=8356), HTML(value='')))"
      ]
     },
     "metadata": {},
     "output_type": "display_data"
    },
    {
     "name": "stdout",
     "output_type": "stream",
     "text": [
      "\n",
      "\n",
      "************************************\n",
      "function    = compute_association\n",
      "  time      = 0.1002 sec\n",
      "************************************\n",
      "\n",
      "\n",
      "************************************\n",
      "function    = compute_distance\n",
      "  time      = 0.0009284 sec\n",
      "************************************\n",
      "\n",
      "  Operation: addition 'token-feature weight matrix' X 'socc matrix'...\n",
      "\n",
      "Saving matrix...\n",
      "Stored in file:\n",
      "  /home/projects/semmetrix/mariana_wolken/cleanWorkflow//output//tokens/destroy/destroy.nobound3-3all.PPMIselection.LENGTHFOC.SOCPOSnav.tcmx.soc.pac\n"
     ]
    },
    {
     "data": {
      "application/vnd.jupyter.widget-view+json": {
       "model_id": "5cc2788cb0ad4470ae1f0b9e41f009fa",
       "version_major": 2,
       "version_minor": 0
      },
      "text/plain": [
       "HBox(children=(IntProgress(value=0, max=485673), HTML(value='')))"
      ]
     },
     "metadata": {},
     "output_type": "display_data"
    },
    {
     "name": "stdout",
     "output_type": "stream",
     "text": [
      "\n",
      "\n",
      "************************************\n",
      "function    = compute_association\n",
      "  time      = 1.599 sec\n",
      "************************************\n",
      "\n",
      "\n",
      "************************************\n",
      "function    = compute_distance\n",
      "  time      = 0.005555 sec\n",
      "************************************\n",
      "\n",
      "  Operation: addition 'token-feature weight matrix' X 'socc matrix'...\n",
      "\n",
      "Saving matrix...\n",
      "Stored in file:\n",
      "  /home/projects/semmetrix/mariana_wolken/cleanWorkflow//output//tokens/destroy/destroy.nobound3-3all.PPMIselection.LENGTH5000.SOCPOSnav.tcmx.soc.pac\n"
     ]
    },
    {
     "data": {
      "application/vnd.jupyter.widget-view+json": {
       "model_id": "2d3d1f49914644e2b1ac311f0f7405d0",
       "version_major": 2,
       "version_minor": 0
      },
      "text/plain": [
       "HBox(children=(IntProgress(value=0, max=16147), HTML(value='')))"
      ]
     },
     "metadata": {},
     "output_type": "display_data"
    },
    {
     "name": "stdout",
     "output_type": "stream",
     "text": [
      "\n",
      "\n",
      "************************************\n",
      "function    = compute_association\n",
      "  time      = 0.1251 sec\n",
      "************************************\n",
      "\n",
      "\n",
      "************************************\n",
      "function    = compute_distance\n",
      "  time      = 0.0007937 sec\n",
      "************************************\n",
      "\n",
      "  Operation: addition 'token-feature weight matrix' X 'socc matrix'...\n",
      "\n",
      "Saving matrix...\n",
      "Stored in file:\n",
      "  /home/projects/semmetrix/mariana_wolken/cleanWorkflow//output//tokens/destroy/destroy.nobound3-3all.PPMIweight.LENGTHFOC.SOCPOSall.tcmx.soc.pac\n"
     ]
    },
    {
     "data": {
      "application/vnd.jupyter.widget-view+json": {
       "model_id": "35affad352a34f8297f0d63b72833a0a",
       "version_major": 2,
       "version_minor": 0
      },
      "text/plain": [
       "HBox(children=(IntProgress(value=0, max=529547), HTML(value='')))"
      ]
     },
     "metadata": {},
     "output_type": "display_data"
    },
    {
     "name": "stdout",
     "output_type": "stream",
     "text": [
      "\n",
      "\n",
      "************************************\n",
      "function    = compute_association\n",
      "  time      = 1.671 sec\n",
      "************************************\n",
      "\n",
      "\n",
      "************************************\n",
      "function    = compute_distance\n",
      "  time      = 0.005523 sec\n",
      "************************************\n",
      "\n",
      "  Operation: addition 'token-feature weight matrix' X 'socc matrix'...\n",
      "\n",
      "Saving matrix...\n",
      "Stored in file:\n",
      "  /home/projects/semmetrix/mariana_wolken/cleanWorkflow//output//tokens/destroy/destroy.nobound3-3all.PPMIweight.LENGTH5000.SOCPOSall.tcmx.soc.pac\n"
     ]
    },
    {
     "data": {
      "application/vnd.jupyter.widget-view+json": {
       "model_id": "dcc3782e890e4ad697d7b2bb4d2e773c",
       "version_major": 2,
       "version_minor": 0
      },
      "text/plain": [
       "HBox(children=(IntProgress(value=0, max=8356), HTML(value='')))"
      ]
     },
     "metadata": {},
     "output_type": "display_data"
    },
    {
     "name": "stdout",
     "output_type": "stream",
     "text": [
      "\n",
      "\n",
      "************************************\n",
      "function    = compute_association\n",
      "  time      = 0.09961 sec\n",
      "************************************\n",
      "\n",
      "\n",
      "************************************\n",
      "function    = compute_distance\n",
      "  time      = 0.0009134 sec\n",
      "************************************\n",
      "\n",
      "  Operation: addition 'token-feature weight matrix' X 'socc matrix'...\n",
      "\n",
      "Saving matrix...\n",
      "Stored in file:\n",
      "  /home/projects/semmetrix/mariana_wolken/cleanWorkflow//output//tokens/destroy/destroy.nobound3-3all.PPMIweight.LENGTHFOC.SOCPOSnav.tcmx.soc.pac\n"
     ]
    },
    {
     "data": {
      "application/vnd.jupyter.widget-view+json": {
       "model_id": "ee5b7637020a456290e3984687cc9612",
       "version_major": 2,
       "version_minor": 0
      },
      "text/plain": [
       "HBox(children=(IntProgress(value=0, max=485673), HTML(value='')))"
      ]
     },
     "metadata": {},
     "output_type": "display_data"
    },
    {
     "name": "stdout",
     "output_type": "stream",
     "text": [
      "\n",
      "\n",
      "************************************\n",
      "function    = compute_association\n",
      "  time      = 1.525 sec\n",
      "************************************\n",
      "\n",
      "\n",
      "************************************\n",
      "function    = compute_distance\n",
      "  time      = 0.005466 sec\n",
      "************************************\n",
      "\n",
      "  Operation: addition 'token-feature weight matrix' X 'socc matrix'...\n",
      "\n",
      "Saving matrix...\n",
      "Stored in file:\n",
      "  /home/projects/semmetrix/mariana_wolken/cleanWorkflow//output//tokens/destroy/destroy.nobound3-3all.PPMIweight.LENGTH5000.SOCPOSnav.tcmx.soc.pac\n"
     ]
    },
    {
     "data": {
      "application/vnd.jupyter.widget-view+json": {
       "model_id": "3c5c24a64ed34e17b2293b43533f49d5",
       "version_major": 2,
       "version_minor": 0
      },
      "text/plain": [
       "HBox(children=(IntProgress(value=0, max=10340), HTML(value='')))"
      ]
     },
     "metadata": {},
     "output_type": "display_data"
    },
    {
     "name": "stdout",
     "output_type": "stream",
     "text": [
      "\n",
      "\n",
      "************************************\n",
      "function    = compute_association\n",
      "  time      = 0.1098 sec\n",
      "************************************\n",
      "\n",
      "\n",
      "************************************\n",
      "function    = compute_distance\n",
      "  time      = 0.0007041 sec\n",
      "************************************\n",
      "\n",
      "  Operation: addition 'token-feature weight matrix' X 'socc matrix'...\n",
      "\n",
      "Saving matrix...\n",
      "Stored in file:\n",
      "  /home/projects/semmetrix/mariana_wolken/cleanWorkflow//output//tokens/destroy/destroy.nobound3-3lex.PPMIno.LENGTHFOC.SOCPOSall.tcmx.soc.pac\n"
     ]
    },
    {
     "data": {
      "application/vnd.jupyter.widget-view+json": {
       "model_id": "eb534e1622514ecebc52e8863f30c8bc",
       "version_major": 2,
       "version_minor": 0
      },
      "text/plain": [
       "HBox(children=(IntProgress(value=0, max=426693), HTML(value='')))"
      ]
     },
     "metadata": {},
     "output_type": "display_data"
    },
    {
     "name": "stdout",
     "output_type": "stream",
     "text": [
      "\n",
      "\n",
      "************************************\n",
      "function    = compute_association\n",
      "  time      = 1.35 sec\n",
      "************************************\n",
      "\n",
      "\n",
      "************************************\n",
      "function    = compute_distance\n",
      "  time      = 0.004709 sec\n",
      "************************************\n",
      "\n",
      "  Operation: addition 'token-feature weight matrix' X 'socc matrix'...\n",
      "\n",
      "Saving matrix...\n",
      "Stored in file:\n",
      "  /home/projects/semmetrix/mariana_wolken/cleanWorkflow//output//tokens/destroy/destroy.nobound3-3lex.PPMIno.LENGTH5000.SOCPOSall.tcmx.soc.pac\n"
     ]
    },
    {
     "data": {
      "application/vnd.jupyter.widget-view+json": {
       "model_id": "1d15ccf6c4a74640b2f912760cac2ce8",
       "version_major": 2,
       "version_minor": 0
      },
      "text/plain": [
       "HBox(children=(IntProgress(value=0, max=8544), HTML(value='')))"
      ]
     },
     "metadata": {},
     "output_type": "display_data"
    },
    {
     "name": "stdout",
     "output_type": "stream",
     "text": [
      "\n",
      "\n",
      "************************************\n",
      "function    = compute_association\n",
      "  time      = 0.1014 sec\n",
      "************************************\n",
      "\n",
      "\n",
      "************************************\n",
      "function    = compute_distance\n",
      "  time      = 0.0006781 sec\n",
      "************************************\n",
      "\n",
      "  Operation: addition 'token-feature weight matrix' X 'socc matrix'...\n",
      "\n",
      "Saving matrix...\n",
      "Stored in file:\n",
      "  /home/projects/semmetrix/mariana_wolken/cleanWorkflow//output//tokens/destroy/destroy.nobound3-3lex.PPMIno.LENGTHFOC.SOCPOSnav.tcmx.soc.pac\n"
     ]
    },
    {
     "data": {
      "application/vnd.jupyter.widget-view+json": {
       "model_id": "cc5204262bf94f21ad1d5ae8323e87ce",
       "version_major": 2,
       "version_minor": 0
      },
      "text/plain": [
       "HBox(children=(IntProgress(value=0, max=388296), HTML(value='')))"
      ]
     },
     "metadata": {},
     "output_type": "display_data"
    },
    {
     "name": "stdout",
     "output_type": "stream",
     "text": [
      "\n",
      "\n",
      "************************************\n",
      "function    = compute_association\n",
      "  time      = 1.241 sec\n",
      "************************************\n",
      "\n",
      "\n",
      "************************************\n",
      "function    = compute_distance\n",
      "  time      = 0.00497 sec\n",
      "************************************\n",
      "\n",
      "  Operation: addition 'token-feature weight matrix' X 'socc matrix'...\n",
      "\n",
      "Saving matrix...\n",
      "Stored in file:\n",
      "  /home/projects/semmetrix/mariana_wolken/cleanWorkflow//output//tokens/destroy/destroy.nobound3-3lex.PPMIno.LENGTH5000.SOCPOSnav.tcmx.soc.pac\n"
     ]
    },
    {
     "data": {
      "application/vnd.jupyter.widget-view+json": {
       "model_id": "171e1fb9dd6c49e2ace0789ee71dbe79",
       "version_major": 2,
       "version_minor": 0
      },
      "text/plain": [
       "HBox(children=(IntProgress(value=0, max=6633), HTML(value='')))"
      ]
     },
     "metadata": {},
     "output_type": "display_data"
    },
    {
     "name": "stdout",
     "output_type": "stream",
     "text": [
      "\n",
      "\n",
      "************************************\n",
      "function    = compute_association\n",
      "  time      = 0.1134 sec\n",
      "************************************\n",
      "\n",
      "\n",
      "************************************\n",
      "function    = compute_distance\n",
      "  time      = 0.0006349 sec\n",
      "************************************\n",
      "\n",
      "  Operation: addition 'token-feature weight matrix' X 'socc matrix'...\n",
      "\n",
      "Saving matrix...\n",
      "Stored in file:\n",
      "  /home/projects/semmetrix/mariana_wolken/cleanWorkflow//output//tokens/destroy/destroy.nobound3-3lex.PPMIselection.LENGTHFOC.SOCPOSall.tcmx.soc.pac\n"
     ]
    },
    {
     "data": {
      "application/vnd.jupyter.widget-view+json": {
       "model_id": "ab80e08a07694f90aa248630884da0cf",
       "version_major": 2,
       "version_minor": 0
      },
      "text/plain": [
       "HBox(children=(IntProgress(value=0, max=335101), HTML(value='')))"
      ]
     },
     "metadata": {},
     "output_type": "display_data"
    },
    {
     "name": "stdout",
     "output_type": "stream",
     "text": [
      "\n",
      "\n",
      "************************************\n",
      "function    = compute_association\n",
      "  time      = 1.063 sec\n",
      "************************************\n",
      "\n",
      "\n",
      "************************************\n",
      "function    = compute_distance\n",
      "  time      = 0.00326 sec\n",
      "************************************\n",
      "\n",
      "  Operation: addition 'token-feature weight matrix' X 'socc matrix'...\n",
      "\n",
      "Saving matrix...\n",
      "Stored in file:\n",
      "  /home/projects/semmetrix/mariana_wolken/cleanWorkflow//output//tokens/destroy/destroy.nobound3-3lex.PPMIselection.LENGTH5000.SOCPOSall.tcmx.soc.pac\n"
     ]
    },
    {
     "data": {
      "application/vnd.jupyter.widget-view+json": {
       "model_id": "659da3bac65446de824140c0b36ed206",
       "version_major": 2,
       "version_minor": 0
      },
      "text/plain": [
       "HBox(children=(IntProgress(value=0, max=5410), HTML(value='')))"
      ]
     },
     "metadata": {},
     "output_type": "display_data"
    },
    {
     "name": "stdout",
     "output_type": "stream",
     "text": [
      "\n",
      "\n",
      "************************************\n",
      "function    = compute_association\n",
      "  time      = 0.1141 sec\n",
      "************************************\n",
      "\n",
      "\n",
      "************************************\n",
      "function    = compute_distance\n",
      "  time      = 0.0006046 sec\n",
      "************************************\n",
      "\n",
      "  Operation: addition 'token-feature weight matrix' X 'socc matrix'...\n",
      "\n",
      "Saving matrix...\n",
      "Stored in file:\n",
      "  /home/projects/semmetrix/mariana_wolken/cleanWorkflow//output//tokens/destroy/destroy.nobound3-3lex.PPMIselection.LENGTHFOC.SOCPOSnav.tcmx.soc.pac\n"
     ]
    },
    {
     "data": {
      "application/vnd.jupyter.widget-view+json": {
       "model_id": "9ee5eb4a9e62431097c78ee8f3806440",
       "version_major": 2,
       "version_minor": 0
      },
      "text/plain": [
       "HBox(children=(IntProgress(value=0, max=299172), HTML(value='')))"
      ]
     },
     "metadata": {},
     "output_type": "display_data"
    },
    {
     "name": "stdout",
     "output_type": "stream",
     "text": [
      "\n",
      "\n",
      "************************************\n",
      "function    = compute_association\n",
      "  time      = 0.9726 sec\n",
      "************************************\n",
      "\n",
      "\n",
      "************************************\n",
      "function    = compute_distance\n",
      "  time      = 0.003488 sec\n",
      "************************************\n",
      "\n",
      "  Operation: addition 'token-feature weight matrix' X 'socc matrix'...\n",
      "\n",
      "Saving matrix...\n",
      "Stored in file:\n",
      "  /home/projects/semmetrix/mariana_wolken/cleanWorkflow//output//tokens/destroy/destroy.nobound3-3lex.PPMIselection.LENGTH5000.SOCPOSnav.tcmx.soc.pac\n"
     ]
    },
    {
     "data": {
      "application/vnd.jupyter.widget-view+json": {
       "model_id": "d0d035e8162d47f39011fe602fbddc2a",
       "version_major": 2,
       "version_minor": 0
      },
      "text/plain": [
       "HBox(children=(IntProgress(value=0, max=6633), HTML(value='')))"
      ]
     },
     "metadata": {},
     "output_type": "display_data"
    },
    {
     "name": "stdout",
     "output_type": "stream",
     "text": [
      "\n",
      "\n",
      "************************************\n",
      "function    = compute_association\n",
      "  time      = 0.1119 sec\n",
      "************************************\n",
      "\n",
      "\n",
      "************************************\n",
      "function    = compute_distance\n",
      "  time      = 0.0006382 sec\n",
      "************************************\n",
      "\n",
      "  Operation: addition 'token-feature weight matrix' X 'socc matrix'...\n",
      "\n",
      "Saving matrix...\n",
      "Stored in file:\n",
      "  /home/projects/semmetrix/mariana_wolken/cleanWorkflow//output//tokens/destroy/destroy.nobound3-3lex.PPMIweight.LENGTHFOC.SOCPOSall.tcmx.soc.pac\n"
     ]
    },
    {
     "data": {
      "application/vnd.jupyter.widget-view+json": {
       "model_id": "e72dbe54009e4e7788b25c1bf2fed227",
       "version_major": 2,
       "version_minor": 0
      },
      "text/plain": [
       "HBox(children=(IntProgress(value=0, max=335101), HTML(value='')))"
      ]
     },
     "metadata": {},
     "output_type": "display_data"
    },
    {
     "name": "stdout",
     "output_type": "stream",
     "text": [
      "\n",
      "\n",
      "************************************\n",
      "function    = compute_association\n",
      "  time      = 1.096 sec\n",
      "************************************\n",
      "\n",
      "\n",
      "************************************\n",
      "function    = compute_distance\n",
      "  time      = 0.003359 sec\n",
      "************************************\n",
      "\n",
      "  Operation: addition 'token-feature weight matrix' X 'socc matrix'...\n",
      "\n",
      "Saving matrix...\n",
      "Stored in file:\n",
      "  /home/projects/semmetrix/mariana_wolken/cleanWorkflow//output//tokens/destroy/destroy.nobound3-3lex.PPMIweight.LENGTH5000.SOCPOSall.tcmx.soc.pac\n"
     ]
    },
    {
     "data": {
      "application/vnd.jupyter.widget-view+json": {
       "model_id": "a591c1dd4d214b7ea9f9dc13079c3352",
       "version_major": 2,
       "version_minor": 0
      },
      "text/plain": [
       "HBox(children=(IntProgress(value=0, max=5410), HTML(value='')))"
      ]
     },
     "metadata": {},
     "output_type": "display_data"
    },
    {
     "name": "stdout",
     "output_type": "stream",
     "text": [
      "\n",
      "\n",
      "************************************\n",
      "function    = compute_association\n",
      "  time      = 0.09223 sec\n",
      "************************************\n",
      "\n",
      "\n",
      "************************************\n",
      "function    = compute_distance\n",
      "  time      = 0.0008216 sec\n",
      "************************************\n",
      "\n",
      "  Operation: addition 'token-feature weight matrix' X 'socc matrix'...\n",
      "\n",
      "Saving matrix...\n",
      "Stored in file:\n",
      "  /home/projects/semmetrix/mariana_wolken/cleanWorkflow//output//tokens/destroy/destroy.nobound3-3lex.PPMIweight.LENGTHFOC.SOCPOSnav.tcmx.soc.pac\n"
     ]
    },
    {
     "data": {
      "application/vnd.jupyter.widget-view+json": {
       "model_id": "b5e877cf289b463c8b9f3bd30837c81f",
       "version_major": 2,
       "version_minor": 0
      },
      "text/plain": [
       "HBox(children=(IntProgress(value=0, max=299172), HTML(value='')))"
      ]
     },
     "metadata": {},
     "output_type": "display_data"
    },
    {
     "name": "stdout",
     "output_type": "stream",
     "text": [
      "\n",
      "\n",
      "************************************\n",
      "function    = compute_association\n",
      "  time      = 0.9863 sec\n",
      "************************************\n",
      "\n",
      "\n",
      "************************************\n",
      "function    = compute_distance\n",
      "  time      = 0.00344 sec\n",
      "************************************\n",
      "\n",
      "  Operation: addition 'token-feature weight matrix' X 'socc matrix'...\n",
      "\n",
      "Saving matrix...\n",
      "Stored in file:\n",
      "  /home/projects/semmetrix/mariana_wolken/cleanWorkflow//output//tokens/destroy/destroy.nobound3-3lex.PPMIweight.LENGTH5000.SOCPOSnav.tcmx.soc.pac\n"
     ]
    },
    {
     "data": {
      "application/vnd.jupyter.widget-view+json": {
       "model_id": "01ae3af054cb43ccbc573ae650f53bfa",
       "version_major": 2,
       "version_minor": 0
      },
      "text/plain": [
       "HBox(children=(IntProgress(value=0, max=63967), HTML(value='')))"
      ]
     },
     "metadata": {},
     "output_type": "display_data"
    },
    {
     "name": "stdout",
     "output_type": "stream",
     "text": [
      "\n",
      "\n",
      "************************************\n",
      "function    = compute_association\n",
      "  time      = 0.2746 sec\n",
      "************************************\n",
      "\n",
      "\n",
      "************************************\n",
      "function    = compute_distance\n",
      "  time      = 0.001973 sec\n",
      "************************************\n",
      "\n",
      "  Operation: addition 'token-feature weight matrix' X 'socc matrix'...\n",
      "\n",
      "Saving matrix...\n",
      "Stored in file:\n",
      "  /home/projects/semmetrix/mariana_wolken/cleanWorkflow//output//tokens/destroy/destroy.nobound5-5all.PPMIno.LENGTHFOC.SOCPOSall.tcmx.soc.pac\n"
     ]
    },
    {
     "data": {
      "application/vnd.jupyter.widget-view+json": {
       "model_id": "b66d5f4bcba24a938ac1bf9675ed6ea0",
       "version_major": 2,
       "version_minor": 0
      },
      "text/plain": [
       "HBox(children=(IntProgress(value=0, max=1072922), HTML(value='')))"
      ]
     },
     "metadata": {},
     "output_type": "display_data"
    },
    {
     "name": "stdout",
     "output_type": "stream",
     "text": [
      "\n",
      "\n",
      "************************************\n",
      "function    = compute_association\n",
      "  time      = 3.252 sec\n",
      "************************************\n",
      "\n",
      "\n",
      "************************************\n",
      "function    = compute_distance\n",
      "  time      = 0.01631 sec\n",
      "************************************\n",
      "\n",
      "  Operation: addition 'token-feature weight matrix' X 'socc matrix'...\n",
      "\n",
      "Saving matrix...\n",
      "Stored in file:\n",
      "  /home/projects/semmetrix/mariana_wolken/cleanWorkflow//output//tokens/destroy/destroy.nobound5-5all.PPMIno.LENGTH5000.SOCPOSall.tcmx.soc.pac\n"
     ]
    },
    {
     "data": {
      "application/vnd.jupyter.widget-view+json": {
       "model_id": "12fc721e97b94619b58a8ec6144379e5",
       "version_major": 2,
       "version_minor": 0
      },
      "text/plain": [
       "HBox(children=(IntProgress(value=0, max=34003), HTML(value='')))"
      ]
     },
     "metadata": {},
     "output_type": "display_data"
    },
    {
     "name": "stdout",
     "output_type": "stream",
     "text": [
      "\n",
      "\n",
      "************************************\n",
      "function    = compute_association\n",
      "  time      = 0.1874 sec\n",
      "************************************\n",
      "\n",
      "\n",
      "************************************\n",
      "function    = compute_distance\n",
      "  time      = 0.00177 sec\n",
      "************************************\n",
      "\n",
      "  Operation: addition 'token-feature weight matrix' X 'socc matrix'...\n",
      "\n",
      "Saving matrix...\n",
      "Stored in file:\n",
      "  /home/projects/semmetrix/mariana_wolken/cleanWorkflow//output//tokens/destroy/destroy.nobound5-5all.PPMIno.LENGTHFOC.SOCPOSnav.tcmx.soc.pac\n"
     ]
    },
    {
     "data": {
      "application/vnd.jupyter.widget-view+json": {
       "model_id": "e0151adacdf44f96a1378897f07bb814",
       "version_major": 2,
       "version_minor": 0
      },
      "text/plain": [
       "HBox(children=(IntProgress(value=0, max=991017), HTML(value='')))"
      ]
     },
     "metadata": {},
     "output_type": "display_data"
    },
    {
     "name": "stdout",
     "output_type": "stream",
     "text": [
      "\n",
      "\n",
      "************************************\n",
      "function    = compute_association\n",
      "  time      = 2.999 sec\n",
      "************************************\n",
      "\n",
      "\n",
      "************************************\n",
      "function    = compute_distance\n",
      "  time      = 0.01609 sec\n",
      "************************************\n",
      "\n",
      "  Operation: addition 'token-feature weight matrix' X 'socc matrix'...\n",
      "\n",
      "Saving matrix...\n",
      "Stored in file:\n",
      "  /home/projects/semmetrix/mariana_wolken/cleanWorkflow//output//tokens/destroy/destroy.nobound5-5all.PPMIno.LENGTH5000.SOCPOSnav.tcmx.soc.pac\n"
     ]
    },
    {
     "data": {
      "application/vnd.jupyter.widget-view+json": {
       "model_id": "bec24bf1edd34715aa2199385c33b4e1",
       "version_major": 2,
       "version_minor": 0
      },
      "text/plain": [
       "HBox(children=(IntProgress(value=0, max=34396), HTML(value='')))"
      ]
     },
     "metadata": {},
     "output_type": "display_data"
    },
    {
     "name": "stdout",
     "output_type": "stream",
     "text": [
      "\n",
      "\n",
      "************************************\n",
      "function    = compute_association\n",
      "  time      = 0.2204 sec\n",
      "************************************\n",
      "\n",
      "\n",
      "************************************\n",
      "function    = compute_distance\n",
      "  time      = 0.001408 sec\n",
      "************************************\n",
      "\n",
      "  Operation: addition 'token-feature weight matrix' X 'socc matrix'...\n",
      "\n",
      "Saving matrix...\n",
      "Stored in file:\n",
      "  /home/projects/semmetrix/mariana_wolken/cleanWorkflow//output//tokens/destroy/destroy.nobound5-5all.PPMIselection.LENGTHFOC.SOCPOSall.tcmx.soc.pac\n"
     ]
    },
    {
     "data": {
      "application/vnd.jupyter.widget-view+json": {
       "model_id": "bf073f18e176405d928f660458e6e388",
       "version_major": 2,
       "version_minor": 0
      },
      "text/plain": [
       "HBox(children=(IntProgress(value=0, max=768983), HTML(value='')))"
      ]
     },
     "metadata": {},
     "output_type": "display_data"
    },
    {
     "name": "stdout",
     "output_type": "stream",
     "text": [
      "\n",
      "\n",
      "************************************\n",
      "function    = compute_association\n",
      "  time      = 2.343 sec\n",
      "************************************\n",
      "\n",
      "\n",
      "************************************\n",
      "function    = compute_distance\n",
      "  time      = 0.01646 sec\n",
      "************************************\n",
      "\n",
      "  Operation: addition 'token-feature weight matrix' X 'socc matrix'...\n",
      "\n",
      "Saving matrix...\n",
      "Stored in file:\n",
      "  /home/projects/semmetrix/mariana_wolken/cleanWorkflow//output//tokens/destroy/destroy.nobound5-5all.PPMIselection.LENGTH5000.SOCPOSall.tcmx.soc.pac\n"
     ]
    },
    {
     "data": {
      "application/vnd.jupyter.widget-view+json": {
       "model_id": "022cf581238f4e798867c4de768e799c",
       "version_major": 2,
       "version_minor": 0
      },
      "text/plain": [
       "HBox(children=(IntProgress(value=0, max=18813), HTML(value='')))"
      ]
     },
     "metadata": {},
     "output_type": "display_data"
    },
    {
     "name": "stdout",
     "output_type": "stream",
     "text": [
      "\n",
      "\n",
      "************************************\n",
      "function    = compute_association\n",
      "  time      = 0.1349 sec\n",
      "************************************\n",
      "\n",
      "\n",
      "************************************\n",
      "function    = compute_distance\n",
      "  time      = 0.001114 sec\n",
      "************************************\n",
      "\n",
      "  Operation: addition 'token-feature weight matrix' X 'socc matrix'...\n",
      "\n",
      "Saving matrix...\n",
      "Stored in file:\n",
      "  /home/projects/semmetrix/mariana_wolken/cleanWorkflow//output//tokens/destroy/destroy.nobound5-5all.PPMIselection.LENGTHFOC.SOCPOSnav.tcmx.soc.pac\n"
     ]
    },
    {
     "data": {
      "application/vnd.jupyter.widget-view+json": {
       "model_id": "8fc02fe1e81641dea2180207a9f23617",
       "version_major": 2,
       "version_minor": 0
      },
      "text/plain": [
       "HBox(children=(IntProgress(value=0, max=699449), HTML(value='')))"
      ]
     },
     "metadata": {},
     "output_type": "display_data"
    },
    {
     "name": "stdout",
     "output_type": "stream",
     "text": [
      "\n",
      "\n",
      "************************************\n",
      "function    = compute_association\n",
      "  time      = 2.109 sec\n",
      "************************************\n",
      "\n",
      "\n",
      "************************************\n",
      "function    = compute_distance\n",
      "  time      = 0.01008 sec\n",
      "************************************\n",
      "\n",
      "  Operation: addition 'token-feature weight matrix' X 'socc matrix'...\n",
      "\n",
      "Saving matrix...\n",
      "Stored in file:\n",
      "  /home/projects/semmetrix/mariana_wolken/cleanWorkflow//output//tokens/destroy/destroy.nobound5-5all.PPMIselection.LENGTH5000.SOCPOSnav.tcmx.soc.pac\n"
     ]
    },
    {
     "data": {
      "application/vnd.jupyter.widget-view+json": {
       "model_id": "303d8e375f154e5999f9ee20bc58583b",
       "version_major": 2,
       "version_minor": 0
      },
      "text/plain": [
       "HBox(children=(IntProgress(value=0, max=34396), HTML(value='')))"
      ]
     },
     "metadata": {},
     "output_type": "display_data"
    },
    {
     "name": "stdout",
     "output_type": "stream",
     "text": [
      "\n",
      "\n",
      "************************************\n",
      "function    = compute_association\n",
      "  time      = 0.1818 sec\n",
      "************************************\n",
      "\n",
      "\n",
      "************************************\n",
      "function    = compute_distance\n",
      "  time      = 0.001461 sec\n",
      "************************************\n",
      "\n",
      "  Operation: addition 'token-feature weight matrix' X 'socc matrix'...\n",
      "\n",
      "Saving matrix...\n",
      "Stored in file:\n",
      "  /home/projects/semmetrix/mariana_wolken/cleanWorkflow//output//tokens/destroy/destroy.nobound5-5all.PPMIweight.LENGTHFOC.SOCPOSall.tcmx.soc.pac\n"
     ]
    },
    {
     "data": {
      "application/vnd.jupyter.widget-view+json": {
       "model_id": "e2c1fecb73a4438f8ad1862be2a4b9fd",
       "version_major": 2,
       "version_minor": 0
      },
      "text/plain": [
       "HBox(children=(IntProgress(value=0, max=768983), HTML(value='')))"
      ]
     },
     "metadata": {},
     "output_type": "display_data"
    },
    {
     "name": "stdout",
     "output_type": "stream",
     "text": [
      "\n",
      "\n",
      "************************************\n",
      "function    = compute_association\n",
      "  time      = 2.308 sec\n",
      "************************************\n",
      "\n",
      "\n",
      "************************************\n",
      "function    = compute_distance\n",
      "  time      = 0.01162 sec\n",
      "************************************\n",
      "\n",
      "  Operation: addition 'token-feature weight matrix' X 'socc matrix'...\n",
      "\n",
      "Saving matrix...\n",
      "Stored in file:\n",
      "  /home/projects/semmetrix/mariana_wolken/cleanWorkflow//output//tokens/destroy/destroy.nobound5-5all.PPMIweight.LENGTH5000.SOCPOSall.tcmx.soc.pac\n"
     ]
    },
    {
     "data": {
      "application/vnd.jupyter.widget-view+json": {
       "model_id": "eed688df52f94c6d81e7bdc03680cfc5",
       "version_major": 2,
       "version_minor": 0
      },
      "text/plain": [
       "HBox(children=(IntProgress(value=0, max=18813), HTML(value='')))"
      ]
     },
     "metadata": {},
     "output_type": "display_data"
    },
    {
     "name": "stdout",
     "output_type": "stream",
     "text": [
      "\n",
      "\n",
      "************************************\n",
      "function    = compute_association\n",
      "  time      = 0.1926 sec\n",
      "************************************\n",
      "\n",
      "\n",
      "************************************\n",
      "function    = compute_distance\n",
      "  time      = 0.001259 sec\n",
      "************************************\n",
      "\n",
      "  Operation: addition 'token-feature weight matrix' X 'socc matrix'...\n",
      "\n",
      "Saving matrix...\n",
      "Stored in file:\n",
      "  /home/projects/semmetrix/mariana_wolken/cleanWorkflow//output//tokens/destroy/destroy.nobound5-5all.PPMIweight.LENGTHFOC.SOCPOSnav.tcmx.soc.pac\n"
     ]
    },
    {
     "data": {
      "application/vnd.jupyter.widget-view+json": {
       "model_id": "9830998f3a8349058e70ec07fb130a98",
       "version_major": 2,
       "version_minor": 0
      },
      "text/plain": [
       "HBox(children=(IntProgress(value=0, max=699449), HTML(value='')))"
      ]
     },
     "metadata": {},
     "output_type": "display_data"
    },
    {
     "name": "stdout",
     "output_type": "stream",
     "text": [
      "\n",
      "\n",
      "************************************\n",
      "function    = compute_association\n",
      "  time      = 2.215 sec\n",
      "************************************\n",
      "\n",
      "\n",
      "************************************\n",
      "function    = compute_distance\n",
      "  time      = 0.009971 sec\n",
      "************************************\n",
      "\n",
      "  Operation: addition 'token-feature weight matrix' X 'socc matrix'...\n",
      "\n",
      "Saving matrix...\n",
      "Stored in file:\n",
      "  /home/projects/semmetrix/mariana_wolken/cleanWorkflow//output//tokens/destroy/destroy.nobound5-5all.PPMIweight.LENGTH5000.SOCPOSnav.tcmx.soc.pac\n"
     ]
    },
    {
     "data": {
      "application/vnd.jupyter.widget-view+json": {
       "model_id": "0c4c6e1a5d734f4e8d6365ace54b18b5",
       "version_major": 2,
       "version_minor": 0
      },
      "text/plain": [
       "HBox(children=(IntProgress(value=0, max=28247), HTML(value='')))"
      ]
     },
     "metadata": {},
     "output_type": "display_data"
    },
    {
     "name": "stdout",
     "output_type": "stream",
     "text": [
      "\n",
      "\n",
      "************************************\n",
      "function    = compute_association\n",
      "  time      = 0.1643 sec\n",
      "************************************\n",
      "\n",
      "\n",
      "************************************\n",
      "function    = compute_distance\n",
      "  time      = 0.001181 sec\n",
      "************************************\n",
      "\n",
      "  Operation: addition 'token-feature weight matrix' X 'socc matrix'...\n",
      "\n",
      "Saving matrix...\n",
      "Stored in file:\n",
      "  /home/projects/semmetrix/mariana_wolken/cleanWorkflow//output//tokens/destroy/destroy.nobound5-5lex.PPMIno.LENGTHFOC.SOCPOSall.tcmx.soc.pac\n"
     ]
    },
    {
     "data": {
      "application/vnd.jupyter.widget-view+json": {
       "model_id": "681de52a27b34ff69b8b013d9448e40e",
       "version_major": 2,
       "version_minor": 0
      },
      "text/plain": [
       "HBox(children=(IntProgress(value=0, max=707808), HTML(value='')))"
      ]
     },
     "metadata": {},
     "output_type": "display_data"
    },
    {
     "name": "stdout",
     "output_type": "stream",
     "text": [
      "\n",
      "\n",
      "************************************\n",
      "function    = compute_association\n",
      "  time      = 2.215 sec\n",
      "************************************\n",
      "\n",
      "\n",
      "************************************\n",
      "function    = compute_distance\n",
      "  time      = 0.008306 sec\n",
      "************************************\n",
      "\n",
      "  Operation: addition 'token-feature weight matrix' X 'socc matrix'...\n",
      "\n",
      "Saving matrix...\n",
      "Stored in file:\n",
      "  /home/projects/semmetrix/mariana_wolken/cleanWorkflow//output//tokens/destroy/destroy.nobound5-5lex.PPMIno.LENGTH5000.SOCPOSall.tcmx.soc.pac\n"
     ]
    },
    {
     "data": {
      "application/vnd.jupyter.widget-view+json": {
       "model_id": "5588728658d3408da4bc04a6a24a2a89",
       "version_major": 2,
       "version_minor": 0
      },
      "text/plain": [
       "HBox(children=(IntProgress(value=0, max=22764), HTML(value='')))"
      ]
     },
     "metadata": {},
     "output_type": "display_data"
    },
    {
     "name": "stdout",
     "output_type": "stream",
     "text": [
      "\n",
      "\n",
      "************************************\n",
      "function    = compute_association\n",
      "  time      = 0.1484 sec\n",
      "************************************\n",
      "\n",
      "\n",
      "************************************\n",
      "function    = compute_distance\n",
      "  time      = 0.001104 sec\n",
      "************************************\n",
      "\n",
      "  Operation: addition 'token-feature weight matrix' X 'socc matrix'...\n",
      "\n",
      "Saving matrix...\n",
      "Stored in file:\n",
      "  /home/projects/semmetrix/mariana_wolken/cleanWorkflow//output//tokens/destroy/destroy.nobound5-5lex.PPMIno.LENGTHFOC.SOCPOSnav.tcmx.soc.pac\n"
     ]
    },
    {
     "data": {
      "application/vnd.jupyter.widget-view+json": {
       "model_id": "07c0c6c619844dc39ae3ec744fb12863",
       "version_major": 2,
       "version_minor": 0
      },
      "text/plain": [
       "HBox(children=(IntProgress(value=0, max=643194), HTML(value='')))"
      ]
     },
     "metadata": {},
     "output_type": "display_data"
    },
    {
     "name": "stdout",
     "output_type": "stream",
     "text": [
      "\n",
      "\n",
      "************************************\n",
      "function    = compute_association\n",
      "  time      = 2.005 sec\n",
      "************************************\n",
      "\n",
      "\n",
      "************************************\n",
      "function    = compute_distance\n",
      "  time      = 0.01078 sec\n",
      "************************************\n",
      "\n",
      "  Operation: addition 'token-feature weight matrix' X 'socc matrix'...\n",
      "\n",
      "Saving matrix...\n",
      "Stored in file:\n",
      "  /home/projects/semmetrix/mariana_wolken/cleanWorkflow//output//tokens/destroy/destroy.nobound5-5lex.PPMIno.LENGTH5000.SOCPOSnav.tcmx.soc.pac\n"
     ]
    },
    {
     "data": {
      "application/vnd.jupyter.widget-view+json": {
       "model_id": "192389b481b8400e98a94311ee2c601d",
       "version_major": 2,
       "version_minor": 0
      },
      "text/plain": [
       "HBox(children=(IntProgress(value=0, max=16350), HTML(value='')))"
      ]
     },
     "metadata": {},
     "output_type": "display_data"
    },
    {
     "name": "stdout",
     "output_type": "stream",
     "text": [
      "\n",
      "\n",
      "************************************\n",
      "function    = compute_association\n",
      "  time      = 0.1254 sec\n",
      "************************************\n",
      "\n",
      "\n",
      "************************************\n",
      "function    = compute_distance\n",
      "  time      = 0.0008755 sec\n",
      "************************************\n",
      "\n",
      "  Operation: addition 'token-feature weight matrix' X 'socc matrix'...\n",
      "\n",
      "Saving matrix...\n",
      "Stored in file:\n",
      "  /home/projects/semmetrix/mariana_wolken/cleanWorkflow//output//tokens/destroy/destroy.nobound5-5lex.PPMIselection.LENGTHFOC.SOCPOSall.tcmx.soc.pac\n"
     ]
    },
    {
     "data": {
      "application/vnd.jupyter.widget-view+json": {
       "model_id": "5588661b075a4880800d730a9a309d34",
       "version_major": 2,
       "version_minor": 0
      },
      "text/plain": [
       "HBox(children=(IntProgress(value=0, max=528712), HTML(value='')))"
      ]
     },
     "metadata": {},
     "output_type": "display_data"
    },
    {
     "name": "stdout",
     "output_type": "stream",
     "text": [
      "\n",
      "\n",
      "************************************\n",
      "function    = compute_association\n",
      "  time      = 1.741 sec\n",
      "************************************\n",
      "\n",
      "\n",
      "************************************\n",
      "function    = compute_distance\n",
      "  time      = 0.006452 sec\n",
      "************************************\n",
      "\n",
      "  Operation: addition 'token-feature weight matrix' X 'socc matrix'...\n",
      "\n",
      "Saving matrix...\n",
      "Stored in file:\n",
      "  /home/projects/semmetrix/mariana_wolken/cleanWorkflow//output//tokens/destroy/destroy.nobound5-5lex.PPMIselection.LENGTH5000.SOCPOSall.tcmx.soc.pac\n"
     ]
    },
    {
     "data": {
      "application/vnd.jupyter.widget-view+json": {
       "model_id": "66ab0d58ffd147118b354c79540cc04f",
       "version_major": 2,
       "version_minor": 0
      },
      "text/plain": [
       "HBox(children=(IntProgress(value=0, max=13093), HTML(value='')))"
      ]
     },
     "metadata": {},
     "output_type": "display_data"
    },
    {
     "name": "stdout",
     "output_type": "stream",
     "text": [
      "\n",
      "\n",
      "************************************\n",
      "function    = compute_association\n",
      "  time      = 0.1196 sec\n",
      "************************************\n",
      "\n",
      "\n",
      "************************************\n",
      "function    = compute_distance\n",
      "  time      = 0.000947 sec\n",
      "************************************\n",
      "\n",
      "  Operation: addition 'token-feature weight matrix' X 'socc matrix'...\n",
      "\n",
      "Saving matrix...\n",
      "Stored in file:\n",
      "  /home/projects/semmetrix/mariana_wolken/cleanWorkflow//output//tokens/destroy/destroy.nobound5-5lex.PPMIselection.LENGTHFOC.SOCPOSnav.tcmx.soc.pac\n"
     ]
    },
    {
     "data": {
      "application/vnd.jupyter.widget-view+json": {
       "model_id": "a163b1b4655745a39e18c66759d5110d",
       "version_major": 2,
       "version_minor": 0
      },
      "text/plain": [
       "HBox(children=(IntProgress(value=0, max=471982), HTML(value='')))"
      ]
     },
     "metadata": {},
     "output_type": "display_data"
    },
    {
     "name": "stdout",
     "output_type": "stream",
     "text": [
      "\n",
      "\n",
      "************************************\n",
      "function    = compute_association\n",
      "  time      = 1.563 sec\n",
      "************************************\n",
      "\n",
      "\n",
      "************************************\n",
      "function    = compute_distance\n",
      "  time      = 0.006557 sec\n",
      "************************************\n",
      "\n",
      "  Operation: addition 'token-feature weight matrix' X 'socc matrix'...\n",
      "\n",
      "Saving matrix...\n",
      "Stored in file:\n",
      "  /home/projects/semmetrix/mariana_wolken/cleanWorkflow//output//tokens/destroy/destroy.nobound5-5lex.PPMIselection.LENGTH5000.SOCPOSnav.tcmx.soc.pac\n"
     ]
    },
    {
     "data": {
      "application/vnd.jupyter.widget-view+json": {
       "model_id": "0b5e153dae33428cb2e7d1b72134eef6",
       "version_major": 2,
       "version_minor": 0
      },
      "text/plain": [
       "HBox(children=(IntProgress(value=0, max=16350), HTML(value='')))"
      ]
     },
     "metadata": {},
     "output_type": "display_data"
    },
    {
     "name": "stdout",
     "output_type": "stream",
     "text": [
      "\n",
      "\n",
      "************************************\n",
      "function    = compute_association\n",
      "  time      = 0.1487 sec\n",
      "************************************\n",
      "\n",
      "\n",
      "************************************\n",
      "function    = compute_distance\n",
      "  time      = 0.0009754 sec\n",
      "************************************\n",
      "\n",
      "  Operation: addition 'token-feature weight matrix' X 'socc matrix'...\n",
      "\n",
      "Saving matrix...\n",
      "Stored in file:\n",
      "  /home/projects/semmetrix/mariana_wolken/cleanWorkflow//output//tokens/destroy/destroy.nobound5-5lex.PPMIweight.LENGTHFOC.SOCPOSall.tcmx.soc.pac\n"
     ]
    },
    {
     "data": {
      "application/vnd.jupyter.widget-view+json": {
       "model_id": "d695fc60214240a2b8abcd452701db58",
       "version_major": 2,
       "version_minor": 0
      },
      "text/plain": [
       "HBox(children=(IntProgress(value=0, max=528712), HTML(value='')))"
      ]
     },
     "metadata": {},
     "output_type": "display_data"
    },
    {
     "name": "stdout",
     "output_type": "stream",
     "text": [
      "\n",
      "\n",
      "************************************\n",
      "function    = compute_association\n",
      "  time      = 1.718 sec\n",
      "************************************\n",
      "\n",
      "\n",
      "************************************\n",
      "function    = compute_distance\n",
      "  time      = 0.006962 sec\n",
      "************************************\n",
      "\n",
      "  Operation: addition 'token-feature weight matrix' X 'socc matrix'...\n",
      "\n",
      "Saving matrix...\n",
      "Stored in file:\n",
      "  /home/projects/semmetrix/mariana_wolken/cleanWorkflow//output//tokens/destroy/destroy.nobound5-5lex.PPMIweight.LENGTH5000.SOCPOSall.tcmx.soc.pac\n"
     ]
    },
    {
     "data": {
      "application/vnd.jupyter.widget-view+json": {
       "model_id": "19e651567e0943e38bb216c50884a72b",
       "version_major": 2,
       "version_minor": 0
      },
      "text/plain": [
       "HBox(children=(IntProgress(value=0, max=13093), HTML(value='')))"
      ]
     },
     "metadata": {},
     "output_type": "display_data"
    },
    {
     "name": "stdout",
     "output_type": "stream",
     "text": [
      "\n",
      "\n",
      "************************************\n",
      "function    = compute_association\n",
      "  time      = 0.1438 sec\n",
      "************************************\n",
      "\n",
      "\n",
      "************************************\n",
      "function    = compute_distance\n",
      "  time      = 0.0008528 sec\n",
      "************************************\n",
      "\n",
      "  Operation: addition 'token-feature weight matrix' X 'socc matrix'...\n",
      "\n",
      "Saving matrix...\n",
      "Stored in file:\n",
      "  /home/projects/semmetrix/mariana_wolken/cleanWorkflow//output//tokens/destroy/destroy.nobound5-5lex.PPMIweight.LENGTHFOC.SOCPOSnav.tcmx.soc.pac\n"
     ]
    },
    {
     "data": {
      "application/vnd.jupyter.widget-view+json": {
       "model_id": "5763a5ce0b4b4a47973f1935e95480c7",
       "version_major": 2,
       "version_minor": 0
      },
      "text/plain": [
       "HBox(children=(IntProgress(value=0, max=471982), HTML(value='')))"
      ]
     },
     "metadata": {},
     "output_type": "display_data"
    },
    {
     "name": "stdout",
     "output_type": "stream",
     "text": [
      "\n",
      "\n",
      "************************************\n",
      "function    = compute_association\n",
      "  time      = 1.565 sec\n",
      "************************************\n",
      "\n",
      "\n",
      "************************************\n",
      "function    = compute_distance\n",
      "  time      = 0.006367 sec\n",
      "************************************\n",
      "\n",
      "  Operation: addition 'token-feature weight matrix' X 'socc matrix'...\n",
      "\n",
      "Saving matrix...\n",
      "Stored in file:\n",
      "  /home/projects/semmetrix/mariana_wolken/cleanWorkflow//output//tokens/destroy/destroy.nobound5-5lex.PPMIweight.LENGTH5000.SOCPOSnav.tcmx.soc.pac\n"
     ]
    }
   ],
   "source": [
    "socdata = createSoc(token_dir,\n",
    "                    registers = weight_data['model_register'],\n",
    "                   soc_pos = soc_pos, lengths = lengths,\n",
    "                   socMTX = freqMTX_CW4, store_focdists = f\"{output_path}/cws/{type_name}/\")"
   ]
  },
  {
   "cell_type": "code",
   "execution_count": 41,
   "metadata": {
    "scrolled": true
   },
   "outputs": [
    {
     "data": {
      "text/html": [
       "<div>\n",
       "<style scoped>\n",
       "    .dataframe tbody tr th:only-of-type {\n",
       "        vertical-align: middle;\n",
       "    }\n",
       "\n",
       "    .dataframe tbody tr th {\n",
       "        vertical-align: top;\n",
       "    }\n",
       "\n",
       "    .dataframe thead th {\n",
       "        text-align: right;\n",
       "    }\n",
       "</style>\n",
       "<table border=\"1\" class=\"dataframe\">\n",
       "  <thead>\n",
       "    <tr style=\"text-align: right;\">\n",
       "      <th></th>\n",
       "      <th>LEMMAPATH</th>\n",
       "      <th>LEMMAREL</th>\n",
       "      <th>bound</th>\n",
       "      <th>foc_base</th>\n",
       "      <th>foc_context_words</th>\n",
       "      <th>foc_pmi</th>\n",
       "      <th>foc_pos</th>\n",
       "      <th>foc_win</th>\n",
       "      <th>soc_length</th>\n",
       "      <th>soc_pos</th>\n",
       "      <th>tokens</th>\n",
       "    </tr>\n",
       "  </thead>\n",
       "  <tbody>\n",
       "    <tr>\n",
       "      <th>destroy.LEMMAPATH2.PPMIno.LENGTH5000.SOCPOSall</th>\n",
       "      <td>LEMMAPATH2</td>\n",
       "      <td>NaN</td>\n",
       "      <td>NaN</td>\n",
       "      <td>LEMMAPATH</td>\n",
       "      <td>172</td>\n",
       "      <td>no</td>\n",
       "      <td>NaN</td>\n",
       "      <td>NaN</td>\n",
       "      <td>5000</td>\n",
       "      <td>all</td>\n",
       "      <td>60</td>\n",
       "    </tr>\n",
       "    <tr>\n",
       "      <th>destroy.LEMMAPATH2.PPMIno.LENGTH5000.SOCPOSnav</th>\n",
       "      <td>LEMMAPATH2</td>\n",
       "      <td>NaN</td>\n",
       "      <td>NaN</td>\n",
       "      <td>LEMMAPATH</td>\n",
       "      <td>172</td>\n",
       "      <td>no</td>\n",
       "      <td>NaN</td>\n",
       "      <td>NaN</td>\n",
       "      <td>5000</td>\n",
       "      <td>nav</td>\n",
       "      <td>60</td>\n",
       "    </tr>\n",
       "    <tr>\n",
       "      <th>destroy.LEMMAPATH2.PPMIno.LENGTHFOC.SOCPOSall</th>\n",
       "      <td>LEMMAPATH2</td>\n",
       "      <td>NaN</td>\n",
       "      <td>NaN</td>\n",
       "      <td>LEMMAPATH</td>\n",
       "      <td>172</td>\n",
       "      <td>no</td>\n",
       "      <td>NaN</td>\n",
       "      <td>NaN</td>\n",
       "      <td>FOC</td>\n",
       "      <td>all</td>\n",
       "      <td>60</td>\n",
       "    </tr>\n",
       "    <tr>\n",
       "      <th>destroy.LEMMAPATH2.PPMIno.LENGTHFOC.SOCPOSnav</th>\n",
       "      <td>LEMMAPATH2</td>\n",
       "      <td>NaN</td>\n",
       "      <td>NaN</td>\n",
       "      <td>LEMMAPATH</td>\n",
       "      <td>172</td>\n",
       "      <td>no</td>\n",
       "      <td>NaN</td>\n",
       "      <td>NaN</td>\n",
       "      <td>FOC</td>\n",
       "      <td>nav</td>\n",
       "      <td>60</td>\n",
       "    </tr>\n",
       "    <tr>\n",
       "      <th>destroy.LEMMAPATH2.PPMIselection.LENGTH5000.SOCPOSall</th>\n",
       "      <td>LEMMAPATH2</td>\n",
       "      <td>NaN</td>\n",
       "      <td>NaN</td>\n",
       "      <td>LEMMAPATH</td>\n",
       "      <td>132</td>\n",
       "      <td>selection</td>\n",
       "      <td>NaN</td>\n",
       "      <td>NaN</td>\n",
       "      <td>5000</td>\n",
       "      <td>all</td>\n",
       "      <td>60</td>\n",
       "    </tr>\n",
       "    <tr>\n",
       "      <th>destroy.LEMMAPATH2.PPMIselection.LENGTH5000.SOCPOSnav</th>\n",
       "      <td>LEMMAPATH2</td>\n",
       "      <td>NaN</td>\n",
       "      <td>NaN</td>\n",
       "      <td>LEMMAPATH</td>\n",
       "      <td>132</td>\n",
       "      <td>selection</td>\n",
       "      <td>NaN</td>\n",
       "      <td>NaN</td>\n",
       "      <td>5000</td>\n",
       "      <td>nav</td>\n",
       "      <td>60</td>\n",
       "    </tr>\n",
       "    <tr>\n",
       "      <th>destroy.LEMMAPATH2.PPMIselection.LENGTHFOC.SOCPOSall</th>\n",
       "      <td>LEMMAPATH2</td>\n",
       "      <td>NaN</td>\n",
       "      <td>NaN</td>\n",
       "      <td>LEMMAPATH</td>\n",
       "      <td>132</td>\n",
       "      <td>selection</td>\n",
       "      <td>NaN</td>\n",
       "      <td>NaN</td>\n",
       "      <td>FOC</td>\n",
       "      <td>all</td>\n",
       "      <td>60</td>\n",
       "    </tr>\n",
       "    <tr>\n",
       "      <th>destroy.LEMMAPATH2.PPMIselection.LENGTHFOC.SOCPOSnav</th>\n",
       "      <td>LEMMAPATH2</td>\n",
       "      <td>NaN</td>\n",
       "      <td>NaN</td>\n",
       "      <td>LEMMAPATH</td>\n",
       "      <td>132</td>\n",
       "      <td>selection</td>\n",
       "      <td>NaN</td>\n",
       "      <td>NaN</td>\n",
       "      <td>FOC</td>\n",
       "      <td>nav</td>\n",
       "      <td>60</td>\n",
       "    </tr>\n",
       "    <tr>\n",
       "      <th>destroy.LEMMAPATH2.PPMIweight.LENGTH5000.SOCPOSall</th>\n",
       "      <td>LEMMAPATH2</td>\n",
       "      <td>NaN</td>\n",
       "      <td>NaN</td>\n",
       "      <td>LEMMAPATH</td>\n",
       "      <td>132</td>\n",
       "      <td>weight</td>\n",
       "      <td>NaN</td>\n",
       "      <td>NaN</td>\n",
       "      <td>5000</td>\n",
       "      <td>all</td>\n",
       "      <td>60</td>\n",
       "    </tr>\n",
       "    <tr>\n",
       "      <th>destroy.LEMMAPATH2.PPMIweight.LENGTH5000.SOCPOSnav</th>\n",
       "      <td>LEMMAPATH2</td>\n",
       "      <td>NaN</td>\n",
       "      <td>NaN</td>\n",
       "      <td>LEMMAPATH</td>\n",
       "      <td>132</td>\n",
       "      <td>weight</td>\n",
       "      <td>NaN</td>\n",
       "      <td>NaN</td>\n",
       "      <td>5000</td>\n",
       "      <td>nav</td>\n",
       "      <td>60</td>\n",
       "    </tr>\n",
       "    <tr>\n",
       "      <th>destroy.LEMMAPATH2.PPMIweight.LENGTHFOC.SOCPOSall</th>\n",
       "      <td>LEMMAPATH2</td>\n",
       "      <td>NaN</td>\n",
       "      <td>NaN</td>\n",
       "      <td>LEMMAPATH</td>\n",
       "      <td>132</td>\n",
       "      <td>weight</td>\n",
       "      <td>NaN</td>\n",
       "      <td>NaN</td>\n",
       "      <td>FOC</td>\n",
       "      <td>all</td>\n",
       "      <td>60</td>\n",
       "    </tr>\n",
       "    <tr>\n",
       "      <th>destroy.LEMMAPATH2.PPMIweight.LENGTHFOC.SOCPOSnav</th>\n",
       "      <td>LEMMAPATH2</td>\n",
       "      <td>NaN</td>\n",
       "      <td>NaN</td>\n",
       "      <td>LEMMAPATH</td>\n",
       "      <td>132</td>\n",
       "      <td>weight</td>\n",
       "      <td>NaN</td>\n",
       "      <td>NaN</td>\n",
       "      <td>FOC</td>\n",
       "      <td>nav</td>\n",
       "      <td>60</td>\n",
       "    </tr>\n",
       "    <tr>\n",
       "      <th>destroy.LEMMAPATH3.PPMIno.LENGTH5000.SOCPOSall</th>\n",
       "      <td>LEMMAPATH3</td>\n",
       "      <td>NaN</td>\n",
       "      <td>NaN</td>\n",
       "      <td>LEMMAPATH</td>\n",
       "      <td>250</td>\n",
       "      <td>no</td>\n",
       "      <td>NaN</td>\n",
       "      <td>NaN</td>\n",
       "      <td>5000</td>\n",
       "      <td>all</td>\n",
       "      <td>58</td>\n",
       "    </tr>\n",
       "    <tr>\n",
       "      <th>destroy.LEMMAPATH3.PPMIno.LENGTH5000.SOCPOSnav</th>\n",
       "      <td>LEMMAPATH3</td>\n",
       "      <td>NaN</td>\n",
       "      <td>NaN</td>\n",
       "      <td>LEMMAPATH</td>\n",
       "      <td>250</td>\n",
       "      <td>no</td>\n",
       "      <td>NaN</td>\n",
       "      <td>NaN</td>\n",
       "      <td>5000</td>\n",
       "      <td>nav</td>\n",
       "      <td>58</td>\n",
       "    </tr>\n",
       "    <tr>\n",
       "      <th>destroy.LEMMAPATH3.PPMIno.LENGTHFOC.SOCPOSall</th>\n",
       "      <td>LEMMAPATH3</td>\n",
       "      <td>NaN</td>\n",
       "      <td>NaN</td>\n",
       "      <td>LEMMAPATH</td>\n",
       "      <td>250</td>\n",
       "      <td>no</td>\n",
       "      <td>NaN</td>\n",
       "      <td>NaN</td>\n",
       "      <td>FOC</td>\n",
       "      <td>all</td>\n",
       "      <td>58</td>\n",
       "    </tr>\n",
       "    <tr>\n",
       "      <th>destroy.LEMMAPATH3.PPMIno.LENGTHFOC.SOCPOSnav</th>\n",
       "      <td>LEMMAPATH3</td>\n",
       "      <td>NaN</td>\n",
       "      <td>NaN</td>\n",
       "      <td>LEMMAPATH</td>\n",
       "      <td>250</td>\n",
       "      <td>no</td>\n",
       "      <td>NaN</td>\n",
       "      <td>NaN</td>\n",
       "      <td>FOC</td>\n",
       "      <td>nav</td>\n",
       "      <td>58</td>\n",
       "    </tr>\n",
       "    <tr>\n",
       "      <th>destroy.LEMMAPATH3.PPMIselection.LENGTH5000.SOCPOSall</th>\n",
       "      <td>LEMMAPATH3</td>\n",
       "      <td>NaN</td>\n",
       "      <td>NaN</td>\n",
       "      <td>LEMMAPATH</td>\n",
       "      <td>184</td>\n",
       "      <td>selection</td>\n",
       "      <td>NaN</td>\n",
       "      <td>NaN</td>\n",
       "      <td>5000</td>\n",
       "      <td>all</td>\n",
       "      <td>58</td>\n",
       "    </tr>\n",
       "    <tr>\n",
       "      <th>destroy.LEMMAPATH3.PPMIselection.LENGTH5000.SOCPOSnav</th>\n",
       "      <td>LEMMAPATH3</td>\n",
       "      <td>NaN</td>\n",
       "      <td>NaN</td>\n",
       "      <td>LEMMAPATH</td>\n",
       "      <td>184</td>\n",
       "      <td>selection</td>\n",
       "      <td>NaN</td>\n",
       "      <td>NaN</td>\n",
       "      <td>5000</td>\n",
       "      <td>nav</td>\n",
       "      <td>58</td>\n",
       "    </tr>\n",
       "    <tr>\n",
       "      <th>destroy.LEMMAPATH3.PPMIselection.LENGTHFOC.SOCPOSall</th>\n",
       "      <td>LEMMAPATH3</td>\n",
       "      <td>NaN</td>\n",
       "      <td>NaN</td>\n",
       "      <td>LEMMAPATH</td>\n",
       "      <td>184</td>\n",
       "      <td>selection</td>\n",
       "      <td>NaN</td>\n",
       "      <td>NaN</td>\n",
       "      <td>FOC</td>\n",
       "      <td>all</td>\n",
       "      <td>58</td>\n",
       "    </tr>\n",
       "    <tr>\n",
       "      <th>destroy.LEMMAPATH3.PPMIselection.LENGTHFOC.SOCPOSnav</th>\n",
       "      <td>LEMMAPATH3</td>\n",
       "      <td>NaN</td>\n",
       "      <td>NaN</td>\n",
       "      <td>LEMMAPATH</td>\n",
       "      <td>184</td>\n",
       "      <td>selection</td>\n",
       "      <td>NaN</td>\n",
       "      <td>NaN</td>\n",
       "      <td>FOC</td>\n",
       "      <td>nav</td>\n",
       "      <td>58</td>\n",
       "    </tr>\n",
       "    <tr>\n",
       "      <th>destroy.LEMMAPATH3.PPMIweight.LENGTH5000.SOCPOSall</th>\n",
       "      <td>LEMMAPATH3</td>\n",
       "      <td>NaN</td>\n",
       "      <td>NaN</td>\n",
       "      <td>LEMMAPATH</td>\n",
       "      <td>184</td>\n",
       "      <td>weight</td>\n",
       "      <td>NaN</td>\n",
       "      <td>NaN</td>\n",
       "      <td>5000</td>\n",
       "      <td>all</td>\n",
       "      <td>58</td>\n",
       "    </tr>\n",
       "    <tr>\n",
       "      <th>destroy.LEMMAPATH3.PPMIweight.LENGTH5000.SOCPOSnav</th>\n",
       "      <td>LEMMAPATH3</td>\n",
       "      <td>NaN</td>\n",
       "      <td>NaN</td>\n",
       "      <td>LEMMAPATH</td>\n",
       "      <td>184</td>\n",
       "      <td>weight</td>\n",
       "      <td>NaN</td>\n",
       "      <td>NaN</td>\n",
       "      <td>5000</td>\n",
       "      <td>nav</td>\n",
       "      <td>58</td>\n",
       "    </tr>\n",
       "    <tr>\n",
       "      <th>destroy.LEMMAPATH3.PPMIweight.LENGTHFOC.SOCPOSall</th>\n",
       "      <td>LEMMAPATH3</td>\n",
       "      <td>NaN</td>\n",
       "      <td>NaN</td>\n",
       "      <td>LEMMAPATH</td>\n",
       "      <td>184</td>\n",
       "      <td>weight</td>\n",
       "      <td>NaN</td>\n",
       "      <td>NaN</td>\n",
       "      <td>FOC</td>\n",
       "      <td>all</td>\n",
       "      <td>58</td>\n",
       "    </tr>\n",
       "    <tr>\n",
       "      <th>destroy.LEMMAPATH3.PPMIweight.LENGTHFOC.SOCPOSnav</th>\n",
       "      <td>LEMMAPATH3</td>\n",
       "      <td>NaN</td>\n",
       "      <td>NaN</td>\n",
       "      <td>LEMMAPATH</td>\n",
       "      <td>184</td>\n",
       "      <td>weight</td>\n",
       "      <td>NaN</td>\n",
       "      <td>NaN</td>\n",
       "      <td>FOC</td>\n",
       "      <td>nav</td>\n",
       "      <td>58</td>\n",
       "    </tr>\n",
       "    <tr>\n",
       "      <th>destroy.LEMMAPATHweight.PPMIno.LENGTH5000.SOCPOSall</th>\n",
       "      <td>LEMMAPATHweight</td>\n",
       "      <td>NaN</td>\n",
       "      <td>NaN</td>\n",
       "      <td>LEMMAPATH</td>\n",
       "      <td>250</td>\n",
       "      <td>no</td>\n",
       "      <td>NaN</td>\n",
       "      <td>NaN</td>\n",
       "      <td>5000</td>\n",
       "      <td>all</td>\n",
       "      <td>58</td>\n",
       "    </tr>\n",
       "    <tr>\n",
       "      <th>destroy.LEMMAPATHweight.PPMIno.LENGTH5000.SOCPOSnav</th>\n",
       "      <td>LEMMAPATHweight</td>\n",
       "      <td>NaN</td>\n",
       "      <td>NaN</td>\n",
       "      <td>LEMMAPATH</td>\n",
       "      <td>250</td>\n",
       "      <td>no</td>\n",
       "      <td>NaN</td>\n",
       "      <td>NaN</td>\n",
       "      <td>5000</td>\n",
       "      <td>nav</td>\n",
       "      <td>58</td>\n",
       "    </tr>\n",
       "    <tr>\n",
       "      <th>destroy.LEMMAPATHweight.PPMIno.LENGTHFOC.SOCPOSall</th>\n",
       "      <td>LEMMAPATHweight</td>\n",
       "      <td>NaN</td>\n",
       "      <td>NaN</td>\n",
       "      <td>LEMMAPATH</td>\n",
       "      <td>250</td>\n",
       "      <td>no</td>\n",
       "      <td>NaN</td>\n",
       "      <td>NaN</td>\n",
       "      <td>FOC</td>\n",
       "      <td>all</td>\n",
       "      <td>58</td>\n",
       "    </tr>\n",
       "    <tr>\n",
       "      <th>destroy.LEMMAPATHweight.PPMIno.LENGTHFOC.SOCPOSnav</th>\n",
       "      <td>LEMMAPATHweight</td>\n",
       "      <td>NaN</td>\n",
       "      <td>NaN</td>\n",
       "      <td>LEMMAPATH</td>\n",
       "      <td>250</td>\n",
       "      <td>no</td>\n",
       "      <td>NaN</td>\n",
       "      <td>NaN</td>\n",
       "      <td>FOC</td>\n",
       "      <td>nav</td>\n",
       "      <td>58</td>\n",
       "    </tr>\n",
       "    <tr>\n",
       "      <th>destroy.LEMMAPATHweight.PPMIselection.LENGTH5000.SOCPOSall</th>\n",
       "      <td>LEMMAPATHweight</td>\n",
       "      <td>NaN</td>\n",
       "      <td>NaN</td>\n",
       "      <td>LEMMAPATH</td>\n",
       "      <td>184</td>\n",
       "      <td>selection</td>\n",
       "      <td>NaN</td>\n",
       "      <td>NaN</td>\n",
       "      <td>5000</td>\n",
       "      <td>all</td>\n",
       "      <td>58</td>\n",
       "    </tr>\n",
       "    <tr>\n",
       "      <th>destroy.LEMMAPATHweight.PPMIselection.LENGTH5000.SOCPOSnav</th>\n",
       "      <td>LEMMAPATHweight</td>\n",
       "      <td>NaN</td>\n",
       "      <td>NaN</td>\n",
       "      <td>LEMMAPATH</td>\n",
       "      <td>184</td>\n",
       "      <td>selection</td>\n",
       "      <td>NaN</td>\n",
       "      <td>NaN</td>\n",
       "      <td>5000</td>\n",
       "      <td>nav</td>\n",
       "      <td>58</td>\n",
       "    </tr>\n",
       "    <tr>\n",
       "      <th>...</th>\n",
       "      <td>...</td>\n",
       "      <td>...</td>\n",
       "      <td>...</td>\n",
       "      <td>...</td>\n",
       "      <td>...</td>\n",
       "      <td>...</td>\n",
       "      <td>...</td>\n",
       "      <td>...</td>\n",
       "      <td>...</td>\n",
       "      <td>...</td>\n",
       "      <td>...</td>\n",
       "    </tr>\n",
       "    <tr>\n",
       "      <th>destroy.nobound3-3lex.PPMIselection.LENGTHFOC.SOCPOSall</th>\n",
       "      <td>NaN</td>\n",
       "      <td>NaN</td>\n",
       "      <td>False</td>\n",
       "      <td>BOW</td>\n",
       "      <td>96</td>\n",
       "      <td>selection</td>\n",
       "      <td>lex</td>\n",
       "      <td>3-3</td>\n",
       "      <td>FOC</td>\n",
       "      <td>all</td>\n",
       "      <td>55</td>\n",
       "    </tr>\n",
       "    <tr>\n",
       "      <th>destroy.nobound3-3lex.PPMIselection.LENGTHFOC.SOCPOSnav</th>\n",
       "      <td>NaN</td>\n",
       "      <td>NaN</td>\n",
       "      <td>False</td>\n",
       "      <td>BOW</td>\n",
       "      <td>96</td>\n",
       "      <td>selection</td>\n",
       "      <td>lex</td>\n",
       "      <td>3-3</td>\n",
       "      <td>FOC</td>\n",
       "      <td>nav</td>\n",
       "      <td>55</td>\n",
       "    </tr>\n",
       "    <tr>\n",
       "      <th>destroy.nobound3-3lex.PPMIweight.LENGTH5000.SOCPOSall</th>\n",
       "      <td>NaN</td>\n",
       "      <td>NaN</td>\n",
       "      <td>False</td>\n",
       "      <td>BOW</td>\n",
       "      <td>96</td>\n",
       "      <td>weight</td>\n",
       "      <td>lex</td>\n",
       "      <td>3-3</td>\n",
       "      <td>5000</td>\n",
       "      <td>all</td>\n",
       "      <td>55</td>\n",
       "    </tr>\n",
       "    <tr>\n",
       "      <th>destroy.nobound3-3lex.PPMIweight.LENGTH5000.SOCPOSnav</th>\n",
       "      <td>NaN</td>\n",
       "      <td>NaN</td>\n",
       "      <td>False</td>\n",
       "      <td>BOW</td>\n",
       "      <td>96</td>\n",
       "      <td>weight</td>\n",
       "      <td>lex</td>\n",
       "      <td>3-3</td>\n",
       "      <td>5000</td>\n",
       "      <td>nav</td>\n",
       "      <td>55</td>\n",
       "    </tr>\n",
       "    <tr>\n",
       "      <th>destroy.nobound3-3lex.PPMIweight.LENGTHFOC.SOCPOSall</th>\n",
       "      <td>NaN</td>\n",
       "      <td>NaN</td>\n",
       "      <td>False</td>\n",
       "      <td>BOW</td>\n",
       "      <td>96</td>\n",
       "      <td>weight</td>\n",
       "      <td>lex</td>\n",
       "      <td>3-3</td>\n",
       "      <td>FOC</td>\n",
       "      <td>all</td>\n",
       "      <td>55</td>\n",
       "    </tr>\n",
       "    <tr>\n",
       "      <th>destroy.nobound3-3lex.PPMIweight.LENGTHFOC.SOCPOSnav</th>\n",
       "      <td>NaN</td>\n",
       "      <td>NaN</td>\n",
       "      <td>False</td>\n",
       "      <td>BOW</td>\n",
       "      <td>96</td>\n",
       "      <td>weight</td>\n",
       "      <td>lex</td>\n",
       "      <td>3-3</td>\n",
       "      <td>FOC</td>\n",
       "      <td>nav</td>\n",
       "      <td>55</td>\n",
       "    </tr>\n",
       "    <tr>\n",
       "      <th>destroy.nobound5-5all.PPMIno.LENGTH5000.SOCPOSall</th>\n",
       "      <td>NaN</td>\n",
       "      <td>NaN</td>\n",
       "      <td>False</td>\n",
       "      <td>BOW</td>\n",
       "      <td>283</td>\n",
       "      <td>no</td>\n",
       "      <td>all</td>\n",
       "      <td>5-5</td>\n",
       "      <td>5000</td>\n",
       "      <td>all</td>\n",
       "      <td>60</td>\n",
       "    </tr>\n",
       "    <tr>\n",
       "      <th>destroy.nobound5-5all.PPMIno.LENGTH5000.SOCPOSnav</th>\n",
       "      <td>NaN</td>\n",
       "      <td>NaN</td>\n",
       "      <td>False</td>\n",
       "      <td>BOW</td>\n",
       "      <td>283</td>\n",
       "      <td>no</td>\n",
       "      <td>all</td>\n",
       "      <td>5-5</td>\n",
       "      <td>5000</td>\n",
       "      <td>nav</td>\n",
       "      <td>60</td>\n",
       "    </tr>\n",
       "    <tr>\n",
       "      <th>destroy.nobound5-5all.PPMIno.LENGTHFOC.SOCPOSall</th>\n",
       "      <td>NaN</td>\n",
       "      <td>NaN</td>\n",
       "      <td>False</td>\n",
       "      <td>BOW</td>\n",
       "      <td>283</td>\n",
       "      <td>no</td>\n",
       "      <td>all</td>\n",
       "      <td>5-5</td>\n",
       "      <td>FOC</td>\n",
       "      <td>all</td>\n",
       "      <td>60</td>\n",
       "    </tr>\n",
       "    <tr>\n",
       "      <th>destroy.nobound5-5all.PPMIno.LENGTHFOC.SOCPOSnav</th>\n",
       "      <td>NaN</td>\n",
       "      <td>NaN</td>\n",
       "      <td>False</td>\n",
       "      <td>BOW</td>\n",
       "      <td>283</td>\n",
       "      <td>no</td>\n",
       "      <td>all</td>\n",
       "      <td>5-5</td>\n",
       "      <td>FOC</td>\n",
       "      <td>nav</td>\n",
       "      <td>60</td>\n",
       "    </tr>\n",
       "    <tr>\n",
       "      <th>destroy.nobound5-5all.PPMIselection.LENGTH5000.SOCPOSall</th>\n",
       "      <td>NaN</td>\n",
       "      <td>NaN</td>\n",
       "      <td>False</td>\n",
       "      <td>BOW</td>\n",
       "      <td>215</td>\n",
       "      <td>selection</td>\n",
       "      <td>all</td>\n",
       "      <td>5-5</td>\n",
       "      <td>5000</td>\n",
       "      <td>all</td>\n",
       "      <td>60</td>\n",
       "    </tr>\n",
       "    <tr>\n",
       "      <th>destroy.nobound5-5all.PPMIselection.LENGTH5000.SOCPOSnav</th>\n",
       "      <td>NaN</td>\n",
       "      <td>NaN</td>\n",
       "      <td>False</td>\n",
       "      <td>BOW</td>\n",
       "      <td>215</td>\n",
       "      <td>selection</td>\n",
       "      <td>all</td>\n",
       "      <td>5-5</td>\n",
       "      <td>5000</td>\n",
       "      <td>nav</td>\n",
       "      <td>60</td>\n",
       "    </tr>\n",
       "    <tr>\n",
       "      <th>destroy.nobound5-5all.PPMIselection.LENGTHFOC.SOCPOSall</th>\n",
       "      <td>NaN</td>\n",
       "      <td>NaN</td>\n",
       "      <td>False</td>\n",
       "      <td>BOW</td>\n",
       "      <td>215</td>\n",
       "      <td>selection</td>\n",
       "      <td>all</td>\n",
       "      <td>5-5</td>\n",
       "      <td>FOC</td>\n",
       "      <td>all</td>\n",
       "      <td>60</td>\n",
       "    </tr>\n",
       "    <tr>\n",
       "      <th>destroy.nobound5-5all.PPMIselection.LENGTHFOC.SOCPOSnav</th>\n",
       "      <td>NaN</td>\n",
       "      <td>NaN</td>\n",
       "      <td>False</td>\n",
       "      <td>BOW</td>\n",
       "      <td>215</td>\n",
       "      <td>selection</td>\n",
       "      <td>all</td>\n",
       "      <td>5-5</td>\n",
       "      <td>FOC</td>\n",
       "      <td>nav</td>\n",
       "      <td>60</td>\n",
       "    </tr>\n",
       "    <tr>\n",
       "      <th>destroy.nobound5-5all.PPMIweight.LENGTH5000.SOCPOSall</th>\n",
       "      <td>NaN</td>\n",
       "      <td>NaN</td>\n",
       "      <td>False</td>\n",
       "      <td>BOW</td>\n",
       "      <td>215</td>\n",
       "      <td>weight</td>\n",
       "      <td>all</td>\n",
       "      <td>5-5</td>\n",
       "      <td>5000</td>\n",
       "      <td>all</td>\n",
       "      <td>60</td>\n",
       "    </tr>\n",
       "    <tr>\n",
       "      <th>destroy.nobound5-5all.PPMIweight.LENGTH5000.SOCPOSnav</th>\n",
       "      <td>NaN</td>\n",
       "      <td>NaN</td>\n",
       "      <td>False</td>\n",
       "      <td>BOW</td>\n",
       "      <td>215</td>\n",
       "      <td>weight</td>\n",
       "      <td>all</td>\n",
       "      <td>5-5</td>\n",
       "      <td>5000</td>\n",
       "      <td>nav</td>\n",
       "      <td>60</td>\n",
       "    </tr>\n",
       "    <tr>\n",
       "      <th>destroy.nobound5-5all.PPMIweight.LENGTHFOC.SOCPOSall</th>\n",
       "      <td>NaN</td>\n",
       "      <td>NaN</td>\n",
       "      <td>False</td>\n",
       "      <td>BOW</td>\n",
       "      <td>215</td>\n",
       "      <td>weight</td>\n",
       "      <td>all</td>\n",
       "      <td>5-5</td>\n",
       "      <td>FOC</td>\n",
       "      <td>all</td>\n",
       "      <td>60</td>\n",
       "    </tr>\n",
       "    <tr>\n",
       "      <th>destroy.nobound5-5all.PPMIweight.LENGTHFOC.SOCPOSnav</th>\n",
       "      <td>NaN</td>\n",
       "      <td>NaN</td>\n",
       "      <td>False</td>\n",
       "      <td>BOW</td>\n",
       "      <td>215</td>\n",
       "      <td>weight</td>\n",
       "      <td>all</td>\n",
       "      <td>5-5</td>\n",
       "      <td>FOC</td>\n",
       "      <td>nav</td>\n",
       "      <td>60</td>\n",
       "    </tr>\n",
       "    <tr>\n",
       "      <th>destroy.nobound5-5lex.PPMIno.LENGTH5000.SOCPOSall</th>\n",
       "      <td>NaN</td>\n",
       "      <td>NaN</td>\n",
       "      <td>False</td>\n",
       "      <td>BOW</td>\n",
       "      <td>194</td>\n",
       "      <td>no</td>\n",
       "      <td>lex</td>\n",
       "      <td>5-5</td>\n",
       "      <td>5000</td>\n",
       "      <td>all</td>\n",
       "      <td>60</td>\n",
       "    </tr>\n",
       "    <tr>\n",
       "      <th>destroy.nobound5-5lex.PPMIno.LENGTH5000.SOCPOSnav</th>\n",
       "      <td>NaN</td>\n",
       "      <td>NaN</td>\n",
       "      <td>False</td>\n",
       "      <td>BOW</td>\n",
       "      <td>194</td>\n",
       "      <td>no</td>\n",
       "      <td>lex</td>\n",
       "      <td>5-5</td>\n",
       "      <td>5000</td>\n",
       "      <td>nav</td>\n",
       "      <td>60</td>\n",
       "    </tr>\n",
       "    <tr>\n",
       "      <th>destroy.nobound5-5lex.PPMIno.LENGTHFOC.SOCPOSall</th>\n",
       "      <td>NaN</td>\n",
       "      <td>NaN</td>\n",
       "      <td>False</td>\n",
       "      <td>BOW</td>\n",
       "      <td>194</td>\n",
       "      <td>no</td>\n",
       "      <td>lex</td>\n",
       "      <td>5-5</td>\n",
       "      <td>FOC</td>\n",
       "      <td>all</td>\n",
       "      <td>60</td>\n",
       "    </tr>\n",
       "    <tr>\n",
       "      <th>destroy.nobound5-5lex.PPMIno.LENGTHFOC.SOCPOSnav</th>\n",
       "      <td>NaN</td>\n",
       "      <td>NaN</td>\n",
       "      <td>False</td>\n",
       "      <td>BOW</td>\n",
       "      <td>194</td>\n",
       "      <td>no</td>\n",
       "      <td>lex</td>\n",
       "      <td>5-5</td>\n",
       "      <td>FOC</td>\n",
       "      <td>nav</td>\n",
       "      <td>60</td>\n",
       "    </tr>\n",
       "    <tr>\n",
       "      <th>destroy.nobound5-5lex.PPMIselection.LENGTH5000.SOCPOSall</th>\n",
       "      <td>NaN</td>\n",
       "      <td>NaN</td>\n",
       "      <td>False</td>\n",
       "      <td>BOW</td>\n",
       "      <td>153</td>\n",
       "      <td>selection</td>\n",
       "      <td>lex</td>\n",
       "      <td>5-5</td>\n",
       "      <td>5000</td>\n",
       "      <td>all</td>\n",
       "      <td>59</td>\n",
       "    </tr>\n",
       "    <tr>\n",
       "      <th>destroy.nobound5-5lex.PPMIselection.LENGTH5000.SOCPOSnav</th>\n",
       "      <td>NaN</td>\n",
       "      <td>NaN</td>\n",
       "      <td>False</td>\n",
       "      <td>BOW</td>\n",
       "      <td>153</td>\n",
       "      <td>selection</td>\n",
       "      <td>lex</td>\n",
       "      <td>5-5</td>\n",
       "      <td>5000</td>\n",
       "      <td>nav</td>\n",
       "      <td>59</td>\n",
       "    </tr>\n",
       "    <tr>\n",
       "      <th>destroy.nobound5-5lex.PPMIselection.LENGTHFOC.SOCPOSall</th>\n",
       "      <td>NaN</td>\n",
       "      <td>NaN</td>\n",
       "      <td>False</td>\n",
       "      <td>BOW</td>\n",
       "      <td>153</td>\n",
       "      <td>selection</td>\n",
       "      <td>lex</td>\n",
       "      <td>5-5</td>\n",
       "      <td>FOC</td>\n",
       "      <td>all</td>\n",
       "      <td>59</td>\n",
       "    </tr>\n",
       "    <tr>\n",
       "      <th>destroy.nobound5-5lex.PPMIselection.LENGTHFOC.SOCPOSnav</th>\n",
       "      <td>NaN</td>\n",
       "      <td>NaN</td>\n",
       "      <td>False</td>\n",
       "      <td>BOW</td>\n",
       "      <td>153</td>\n",
       "      <td>selection</td>\n",
       "      <td>lex</td>\n",
       "      <td>5-5</td>\n",
       "      <td>FOC</td>\n",
       "      <td>nav</td>\n",
       "      <td>59</td>\n",
       "    </tr>\n",
       "    <tr>\n",
       "      <th>destroy.nobound5-5lex.PPMIweight.LENGTH5000.SOCPOSall</th>\n",
       "      <td>NaN</td>\n",
       "      <td>NaN</td>\n",
       "      <td>False</td>\n",
       "      <td>BOW</td>\n",
       "      <td>153</td>\n",
       "      <td>weight</td>\n",
       "      <td>lex</td>\n",
       "      <td>5-5</td>\n",
       "      <td>5000</td>\n",
       "      <td>all</td>\n",
       "      <td>59</td>\n",
       "    </tr>\n",
       "    <tr>\n",
       "      <th>destroy.nobound5-5lex.PPMIweight.LENGTH5000.SOCPOSnav</th>\n",
       "      <td>NaN</td>\n",
       "      <td>NaN</td>\n",
       "      <td>False</td>\n",
       "      <td>BOW</td>\n",
       "      <td>153</td>\n",
       "      <td>weight</td>\n",
       "      <td>lex</td>\n",
       "      <td>5-5</td>\n",
       "      <td>5000</td>\n",
       "      <td>nav</td>\n",
       "      <td>59</td>\n",
       "    </tr>\n",
       "    <tr>\n",
       "      <th>destroy.nobound5-5lex.PPMIweight.LENGTHFOC.SOCPOSall</th>\n",
       "      <td>NaN</td>\n",
       "      <td>NaN</td>\n",
       "      <td>False</td>\n",
       "      <td>BOW</td>\n",
       "      <td>153</td>\n",
       "      <td>weight</td>\n",
       "      <td>lex</td>\n",
       "      <td>5-5</td>\n",
       "      <td>FOC</td>\n",
       "      <td>all</td>\n",
       "      <td>59</td>\n",
       "    </tr>\n",
       "    <tr>\n",
       "      <th>destroy.nobound5-5lex.PPMIweight.LENGTHFOC.SOCPOSnav</th>\n",
       "      <td>NaN</td>\n",
       "      <td>NaN</td>\n",
       "      <td>False</td>\n",
       "      <td>BOW</td>\n",
       "      <td>153</td>\n",
       "      <td>weight</td>\n",
       "      <td>lex</td>\n",
       "      <td>5-5</td>\n",
       "      <td>FOC</td>\n",
       "      <td>nav</td>\n",
       "      <td>59</td>\n",
       "    </tr>\n",
       "  </tbody>\n",
       "</table>\n",
       "<p>204 rows × 11 columns</p>\n",
       "</div>"
      ],
      "text/plain": [
       "                                                          LEMMAPATH LEMMAREL  \\\n",
       "destroy.LEMMAPATH2.PPMIno.LENGTH5000.SOCPOSall           LEMMAPATH2      NaN   \n",
       "destroy.LEMMAPATH2.PPMIno.LENGTH5000.SOCPOSnav           LEMMAPATH2      NaN   \n",
       "destroy.LEMMAPATH2.PPMIno.LENGTHFOC.SOCPOSall            LEMMAPATH2      NaN   \n",
       "destroy.LEMMAPATH2.PPMIno.LENGTHFOC.SOCPOSnav            LEMMAPATH2      NaN   \n",
       "destroy.LEMMAPATH2.PPMIselection.LENGTH5000.SOC...       LEMMAPATH2      NaN   \n",
       "destroy.LEMMAPATH2.PPMIselection.LENGTH5000.SOC...       LEMMAPATH2      NaN   \n",
       "destroy.LEMMAPATH2.PPMIselection.LENGTHFOC.SOCP...       LEMMAPATH2      NaN   \n",
       "destroy.LEMMAPATH2.PPMIselection.LENGTHFOC.SOCP...       LEMMAPATH2      NaN   \n",
       "destroy.LEMMAPATH2.PPMIweight.LENGTH5000.SOCPOSall       LEMMAPATH2      NaN   \n",
       "destroy.LEMMAPATH2.PPMIweight.LENGTH5000.SOCPOSnav       LEMMAPATH2      NaN   \n",
       "destroy.LEMMAPATH2.PPMIweight.LENGTHFOC.SOCPOSall        LEMMAPATH2      NaN   \n",
       "destroy.LEMMAPATH2.PPMIweight.LENGTHFOC.SOCPOSnav        LEMMAPATH2      NaN   \n",
       "destroy.LEMMAPATH3.PPMIno.LENGTH5000.SOCPOSall           LEMMAPATH3      NaN   \n",
       "destroy.LEMMAPATH3.PPMIno.LENGTH5000.SOCPOSnav           LEMMAPATH3      NaN   \n",
       "destroy.LEMMAPATH3.PPMIno.LENGTHFOC.SOCPOSall            LEMMAPATH3      NaN   \n",
       "destroy.LEMMAPATH3.PPMIno.LENGTHFOC.SOCPOSnav            LEMMAPATH3      NaN   \n",
       "destroy.LEMMAPATH3.PPMIselection.LENGTH5000.SOC...       LEMMAPATH3      NaN   \n",
       "destroy.LEMMAPATH3.PPMIselection.LENGTH5000.SOC...       LEMMAPATH3      NaN   \n",
       "destroy.LEMMAPATH3.PPMIselection.LENGTHFOC.SOCP...       LEMMAPATH3      NaN   \n",
       "destroy.LEMMAPATH3.PPMIselection.LENGTHFOC.SOCP...       LEMMAPATH3      NaN   \n",
       "destroy.LEMMAPATH3.PPMIweight.LENGTH5000.SOCPOSall       LEMMAPATH3      NaN   \n",
       "destroy.LEMMAPATH3.PPMIweight.LENGTH5000.SOCPOSnav       LEMMAPATH3      NaN   \n",
       "destroy.LEMMAPATH3.PPMIweight.LENGTHFOC.SOCPOSall        LEMMAPATH3      NaN   \n",
       "destroy.LEMMAPATH3.PPMIweight.LENGTHFOC.SOCPOSnav        LEMMAPATH3      NaN   \n",
       "destroy.LEMMAPATHweight.PPMIno.LENGTH5000.SOCPO...  LEMMAPATHweight      NaN   \n",
       "destroy.LEMMAPATHweight.PPMIno.LENGTH5000.SOCPO...  LEMMAPATHweight      NaN   \n",
       "destroy.LEMMAPATHweight.PPMIno.LENGTHFOC.SOCPOSall  LEMMAPATHweight      NaN   \n",
       "destroy.LEMMAPATHweight.PPMIno.LENGTHFOC.SOCPOSnav  LEMMAPATHweight      NaN   \n",
       "destroy.LEMMAPATHweight.PPMIselection.LENGTH500...  LEMMAPATHweight      NaN   \n",
       "destroy.LEMMAPATHweight.PPMIselection.LENGTH500...  LEMMAPATHweight      NaN   \n",
       "...                                                             ...      ...   \n",
       "destroy.nobound3-3lex.PPMIselection.LENGTHFOC.S...              NaN      NaN   \n",
       "destroy.nobound3-3lex.PPMIselection.LENGTHFOC.S...              NaN      NaN   \n",
       "destroy.nobound3-3lex.PPMIweight.LENGTH5000.SOC...              NaN      NaN   \n",
       "destroy.nobound3-3lex.PPMIweight.LENGTH5000.SOC...              NaN      NaN   \n",
       "destroy.nobound3-3lex.PPMIweight.LENGTHFOC.SOCP...              NaN      NaN   \n",
       "destroy.nobound3-3lex.PPMIweight.LENGTHFOC.SOCP...              NaN      NaN   \n",
       "destroy.nobound5-5all.PPMIno.LENGTH5000.SOCPOSall               NaN      NaN   \n",
       "destroy.nobound5-5all.PPMIno.LENGTH5000.SOCPOSnav               NaN      NaN   \n",
       "destroy.nobound5-5all.PPMIno.LENGTHFOC.SOCPOSall                NaN      NaN   \n",
       "destroy.nobound5-5all.PPMIno.LENGTHFOC.SOCPOSnav                NaN      NaN   \n",
       "destroy.nobound5-5all.PPMIselection.LENGTH5000....              NaN      NaN   \n",
       "destroy.nobound5-5all.PPMIselection.LENGTH5000....              NaN      NaN   \n",
       "destroy.nobound5-5all.PPMIselection.LENGTHFOC.S...              NaN      NaN   \n",
       "destroy.nobound5-5all.PPMIselection.LENGTHFOC.S...              NaN      NaN   \n",
       "destroy.nobound5-5all.PPMIweight.LENGTH5000.SOC...              NaN      NaN   \n",
       "destroy.nobound5-5all.PPMIweight.LENGTH5000.SOC...              NaN      NaN   \n",
       "destroy.nobound5-5all.PPMIweight.LENGTHFOC.SOCP...              NaN      NaN   \n",
       "destroy.nobound5-5all.PPMIweight.LENGTHFOC.SOCP...              NaN      NaN   \n",
       "destroy.nobound5-5lex.PPMIno.LENGTH5000.SOCPOSall               NaN      NaN   \n",
       "destroy.nobound5-5lex.PPMIno.LENGTH5000.SOCPOSnav               NaN      NaN   \n",
       "destroy.nobound5-5lex.PPMIno.LENGTHFOC.SOCPOSall                NaN      NaN   \n",
       "destroy.nobound5-5lex.PPMIno.LENGTHFOC.SOCPOSnav                NaN      NaN   \n",
       "destroy.nobound5-5lex.PPMIselection.LENGTH5000....              NaN      NaN   \n",
       "destroy.nobound5-5lex.PPMIselection.LENGTH5000....              NaN      NaN   \n",
       "destroy.nobound5-5lex.PPMIselection.LENGTHFOC.S...              NaN      NaN   \n",
       "destroy.nobound5-5lex.PPMIselection.LENGTHFOC.S...              NaN      NaN   \n",
       "destroy.nobound5-5lex.PPMIweight.LENGTH5000.SOC...              NaN      NaN   \n",
       "destroy.nobound5-5lex.PPMIweight.LENGTH5000.SOC...              NaN      NaN   \n",
       "destroy.nobound5-5lex.PPMIweight.LENGTHFOC.SOCP...              NaN      NaN   \n",
       "destroy.nobound5-5lex.PPMIweight.LENGTHFOC.SOCP...              NaN      NaN   \n",
       "\n",
       "                                                    bound   foc_base  \\\n",
       "destroy.LEMMAPATH2.PPMIno.LENGTH5000.SOCPOSall        NaN  LEMMAPATH   \n",
       "destroy.LEMMAPATH2.PPMIno.LENGTH5000.SOCPOSnav        NaN  LEMMAPATH   \n",
       "destroy.LEMMAPATH2.PPMIno.LENGTHFOC.SOCPOSall         NaN  LEMMAPATH   \n",
       "destroy.LEMMAPATH2.PPMIno.LENGTHFOC.SOCPOSnav         NaN  LEMMAPATH   \n",
       "destroy.LEMMAPATH2.PPMIselection.LENGTH5000.SOC...    NaN  LEMMAPATH   \n",
       "destroy.LEMMAPATH2.PPMIselection.LENGTH5000.SOC...    NaN  LEMMAPATH   \n",
       "destroy.LEMMAPATH2.PPMIselection.LENGTHFOC.SOCP...    NaN  LEMMAPATH   \n",
       "destroy.LEMMAPATH2.PPMIselection.LENGTHFOC.SOCP...    NaN  LEMMAPATH   \n",
       "destroy.LEMMAPATH2.PPMIweight.LENGTH5000.SOCPOSall    NaN  LEMMAPATH   \n",
       "destroy.LEMMAPATH2.PPMIweight.LENGTH5000.SOCPOSnav    NaN  LEMMAPATH   \n",
       "destroy.LEMMAPATH2.PPMIweight.LENGTHFOC.SOCPOSall     NaN  LEMMAPATH   \n",
       "destroy.LEMMAPATH2.PPMIweight.LENGTHFOC.SOCPOSnav     NaN  LEMMAPATH   \n",
       "destroy.LEMMAPATH3.PPMIno.LENGTH5000.SOCPOSall        NaN  LEMMAPATH   \n",
       "destroy.LEMMAPATH3.PPMIno.LENGTH5000.SOCPOSnav        NaN  LEMMAPATH   \n",
       "destroy.LEMMAPATH3.PPMIno.LENGTHFOC.SOCPOSall         NaN  LEMMAPATH   \n",
       "destroy.LEMMAPATH3.PPMIno.LENGTHFOC.SOCPOSnav         NaN  LEMMAPATH   \n",
       "destroy.LEMMAPATH3.PPMIselection.LENGTH5000.SOC...    NaN  LEMMAPATH   \n",
       "destroy.LEMMAPATH3.PPMIselection.LENGTH5000.SOC...    NaN  LEMMAPATH   \n",
       "destroy.LEMMAPATH3.PPMIselection.LENGTHFOC.SOCP...    NaN  LEMMAPATH   \n",
       "destroy.LEMMAPATH3.PPMIselection.LENGTHFOC.SOCP...    NaN  LEMMAPATH   \n",
       "destroy.LEMMAPATH3.PPMIweight.LENGTH5000.SOCPOSall    NaN  LEMMAPATH   \n",
       "destroy.LEMMAPATH3.PPMIweight.LENGTH5000.SOCPOSnav    NaN  LEMMAPATH   \n",
       "destroy.LEMMAPATH3.PPMIweight.LENGTHFOC.SOCPOSall     NaN  LEMMAPATH   \n",
       "destroy.LEMMAPATH3.PPMIweight.LENGTHFOC.SOCPOSnav     NaN  LEMMAPATH   \n",
       "destroy.LEMMAPATHweight.PPMIno.LENGTH5000.SOCPO...    NaN  LEMMAPATH   \n",
       "destroy.LEMMAPATHweight.PPMIno.LENGTH5000.SOCPO...    NaN  LEMMAPATH   \n",
       "destroy.LEMMAPATHweight.PPMIno.LENGTHFOC.SOCPOSall    NaN  LEMMAPATH   \n",
       "destroy.LEMMAPATHweight.PPMIno.LENGTHFOC.SOCPOSnav    NaN  LEMMAPATH   \n",
       "destroy.LEMMAPATHweight.PPMIselection.LENGTH500...    NaN  LEMMAPATH   \n",
       "destroy.LEMMAPATHweight.PPMIselection.LENGTH500...    NaN  LEMMAPATH   \n",
       "...                                                   ...        ...   \n",
       "destroy.nobound3-3lex.PPMIselection.LENGTHFOC.S...  False        BOW   \n",
       "destroy.nobound3-3lex.PPMIselection.LENGTHFOC.S...  False        BOW   \n",
       "destroy.nobound3-3lex.PPMIweight.LENGTH5000.SOC...  False        BOW   \n",
       "destroy.nobound3-3lex.PPMIweight.LENGTH5000.SOC...  False        BOW   \n",
       "destroy.nobound3-3lex.PPMIweight.LENGTHFOC.SOCP...  False        BOW   \n",
       "destroy.nobound3-3lex.PPMIweight.LENGTHFOC.SOCP...  False        BOW   \n",
       "destroy.nobound5-5all.PPMIno.LENGTH5000.SOCPOSall   False        BOW   \n",
       "destroy.nobound5-5all.PPMIno.LENGTH5000.SOCPOSnav   False        BOW   \n",
       "destroy.nobound5-5all.PPMIno.LENGTHFOC.SOCPOSall    False        BOW   \n",
       "destroy.nobound5-5all.PPMIno.LENGTHFOC.SOCPOSnav    False        BOW   \n",
       "destroy.nobound5-5all.PPMIselection.LENGTH5000....  False        BOW   \n",
       "destroy.nobound5-5all.PPMIselection.LENGTH5000....  False        BOW   \n",
       "destroy.nobound5-5all.PPMIselection.LENGTHFOC.S...  False        BOW   \n",
       "destroy.nobound5-5all.PPMIselection.LENGTHFOC.S...  False        BOW   \n",
       "destroy.nobound5-5all.PPMIweight.LENGTH5000.SOC...  False        BOW   \n",
       "destroy.nobound5-5all.PPMIweight.LENGTH5000.SOC...  False        BOW   \n",
       "destroy.nobound5-5all.PPMIweight.LENGTHFOC.SOCP...  False        BOW   \n",
       "destroy.nobound5-5all.PPMIweight.LENGTHFOC.SOCP...  False        BOW   \n",
       "destroy.nobound5-5lex.PPMIno.LENGTH5000.SOCPOSall   False        BOW   \n",
       "destroy.nobound5-5lex.PPMIno.LENGTH5000.SOCPOSnav   False        BOW   \n",
       "destroy.nobound5-5lex.PPMIno.LENGTHFOC.SOCPOSall    False        BOW   \n",
       "destroy.nobound5-5lex.PPMIno.LENGTHFOC.SOCPOSnav    False        BOW   \n",
       "destroy.nobound5-5lex.PPMIselection.LENGTH5000....  False        BOW   \n",
       "destroy.nobound5-5lex.PPMIselection.LENGTH5000....  False        BOW   \n",
       "destroy.nobound5-5lex.PPMIselection.LENGTHFOC.S...  False        BOW   \n",
       "destroy.nobound5-5lex.PPMIselection.LENGTHFOC.S...  False        BOW   \n",
       "destroy.nobound5-5lex.PPMIweight.LENGTH5000.SOC...  False        BOW   \n",
       "destroy.nobound5-5lex.PPMIweight.LENGTH5000.SOC...  False        BOW   \n",
       "destroy.nobound5-5lex.PPMIweight.LENGTHFOC.SOCP...  False        BOW   \n",
       "destroy.nobound5-5lex.PPMIweight.LENGTHFOC.SOCP...  False        BOW   \n",
       "\n",
       "                                                   foc_context_words  \\\n",
       "destroy.LEMMAPATH2.PPMIno.LENGTH5000.SOCPOSall                   172   \n",
       "destroy.LEMMAPATH2.PPMIno.LENGTH5000.SOCPOSnav                   172   \n",
       "destroy.LEMMAPATH2.PPMIno.LENGTHFOC.SOCPOSall                    172   \n",
       "destroy.LEMMAPATH2.PPMIno.LENGTHFOC.SOCPOSnav                    172   \n",
       "destroy.LEMMAPATH2.PPMIselection.LENGTH5000.SOC...               132   \n",
       "destroy.LEMMAPATH2.PPMIselection.LENGTH5000.SOC...               132   \n",
       "destroy.LEMMAPATH2.PPMIselection.LENGTHFOC.SOCP...               132   \n",
       "destroy.LEMMAPATH2.PPMIselection.LENGTHFOC.SOCP...               132   \n",
       "destroy.LEMMAPATH2.PPMIweight.LENGTH5000.SOCPOSall               132   \n",
       "destroy.LEMMAPATH2.PPMIweight.LENGTH5000.SOCPOSnav               132   \n",
       "destroy.LEMMAPATH2.PPMIweight.LENGTHFOC.SOCPOSall                132   \n",
       "destroy.LEMMAPATH2.PPMIweight.LENGTHFOC.SOCPOSnav                132   \n",
       "destroy.LEMMAPATH3.PPMIno.LENGTH5000.SOCPOSall                   250   \n",
       "destroy.LEMMAPATH3.PPMIno.LENGTH5000.SOCPOSnav                   250   \n",
       "destroy.LEMMAPATH3.PPMIno.LENGTHFOC.SOCPOSall                    250   \n",
       "destroy.LEMMAPATH3.PPMIno.LENGTHFOC.SOCPOSnav                    250   \n",
       "destroy.LEMMAPATH3.PPMIselection.LENGTH5000.SOC...               184   \n",
       "destroy.LEMMAPATH3.PPMIselection.LENGTH5000.SOC...               184   \n",
       "destroy.LEMMAPATH3.PPMIselection.LENGTHFOC.SOCP...               184   \n",
       "destroy.LEMMAPATH3.PPMIselection.LENGTHFOC.SOCP...               184   \n",
       "destroy.LEMMAPATH3.PPMIweight.LENGTH5000.SOCPOSall               184   \n",
       "destroy.LEMMAPATH3.PPMIweight.LENGTH5000.SOCPOSnav               184   \n",
       "destroy.LEMMAPATH3.PPMIweight.LENGTHFOC.SOCPOSall                184   \n",
       "destroy.LEMMAPATH3.PPMIweight.LENGTHFOC.SOCPOSnav                184   \n",
       "destroy.LEMMAPATHweight.PPMIno.LENGTH5000.SOCPO...               250   \n",
       "destroy.LEMMAPATHweight.PPMIno.LENGTH5000.SOCPO...               250   \n",
       "destroy.LEMMAPATHweight.PPMIno.LENGTHFOC.SOCPOSall               250   \n",
       "destroy.LEMMAPATHweight.PPMIno.LENGTHFOC.SOCPOSnav               250   \n",
       "destroy.LEMMAPATHweight.PPMIselection.LENGTH500...               184   \n",
       "destroy.LEMMAPATHweight.PPMIselection.LENGTH500...               184   \n",
       "...                                                              ...   \n",
       "destroy.nobound3-3lex.PPMIselection.LENGTHFOC.S...                96   \n",
       "destroy.nobound3-3lex.PPMIselection.LENGTHFOC.S...                96   \n",
       "destroy.nobound3-3lex.PPMIweight.LENGTH5000.SOC...                96   \n",
       "destroy.nobound3-3lex.PPMIweight.LENGTH5000.SOC...                96   \n",
       "destroy.nobound3-3lex.PPMIweight.LENGTHFOC.SOCP...                96   \n",
       "destroy.nobound3-3lex.PPMIweight.LENGTHFOC.SOCP...                96   \n",
       "destroy.nobound5-5all.PPMIno.LENGTH5000.SOCPOSall                283   \n",
       "destroy.nobound5-5all.PPMIno.LENGTH5000.SOCPOSnav                283   \n",
       "destroy.nobound5-5all.PPMIno.LENGTHFOC.SOCPOSall                 283   \n",
       "destroy.nobound5-5all.PPMIno.LENGTHFOC.SOCPOSnav                 283   \n",
       "destroy.nobound5-5all.PPMIselection.LENGTH5000....               215   \n",
       "destroy.nobound5-5all.PPMIselection.LENGTH5000....               215   \n",
       "destroy.nobound5-5all.PPMIselection.LENGTHFOC.S...               215   \n",
       "destroy.nobound5-5all.PPMIselection.LENGTHFOC.S...               215   \n",
       "destroy.nobound5-5all.PPMIweight.LENGTH5000.SOC...               215   \n",
       "destroy.nobound5-5all.PPMIweight.LENGTH5000.SOC...               215   \n",
       "destroy.nobound5-5all.PPMIweight.LENGTHFOC.SOCP...               215   \n",
       "destroy.nobound5-5all.PPMIweight.LENGTHFOC.SOCP...               215   \n",
       "destroy.nobound5-5lex.PPMIno.LENGTH5000.SOCPOSall                194   \n",
       "destroy.nobound5-5lex.PPMIno.LENGTH5000.SOCPOSnav                194   \n",
       "destroy.nobound5-5lex.PPMIno.LENGTHFOC.SOCPOSall                 194   \n",
       "destroy.nobound5-5lex.PPMIno.LENGTHFOC.SOCPOSnav                 194   \n",
       "destroy.nobound5-5lex.PPMIselection.LENGTH5000....               153   \n",
       "destroy.nobound5-5lex.PPMIselection.LENGTH5000....               153   \n",
       "destroy.nobound5-5lex.PPMIselection.LENGTHFOC.S...               153   \n",
       "destroy.nobound5-5lex.PPMIselection.LENGTHFOC.S...               153   \n",
       "destroy.nobound5-5lex.PPMIweight.LENGTH5000.SOC...               153   \n",
       "destroy.nobound5-5lex.PPMIweight.LENGTH5000.SOC...               153   \n",
       "destroy.nobound5-5lex.PPMIweight.LENGTHFOC.SOCP...               153   \n",
       "destroy.nobound5-5lex.PPMIweight.LENGTHFOC.SOCP...               153   \n",
       "\n",
       "                                                      foc_pmi foc_pos foc_win  \\\n",
       "destroy.LEMMAPATH2.PPMIno.LENGTH5000.SOCPOSall             no     NaN     NaN   \n",
       "destroy.LEMMAPATH2.PPMIno.LENGTH5000.SOCPOSnav             no     NaN     NaN   \n",
       "destroy.LEMMAPATH2.PPMIno.LENGTHFOC.SOCPOSall              no     NaN     NaN   \n",
       "destroy.LEMMAPATH2.PPMIno.LENGTHFOC.SOCPOSnav              no     NaN     NaN   \n",
       "destroy.LEMMAPATH2.PPMIselection.LENGTH5000.SOC...  selection     NaN     NaN   \n",
       "destroy.LEMMAPATH2.PPMIselection.LENGTH5000.SOC...  selection     NaN     NaN   \n",
       "destroy.LEMMAPATH2.PPMIselection.LENGTHFOC.SOCP...  selection     NaN     NaN   \n",
       "destroy.LEMMAPATH2.PPMIselection.LENGTHFOC.SOCP...  selection     NaN     NaN   \n",
       "destroy.LEMMAPATH2.PPMIweight.LENGTH5000.SOCPOSall     weight     NaN     NaN   \n",
       "destroy.LEMMAPATH2.PPMIweight.LENGTH5000.SOCPOSnav     weight     NaN     NaN   \n",
       "destroy.LEMMAPATH2.PPMIweight.LENGTHFOC.SOCPOSall      weight     NaN     NaN   \n",
       "destroy.LEMMAPATH2.PPMIweight.LENGTHFOC.SOCPOSnav      weight     NaN     NaN   \n",
       "destroy.LEMMAPATH3.PPMIno.LENGTH5000.SOCPOSall             no     NaN     NaN   \n",
       "destroy.LEMMAPATH3.PPMIno.LENGTH5000.SOCPOSnav             no     NaN     NaN   \n",
       "destroy.LEMMAPATH3.PPMIno.LENGTHFOC.SOCPOSall              no     NaN     NaN   \n",
       "destroy.LEMMAPATH3.PPMIno.LENGTHFOC.SOCPOSnav              no     NaN     NaN   \n",
       "destroy.LEMMAPATH3.PPMIselection.LENGTH5000.SOC...  selection     NaN     NaN   \n",
       "destroy.LEMMAPATH3.PPMIselection.LENGTH5000.SOC...  selection     NaN     NaN   \n",
       "destroy.LEMMAPATH3.PPMIselection.LENGTHFOC.SOCP...  selection     NaN     NaN   \n",
       "destroy.LEMMAPATH3.PPMIselection.LENGTHFOC.SOCP...  selection     NaN     NaN   \n",
       "destroy.LEMMAPATH3.PPMIweight.LENGTH5000.SOCPOSall     weight     NaN     NaN   \n",
       "destroy.LEMMAPATH3.PPMIweight.LENGTH5000.SOCPOSnav     weight     NaN     NaN   \n",
       "destroy.LEMMAPATH3.PPMIweight.LENGTHFOC.SOCPOSall      weight     NaN     NaN   \n",
       "destroy.LEMMAPATH3.PPMIweight.LENGTHFOC.SOCPOSnav      weight     NaN     NaN   \n",
       "destroy.LEMMAPATHweight.PPMIno.LENGTH5000.SOCPO...         no     NaN     NaN   \n",
       "destroy.LEMMAPATHweight.PPMIno.LENGTH5000.SOCPO...         no     NaN     NaN   \n",
       "destroy.LEMMAPATHweight.PPMIno.LENGTHFOC.SOCPOSall         no     NaN     NaN   \n",
       "destroy.LEMMAPATHweight.PPMIno.LENGTHFOC.SOCPOSnav         no     NaN     NaN   \n",
       "destroy.LEMMAPATHweight.PPMIselection.LENGTH500...  selection     NaN     NaN   \n",
       "destroy.LEMMAPATHweight.PPMIselection.LENGTH500...  selection     NaN     NaN   \n",
       "...                                                       ...     ...     ...   \n",
       "destroy.nobound3-3lex.PPMIselection.LENGTHFOC.S...  selection     lex     3-3   \n",
       "destroy.nobound3-3lex.PPMIselection.LENGTHFOC.S...  selection     lex     3-3   \n",
       "destroy.nobound3-3lex.PPMIweight.LENGTH5000.SOC...     weight     lex     3-3   \n",
       "destroy.nobound3-3lex.PPMIweight.LENGTH5000.SOC...     weight     lex     3-3   \n",
       "destroy.nobound3-3lex.PPMIweight.LENGTHFOC.SOCP...     weight     lex     3-3   \n",
       "destroy.nobound3-3lex.PPMIweight.LENGTHFOC.SOCP...     weight     lex     3-3   \n",
       "destroy.nobound5-5all.PPMIno.LENGTH5000.SOCPOSall          no     all     5-5   \n",
       "destroy.nobound5-5all.PPMIno.LENGTH5000.SOCPOSnav          no     all     5-5   \n",
       "destroy.nobound5-5all.PPMIno.LENGTHFOC.SOCPOSall           no     all     5-5   \n",
       "destroy.nobound5-5all.PPMIno.LENGTHFOC.SOCPOSnav           no     all     5-5   \n",
       "destroy.nobound5-5all.PPMIselection.LENGTH5000....  selection     all     5-5   \n",
       "destroy.nobound5-5all.PPMIselection.LENGTH5000....  selection     all     5-5   \n",
       "destroy.nobound5-5all.PPMIselection.LENGTHFOC.S...  selection     all     5-5   \n",
       "destroy.nobound5-5all.PPMIselection.LENGTHFOC.S...  selection     all     5-5   \n",
       "destroy.nobound5-5all.PPMIweight.LENGTH5000.SOC...     weight     all     5-5   \n",
       "destroy.nobound5-5all.PPMIweight.LENGTH5000.SOC...     weight     all     5-5   \n",
       "destroy.nobound5-5all.PPMIweight.LENGTHFOC.SOCP...     weight     all     5-5   \n",
       "destroy.nobound5-5all.PPMIweight.LENGTHFOC.SOCP...     weight     all     5-5   \n",
       "destroy.nobound5-5lex.PPMIno.LENGTH5000.SOCPOSall          no     lex     5-5   \n",
       "destroy.nobound5-5lex.PPMIno.LENGTH5000.SOCPOSnav          no     lex     5-5   \n",
       "destroy.nobound5-5lex.PPMIno.LENGTHFOC.SOCPOSall           no     lex     5-5   \n",
       "destroy.nobound5-5lex.PPMIno.LENGTHFOC.SOCPOSnav           no     lex     5-5   \n",
       "destroy.nobound5-5lex.PPMIselection.LENGTH5000....  selection     lex     5-5   \n",
       "destroy.nobound5-5lex.PPMIselection.LENGTH5000....  selection     lex     5-5   \n",
       "destroy.nobound5-5lex.PPMIselection.LENGTHFOC.S...  selection     lex     5-5   \n",
       "destroy.nobound5-5lex.PPMIselection.LENGTHFOC.S...  selection     lex     5-5   \n",
       "destroy.nobound5-5lex.PPMIweight.LENGTH5000.SOC...     weight     lex     5-5   \n",
       "destroy.nobound5-5lex.PPMIweight.LENGTH5000.SOC...     weight     lex     5-5   \n",
       "destroy.nobound5-5lex.PPMIweight.LENGTHFOC.SOCP...     weight     lex     5-5   \n",
       "destroy.nobound5-5lex.PPMIweight.LENGTHFOC.SOCP...     weight     lex     5-5   \n",
       "\n",
       "                                                   soc_length soc_pos tokens  \n",
       "destroy.LEMMAPATH2.PPMIno.LENGTH5000.SOCPOSall           5000     all     60  \n",
       "destroy.LEMMAPATH2.PPMIno.LENGTH5000.SOCPOSnav           5000     nav     60  \n",
       "destroy.LEMMAPATH2.PPMIno.LENGTHFOC.SOCPOSall             FOC     all     60  \n",
       "destroy.LEMMAPATH2.PPMIno.LENGTHFOC.SOCPOSnav             FOC     nav     60  \n",
       "destroy.LEMMAPATH2.PPMIselection.LENGTH5000.SOC...       5000     all     60  \n",
       "destroy.LEMMAPATH2.PPMIselection.LENGTH5000.SOC...       5000     nav     60  \n",
       "destroy.LEMMAPATH2.PPMIselection.LENGTHFOC.SOCP...        FOC     all     60  \n",
       "destroy.LEMMAPATH2.PPMIselection.LENGTHFOC.SOCP...        FOC     nav     60  \n",
       "destroy.LEMMAPATH2.PPMIweight.LENGTH5000.SOCPOSall       5000     all     60  \n",
       "destroy.LEMMAPATH2.PPMIweight.LENGTH5000.SOCPOSnav       5000     nav     60  \n",
       "destroy.LEMMAPATH2.PPMIweight.LENGTHFOC.SOCPOSall         FOC     all     60  \n",
       "destroy.LEMMAPATH2.PPMIweight.LENGTHFOC.SOCPOSnav         FOC     nav     60  \n",
       "destroy.LEMMAPATH3.PPMIno.LENGTH5000.SOCPOSall           5000     all     58  \n",
       "destroy.LEMMAPATH3.PPMIno.LENGTH5000.SOCPOSnav           5000     nav     58  \n",
       "destroy.LEMMAPATH3.PPMIno.LENGTHFOC.SOCPOSall             FOC     all     58  \n",
       "destroy.LEMMAPATH3.PPMIno.LENGTHFOC.SOCPOSnav             FOC     nav     58  \n",
       "destroy.LEMMAPATH3.PPMIselection.LENGTH5000.SOC...       5000     all     58  \n",
       "destroy.LEMMAPATH3.PPMIselection.LENGTH5000.SOC...       5000     nav     58  \n",
       "destroy.LEMMAPATH3.PPMIselection.LENGTHFOC.SOCP...        FOC     all     58  \n",
       "destroy.LEMMAPATH3.PPMIselection.LENGTHFOC.SOCP...        FOC     nav     58  \n",
       "destroy.LEMMAPATH3.PPMIweight.LENGTH5000.SOCPOSall       5000     all     58  \n",
       "destroy.LEMMAPATH3.PPMIweight.LENGTH5000.SOCPOSnav       5000     nav     58  \n",
       "destroy.LEMMAPATH3.PPMIweight.LENGTHFOC.SOCPOSall         FOC     all     58  \n",
       "destroy.LEMMAPATH3.PPMIweight.LENGTHFOC.SOCPOSnav         FOC     nav     58  \n",
       "destroy.LEMMAPATHweight.PPMIno.LENGTH5000.SOCPO...       5000     all     58  \n",
       "destroy.LEMMAPATHweight.PPMIno.LENGTH5000.SOCPO...       5000     nav     58  \n",
       "destroy.LEMMAPATHweight.PPMIno.LENGTHFOC.SOCPOSall        FOC     all     58  \n",
       "destroy.LEMMAPATHweight.PPMIno.LENGTHFOC.SOCPOSnav        FOC     nav     58  \n",
       "destroy.LEMMAPATHweight.PPMIselection.LENGTH500...       5000     all     58  \n",
       "destroy.LEMMAPATHweight.PPMIselection.LENGTH500...       5000     nav     58  \n",
       "...                                                       ...     ...    ...  \n",
       "destroy.nobound3-3lex.PPMIselection.LENGTHFOC.S...        FOC     all     55  \n",
       "destroy.nobound3-3lex.PPMIselection.LENGTHFOC.S...        FOC     nav     55  \n",
       "destroy.nobound3-3lex.PPMIweight.LENGTH5000.SOC...       5000     all     55  \n",
       "destroy.nobound3-3lex.PPMIweight.LENGTH5000.SOC...       5000     nav     55  \n",
       "destroy.nobound3-3lex.PPMIweight.LENGTHFOC.SOCP...        FOC     all     55  \n",
       "destroy.nobound3-3lex.PPMIweight.LENGTHFOC.SOCP...        FOC     nav     55  \n",
       "destroy.nobound5-5all.PPMIno.LENGTH5000.SOCPOSall        5000     all     60  \n",
       "destroy.nobound5-5all.PPMIno.LENGTH5000.SOCPOSnav        5000     nav     60  \n",
       "destroy.nobound5-5all.PPMIno.LENGTHFOC.SOCPOSall          FOC     all     60  \n",
       "destroy.nobound5-5all.PPMIno.LENGTHFOC.SOCPOSnav          FOC     nav     60  \n",
       "destroy.nobound5-5all.PPMIselection.LENGTH5000....       5000     all     60  \n",
       "destroy.nobound5-5all.PPMIselection.LENGTH5000....       5000     nav     60  \n",
       "destroy.nobound5-5all.PPMIselection.LENGTHFOC.S...        FOC     all     60  \n",
       "destroy.nobound5-5all.PPMIselection.LENGTHFOC.S...        FOC     nav     60  \n",
       "destroy.nobound5-5all.PPMIweight.LENGTH5000.SOC...       5000     all     60  \n",
       "destroy.nobound5-5all.PPMIweight.LENGTH5000.SOC...       5000     nav     60  \n",
       "destroy.nobound5-5all.PPMIweight.LENGTHFOC.SOCP...        FOC     all     60  \n",
       "destroy.nobound5-5all.PPMIweight.LENGTHFOC.SOCP...        FOC     nav     60  \n",
       "destroy.nobound5-5lex.PPMIno.LENGTH5000.SOCPOSall        5000     all     60  \n",
       "destroy.nobound5-5lex.PPMIno.LENGTH5000.SOCPOSnav        5000     nav     60  \n",
       "destroy.nobound5-5lex.PPMIno.LENGTHFOC.SOCPOSall          FOC     all     60  \n",
       "destroy.nobound5-5lex.PPMIno.LENGTHFOC.SOCPOSnav          FOC     nav     60  \n",
       "destroy.nobound5-5lex.PPMIselection.LENGTH5000....       5000     all     59  \n",
       "destroy.nobound5-5lex.PPMIselection.LENGTH5000....       5000     nav     59  \n",
       "destroy.nobound5-5lex.PPMIselection.LENGTHFOC.S...        FOC     all     59  \n",
       "destroy.nobound5-5lex.PPMIselection.LENGTHFOC.S...        FOC     nav     59  \n",
       "destroy.nobound5-5lex.PPMIweight.LENGTH5000.SOC...       5000     all     59  \n",
       "destroy.nobound5-5lex.PPMIweight.LENGTH5000.SOC...       5000     nav     59  \n",
       "destroy.nobound5-5lex.PPMIweight.LENGTHFOC.SOCP...        FOC     all     59  \n",
       "destroy.nobound5-5lex.PPMIweight.LENGTHFOC.SOCP...        FOC     nav     59  \n",
       "\n",
       "[204 rows x 11 columns]"
      ]
     },
     "execution_count": 41,
     "metadata": {},
     "output_type": "execute_result"
    }
   ],
   "source": [
    "socdata"
   ]
  },
  {
   "cell_type": "code",
   "execution_count": 42,
   "metadata": {},
   "outputs": [],
   "source": [
    "socdata.to_csv(f\"{github_type}/{type_name}.models.tsv\", sep = \"\\t\", index_label=\"_model\")"
   ]
  },
  {
   "cell_type": "code",
   "execution_count": 43,
   "metadata": {},
   "outputs": [],
   "source": [
    "# # 12. On a loop per item, create Soc models ================================\n",
    "# for type_name in adj_lemmas:\n",
    "#     registers = pd.read_csv(f\"{output_path}/register/{type_name}.focmodels.tsv\",\n",
    "#                            sep = \"\\t\", index_col = \"_model\")\n",
    "#     socdata = createSoc(token_dir, registers = registers,\n",
    "#                    soc_pos = soc_pos, lengths = lengths,\n",
    "#                    socMTX = freqMTX_CW4, store_focdists = f\"{output_path}/cws/{type_name}/\")\n",
    "#     socdata.to_csv(f\"{github_type}/{type_name}.models.tsv\", sep = \"\\t\", index_label=\"_model\")"
   ]
  },
  {
   "cell_type": "markdown",
   "metadata": {},
   "source": [
    "### 6 Cosine distances\n",
    "Once we have all the token-level vectors, as well as our registers,\n",
    "we can quickly compute and store their cosine distances."
   ]
  },
  {
   "cell_type": "code",
   "execution_count": 44,
   "metadata": {},
   "outputs": [
    {
     "name": "stdout",
     "output_type": "stream",
     "text": [
      "\n",
      "************************************\n",
      "function    = compute_distance\n",
      "  time      = 0.004143 sec\n",
      "************************************\n",
      "\n",
      "\n",
      "Saving matrix...\n",
      "Stored in file:\n",
      "  /home/projects/semmetrix/mariana_wolken/cleanWorkflow//output//tokens/destroy/destroy.LEMMAPATH2.PPMIno.LENGTH5000.SOCPOSall.ttmx.dist.pac\n",
      "\n",
      "************************************\n",
      "function    = compute_distance\n",
      "  time      = 0.003516 sec\n",
      "************************************\n",
      "\n",
      "\n",
      "Saving matrix...\n",
      "Stored in file:\n",
      "  /home/projects/semmetrix/mariana_wolken/cleanWorkflow//output//tokens/destroy/destroy.LEMMAPATH2.PPMIno.LENGTH5000.SOCPOSnav.ttmx.dist.pac\n",
      "\n",
      "************************************\n",
      "function    = compute_distance\n",
      "  time      = 0.000495 sec\n",
      "************************************\n",
      "\n",
      "\n",
      "Saving matrix...\n",
      "Stored in file:\n",
      "  /home/projects/semmetrix/mariana_wolken/cleanWorkflow//output//tokens/destroy/destroy.LEMMAPATH2.PPMIno.LENGTHFOC.SOCPOSall.ttmx.dist.pac\n",
      "\n",
      "************************************\n",
      "function    = compute_distance\n",
      "  time      = 0.0003891 sec\n",
      "************************************\n",
      "\n",
      "\n",
      "Saving matrix...\n",
      "Stored in file:\n",
      "  /home/projects/semmetrix/mariana_wolken/cleanWorkflow//output//tokens/destroy/destroy.LEMMAPATH2.PPMIno.LENGTHFOC.SOCPOSnav.ttmx.dist.pac\n",
      "\n",
      "************************************\n",
      "function    = compute_distance\n",
      "  time      = 0.003544 sec\n",
      "************************************\n",
      "\n",
      "\n",
      "Saving matrix...\n",
      "Stored in file:\n",
      "  /home/projects/semmetrix/mariana_wolken/cleanWorkflow//output//tokens/destroy/destroy.LEMMAPATH2.PPMIselection.LENGTH5000.SOCPOSall.ttmx.dist.pac\n",
      "\n",
      "************************************\n",
      "function    = compute_distance\n",
      "  time      = 0.003281 sec\n",
      "************************************\n",
      "\n",
      "\n",
      "Saving matrix...\n",
      "Stored in file:\n",
      "  /home/projects/semmetrix/mariana_wolken/cleanWorkflow//output//tokens/destroy/destroy.LEMMAPATH2.PPMIselection.LENGTH5000.SOCPOSnav.ttmx.dist.pac\n",
      "\n",
      "************************************\n",
      "function    = compute_distance\n",
      "  time      = 0.000458 sec\n",
      "************************************\n",
      "\n",
      "\n",
      "Saving matrix...\n",
      "Stored in file:\n",
      "  /home/projects/semmetrix/mariana_wolken/cleanWorkflow//output//tokens/destroy/destroy.LEMMAPATH2.PPMIselection.LENGTHFOC.SOCPOSall.ttmx.dist.pac\n",
      "\n",
      "************************************\n",
      "function    = compute_distance\n",
      "  time      = 0.0003853 sec\n",
      "************************************\n",
      "\n",
      "\n",
      "Saving matrix...\n",
      "Stored in file:\n",
      "  /home/projects/semmetrix/mariana_wolken/cleanWorkflow//output//tokens/destroy/destroy.LEMMAPATH2.PPMIselection.LENGTHFOC.SOCPOSnav.ttmx.dist.pac\n",
      "\n",
      "************************************\n",
      "function    = compute_distance\n",
      "  time      = 0.003346 sec\n",
      "************************************\n",
      "\n",
      "\n",
      "Saving matrix...\n",
      "Stored in file:\n",
      "  /home/projects/semmetrix/mariana_wolken/cleanWorkflow//output//tokens/destroy/destroy.LEMMAPATH2.PPMIweight.LENGTH5000.SOCPOSall.ttmx.dist.pac\n",
      "\n",
      "************************************\n",
      "function    = compute_distance\n",
      "  time      = 0.00337 sec\n",
      "************************************\n",
      "\n",
      "\n",
      "Saving matrix...\n",
      "Stored in file:\n",
      "  /home/projects/semmetrix/mariana_wolken/cleanWorkflow//output//tokens/destroy/destroy.LEMMAPATH2.PPMIweight.LENGTH5000.SOCPOSnav.ttmx.dist.pac\n",
      "\n",
      "************************************\n",
      "function    = compute_distance\n",
      "  time      = 0.0004458 sec\n",
      "************************************\n",
      "\n",
      "\n",
      "Saving matrix...\n",
      "Stored in file:\n",
      "  /home/projects/semmetrix/mariana_wolken/cleanWorkflow//output//tokens/destroy/destroy.LEMMAPATH2.PPMIweight.LENGTHFOC.SOCPOSall.ttmx.dist.pac\n",
      "\n",
      "************************************\n",
      "function    = compute_distance\n",
      "  time      = 0.0003784 sec\n",
      "************************************\n",
      "\n",
      "\n",
      "Saving matrix...\n",
      "Stored in file:\n",
      "  /home/projects/semmetrix/mariana_wolken/cleanWorkflow//output//tokens/destroy/destroy.LEMMAPATH2.PPMIweight.LENGTHFOC.SOCPOSnav.ttmx.dist.pac\n",
      "\n",
      "************************************\n",
      "function    = compute_distance\n",
      "  time      = 0.003365 sec\n",
      "************************************\n",
      "\n",
      "\n",
      "Saving matrix...\n",
      "Stored in file:\n",
      "  /home/projects/semmetrix/mariana_wolken/cleanWorkflow//output//tokens/destroy/destroy.LEMMAPATH3.PPMIno.LENGTH5000.SOCPOSall.ttmx.dist.pac\n",
      "\n",
      "************************************\n",
      "function    = compute_distance\n",
      "  time      = 0.003258 sec\n",
      "************************************\n",
      "\n",
      "\n",
      "Saving matrix...\n",
      "Stored in file:\n",
      "  /home/projects/semmetrix/mariana_wolken/cleanWorkflow//output//tokens/destroy/destroy.LEMMAPATH3.PPMIno.LENGTH5000.SOCPOSnav.ttmx.dist.pac\n",
      "\n",
      "************************************\n",
      "function    = compute_distance\n",
      "  time      = 0.0005183 sec\n",
      "************************************\n",
      "\n",
      "\n",
      "Saving matrix...\n",
      "Stored in file:\n",
      "  /home/projects/semmetrix/mariana_wolken/cleanWorkflow//output//tokens/destroy/destroy.LEMMAPATH3.PPMIno.LENGTHFOC.SOCPOSall.ttmx.dist.pac\n",
      "\n",
      "************************************\n",
      "function    = compute_distance\n",
      "  time      = 0.0004103 sec\n",
      "************************************\n",
      "\n",
      "\n",
      "Saving matrix...\n",
      "Stored in file:\n",
      "  /home/projects/semmetrix/mariana_wolken/cleanWorkflow//output//tokens/destroy/destroy.LEMMAPATH3.PPMIno.LENGTHFOC.SOCPOSnav.ttmx.dist.pac\n",
      "\n",
      "************************************\n",
      "function    = compute_distance\n",
      "  time      = 0.003415 sec\n",
      "************************************\n",
      "\n",
      "\n",
      "Saving matrix...\n",
      "Stored in file:\n",
      "  /home/projects/semmetrix/mariana_wolken/cleanWorkflow//output//tokens/destroy/destroy.LEMMAPATH3.PPMIselection.LENGTH5000.SOCPOSall.ttmx.dist.pac\n",
      "\n",
      "************************************\n",
      "function    = compute_distance\n",
      "  time      = 0.003288 sec\n",
      "************************************\n",
      "\n",
      "\n",
      "Saving matrix...\n",
      "Stored in file:\n",
      "  /home/projects/semmetrix/mariana_wolken/cleanWorkflow//output//tokens/destroy/destroy.LEMMAPATH3.PPMIselection.LENGTH5000.SOCPOSnav.ttmx.dist.pac\n",
      "\n",
      "************************************\n",
      "function    = compute_distance\n",
      "  time      = 0.0004792 sec\n",
      "************************************\n",
      "\n",
      "\n",
      "Saving matrix...\n",
      "Stored in file:\n",
      "  /home/projects/semmetrix/mariana_wolken/cleanWorkflow//output//tokens/destroy/destroy.LEMMAPATH3.PPMIselection.LENGTHFOC.SOCPOSall.ttmx.dist.pac\n",
      "\n",
      "************************************\n",
      "function    = compute_distance\n",
      "  time      = 0.0003912 sec\n",
      "************************************\n",
      "\n",
      "\n",
      "Saving matrix...\n",
      "Stored in file:\n",
      "  /home/projects/semmetrix/mariana_wolken/cleanWorkflow//output//tokens/destroy/destroy.LEMMAPATH3.PPMIselection.LENGTHFOC.SOCPOSnav.ttmx.dist.pac\n",
      "\n",
      "************************************\n",
      "function    = compute_distance\n",
      "  time      = 0.003437 sec\n",
      "************************************\n",
      "\n",
      "\n",
      "Saving matrix...\n",
      "Stored in file:\n",
      "  /home/projects/semmetrix/mariana_wolken/cleanWorkflow//output//tokens/destroy/destroy.LEMMAPATH3.PPMIweight.LENGTH5000.SOCPOSall.ttmx.dist.pac\n",
      "\n",
      "************************************\n",
      "function    = compute_distance\n",
      "  time      = 0.003254 sec\n",
      "************************************\n",
      "\n",
      "\n",
      "Saving matrix...\n",
      "Stored in file:\n",
      "  /home/projects/semmetrix/mariana_wolken/cleanWorkflow//output//tokens/destroy/destroy.LEMMAPATH3.PPMIweight.LENGTH5000.SOCPOSnav.ttmx.dist.pac\n",
      "\n",
      "************************************\n",
      "function    = compute_distance\n",
      "  time      = 0.0004752 sec\n",
      "************************************\n",
      "\n",
      "\n",
      "Saving matrix...\n",
      "Stored in file:\n",
      "  /home/projects/semmetrix/mariana_wolken/cleanWorkflow//output//tokens/destroy/destroy.LEMMAPATH3.PPMIweight.LENGTHFOC.SOCPOSall.ttmx.dist.pac\n",
      "\n",
      "************************************\n",
      "function    = compute_distance\n",
      "  time      = 0.0003858 sec\n",
      "************************************\n",
      "\n",
      "\n",
      "Saving matrix...\n",
      "Stored in file:\n",
      "  /home/projects/semmetrix/mariana_wolken/cleanWorkflow//output//tokens/destroy/destroy.LEMMAPATH3.PPMIweight.LENGTHFOC.SOCPOSnav.ttmx.dist.pac\n",
      "\n",
      "************************************\n",
      "function    = compute_distance\n",
      "  time      = 0.003299 sec\n",
      "************************************\n",
      "\n",
      "\n",
      "Saving matrix...\n",
      "Stored in file:\n",
      "  /home/projects/semmetrix/mariana_wolken/cleanWorkflow//output//tokens/destroy/destroy.LEMMAPATHweight.PPMIno.LENGTH5000.SOCPOSall.ttmx.dist.pac\n",
      "\n",
      "************************************\n",
      "function    = compute_distance\n",
      "  time      = 0.003211 sec\n",
      "************************************\n",
      "\n",
      "\n",
      "Saving matrix...\n",
      "Stored in file:\n",
      "  /home/projects/semmetrix/mariana_wolken/cleanWorkflow//output//tokens/destroy/destroy.LEMMAPATHweight.PPMIno.LENGTH5000.SOCPOSnav.ttmx.dist.pac\n",
      "\n",
      "************************************\n",
      "function    = compute_distance\n",
      "  time      = 0.0005355 sec\n",
      "************************************\n",
      "\n",
      "\n",
      "Saving matrix...\n"
     ]
    },
    {
     "name": "stdout",
     "output_type": "stream",
     "text": [
      "Stored in file:\n",
      "  /home/projects/semmetrix/mariana_wolken/cleanWorkflow//output//tokens/destroy/destroy.LEMMAPATHweight.PPMIno.LENGTHFOC.SOCPOSall.ttmx.dist.pac\n",
      "\n",
      "************************************\n",
      "function    = compute_distance\n",
      "  time      = 0.0004344 sec\n",
      "************************************\n",
      "\n",
      "\n",
      "Saving matrix...\n",
      "Stored in file:\n",
      "  /home/projects/semmetrix/mariana_wolken/cleanWorkflow//output//tokens/destroy/destroy.LEMMAPATHweight.PPMIno.LENGTHFOC.SOCPOSnav.ttmx.dist.pac\n",
      "\n",
      "************************************\n",
      "function    = compute_distance\n",
      "  time      = 0.003389 sec\n",
      "************************************\n",
      "\n",
      "\n",
      "Saving matrix...\n",
      "Stored in file:\n",
      "  /home/projects/semmetrix/mariana_wolken/cleanWorkflow//output//tokens/destroy/destroy.LEMMAPATHweight.PPMIselection.LENGTH5000.SOCPOSall.ttmx.dist.pac\n",
      "\n",
      "************************************\n",
      "function    = compute_distance\n",
      "  time      = 0.003386 sec\n",
      "************************************\n",
      "\n",
      "\n",
      "Saving matrix...\n",
      "Stored in file:\n",
      "  /home/projects/semmetrix/mariana_wolken/cleanWorkflow//output//tokens/destroy/destroy.LEMMAPATHweight.PPMIselection.LENGTH5000.SOCPOSnav.ttmx.dist.pac\n",
      "\n",
      "************************************\n",
      "function    = compute_distance\n",
      "  time      = 0.0005322 sec\n",
      "************************************\n",
      "\n",
      "\n",
      "Saving matrix...\n",
      "Stored in file:\n",
      "  /home/projects/semmetrix/mariana_wolken/cleanWorkflow//output//tokens/destroy/destroy.LEMMAPATHweight.PPMIselection.LENGTHFOC.SOCPOSall.ttmx.dist.pac\n",
      "\n",
      "************************************\n",
      "function    = compute_distance\n",
      "  time      = 0.0004265 sec\n",
      "************************************\n",
      "\n",
      "\n",
      "Saving matrix...\n",
      "Stored in file:\n",
      "  /home/projects/semmetrix/mariana_wolken/cleanWorkflow//output//tokens/destroy/destroy.LEMMAPATHweight.PPMIselection.LENGTHFOC.SOCPOSnav.ttmx.dist.pac\n",
      "\n",
      "************************************\n",
      "function    = compute_distance\n",
      "  time      = 0.003646 sec\n",
      "************************************\n",
      "\n",
      "\n",
      "Saving matrix...\n",
      "Stored in file:\n",
      "  /home/projects/semmetrix/mariana_wolken/cleanWorkflow//output//tokens/destroy/destroy.LEMMAPATHweight.PPMIweight.LENGTH5000.SOCPOSall.ttmx.dist.pac\n",
      "\n",
      "************************************\n",
      "function    = compute_distance\n",
      "  time      = 0.003224 sec\n",
      "************************************\n",
      "\n",
      "\n",
      "Saving matrix...\n",
      "Stored in file:\n",
      "  /home/projects/semmetrix/mariana_wolken/cleanWorkflow//output//tokens/destroy/destroy.LEMMAPATHweight.PPMIweight.LENGTH5000.SOCPOSnav.ttmx.dist.pac\n",
      "\n",
      "************************************\n",
      "function    = compute_distance\n",
      "  time      = 0.0007229 sec\n",
      "************************************\n",
      "\n",
      "\n",
      "Saving matrix...\n",
      "Stored in file:\n",
      "  /home/projects/semmetrix/mariana_wolken/cleanWorkflow//output//tokens/destroy/destroy.LEMMAPATHweight.PPMIweight.LENGTHFOC.SOCPOSall.ttmx.dist.pac\n",
      "\n",
      "************************************\n",
      "function    = compute_distance\n",
      "  time      = 0.0004065 sec\n",
      "************************************\n",
      "\n",
      "\n",
      "Saving matrix...\n",
      "Stored in file:\n",
      "  /home/projects/semmetrix/mariana_wolken/cleanWorkflow//output//tokens/destroy/destroy.LEMMAPATHweight.PPMIweight.LENGTHFOC.SOCPOSnav.ttmx.dist.pac\n",
      "\n",
      "************************************\n",
      "function    = compute_distance\n",
      "  time      = 0.003201 sec\n",
      "************************************\n",
      "\n",
      "\n",
      "Saving matrix...\n",
      "Stored in file:\n",
      "  /home/projects/semmetrix/mariana_wolken/cleanWorkflow//output//tokens/destroy/destroy.LEMMAREL1.PPMIno.LENGTH5000.SOCPOSall.ttmx.dist.pac\n",
      "\n",
      "************************************\n",
      "function    = compute_distance\n",
      "  time      = 0.002952 sec\n",
      "************************************\n",
      "\n",
      "\n",
      "Saving matrix...\n",
      "Stored in file:\n",
      "  /home/projects/semmetrix/mariana_wolken/cleanWorkflow//output//tokens/destroy/destroy.LEMMAREL1.PPMIno.LENGTH5000.SOCPOSnav.ttmx.dist.pac\n",
      "\n",
      "************************************\n",
      "function    = compute_distance\n",
      "  time      = 0.0004129 sec\n",
      "************************************\n",
      "\n",
      "\n",
      "Saving matrix...\n",
      "Stored in file:\n",
      "  /home/projects/semmetrix/mariana_wolken/cleanWorkflow//output//tokens/destroy/destroy.LEMMAREL1.PPMIno.LENGTHFOC.SOCPOSall.ttmx.dist.pac\n",
      "\n",
      "************************************\n",
      "function    = compute_distance\n",
      "  time      = 0.000366 sec\n",
      "************************************\n",
      "\n",
      "\n",
      "Saving matrix...\n",
      "Stored in file:\n",
      "  /home/projects/semmetrix/mariana_wolken/cleanWorkflow//output//tokens/destroy/destroy.LEMMAREL1.PPMIno.LENGTHFOC.SOCPOSnav.ttmx.dist.pac\n",
      "\n",
      "************************************\n",
      "function    = compute_distance\n",
      "  time      = 0.002757 sec\n",
      "************************************\n",
      "\n",
      "\n",
      "Saving matrix...\n",
      "Stored in file:\n",
      "  /home/projects/semmetrix/mariana_wolken/cleanWorkflow//output//tokens/destroy/destroy.LEMMAREL1.PPMIselection.LENGTH5000.SOCPOSall.ttmx.dist.pac\n",
      "\n",
      "************************************\n",
      "function    = compute_distance\n",
      "  time      = 0.002507 sec\n",
      "************************************\n",
      "\n",
      "\n",
      "Saving matrix...\n",
      "Stored in file:\n",
      "  /home/projects/semmetrix/mariana_wolken/cleanWorkflow//output//tokens/destroy/destroy.LEMMAREL1.PPMIselection.LENGTH5000.SOCPOSnav.ttmx.dist.pac\n",
      "\n",
      "************************************\n",
      "function    = compute_distance\n",
      "  time      = 0.0003536 sec\n",
      "************************************\n",
      "\n",
      "\n",
      "Saving matrix...\n",
      "Stored in file:\n",
      "  /home/projects/semmetrix/mariana_wolken/cleanWorkflow//output//tokens/destroy/destroy.LEMMAREL1.PPMIselection.LENGTHFOC.SOCPOSall.ttmx.dist.pac\n",
      "\n",
      "************************************\n",
      "function    = compute_distance\n",
      "  time      = 0.0003238 sec\n",
      "************************************\n",
      "\n",
      "\n",
      "Saving matrix...\n",
      "Stored in file:\n",
      "  /home/projects/semmetrix/mariana_wolken/cleanWorkflow//output//tokens/destroy/destroy.LEMMAREL1.PPMIselection.LENGTHFOC.SOCPOSnav.ttmx.dist.pac\n",
      "\n",
      "************************************\n",
      "function    = compute_distance\n",
      "  time      = 0.002454 sec\n",
      "************************************\n",
      "\n",
      "\n",
      "Saving matrix...\n",
      "Stored in file:\n",
      "  /home/projects/semmetrix/mariana_wolken/cleanWorkflow//output//tokens/destroy/destroy.LEMMAREL1.PPMIweight.LENGTH5000.SOCPOSall.ttmx.dist.pac\n",
      "\n",
      "************************************\n",
      "function    = compute_distance\n",
      "  time      = 0.002723 sec\n",
      "************************************\n",
      "\n",
      "\n",
      "Saving matrix...\n",
      "Stored in file:\n",
      "  /home/projects/semmetrix/mariana_wolken/cleanWorkflow//output//tokens/destroy/destroy.LEMMAREL1.PPMIweight.LENGTH5000.SOCPOSnav.ttmx.dist.pac\n",
      "\n",
      "************************************\n",
      "function    = compute_distance\n",
      "  time      = 0.0003536 sec\n",
      "************************************\n",
      "\n",
      "\n",
      "Saving matrix...\n",
      "Stored in file:\n",
      "  /home/projects/semmetrix/mariana_wolken/cleanWorkflow//output//tokens/destroy/destroy.LEMMAREL1.PPMIweight.LENGTHFOC.SOCPOSall.ttmx.dist.pac\n",
      "\n",
      "************************************\n",
      "function    = compute_distance\n",
      "  time      = 0.0003459 sec\n",
      "************************************\n",
      "\n",
      "\n",
      "Saving matrix...\n",
      "Stored in file:\n",
      "  /home/projects/semmetrix/mariana_wolken/cleanWorkflow//output//tokens/destroy/destroy.LEMMAREL1.PPMIweight.LENGTHFOC.SOCPOSnav.ttmx.dist.pac\n",
      "\n",
      "************************************\n",
      "function    = compute_distance\n",
      "  time      = 0.003461 sec\n",
      "************************************\n",
      "\n",
      "\n",
      "Saving matrix...\n",
      "Stored in file:\n",
      "  /home/projects/semmetrix/mariana_wolken/cleanWorkflow//output//tokens/destroy/destroy.LEMMAREL2.PPMIno.LENGTH5000.SOCPOSall.ttmx.dist.pac\n",
      "\n",
      "************************************\n",
      "function    = compute_distance\n",
      "  time      = 0.003282 sec\n",
      "************************************\n",
      "\n",
      "\n",
      "Saving matrix...\n",
      "Stored in file:\n",
      "  /home/projects/semmetrix/mariana_wolken/cleanWorkflow//output//tokens/destroy/destroy.LEMMAREL2.PPMIno.LENGTH5000.SOCPOSnav.ttmx.dist.pac\n",
      "\n",
      "************************************\n",
      "function    = compute_distance\n",
      "  time      = 0.0004413 sec\n",
      "************************************\n",
      "\n",
      "\n",
      "Saving matrix...\n",
      "Stored in file:\n",
      "  /home/projects/semmetrix/mariana_wolken/cleanWorkflow//output//tokens/destroy/destroy.LEMMAREL2.PPMIno.LENGTHFOC.SOCPOSall.ttmx.dist.pac\n",
      "\n",
      "************************************\n",
      "function    = compute_distance\n",
      "  time      = 0.0004644 sec\n",
      "************************************\n",
      "\n",
      "\n",
      "Saving matrix...\n",
      "Stored in file:\n",
      "  /home/projects/semmetrix/mariana_wolken/cleanWorkflow//output//tokens/destroy/destroy.LEMMAREL2.PPMIno.LENGTHFOC.SOCPOSnav.ttmx.dist.pac\n",
      "\n",
      "************************************\n",
      "function    = compute_distance\n",
      "  time      = 0.003202 sec\n",
      "************************************\n",
      "\n",
      "\n",
      "Saving matrix...\n",
      "Stored in file:\n",
      "  /home/projects/semmetrix/mariana_wolken/cleanWorkflow//output//tokens/destroy/destroy.LEMMAREL2.PPMIselection.LENGTH5000.SOCPOSall.ttmx.dist.pac\n"
     ]
    },
    {
     "name": "stdout",
     "output_type": "stream",
     "text": [
      "\n",
      "************************************\n",
      "function    = compute_distance\n",
      "  time      = 0.003114 sec\n",
      "************************************\n",
      "\n",
      "\n",
      "Saving matrix...\n",
      "Stored in file:\n",
      "  /home/projects/semmetrix/mariana_wolken/cleanWorkflow//output//tokens/destroy/destroy.LEMMAREL2.PPMIselection.LENGTH5000.SOCPOSnav.ttmx.dist.pac\n",
      "\n",
      "************************************\n",
      "function    = compute_distance\n",
      "  time      = 0.000397 sec\n",
      "************************************\n",
      "\n",
      "\n",
      "Saving matrix...\n",
      "Stored in file:\n",
      "  /home/projects/semmetrix/mariana_wolken/cleanWorkflow//output//tokens/destroy/destroy.LEMMAREL2.PPMIselection.LENGTHFOC.SOCPOSall.ttmx.dist.pac\n",
      "\n",
      "************************************\n",
      "function    = compute_distance\n",
      "  time      = 0.0003636 sec\n",
      "************************************\n",
      "\n",
      "\n",
      "Saving matrix...\n",
      "Stored in file:\n",
      "  /home/projects/semmetrix/mariana_wolken/cleanWorkflow//output//tokens/destroy/destroy.LEMMAREL2.PPMIselection.LENGTHFOC.SOCPOSnav.ttmx.dist.pac\n",
      "\n",
      "************************************\n",
      "function    = compute_distance\n",
      "  time      = 0.003042 sec\n",
      "************************************\n",
      "\n",
      "\n",
      "Saving matrix...\n",
      "Stored in file:\n",
      "  /home/projects/semmetrix/mariana_wolken/cleanWorkflow//output//tokens/destroy/destroy.LEMMAREL2.PPMIweight.LENGTH5000.SOCPOSall.ttmx.dist.pac\n",
      "\n",
      "************************************\n",
      "function    = compute_distance\n",
      "  time      = 0.003112 sec\n",
      "************************************\n",
      "\n",
      "\n",
      "Saving matrix...\n",
      "Stored in file:\n",
      "  /home/projects/semmetrix/mariana_wolken/cleanWorkflow//output//tokens/destroy/destroy.LEMMAREL2.PPMIweight.LENGTH5000.SOCPOSnav.ttmx.dist.pac\n",
      "\n",
      "************************************\n",
      "function    = compute_distance\n",
      "  time      = 0.0004306 sec\n",
      "************************************\n",
      "\n",
      "\n",
      "Saving matrix...\n",
      "Stored in file:\n",
      "  /home/projects/semmetrix/mariana_wolken/cleanWorkflow//output//tokens/destroy/destroy.LEMMAREL2.PPMIweight.LENGTHFOC.SOCPOSall.ttmx.dist.pac\n",
      "\n",
      "************************************\n",
      "function    = compute_distance\n",
      "  time      = 0.0003653 sec\n",
      "************************************\n",
      "\n",
      "\n",
      "Saving matrix...\n",
      "Stored in file:\n",
      "  /home/projects/semmetrix/mariana_wolken/cleanWorkflow//output//tokens/destroy/destroy.LEMMAREL2.PPMIweight.LENGTHFOC.SOCPOSnav.ttmx.dist.pac\n",
      "\n",
      "************************************\n",
      "function    = compute_distance\n",
      "  time      = 0.003399 sec\n",
      "************************************\n",
      "\n",
      "\n",
      "Saving matrix...\n",
      "Stored in file:\n",
      "  /home/projects/semmetrix/mariana_wolken/cleanWorkflow//output//tokens/destroy/destroy.bound10-10all.PPMIno.LENGTH5000.SOCPOSall.ttmx.dist.pac\n",
      "\n",
      "************************************\n",
      "function    = compute_distance\n",
      "  time      = 0.003464 sec\n",
      "************************************\n",
      "\n",
      "\n",
      "Saving matrix...\n",
      "Stored in file:\n",
      "  /home/projects/semmetrix/mariana_wolken/cleanWorkflow//output//tokens/destroy/destroy.bound10-10all.PPMIno.LENGTH5000.SOCPOSnav.ttmx.dist.pac\n",
      "\n",
      "************************************\n",
      "function    = compute_distance\n",
      "  time      = 0.0005765 sec\n",
      "************************************\n",
      "\n",
      "\n",
      "Saving matrix...\n",
      "Stored in file:\n",
      "  /home/projects/semmetrix/mariana_wolken/cleanWorkflow//output//tokens/destroy/destroy.bound10-10all.PPMIno.LENGTHFOC.SOCPOSall.ttmx.dist.pac\n",
      "\n",
      "************************************\n",
      "function    = compute_distance\n",
      "  time      = 0.0004613 sec\n",
      "************************************\n",
      "\n",
      "\n",
      "Saving matrix...\n",
      "Stored in file:\n",
      "  /home/projects/semmetrix/mariana_wolken/cleanWorkflow//output//tokens/destroy/destroy.bound10-10all.PPMIno.LENGTHFOC.SOCPOSnav.ttmx.dist.pac\n",
      "\n",
      "************************************\n",
      "function    = compute_distance\n",
      "  time      = 0.003397 sec\n",
      "************************************\n",
      "\n",
      "\n",
      "Saving matrix...\n",
      "Stored in file:\n",
      "  /home/projects/semmetrix/mariana_wolken/cleanWorkflow//output//tokens/destroy/destroy.bound10-10all.PPMIselection.LENGTH5000.SOCPOSall.ttmx.dist.pac\n",
      "\n",
      "************************************\n",
      "function    = compute_distance\n",
      "  time      = 0.003299 sec\n",
      "************************************\n",
      "\n",
      "\n",
      "Saving matrix...\n",
      "Stored in file:\n",
      "  /home/projects/semmetrix/mariana_wolken/cleanWorkflow//output//tokens/destroy/destroy.bound10-10all.PPMIselection.LENGTH5000.SOCPOSnav.ttmx.dist.pac\n",
      "\n",
      "************************************\n",
      "function    = compute_distance\n",
      "  time      = 0.0005322 sec\n",
      "************************************\n",
      "\n",
      "\n",
      "Saving matrix...\n",
      "Stored in file:\n",
      "  /home/projects/semmetrix/mariana_wolken/cleanWorkflow//output//tokens/destroy/destroy.bound10-10all.PPMIselection.LENGTHFOC.SOCPOSall.ttmx.dist.pac\n",
      "\n",
      "************************************\n",
      "function    = compute_distance\n",
      "  time      = 0.0004106 sec\n",
      "************************************\n",
      "\n",
      "\n",
      "Saving matrix...\n",
      "Stored in file:\n",
      "  /home/projects/semmetrix/mariana_wolken/cleanWorkflow//output//tokens/destroy/destroy.bound10-10all.PPMIselection.LENGTHFOC.SOCPOSnav.ttmx.dist.pac\n",
      "\n",
      "************************************\n",
      "function    = compute_distance\n",
      "  time      = 0.003435 sec\n",
      "************************************\n",
      "\n",
      "\n",
      "Saving matrix...\n",
      "Stored in file:\n",
      "  /home/projects/semmetrix/mariana_wolken/cleanWorkflow//output//tokens/destroy/destroy.bound10-10all.PPMIweight.LENGTH5000.SOCPOSall.ttmx.dist.pac\n",
      "\n",
      "************************************\n",
      "function    = compute_distance\n",
      "  time      = 0.00338 sec\n",
      "************************************\n",
      "\n",
      "\n",
      "Saving matrix...\n",
      "Stored in file:\n",
      "  /home/projects/semmetrix/mariana_wolken/cleanWorkflow//output//tokens/destroy/destroy.bound10-10all.PPMIweight.LENGTH5000.SOCPOSnav.ttmx.dist.pac\n",
      "\n",
      "************************************\n",
      "function    = compute_distance\n",
      "  time      = 0.0005286 sec\n",
      "************************************\n",
      "\n",
      "\n",
      "Saving matrix...\n",
      "Stored in file:\n",
      "  /home/projects/semmetrix/mariana_wolken/cleanWorkflow//output//tokens/destroy/destroy.bound10-10all.PPMIweight.LENGTHFOC.SOCPOSall.ttmx.dist.pac\n",
      "\n",
      "************************************\n",
      "function    = compute_distance\n",
      "  time      = 0.0004089 sec\n",
      "************************************\n",
      "\n",
      "\n",
      "Saving matrix...\n",
      "Stored in file:\n",
      "  /home/projects/semmetrix/mariana_wolken/cleanWorkflow//output//tokens/destroy/destroy.bound10-10all.PPMIweight.LENGTHFOC.SOCPOSnav.ttmx.dist.pac\n",
      "\n",
      "************************************\n",
      "function    = compute_distance\n",
      "  time      = 0.003426 sec\n",
      "************************************\n",
      "\n",
      "\n",
      "Saving matrix...\n",
      "Stored in file:\n",
      "  /home/projects/semmetrix/mariana_wolken/cleanWorkflow//output//tokens/destroy/destroy.bound10-10lex.PPMIno.LENGTH5000.SOCPOSall.ttmx.dist.pac\n",
      "\n",
      "************************************\n",
      "function    = compute_distance\n",
      "  time      = 0.003166 sec\n",
      "************************************\n",
      "\n",
      "\n",
      "Saving matrix...\n",
      "Stored in file:\n",
      "  /home/projects/semmetrix/mariana_wolken/cleanWorkflow//output//tokens/destroy/destroy.bound10-10lex.PPMIno.LENGTH5000.SOCPOSnav.ttmx.dist.pac\n",
      "\n",
      "************************************\n",
      "function    = compute_distance\n",
      "  time      = 0.0005918 sec\n",
      "************************************\n",
      "\n",
      "\n",
      "Saving matrix...\n",
      "Stored in file:\n",
      "  /home/projects/semmetrix/mariana_wolken/cleanWorkflow//output//tokens/destroy/destroy.bound10-10lex.PPMIno.LENGTHFOC.SOCPOSall.ttmx.dist.pac\n",
      "\n",
      "************************************\n",
      "function    = compute_distance\n",
      "  time      = 0.0006363 sec\n",
      "************************************\n",
      "\n",
      "\n",
      "Saving matrix...\n",
      "Stored in file:\n",
      "  /home/projects/semmetrix/mariana_wolken/cleanWorkflow//output//tokens/destroy/destroy.bound10-10lex.PPMIno.LENGTHFOC.SOCPOSnav.ttmx.dist.pac\n",
      "\n",
      "************************************\n",
      "function    = compute_distance\n",
      "  time      = 0.003223 sec\n",
      "************************************\n",
      "\n",
      "\n",
      "Saving matrix...\n",
      "Stored in file:\n",
      "  /home/projects/semmetrix/mariana_wolken/cleanWorkflow//output//tokens/destroy/destroy.bound10-10lex.PPMIselection.LENGTH5000.SOCPOSall.ttmx.dist.pac\n",
      "\n",
      "************************************\n",
      "function    = compute_distance\n",
      "  time      = 0.003161 sec\n",
      "************************************\n",
      "\n",
      "\n",
      "Saving matrix...\n",
      "Stored in file:\n",
      "  /home/projects/semmetrix/mariana_wolken/cleanWorkflow//output//tokens/destroy/destroy.bound10-10lex.PPMIselection.LENGTH5000.SOCPOSnav.ttmx.dist.pac\n",
      "\n",
      "************************************\n",
      "function    = compute_distance\n",
      "  time      = 0.0004637 sec\n",
      "************************************\n",
      "\n",
      "\n",
      "Saving matrix...\n",
      "Stored in file:\n",
      "  /home/projects/semmetrix/mariana_wolken/cleanWorkflow//output//tokens/destroy/destroy.bound10-10lex.PPMIselection.LENGTHFOC.SOCPOSall.ttmx.dist.pac\n",
      "\n",
      "************************************\n",
      "function    = compute_distance\n",
      "  time      = 0.0004041 sec\n",
      "************************************\n",
      "\n",
      "\n",
      "Saving matrix...\n"
     ]
    },
    {
     "name": "stdout",
     "output_type": "stream",
     "text": [
      "Stored in file:\n",
      "  /home/projects/semmetrix/mariana_wolken/cleanWorkflow//output//tokens/destroy/destroy.bound10-10lex.PPMIselection.LENGTHFOC.SOCPOSnav.ttmx.dist.pac\n",
      "\n",
      "************************************\n",
      "function    = compute_distance\n",
      "  time      = 0.003235 sec\n",
      "************************************\n",
      "\n",
      "\n",
      "Saving matrix...\n",
      "Stored in file:\n",
      "  /home/projects/semmetrix/mariana_wolken/cleanWorkflow//output//tokens/destroy/destroy.bound10-10lex.PPMIweight.LENGTH5000.SOCPOSall.ttmx.dist.pac\n",
      "\n",
      "************************************\n",
      "function    = compute_distance\n",
      "  time      = 0.003181 sec\n",
      "************************************\n",
      "\n",
      "\n",
      "Saving matrix...\n",
      "Stored in file:\n",
      "  /home/projects/semmetrix/mariana_wolken/cleanWorkflow//output//tokens/destroy/destroy.bound10-10lex.PPMIweight.LENGTH5000.SOCPOSnav.ttmx.dist.pac\n",
      "\n",
      "************************************\n",
      "function    = compute_distance\n",
      "  time      = 0.0004592 sec\n",
      "************************************\n",
      "\n",
      "\n",
      "Saving matrix...\n",
      "Stored in file:\n",
      "  /home/projects/semmetrix/mariana_wolken/cleanWorkflow//output//tokens/destroy/destroy.bound10-10lex.PPMIweight.LENGTHFOC.SOCPOSall.ttmx.dist.pac\n",
      "\n",
      "************************************\n",
      "function    = compute_distance\n",
      "  time      = 0.0004089 sec\n",
      "************************************\n",
      "\n",
      "\n",
      "Saving matrix...\n",
      "Stored in file:\n",
      "  /home/projects/semmetrix/mariana_wolken/cleanWorkflow//output//tokens/destroy/destroy.bound10-10lex.PPMIweight.LENGTHFOC.SOCPOSnav.ttmx.dist.pac\n",
      "\n",
      "************************************\n",
      "function    = compute_distance\n",
      "  time      = 0.00348 sec\n",
      "************************************\n",
      "\n",
      "\n",
      "Saving matrix...\n",
      "Stored in file:\n",
      "  /home/projects/semmetrix/mariana_wolken/cleanWorkflow//output//tokens/destroy/destroy.bound3-3all.PPMIno.LENGTH5000.SOCPOSall.ttmx.dist.pac\n",
      "\n",
      "************************************\n",
      "function    = compute_distance\n",
      "  time      = 0.003246 sec\n",
      "************************************\n",
      "\n",
      "\n",
      "Saving matrix...\n",
      "Stored in file:\n",
      "  /home/projects/semmetrix/mariana_wolken/cleanWorkflow//output//tokens/destroy/destroy.bound3-3all.PPMIno.LENGTH5000.SOCPOSnav.ttmx.dist.pac\n",
      "\n",
      "************************************\n",
      "function    = compute_distance\n",
      "  time      = 0.000474 sec\n",
      "************************************\n",
      "\n",
      "\n",
      "Saving matrix...\n",
      "Stored in file:\n",
      "  /home/projects/semmetrix/mariana_wolken/cleanWorkflow//output//tokens/destroy/destroy.bound3-3all.PPMIno.LENGTHFOC.SOCPOSall.ttmx.dist.pac\n",
      "\n",
      "************************************\n",
      "function    = compute_distance\n",
      "  time      = 0.0003781 sec\n",
      "************************************\n",
      "\n",
      "\n",
      "Saving matrix...\n",
      "Stored in file:\n",
      "  /home/projects/semmetrix/mariana_wolken/cleanWorkflow//output//tokens/destroy/destroy.bound3-3all.PPMIno.LENGTHFOC.SOCPOSnav.ttmx.dist.pac\n",
      "\n",
      "************************************\n",
      "function    = compute_distance\n",
      "  time      = 0.003321 sec\n",
      "************************************\n",
      "\n",
      "\n",
      "Saving matrix...\n",
      "Stored in file:\n",
      "  /home/projects/semmetrix/mariana_wolken/cleanWorkflow//output//tokens/destroy/destroy.bound3-3all.PPMIselection.LENGTH5000.SOCPOSall.ttmx.dist.pac\n",
      "\n",
      "************************************\n",
      "function    = compute_distance\n",
      "  time      = 0.003282 sec\n",
      "************************************\n",
      "\n",
      "\n",
      "Saving matrix...\n",
      "Stored in file:\n",
      "  /home/projects/semmetrix/mariana_wolken/cleanWorkflow//output//tokens/destroy/destroy.bound3-3all.PPMIselection.LENGTH5000.SOCPOSnav.ttmx.dist.pac\n",
      "\n",
      "************************************\n",
      "function    = compute_distance\n",
      "  time      = 0.0006359 sec\n",
      "************************************\n",
      "\n",
      "\n",
      "Saving matrix...\n",
      "Stored in file:\n",
      "  /home/projects/semmetrix/mariana_wolken/cleanWorkflow//output//tokens/destroy/destroy.bound3-3all.PPMIselection.LENGTHFOC.SOCPOSall.ttmx.dist.pac\n",
      "\n",
      "************************************\n",
      "function    = compute_distance\n",
      "  time      = 0.0003681 sec\n",
      "************************************\n",
      "\n",
      "\n",
      "Saving matrix...\n",
      "Stored in file:\n",
      "  /home/projects/semmetrix/mariana_wolken/cleanWorkflow//output//tokens/destroy/destroy.bound3-3all.PPMIselection.LENGTHFOC.SOCPOSnav.ttmx.dist.pac\n",
      "\n",
      "************************************\n",
      "function    = compute_distance\n",
      "  time      = 0.003399 sec\n",
      "************************************\n",
      "\n",
      "\n",
      "Saving matrix...\n",
      "Stored in file:\n",
      "  /home/projects/semmetrix/mariana_wolken/cleanWorkflow//output//tokens/destroy/destroy.bound3-3all.PPMIweight.LENGTH5000.SOCPOSall.ttmx.dist.pac\n",
      "\n",
      "************************************\n",
      "function    = compute_distance\n",
      "  time      = 0.003199 sec\n",
      "************************************\n",
      "\n",
      "\n",
      "Saving matrix...\n",
      "Stored in file:\n",
      "  /home/projects/semmetrix/mariana_wolken/cleanWorkflow//output//tokens/destroy/destroy.bound3-3all.PPMIweight.LENGTH5000.SOCPOSnav.ttmx.dist.pac\n",
      "\n",
      "************************************\n",
      "function    = compute_distance\n",
      "  time      = 0.000479 sec\n",
      "************************************\n",
      "\n",
      "\n",
      "Saving matrix...\n",
      "Stored in file:\n",
      "  /home/projects/semmetrix/mariana_wolken/cleanWorkflow//output//tokens/destroy/destroy.bound3-3all.PPMIweight.LENGTHFOC.SOCPOSall.ttmx.dist.pac\n",
      "\n",
      "************************************\n",
      "function    = compute_distance\n",
      "  time      = 0.0003886 sec\n",
      "************************************\n",
      "\n",
      "\n",
      "Saving matrix...\n",
      "Stored in file:\n",
      "  /home/projects/semmetrix/mariana_wolken/cleanWorkflow//output//tokens/destroy/destroy.bound3-3all.PPMIweight.LENGTHFOC.SOCPOSnav.ttmx.dist.pac\n",
      "\n",
      "************************************\n",
      "function    = compute_distance\n",
      "  time      = 0.003286 sec\n",
      "************************************\n",
      "\n",
      "\n",
      "Saving matrix...\n",
      "Stored in file:\n",
      "  /home/projects/semmetrix/mariana_wolken/cleanWorkflow//output//tokens/destroy/destroy.bound3-3lex.PPMIno.LENGTH5000.SOCPOSall.ttmx.dist.pac\n",
      "\n",
      "************************************\n",
      "function    = compute_distance\n",
      "  time      = 0.003129 sec\n",
      "************************************\n",
      "\n",
      "\n",
      "Saving matrix...\n",
      "Stored in file:\n",
      "  /home/projects/semmetrix/mariana_wolken/cleanWorkflow//output//tokens/destroy/destroy.bound3-3lex.PPMIno.LENGTH5000.SOCPOSnav.ttmx.dist.pac\n",
      "\n",
      "************************************\n",
      "function    = compute_distance\n",
      "  time      = 0.0004051 sec\n",
      "************************************\n",
      "\n",
      "\n",
      "Saving matrix...\n",
      "Stored in file:\n",
      "  /home/projects/semmetrix/mariana_wolken/cleanWorkflow//output//tokens/destroy/destroy.bound3-3lex.PPMIno.LENGTHFOC.SOCPOSall.ttmx.dist.pac\n",
      "\n",
      "************************************\n",
      "function    = compute_distance\n",
      "  time      = 0.0003839 sec\n",
      "************************************\n",
      "\n",
      "\n",
      "Saving matrix...\n",
      "Stored in file:\n",
      "  /home/projects/semmetrix/mariana_wolken/cleanWorkflow//output//tokens/destroy/destroy.bound3-3lex.PPMIno.LENGTHFOC.SOCPOSnav.ttmx.dist.pac\n",
      "\n",
      "************************************\n",
      "function    = compute_distance\n",
      "  time      = 0.003026 sec\n",
      "************************************\n",
      "\n",
      "\n",
      "Saving matrix...\n",
      "Stored in file:\n",
      "  /home/projects/semmetrix/mariana_wolken/cleanWorkflow//output//tokens/destroy/destroy.bound3-3lex.PPMIselection.LENGTH5000.SOCPOSall.ttmx.dist.pac\n",
      "\n",
      "************************************\n",
      "function    = compute_distance\n",
      "  time      = 0.002897 sec\n",
      "************************************\n",
      "\n",
      "\n",
      "Saving matrix...\n",
      "Stored in file:\n",
      "  /home/projects/semmetrix/mariana_wolken/cleanWorkflow//output//tokens/destroy/destroy.bound3-3lex.PPMIselection.LENGTH5000.SOCPOSnav.ttmx.dist.pac\n",
      "\n",
      "************************************\n",
      "function    = compute_distance\n",
      "  time      = 0.0004036 sec\n",
      "************************************\n",
      "\n",
      "\n",
      "Saving matrix...\n",
      "Stored in file:\n",
      "  /home/projects/semmetrix/mariana_wolken/cleanWorkflow//output//tokens/destroy/destroy.bound3-3lex.PPMIselection.LENGTHFOC.SOCPOSall.ttmx.dist.pac\n",
      "\n",
      "************************************\n",
      "function    = compute_distance\n",
      "  time      = 0.0003817 sec\n",
      "************************************\n",
      "\n",
      "\n",
      "Saving matrix...\n",
      "Stored in file:\n",
      "  /home/projects/semmetrix/mariana_wolken/cleanWorkflow//output//tokens/destroy/destroy.bound3-3lex.PPMIselection.LENGTHFOC.SOCPOSnav.ttmx.dist.pac\n",
      "\n",
      "************************************\n",
      "function    = compute_distance\n",
      "  time      = 0.003142 sec\n",
      "************************************\n",
      "\n",
      "\n",
      "Saving matrix...\n",
      "Stored in file:\n",
      "  /home/projects/semmetrix/mariana_wolken/cleanWorkflow//output//tokens/destroy/destroy.bound3-3lex.PPMIweight.LENGTH5000.SOCPOSall.ttmx.dist.pac\n",
      "\n",
      "************************************\n",
      "function    = compute_distance\n",
      "  time      = 0.002828 sec\n",
      "************************************\n",
      "\n",
      "\n",
      "Saving matrix...\n",
      "Stored in file:\n",
      "  /home/projects/semmetrix/mariana_wolken/cleanWorkflow//output//tokens/destroy/destroy.bound3-3lex.PPMIweight.LENGTH5000.SOCPOSnav.ttmx.dist.pac\n",
      "\n",
      "************************************\n",
      "function    = compute_distance\n",
      "  time      = 0.0003819 sec\n",
      "************************************\n",
      "\n",
      "\n",
      "Saving matrix...\n"
     ]
    },
    {
     "name": "stdout",
     "output_type": "stream",
     "text": [
      "Stored in file:\n",
      "  /home/projects/semmetrix/mariana_wolken/cleanWorkflow//output//tokens/destroy/destroy.bound3-3lex.PPMIweight.LENGTHFOC.SOCPOSall.ttmx.dist.pac\n",
      "\n",
      "************************************\n",
      "function    = compute_distance\n",
      "  time      = 0.0003791 sec\n",
      "************************************\n",
      "\n",
      "\n",
      "Saving matrix...\n",
      "Stored in file:\n",
      "  /home/projects/semmetrix/mariana_wolken/cleanWorkflow//output//tokens/destroy/destroy.bound3-3lex.PPMIweight.LENGTHFOC.SOCPOSnav.ttmx.dist.pac\n",
      "\n",
      "************************************\n",
      "function    = compute_distance\n",
      "  time      = 0.003356 sec\n",
      "************************************\n",
      "\n",
      "\n",
      "Saving matrix...\n",
      "Stored in file:\n",
      "  /home/projects/semmetrix/mariana_wolken/cleanWorkflow//output//tokens/destroy/destroy.bound5-5all.PPMIno.LENGTH5000.SOCPOSall.ttmx.dist.pac\n",
      "\n",
      "************************************\n",
      "function    = compute_distance\n",
      "  time      = 0.003342 sec\n",
      "************************************\n",
      "\n",
      "\n",
      "Saving matrix...\n",
      "Stored in file:\n",
      "  /home/projects/semmetrix/mariana_wolken/cleanWorkflow//output//tokens/destroy/destroy.bound5-5all.PPMIno.LENGTH5000.SOCPOSnav.ttmx.dist.pac\n",
      "\n",
      "************************************\n",
      "function    = compute_distance\n",
      "  time      = 0.000514 sec\n",
      "************************************\n",
      "\n",
      "\n",
      "Saving matrix...\n",
      "Stored in file:\n",
      "  /home/projects/semmetrix/mariana_wolken/cleanWorkflow//output//tokens/destroy/destroy.bound5-5all.PPMIno.LENGTHFOC.SOCPOSall.ttmx.dist.pac\n",
      "\n",
      "************************************\n",
      "function    = compute_distance\n",
      "  time      = 0.0004277 sec\n",
      "************************************\n",
      "\n",
      "\n",
      "Saving matrix...\n",
      "Stored in file:\n",
      "  /home/projects/semmetrix/mariana_wolken/cleanWorkflow//output//tokens/destroy/destroy.bound5-5all.PPMIno.LENGTHFOC.SOCPOSnav.ttmx.dist.pac\n",
      "\n",
      "************************************\n",
      "function    = compute_distance\n",
      "  time      = 0.003691 sec\n",
      "************************************\n",
      "\n",
      "\n",
      "Saving matrix...\n",
      "Stored in file:\n",
      "  /home/projects/semmetrix/mariana_wolken/cleanWorkflow//output//tokens/destroy/destroy.bound5-5all.PPMIselection.LENGTH5000.SOCPOSall.ttmx.dist.pac\n",
      "\n",
      "************************************\n",
      "function    = compute_distance\n",
      "  time      = 0.003298 sec\n",
      "************************************\n",
      "\n",
      "\n",
      "Saving matrix...\n",
      "Stored in file:\n",
      "  /home/projects/semmetrix/mariana_wolken/cleanWorkflow//output//tokens/destroy/destroy.bound5-5all.PPMIselection.LENGTH5000.SOCPOSnav.ttmx.dist.pac\n",
      "\n",
      "************************************\n",
      "function    = compute_distance\n",
      "  time      = 0.0005 sec\n",
      "************************************\n",
      "\n",
      "\n",
      "Saving matrix...\n",
      "Stored in file:\n",
      "  /home/projects/semmetrix/mariana_wolken/cleanWorkflow//output//tokens/destroy/destroy.bound5-5all.PPMIselection.LENGTHFOC.SOCPOSall.ttmx.dist.pac\n",
      "\n",
      "************************************\n",
      "function    = compute_distance\n",
      "  time      = 0.0004089 sec\n",
      "************************************\n",
      "\n",
      "\n",
      "Saving matrix...\n",
      "Stored in file:\n",
      "  /home/projects/semmetrix/mariana_wolken/cleanWorkflow//output//tokens/destroy/destroy.bound5-5all.PPMIselection.LENGTHFOC.SOCPOSnav.ttmx.dist.pac\n",
      "\n",
      "************************************\n",
      "function    = compute_distance\n",
      "  time      = 0.003434 sec\n",
      "************************************\n",
      "\n",
      "\n",
      "Saving matrix...\n",
      "Stored in file:\n",
      "  /home/projects/semmetrix/mariana_wolken/cleanWorkflow//output//tokens/destroy/destroy.bound5-5all.PPMIweight.LENGTH5000.SOCPOSall.ttmx.dist.pac\n",
      "\n",
      "************************************\n",
      "function    = compute_distance\n",
      "  time      = 0.003274 sec\n",
      "************************************\n",
      "\n",
      "\n",
      "Saving matrix...\n",
      "Stored in file:\n",
      "  /home/projects/semmetrix/mariana_wolken/cleanWorkflow//output//tokens/destroy/destroy.bound5-5all.PPMIweight.LENGTH5000.SOCPOSnav.ttmx.dist.pac\n",
      "\n",
      "************************************\n",
      "function    = compute_distance\n",
      "  time      = 0.0004692 sec\n",
      "************************************\n",
      "\n",
      "\n",
      "Saving matrix...\n",
      "Stored in file:\n",
      "  /home/projects/semmetrix/mariana_wolken/cleanWorkflow//output//tokens/destroy/destroy.bound5-5all.PPMIweight.LENGTHFOC.SOCPOSall.ttmx.dist.pac\n",
      "\n",
      "************************************\n",
      "function    = compute_distance\n",
      "  time      = 0.0004139 sec\n",
      "************************************\n",
      "\n",
      "\n",
      "Saving matrix...\n",
      "Stored in file:\n",
      "  /home/projects/semmetrix/mariana_wolken/cleanWorkflow//output//tokens/destroy/destroy.bound5-5all.PPMIweight.LENGTHFOC.SOCPOSnav.ttmx.dist.pac\n",
      "\n",
      "************************************\n",
      "function    = compute_distance\n",
      "  time      = 0.003472 sec\n",
      "************************************\n",
      "\n",
      "\n",
      "Saving matrix...\n",
      "Stored in file:\n",
      "  /home/projects/semmetrix/mariana_wolken/cleanWorkflow//output//tokens/destroy/destroy.bound5-5lex.PPMIno.LENGTH5000.SOCPOSall.ttmx.dist.pac\n",
      "\n",
      "************************************\n",
      "function    = compute_distance\n",
      "  time      = 0.003121 sec\n",
      "************************************\n",
      "\n",
      "\n",
      "Saving matrix...\n",
      "Stored in file:\n",
      "  /home/projects/semmetrix/mariana_wolken/cleanWorkflow//output//tokens/destroy/destroy.bound5-5lex.PPMIno.LENGTH5000.SOCPOSnav.ttmx.dist.pac\n",
      "\n",
      "************************************\n",
      "function    = compute_distance\n",
      "  time      = 0.0004709 sec\n",
      "************************************\n",
      "\n",
      "\n",
      "Saving matrix...\n",
      "Stored in file:\n",
      "  /home/projects/semmetrix/mariana_wolken/cleanWorkflow//output//tokens/destroy/destroy.bound5-5lex.PPMIno.LENGTHFOC.SOCPOSall.ttmx.dist.pac\n",
      "\n",
      "************************************\n",
      "function    = compute_distance\n",
      "  time      = 0.0004172 sec\n",
      "************************************\n",
      "\n",
      "\n",
      "Saving matrix...\n",
      "Stored in file:\n",
      "  /home/projects/semmetrix/mariana_wolken/cleanWorkflow//output//tokens/destroy/destroy.bound5-5lex.PPMIno.LENGTHFOC.SOCPOSnav.ttmx.dist.pac\n",
      "\n",
      "************************************\n",
      "function    = compute_distance\n",
      "  time      = 0.003232 sec\n",
      "************************************\n",
      "\n",
      "\n",
      "Saving matrix...\n",
      "Stored in file:\n",
      "  /home/projects/semmetrix/mariana_wolken/cleanWorkflow//output//tokens/destroy/destroy.bound5-5lex.PPMIselection.LENGTH5000.SOCPOSall.ttmx.dist.pac\n",
      "\n",
      "************************************\n",
      "function    = compute_distance\n",
      "  time      = 0.003103 sec\n",
      "************************************\n",
      "\n",
      "\n",
      "Saving matrix...\n",
      "Stored in file:\n",
      "  /home/projects/semmetrix/mariana_wolken/cleanWorkflow//output//tokens/destroy/destroy.bound5-5lex.PPMIselection.LENGTH5000.SOCPOSnav.ttmx.dist.pac\n",
      "\n",
      "************************************\n",
      "function    = compute_distance\n",
      "  time      = 0.0004814 sec\n",
      "************************************\n",
      "\n",
      "\n",
      "Saving matrix...\n",
      "Stored in file:\n",
      "  /home/projects/semmetrix/mariana_wolken/cleanWorkflow//output//tokens/destroy/destroy.bound5-5lex.PPMIselection.LENGTHFOC.SOCPOSall.ttmx.dist.pac\n",
      "\n",
      "************************************\n",
      "function    = compute_distance\n",
      "  time      = 0.0003915 sec\n",
      "************************************\n",
      "\n",
      "\n",
      "Saving matrix...\n",
      "Stored in file:\n",
      "  /home/projects/semmetrix/mariana_wolken/cleanWorkflow//output//tokens/destroy/destroy.bound5-5lex.PPMIselection.LENGTHFOC.SOCPOSnav.ttmx.dist.pac\n",
      "\n",
      "************************************\n",
      "function    = compute_distance\n",
      "  time      = 0.003195 sec\n",
      "************************************\n",
      "\n",
      "\n",
      "Saving matrix...\n",
      "Stored in file:\n",
      "  /home/projects/semmetrix/mariana_wolken/cleanWorkflow//output//tokens/destroy/destroy.bound5-5lex.PPMIweight.LENGTH5000.SOCPOSall.ttmx.dist.pac\n",
      "\n",
      "************************************\n",
      "function    = compute_distance\n",
      "  time      = 0.003125 sec\n",
      "************************************\n",
      "\n",
      "\n",
      "Saving matrix...\n",
      "Stored in file:\n",
      "  /home/projects/semmetrix/mariana_wolken/cleanWorkflow//output//tokens/destroy/destroy.bound5-5lex.PPMIweight.LENGTH5000.SOCPOSnav.ttmx.dist.pac\n",
      "\n",
      "************************************\n",
      "function    = compute_distance\n",
      "  time      = 0.0004191 sec\n",
      "************************************\n",
      "\n",
      "\n",
      "Saving matrix...\n",
      "Stored in file:\n",
      "  /home/projects/semmetrix/mariana_wolken/cleanWorkflow//output//tokens/destroy/destroy.bound5-5lex.PPMIweight.LENGTHFOC.SOCPOSall.ttmx.dist.pac\n",
      "\n",
      "************************************\n",
      "function    = compute_distance\n",
      "  time      = 0.0003898 sec\n",
      "************************************\n",
      "\n",
      "\n",
      "Saving matrix...\n",
      "Stored in file:\n",
      "  /home/projects/semmetrix/mariana_wolken/cleanWorkflow//output//tokens/destroy/destroy.bound5-5lex.PPMIweight.LENGTHFOC.SOCPOSnav.ttmx.dist.pac\n",
      "\n",
      "************************************\n",
      "function    = compute_distance\n",
      "  time      = 0.003507 sec\n",
      "************************************\n",
      "\n",
      "\n",
      "Saving matrix...\n",
      "Stored in file:\n",
      "  /home/projects/semmetrix/mariana_wolken/cleanWorkflow//output//tokens/destroy/destroy.nobound10-10all.PPMIno.LENGTH5000.SOCPOSall.ttmx.dist.pac\n"
     ]
    },
    {
     "name": "stdout",
     "output_type": "stream",
     "text": [
      "\n",
      "************************************\n",
      "function    = compute_distance\n",
      "  time      = 0.003379 sec\n",
      "************************************\n",
      "\n",
      "\n",
      "Saving matrix...\n",
      "Stored in file:\n",
      "  /home/projects/semmetrix/mariana_wolken/cleanWorkflow//output//tokens/destroy/destroy.nobound10-10all.PPMIno.LENGTH5000.SOCPOSnav.ttmx.dist.pac\n",
      "\n",
      "************************************\n",
      "function    = compute_distance\n",
      "  time      = 0.0007288 sec\n",
      "************************************\n",
      "\n",
      "\n",
      "Saving matrix...\n",
      "Stored in file:\n",
      "  /home/projects/semmetrix/mariana_wolken/cleanWorkflow//output//tokens/destroy/destroy.nobound10-10all.PPMIno.LENGTHFOC.SOCPOSall.ttmx.dist.pac\n",
      "\n",
      "************************************\n",
      "function    = compute_distance\n",
      "  time      = 0.0005741 sec\n",
      "************************************\n",
      "\n",
      "\n",
      "Saving matrix...\n",
      "Stored in file:\n",
      "  /home/projects/semmetrix/mariana_wolken/cleanWorkflow//output//tokens/destroy/destroy.nobound10-10all.PPMIno.LENGTHFOC.SOCPOSnav.ttmx.dist.pac\n",
      "\n",
      "************************************\n",
      "function    = compute_distance\n",
      "  time      = 0.003446 sec\n",
      "************************************\n",
      "\n",
      "\n",
      "Saving matrix...\n",
      "Stored in file:\n",
      "  /home/projects/semmetrix/mariana_wolken/cleanWorkflow//output//tokens/destroy/destroy.nobound10-10all.PPMIselection.LENGTH5000.SOCPOSall.ttmx.dist.pac\n",
      "\n",
      "************************************\n",
      "function    = compute_distance\n",
      "  time      = 0.003355 sec\n",
      "************************************\n",
      "\n",
      "\n",
      "Saving matrix...\n",
      "Stored in file:\n",
      "  /home/projects/semmetrix/mariana_wolken/cleanWorkflow//output//tokens/destroy/destroy.nobound10-10all.PPMIselection.LENGTH5000.SOCPOSnav.ttmx.dist.pac\n",
      "\n",
      "************************************\n",
      "function    = compute_distance\n",
      "  time      = 0.0005732 sec\n",
      "************************************\n",
      "\n",
      "\n",
      "Saving matrix...\n",
      "Stored in file:\n",
      "  /home/projects/semmetrix/mariana_wolken/cleanWorkflow//output//tokens/destroy/destroy.nobound10-10all.PPMIselection.LENGTHFOC.SOCPOSall.ttmx.dist.pac\n",
      "\n",
      "************************************\n",
      "function    = compute_distance\n",
      "  time      = 0.0004704 sec\n",
      "************************************\n",
      "\n",
      "\n",
      "Saving matrix...\n",
      "Stored in file:\n",
      "  /home/projects/semmetrix/mariana_wolken/cleanWorkflow//output//tokens/destroy/destroy.nobound10-10all.PPMIselection.LENGTHFOC.SOCPOSnav.ttmx.dist.pac\n",
      "\n",
      "************************************\n",
      "function    = compute_distance\n",
      "  time      = 0.003484 sec\n",
      "************************************\n",
      "\n",
      "\n",
      "Saving matrix...\n",
      "Stored in file:\n",
      "  /home/projects/semmetrix/mariana_wolken/cleanWorkflow//output//tokens/destroy/destroy.nobound10-10all.PPMIweight.LENGTH5000.SOCPOSall.ttmx.dist.pac\n",
      "\n",
      "************************************\n",
      "function    = compute_distance\n",
      "  time      = 0.003368 sec\n",
      "************************************\n",
      "\n",
      "\n",
      "Saving matrix...\n",
      "Stored in file:\n",
      "  /home/projects/semmetrix/mariana_wolken/cleanWorkflow//output//tokens/destroy/destroy.nobound10-10all.PPMIweight.LENGTH5000.SOCPOSnav.ttmx.dist.pac\n",
      "\n",
      "************************************\n",
      "function    = compute_distance\n",
      "  time      = 0.0006027 sec\n",
      "************************************\n",
      "\n",
      "\n",
      "Saving matrix...\n",
      "Stored in file:\n",
      "  /home/projects/semmetrix/mariana_wolken/cleanWorkflow//output//tokens/destroy/destroy.nobound10-10all.PPMIweight.LENGTHFOC.SOCPOSall.ttmx.dist.pac\n",
      "\n",
      "************************************\n",
      "function    = compute_distance\n",
      "  time      = 0.0004728 sec\n",
      "************************************\n",
      "\n",
      "\n",
      "Saving matrix...\n",
      "Stored in file:\n",
      "  /home/projects/semmetrix/mariana_wolken/cleanWorkflow//output//tokens/destroy/destroy.nobound10-10all.PPMIweight.LENGTHFOC.SOCPOSnav.ttmx.dist.pac\n",
      "\n",
      "************************************\n",
      "function    = compute_distance\n",
      "  time      = 0.00352 sec\n",
      "************************************\n",
      "\n",
      "\n",
      "Saving matrix...\n",
      "Stored in file:\n",
      "  /home/projects/semmetrix/mariana_wolken/cleanWorkflow//output//tokens/destroy/destroy.nobound10-10lex.PPMIno.LENGTH5000.SOCPOSall.ttmx.dist.pac\n",
      "\n",
      "************************************\n",
      "function    = compute_distance\n",
      "  time      = 0.003428 sec\n",
      "************************************\n",
      "\n",
      "\n",
      "Saving matrix...\n",
      "Stored in file:\n",
      "  /home/projects/semmetrix/mariana_wolken/cleanWorkflow//output//tokens/destroy/destroy.nobound10-10lex.PPMIno.LENGTH5000.SOCPOSnav.ttmx.dist.pac\n",
      "\n",
      "************************************\n",
      "function    = compute_distance\n",
      "  time      = 0.0005722 sec\n",
      "************************************\n",
      "\n",
      "\n",
      "Saving matrix...\n",
      "Stored in file:\n",
      "  /home/projects/semmetrix/mariana_wolken/cleanWorkflow//output//tokens/destroy/destroy.nobound10-10lex.PPMIno.LENGTHFOC.SOCPOSall.ttmx.dist.pac\n",
      "\n",
      "************************************\n",
      "function    = compute_distance\n",
      "  time      = 0.0005023 sec\n",
      "************************************\n",
      "\n",
      "\n",
      "Saving matrix...\n",
      "Stored in file:\n",
      "  /home/projects/semmetrix/mariana_wolken/cleanWorkflow//output//tokens/destroy/destroy.nobound10-10lex.PPMIno.LENGTHFOC.SOCPOSnav.ttmx.dist.pac\n",
      "\n",
      "************************************\n",
      "function    = compute_distance\n",
      "  time      = 0.003341 sec\n",
      "************************************\n",
      "\n",
      "\n",
      "Saving matrix...\n",
      "Stored in file:\n",
      "  /home/projects/semmetrix/mariana_wolken/cleanWorkflow//output//tokens/destroy/destroy.nobound10-10lex.PPMIselection.LENGTH5000.SOCPOSall.ttmx.dist.pac\n",
      "\n",
      "************************************\n",
      "function    = compute_distance\n",
      "  time      = 0.003174 sec\n",
      "************************************\n",
      "\n",
      "\n",
      "Saving matrix...\n",
      "Stored in file:\n",
      "  /home/projects/semmetrix/mariana_wolken/cleanWorkflow//output//tokens/destroy/destroy.nobound10-10lex.PPMIselection.LENGTH5000.SOCPOSnav.ttmx.dist.pac\n",
      "\n",
      "************************************\n",
      "function    = compute_distance\n",
      "  time      = 0.000572 sec\n",
      "************************************\n",
      "\n",
      "\n",
      "Saving matrix...\n",
      "Stored in file:\n",
      "  /home/projects/semmetrix/mariana_wolken/cleanWorkflow//output//tokens/destroy/destroy.nobound10-10lex.PPMIselection.LENGTHFOC.SOCPOSall.ttmx.dist.pac\n",
      "\n",
      "************************************\n",
      "function    = compute_distance\n",
      "  time      = 0.0004327 sec\n",
      "************************************\n",
      "\n",
      "\n",
      "Saving matrix...\n",
      "Stored in file:\n",
      "  /home/projects/semmetrix/mariana_wolken/cleanWorkflow//output//tokens/destroy/destroy.nobound10-10lex.PPMIselection.LENGTHFOC.SOCPOSnav.ttmx.dist.pac\n",
      "\n",
      "************************************\n",
      "function    = compute_distance\n",
      "  time      = 0.003267 sec\n",
      "************************************\n",
      "\n",
      "\n",
      "Saving matrix...\n",
      "Stored in file:\n",
      "  /home/projects/semmetrix/mariana_wolken/cleanWorkflow//output//tokens/destroy/destroy.nobound10-10lex.PPMIweight.LENGTH5000.SOCPOSall.ttmx.dist.pac\n",
      "\n",
      "************************************\n",
      "function    = compute_distance\n",
      "  time      = 0.003198 sec\n",
      "************************************\n",
      "\n",
      "\n",
      "Saving matrix...\n",
      "Stored in file:\n",
      "  /home/projects/semmetrix/mariana_wolken/cleanWorkflow//output//tokens/destroy/destroy.nobound10-10lex.PPMIweight.LENGTH5000.SOCPOSnav.ttmx.dist.pac\n",
      "\n",
      "************************************\n",
      "function    = compute_distance\n",
      "  time      = 0.0005162 sec\n",
      "************************************\n",
      "\n",
      "\n",
      "Saving matrix...\n",
      "Stored in file:\n",
      "  /home/projects/semmetrix/mariana_wolken/cleanWorkflow//output//tokens/destroy/destroy.nobound10-10lex.PPMIweight.LENGTHFOC.SOCPOSall.ttmx.dist.pac\n",
      "\n",
      "************************************\n",
      "function    = compute_distance\n",
      "  time      = 0.0004287 sec\n",
      "************************************\n",
      "\n",
      "\n",
      "Saving matrix...\n",
      "Stored in file:\n",
      "  /home/projects/semmetrix/mariana_wolken/cleanWorkflow//output//tokens/destroy/destroy.nobound10-10lex.PPMIweight.LENGTHFOC.SOCPOSnav.ttmx.dist.pac\n",
      "\n",
      "************************************\n",
      "function    = compute_distance\n",
      "  time      = 0.003349 sec\n",
      "************************************\n",
      "\n",
      "\n",
      "Saving matrix...\n",
      "Stored in file:\n",
      "  /home/projects/semmetrix/mariana_wolken/cleanWorkflow//output//tokens/destroy/destroy.nobound3-3all.PPMIno.LENGTH5000.SOCPOSall.ttmx.dist.pac\n",
      "\n",
      "************************************\n",
      "function    = compute_distance\n",
      "  time      = 0.003366 sec\n",
      "************************************\n",
      "\n",
      "\n",
      "Saving matrix...\n",
      "Stored in file:\n",
      "  /home/projects/semmetrix/mariana_wolken/cleanWorkflow//output//tokens/destroy/destroy.nobound3-3all.PPMIno.LENGTH5000.SOCPOSnav.ttmx.dist.pac\n",
      "\n",
      "************************************\n",
      "function    = compute_distance\n",
      "  time      = 0.0004704 sec\n",
      "************************************\n",
      "\n",
      "\n",
      "Saving matrix...\n",
      "Stored in file:\n",
      "  /home/projects/semmetrix/mariana_wolken/cleanWorkflow//output//tokens/destroy/destroy.nobound3-3all.PPMIno.LENGTHFOC.SOCPOSall.ttmx.dist.pac\n",
      "\n",
      "************************************\n",
      "function    = compute_distance\n",
      "  time      = 0.0003893 sec\n",
      "************************************\n",
      "\n",
      "\n",
      "Saving matrix...\n"
     ]
    },
    {
     "name": "stdout",
     "output_type": "stream",
     "text": [
      "Stored in file:\n",
      "  /home/projects/semmetrix/mariana_wolken/cleanWorkflow//output//tokens/destroy/destroy.nobound3-3all.PPMIno.LENGTHFOC.SOCPOSnav.ttmx.dist.pac\n",
      "\n",
      "************************************\n",
      "function    = compute_distance\n",
      "  time      = 0.003459 sec\n",
      "************************************\n",
      "\n",
      "\n",
      "Saving matrix...\n",
      "Stored in file:\n",
      "  /home/projects/semmetrix/mariana_wolken/cleanWorkflow//output//tokens/destroy/destroy.nobound3-3all.PPMIselection.LENGTH5000.SOCPOSall.ttmx.dist.pac\n",
      "\n",
      "************************************\n",
      "function    = compute_distance\n",
      "  time      = 0.003452 sec\n",
      "************************************\n",
      "\n",
      "\n",
      "Saving matrix...\n",
      "Stored in file:\n",
      "  /home/projects/semmetrix/mariana_wolken/cleanWorkflow//output//tokens/destroy/destroy.nobound3-3all.PPMIselection.LENGTH5000.SOCPOSnav.ttmx.dist.pac\n",
      "\n",
      "************************************\n",
      "function    = compute_distance\n",
      "  time      = 0.000452 sec\n",
      "************************************\n",
      "\n",
      "\n",
      "Saving matrix...\n",
      "Stored in file:\n",
      "  /home/projects/semmetrix/mariana_wolken/cleanWorkflow//output//tokens/destroy/destroy.nobound3-3all.PPMIselection.LENGTHFOC.SOCPOSall.ttmx.dist.pac\n",
      "\n",
      "************************************\n",
      "function    = compute_distance\n",
      "  time      = 0.0004146 sec\n",
      "************************************\n",
      "\n",
      "\n",
      "Saving matrix...\n",
      "Stored in file:\n",
      "  /home/projects/semmetrix/mariana_wolken/cleanWorkflow//output//tokens/destroy/destroy.nobound3-3all.PPMIselection.LENGTHFOC.SOCPOSnav.ttmx.dist.pac\n",
      "\n",
      "************************************\n",
      "function    = compute_distance\n",
      "  time      = 0.0034 sec\n",
      "************************************\n",
      "\n",
      "\n",
      "Saving matrix...\n",
      "Stored in file:\n",
      "  /home/projects/semmetrix/mariana_wolken/cleanWorkflow//output//tokens/destroy/destroy.nobound3-3all.PPMIweight.LENGTH5000.SOCPOSall.ttmx.dist.pac\n",
      "\n",
      "************************************\n",
      "function    = compute_distance\n",
      "  time      = 0.003451 sec\n",
      "************************************\n",
      "\n",
      "\n",
      "Saving matrix...\n",
      "Stored in file:\n",
      "  /home/projects/semmetrix/mariana_wolken/cleanWorkflow//output//tokens/destroy/destroy.nobound3-3all.PPMIweight.LENGTH5000.SOCPOSnav.ttmx.dist.pac\n",
      "\n",
      "************************************\n",
      "function    = compute_distance\n",
      "  time      = 0.0004478 sec\n",
      "************************************\n",
      "\n",
      "\n",
      "Saving matrix...\n",
      "Stored in file:\n",
      "  /home/projects/semmetrix/mariana_wolken/cleanWorkflow//output//tokens/destroy/destroy.nobound3-3all.PPMIweight.LENGTHFOC.SOCPOSall.ttmx.dist.pac\n",
      "\n",
      "************************************\n",
      "function    = compute_distance\n",
      "  time      = 0.0004036 sec\n",
      "************************************\n",
      "\n",
      "\n",
      "Saving matrix...\n",
      "Stored in file:\n",
      "  /home/projects/semmetrix/mariana_wolken/cleanWorkflow//output//tokens/destroy/destroy.nobound3-3all.PPMIweight.LENGTHFOC.SOCPOSnav.ttmx.dist.pac\n",
      "\n",
      "************************************\n",
      "function    = compute_distance\n",
      "  time      = 0.00325 sec\n",
      "************************************\n",
      "\n",
      "\n",
      "Saving matrix...\n",
      "Stored in file:\n",
      "  /home/projects/semmetrix/mariana_wolken/cleanWorkflow//output//tokens/destroy/destroy.nobound3-3lex.PPMIno.LENGTH5000.SOCPOSall.ttmx.dist.pac\n",
      "\n",
      "************************************\n",
      "function    = compute_distance\n",
      "  time      = 0.003035 sec\n",
      "************************************\n",
      "\n",
      "\n",
      "Saving matrix...\n",
      "Stored in file:\n",
      "  /home/projects/semmetrix/mariana_wolken/cleanWorkflow//output//tokens/destroy/destroy.nobound3-3lex.PPMIno.LENGTH5000.SOCPOSnav.ttmx.dist.pac\n",
      "\n",
      "************************************\n",
      "function    = compute_distance\n",
      "  time      = 0.000561 sec\n",
      "************************************\n",
      "\n",
      "\n",
      "Saving matrix...\n",
      "Stored in file:\n",
      "  /home/projects/semmetrix/mariana_wolken/cleanWorkflow//output//tokens/destroy/destroy.nobound3-3lex.PPMIno.LENGTHFOC.SOCPOSall.ttmx.dist.pac\n",
      "\n",
      "************************************\n",
      "function    = compute_distance\n",
      "  time      = 0.0003879 sec\n",
      "************************************\n",
      "\n",
      "\n",
      "Saving matrix...\n",
      "Stored in file:\n",
      "  /home/projects/semmetrix/mariana_wolken/cleanWorkflow//output//tokens/destroy/destroy.nobound3-3lex.PPMIno.LENGTHFOC.SOCPOSnav.ttmx.dist.pac\n",
      "\n",
      "************************************\n",
      "function    = compute_distance\n",
      "  time      = 0.003215 sec\n",
      "************************************\n",
      "\n",
      "\n",
      "Saving matrix...\n",
      "Stored in file:\n",
      "  /home/projects/semmetrix/mariana_wolken/cleanWorkflow//output//tokens/destroy/destroy.nobound3-3lex.PPMIselection.LENGTH5000.SOCPOSall.ttmx.dist.pac\n",
      "\n",
      "************************************\n",
      "function    = compute_distance\n",
      "  time      = 0.002839 sec\n",
      "************************************\n",
      "\n",
      "\n",
      "Saving matrix...\n",
      "Stored in file:\n",
      "  /home/projects/semmetrix/mariana_wolken/cleanWorkflow//output//tokens/destroy/destroy.nobound3-3lex.PPMIselection.LENGTH5000.SOCPOSnav.ttmx.dist.pac\n",
      "\n",
      "************************************\n",
      "function    = compute_distance\n",
      "  time      = 0.0004032 sec\n",
      "************************************\n",
      "\n",
      "\n",
      "Saving matrix...\n",
      "Stored in file:\n",
      "  /home/projects/semmetrix/mariana_wolken/cleanWorkflow//output//tokens/destroy/destroy.nobound3-3lex.PPMIselection.LENGTHFOC.SOCPOSall.ttmx.dist.pac\n",
      "\n",
      "************************************\n",
      "function    = compute_distance\n",
      "  time      = 0.0003643 sec\n",
      "************************************\n",
      "\n",
      "\n",
      "Saving matrix...\n",
      "Stored in file:\n",
      "  /home/projects/semmetrix/mariana_wolken/cleanWorkflow//output//tokens/destroy/destroy.nobound3-3lex.PPMIselection.LENGTHFOC.SOCPOSnav.ttmx.dist.pac\n",
      "\n",
      "************************************\n",
      "function    = compute_distance\n",
      "  time      = 0.002883 sec\n",
      "************************************\n",
      "\n",
      "\n",
      "Saving matrix...\n",
      "Stored in file:\n",
      "  /home/projects/semmetrix/mariana_wolken/cleanWorkflow//output//tokens/destroy/destroy.nobound3-3lex.PPMIweight.LENGTH5000.SOCPOSall.ttmx.dist.pac\n",
      "\n",
      "************************************\n",
      "function    = compute_distance\n",
      "  time      = 0.002881 sec\n",
      "************************************\n",
      "\n",
      "\n",
      "Saving matrix...\n",
      "Stored in file:\n",
      "  /home/projects/semmetrix/mariana_wolken/cleanWorkflow//output//tokens/destroy/destroy.nobound3-3lex.PPMIweight.LENGTH5000.SOCPOSnav.ttmx.dist.pac\n",
      "\n",
      "************************************\n",
      "function    = compute_distance\n",
      "  time      = 0.0003841 sec\n",
      "************************************\n",
      "\n",
      "\n",
      "Saving matrix...\n",
      "Stored in file:\n",
      "  /home/projects/semmetrix/mariana_wolken/cleanWorkflow//output//tokens/destroy/destroy.nobound3-3lex.PPMIweight.LENGTHFOC.SOCPOSall.ttmx.dist.pac\n",
      "\n",
      "************************************\n",
      "function    = compute_distance\n",
      "  time      = 0.0003648 sec\n",
      "************************************\n",
      "\n",
      "\n",
      "Saving matrix...\n",
      "Stored in file:\n",
      "  /home/projects/semmetrix/mariana_wolken/cleanWorkflow//output//tokens/destroy/destroy.nobound3-3lex.PPMIweight.LENGTHFOC.SOCPOSnav.ttmx.dist.pac\n",
      "\n",
      "************************************\n",
      "function    = compute_distance\n",
      "  time      = 0.003575 sec\n",
      "************************************\n",
      "\n",
      "\n",
      "Saving matrix...\n",
      "Stored in file:\n",
      "  /home/projects/semmetrix/mariana_wolken/cleanWorkflow//output//tokens/destroy/destroy.nobound5-5all.PPMIno.LENGTH5000.SOCPOSall.ttmx.dist.pac\n",
      "\n",
      "************************************\n",
      "function    = compute_distance\n",
      "  time      = 0.003583 sec\n",
      "************************************\n",
      "\n",
      "\n",
      "Saving matrix...\n",
      "Stored in file:\n",
      "  /home/projects/semmetrix/mariana_wolken/cleanWorkflow//output//tokens/destroy/destroy.nobound5-5all.PPMIno.LENGTH5000.SOCPOSnav.ttmx.dist.pac\n",
      "\n",
      "************************************\n",
      "function    = compute_distance\n",
      "  time      = 0.0005362 sec\n",
      "************************************\n",
      "\n",
      "\n",
      "Saving matrix...\n",
      "Stored in file:\n",
      "  /home/projects/semmetrix/mariana_wolken/cleanWorkflow//output//tokens/destroy/destroy.nobound5-5all.PPMIno.LENGTHFOC.SOCPOSall.ttmx.dist.pac\n",
      "\n",
      "************************************\n",
      "function    = compute_distance\n",
      "  time      = 0.0004344 sec\n",
      "************************************\n",
      "\n",
      "\n",
      "Saving matrix...\n",
      "Stored in file:\n",
      "  /home/projects/semmetrix/mariana_wolken/cleanWorkflow//output//tokens/destroy/destroy.nobound5-5all.PPMIno.LENGTHFOC.SOCPOSnav.ttmx.dist.pac\n",
      "\n",
      "************************************\n",
      "function    = compute_distance\n",
      "  time      = 0.003551 sec\n",
      "************************************\n",
      "\n",
      "\n",
      "Saving matrix...\n",
      "Stored in file:\n",
      "  /home/projects/semmetrix/mariana_wolken/cleanWorkflow//output//tokens/destroy/destroy.nobound5-5all.PPMIselection.LENGTH5000.SOCPOSall.ttmx.dist.pac\n",
      "\n",
      "************************************\n",
      "function    = compute_distance\n",
      "  time      = 0.003377 sec\n",
      "************************************\n",
      "\n",
      "\n",
      "Saving matrix...\n"
     ]
    },
    {
     "name": "stdout",
     "output_type": "stream",
     "text": [
      "Stored in file:\n",
      "  /home/projects/semmetrix/mariana_wolken/cleanWorkflow//output//tokens/destroy/destroy.nobound5-5all.PPMIselection.LENGTH5000.SOCPOSnav.ttmx.dist.pac\n",
      "\n",
      "************************************\n",
      "function    = compute_distance\n",
      "  time      = 0.0005312 sec\n",
      "************************************\n",
      "\n",
      "\n",
      "Saving matrix...\n",
      "Stored in file:\n",
      "  /home/projects/semmetrix/mariana_wolken/cleanWorkflow//output//tokens/destroy/destroy.nobound5-5all.PPMIselection.LENGTHFOC.SOCPOSall.ttmx.dist.pac\n",
      "\n",
      "************************************\n",
      "function    = compute_distance\n",
      "  time      = 0.0004342 sec\n",
      "************************************\n",
      "\n",
      "\n",
      "Saving matrix...\n",
      "Stored in file:\n",
      "  /home/projects/semmetrix/mariana_wolken/cleanWorkflow//output//tokens/destroy/destroy.nobound5-5all.PPMIselection.LENGTHFOC.SOCPOSnav.ttmx.dist.pac\n",
      "\n",
      "************************************\n",
      "function    = compute_distance\n",
      "  time      = 0.003565 sec\n",
      "************************************\n",
      "\n",
      "\n",
      "Saving matrix...\n",
      "Stored in file:\n",
      "  /home/projects/semmetrix/mariana_wolken/cleanWorkflow//output//tokens/destroy/destroy.nobound5-5all.PPMIweight.LENGTH5000.SOCPOSall.ttmx.dist.pac\n",
      "\n",
      "************************************\n",
      "function    = compute_distance\n",
      "  time      = 0.003304 sec\n",
      "************************************\n",
      "\n",
      "\n",
      "Saving matrix...\n",
      "Stored in file:\n",
      "  /home/projects/semmetrix/mariana_wolken/cleanWorkflow//output//tokens/destroy/destroy.nobound5-5all.PPMIweight.LENGTH5000.SOCPOSnav.ttmx.dist.pac\n",
      "\n",
      "************************************\n",
      "function    = compute_distance\n",
      "  time      = 0.0004959 sec\n",
      "************************************\n",
      "\n",
      "\n",
      "Saving matrix...\n",
      "Stored in file:\n",
      "  /home/projects/semmetrix/mariana_wolken/cleanWorkflow//output//tokens/destroy/destroy.nobound5-5all.PPMIweight.LENGTHFOC.SOCPOSall.ttmx.dist.pac\n",
      "\n",
      "************************************\n",
      "function    = compute_distance\n",
      "  time      = 0.0003963 sec\n",
      "************************************\n",
      "\n",
      "\n",
      "Saving matrix...\n",
      "Stored in file:\n",
      "  /home/projects/semmetrix/mariana_wolken/cleanWorkflow//output//tokens/destroy/destroy.nobound5-5all.PPMIweight.LENGTHFOC.SOCPOSnav.ttmx.dist.pac\n",
      "\n",
      "************************************\n",
      "function    = compute_distance\n",
      "  time      = 0.003453 sec\n",
      "************************************\n",
      "\n",
      "\n",
      "Saving matrix...\n",
      "Stored in file:\n",
      "  /home/projects/semmetrix/mariana_wolken/cleanWorkflow//output//tokens/destroy/destroy.nobound5-5lex.PPMIno.LENGTH5000.SOCPOSall.ttmx.dist.pac\n",
      "\n",
      "************************************\n",
      "function    = compute_distance\n",
      "  time      = 0.003228 sec\n",
      "************************************\n",
      "\n",
      "\n",
      "Saving matrix...\n",
      "Stored in file:\n",
      "  /home/projects/semmetrix/mariana_wolken/cleanWorkflow//output//tokens/destroy/destroy.nobound5-5lex.PPMIno.LENGTH5000.SOCPOSnav.ttmx.dist.pac\n",
      "\n",
      "************************************\n",
      "function    = compute_distance\n",
      "  time      = 0.0004728 sec\n",
      "************************************\n",
      "\n",
      "\n",
      "Saving matrix...\n",
      "Stored in file:\n",
      "  /home/projects/semmetrix/mariana_wolken/cleanWorkflow//output//tokens/destroy/destroy.nobound5-5lex.PPMIno.LENGTHFOC.SOCPOSall.ttmx.dist.pac\n",
      "\n",
      "************************************\n",
      "function    = compute_distance\n",
      "  time      = 0.0004549 sec\n",
      "************************************\n",
      "\n",
      "\n",
      "Saving matrix...\n",
      "Stored in file:\n",
      "  /home/projects/semmetrix/mariana_wolken/cleanWorkflow//output//tokens/destroy/destroy.nobound5-5lex.PPMIno.LENGTHFOC.SOCPOSnav.ttmx.dist.pac\n",
      "\n",
      "************************************\n",
      "function    = compute_distance\n",
      "  time      = 0.003266 sec\n",
      "************************************\n",
      "\n",
      "\n",
      "Saving matrix...\n",
      "Stored in file:\n",
      "  /home/projects/semmetrix/mariana_wolken/cleanWorkflow//output//tokens/destroy/destroy.nobound5-5lex.PPMIselection.LENGTH5000.SOCPOSall.ttmx.dist.pac\n",
      "\n",
      "************************************\n",
      "function    = compute_distance\n",
      "  time      = 0.003123 sec\n",
      "************************************\n",
      "\n",
      "\n",
      "Saving matrix...\n",
      "Stored in file:\n",
      "  /home/projects/semmetrix/mariana_wolken/cleanWorkflow//output//tokens/destroy/destroy.nobound5-5lex.PPMIselection.LENGTH5000.SOCPOSnav.ttmx.dist.pac\n",
      "\n",
      "************************************\n",
      "function    = compute_distance\n",
      "  time      = 0.0004463 sec\n",
      "************************************\n",
      "\n",
      "\n",
      "Saving matrix...\n",
      "Stored in file:\n",
      "  /home/projects/semmetrix/mariana_wolken/cleanWorkflow//output//tokens/destroy/destroy.nobound5-5lex.PPMIselection.LENGTHFOC.SOCPOSall.ttmx.dist.pac\n",
      "\n",
      "************************************\n",
      "function    = compute_distance\n",
      "  time      = 0.0004165 sec\n",
      "************************************\n",
      "\n",
      "\n",
      "Saving matrix...\n",
      "Stored in file:\n",
      "  /home/projects/semmetrix/mariana_wolken/cleanWorkflow//output//tokens/destroy/destroy.nobound5-5lex.PPMIselection.LENGTHFOC.SOCPOSnav.ttmx.dist.pac\n",
      "\n",
      "************************************\n",
      "function    = compute_distance\n",
      "  time      = 0.003367 sec\n",
      "************************************\n",
      "\n",
      "\n",
      "Saving matrix...\n",
      "Stored in file:\n",
      "  /home/projects/semmetrix/mariana_wolken/cleanWorkflow//output//tokens/destroy/destroy.nobound5-5lex.PPMIweight.LENGTH5000.SOCPOSall.ttmx.dist.pac\n",
      "\n",
      "************************************\n",
      "function    = compute_distance\n",
      "  time      = 0.003142 sec\n",
      "************************************\n",
      "\n",
      "\n",
      "Saving matrix...\n",
      "Stored in file:\n",
      "  /home/projects/semmetrix/mariana_wolken/cleanWorkflow//output//tokens/destroy/destroy.nobound5-5lex.PPMIweight.LENGTH5000.SOCPOSnav.ttmx.dist.pac\n",
      "\n",
      "************************************\n",
      "function    = compute_distance\n",
      "  time      = 0.0006673 sec\n",
      "************************************\n",
      "\n",
      "\n",
      "Saving matrix...\n",
      "Stored in file:\n",
      "  /home/projects/semmetrix/mariana_wolken/cleanWorkflow//output//tokens/destroy/destroy.nobound5-5lex.PPMIweight.LENGTHFOC.SOCPOSall.ttmx.dist.pac\n",
      "\n",
      "************************************\n",
      "function    = compute_distance\n",
      "  time      = 0.0003977 sec\n",
      "************************************\n",
      "\n",
      "\n",
      "Saving matrix...\n",
      "Stored in file:\n",
      "  /home/projects/semmetrix/mariana_wolken/cleanWorkflow//output//tokens/destroy/destroy.nobound5-5lex.PPMIweight.LENGTHFOC.SOCPOSnav.ttmx.dist.pac\n"
     ]
    }
   ],
   "source": [
    "from qlvl import TypeTokenMatrix\n",
    "from qlvl.specutils.mxcalc import compute_distance\n",
    "\n",
    "input_suffix = \".tcmx.soc.pac\" #token by context matrix\n",
    "output_suffix = \".ttmx.dist.pac\" # token by token matrix\n",
    "for modelname in socdata.index:\n",
    "    input_name = f\"{token_dir}/{modelname}{input_suffix}\"\n",
    "    output_name = f\"{token_dir}/{modelname}{output_suffix}\"\n",
    "    compute_distance(TypeTokenMatrix.load(input_name)).save(output_name)\n",
    "    "
   ]
  },
  {
   "cell_type": "code",
   "execution_count": 45,
   "metadata": {},
   "outputs": [],
   "source": [
    "#13. On a loop per item, compute distances ======================================\n",
    "# input_suffix = \".tcmx.soc.pac\" #token by context matrix\n",
    "# output_suffix = \".ttmx.dist.pac\" # token by token matrix\n",
    "# for type_name in adj_lemmas:\n",
    "#     socdata = pd.read_csv(f\"{github_type}/{type_name}.models.tsv\",\n",
    "#                          sep = \"\\t\", index_col = \"_model\")\n",
    "#     for modelname in socdata.index:\n",
    "#         input_name = f\"{token_dir}/{modelname}{input_suffix}\"\n",
    "#         output_name = f\"{token_dir}/{modelname}{output_suffix}\"\n",
    "#         compute_distance(TypeTokenMatrix.load(input_name)).save(output_name)\n",
    "    "
   ]
  },
  {
   "cell_type": "markdown",
   "metadata": {},
   "source": [
    "For the rest, we go to R!\n",
    "\n",
    "The R code is in the processClouds notebook, which uses the [semcloud](https://github.com/montesmariana/semcloud) package. I plan to incorporate small clouds into the package to use for examples and recreate the processClouds notebook as a vignette for the package."
   ]
  },
  {
   "cell_type": "markdown",
   "metadata": {},
   "source": [
    "## Bonus: context word detail"
   ]
  },
  {
   "cell_type": "code",
   "execution_count": 6,
   "metadata": {},
   "outputs": [],
   "source": [
    "from semasioFlow.contextwords import listContextwords"
   ]
  },
  {
   "cell_type": "code",
   "execution_count": 7,
   "metadata": {},
   "outputs": [],
   "source": [
    "from nephosem import CorpusFormatter"
   ]
  },
  {
   "cell_type": "code",
   "execution_count": 8,
   "metadata": {},
   "outputs": [],
   "source": [
    "formatter = CorpusFormatter(settings)"
   ]
  },
  {
   "cell_type": "code",
   "execution_count": 9,
   "metadata": {},
   "outputs": [
    {
     "data": {
      "text/plain": [
       "re.compile(r'([^\\t]+)\\t([^\\t]+)\\t([^\\t]+)', re.UNICODE)"
      ]
     },
     "execution_count": 9,
     "metadata": {},
     "output_type": "execute_result"
    }
   ],
   "source": [
    "formatter.line_machine"
   ]
  },
  {
   "cell_type": "code",
   "execution_count": 12,
   "metadata": {},
   "outputs": [
    {
     "data": {
      "text/plain": [
       "('word', 'lemma', 'pos')"
      ]
     },
     "execution_count": 12,
     "metadata": {},
     "output_type": "execute_result"
    }
   ],
   "source": [
    "formatter.match_line('word\\tlemma\\tpos').groups()"
   ]
  },
  {
   "cell_type": "code",
   "execution_count": 47,
   "metadata": {},
   "outputs": [],
   "source": [
    "type_name = \"destroy\""
   ]
  },
  {
   "cell_type": "code",
   "execution_count": 53,
   "metadata": {},
   "outputs": [
    {
     "name": "stderr",
     "output_type": "stream",
     "text": [
      "100%|██████████| 60/60 [00:00<00:00, 455.16it/s]\n"
     ]
    }
   ],
   "source": [
    "cws = listContextwords(type_name, tokenlist, fnameSample, settings, left_win=15, right_win = 15)"
   ]
  },
  {
   "cell_type": "code",
   "execution_count": null,
   "metadata": {},
   "outputs": [],
   "source": [
    "cw_fname = f\"{output_path}/registers/{type_name}.cws.detail.tsv\"\n",
    "cws.to_csv(cw_fname, sep = \"\\t\", index_label = \"cw_id\")\n",
    "cws"
   ]
  },
  {
   "cell_type": "code",
   "execution_count": null,
   "metadata": {},
   "outputs": [],
   "source": [
    "# # On a loop\n",
    "# for type_name in all_djs:\n",
    "#     cws = listContextwords(type_name, tokenlist, fnameSample, settings, left_win=15, right_win = 15)\n",
    "#     cw_fname = f\"{output_path}/registers/{type_name}.cws.detail.tsv\"\n",
    "#     cws.to_csv(cw_fname, sep = \"\\t\", index_label = \"cw_id\")"
   ]
  },
  {
   "cell_type": "markdown",
   "metadata": {},
   "source": [
    "From this table, it is relatively straightforward to extract concordances and highlight the context words that match certain filters. Note that by default the left contexts are in reverse order."
   ]
  }
 ],
 "metadata": {
  "kernelspec": {
   "display_name": "Python 3",
   "language": "python",
   "name": "python3"
  },
  "language_info": {
   "codemirror_mode": {
    "name": "ipython",
    "version": 3
   },
   "file_extension": ".py",
   "mimetype": "text/x-python",
   "name": "python",
   "nbconvert_exporter": "python",
   "pygments_lexer": "ipython3",
   "version": "3.6.9"
  }
 },
 "nbformat": 4,
 "nbformat_minor": 2
}
